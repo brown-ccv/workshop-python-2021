{
 "cells": [
  {
   "cell_type": "markdown",
   "metadata": {},
   "source": [
    "# <center> What we learnt yesterday </center>\n",
    "- downloaded the course material from github\n",
    "- set up our coding environment\n",
    "- got familiar with jupyter-lab"
   ]
  },
  {
   "cell_type": "markdown",
   "metadata": {
    "slideshow": {
     "slide_type": "slide"
    }
   },
   "source": [
    "# <center> Variables </center>\n",
    "## By the end of the day you'll be able to \n",
    "- Perform basic operations with numerical variables (integers and floats)\n",
    "- Perform basic operations with boolean variables\n",
    "- Perform basic operations with characters and strings\n",
    "- Convert between variable types"
   ]
  },
  {
   "cell_type": "markdown",
   "metadata": {
    "slideshow": {
     "slide_type": "slide"
    }
   },
   "source": [
    "# <center><font color='LIGHTGRAY'> Variables </font> </center>\n",
    "## <font color='LIGHTGRAY'>By the end of the day you'll be able to </font>\n",
    "- **Perform basic operations with numerical variables (integers and floats)**\n",
    "- <font color='LIGHTGRAY'>Perform basic operations with boolean variables</font>\n",
    "- <font color='LIGHTGRAY'>Perform basic operations with characters and strings</font>\n",
    "- <font color='LIGHTGRAY'>Convert between variable types</font>"
   ]
  },
  {
   "cell_type": "markdown",
   "metadata": {
    "slideshow": {
     "slide_type": "slide"
    }
   },
   "source": [
    "# <center> Python as a calculator </center>"
   ]
  },
  {
   "cell_type": "code",
   "execution_count": null,
   "metadata": {},
   "outputs": [],
   "source": [
    "12/5.1"
   ]
  },
  {
   "cell_type": "markdown",
   "metadata": {
    "slideshow": {
     "slide_type": "slide"
    }
   },
   "source": [
    "# <center> Variables - Overview</center>\n",
    "- Data is represented as numbers, strings, or boolean variables.\n",
    "    - Variables store a value but it can be changed/updated by the program\n",
    "- Numbers can be integers (whole numbers) or floats (numbers with decimal points).\n",
    "- Boolean variables can have only two values: True or False.\n",
    "- Strings are a sequence of characters within quotation marks.\n"
   ]
  },
  {
   "cell_type": "markdown",
   "metadata": {
    "slideshow": {
     "slide_type": "slide"
    }
   },
   "source": [
    "# <center> Numbers </center>"
   ]
  },
  {
   "cell_type": "code",
   "execution_count": 1,
   "metadata": {
    "slideshow": {
     "slide_type": "-"
    }
   },
   "outputs": [
    {
     "name": "stdout",
     "output_type": "stream",
     "text": [
      "<class 'int'>\n",
      "<class 'int'>\n",
      "<class 'float'>\n",
      "<class 'float'>\n"
     ]
    }
   ],
   "source": [
    "# variables store values that we can work with and modify it later.\n",
    "# variables can be named arbitrarily but I recommend to use the hungarian notation!\n",
    "# assign value to variables\n",
    "a_int = 5\n",
    "b_int = 8\n",
    "c_flt = 1.6\n",
    "d_flt = 5.2\n",
    "\n",
    "# to check the type of a variable:\n",
    "print(type(a_int)) # use parentheses for type and print\n",
    "print(type(b_int))\n",
    "print(type(c_flt))\n",
    "print(type(d_flt))"
   ]
  },
  {
   "cell_type": "markdown",
   "metadata": {},
   "source": [
    "## HELP() is your friend! Use it on variables, functions, any part of the code really."
   ]
  },
  {
   "cell_type": "code",
   "execution_count": 5,
   "metadata": {},
   "outputs": [
    {
     "name": "stdout",
     "output_type": "stream",
     "text": [
      "Help on class type in module builtins:\n",
      "\n",
      "class type(object)\n",
      " |  type(object_or_name, bases, dict)\n",
      " |  type(object) -> the object's type\n",
      " |  type(name, bases, dict) -> a new type\n",
      " |  \n",
      " |  Methods defined here:\n",
      " |  \n",
      " |  __call__(self, /, *args, **kwargs)\n",
      " |      Call self as a function.\n",
      " |  \n",
      " |  __delattr__(self, name, /)\n",
      " |      Implement delattr(self, name).\n",
      " |  \n",
      " |  __dir__(self, /)\n",
      " |      Specialized __dir__ implementation for types.\n",
      " |  \n",
      " |  __getattribute__(self, name, /)\n",
      " |      Return getattr(self, name).\n",
      " |  \n",
      " |  __init__(self, /, *args, **kwargs)\n",
      " |      Initialize self.  See help(type(self)) for accurate signature.\n",
      " |  \n",
      " |  __instancecheck__(self, instance, /)\n",
      " |      Check if an object is an instance.\n",
      " |  \n",
      " |  __repr__(self, /)\n",
      " |      Return repr(self).\n",
      " |  \n",
      " |  __setattr__(self, name, value, /)\n",
      " |      Implement setattr(self, name, value).\n",
      " |  \n",
      " |  __sizeof__(self, /)\n",
      " |      Return memory consumption of the type object.\n",
      " |  \n",
      " |  __subclasscheck__(self, subclass, /)\n",
      " |      Check if a class is a subclass.\n",
      " |  \n",
      " |  __subclasses__(self, /)\n",
      " |      Return a list of immediate subclasses.\n",
      " |  \n",
      " |  mro(self, /)\n",
      " |      Return a type's method resolution order.\n",
      " |  \n",
      " |  ----------------------------------------------------------------------\n",
      " |  Class methods defined here:\n",
      " |  \n",
      " |  __prepare__(...)\n",
      " |      __prepare__() -> dict\n",
      " |      used to create the namespace for the class statement\n",
      " |  \n",
      " |  ----------------------------------------------------------------------\n",
      " |  Static methods defined here:\n",
      " |  \n",
      " |  __new__(*args, **kwargs)\n",
      " |      Create and return a new object.  See help(type) for accurate signature.\n",
      " |  \n",
      " |  ----------------------------------------------------------------------\n",
      " |  Data descriptors defined here:\n",
      " |  \n",
      " |  __abstractmethods__\n",
      " |  \n",
      " |  __dict__\n",
      " |  \n",
      " |  __text_signature__\n",
      " |  \n",
      " |  ----------------------------------------------------------------------\n",
      " |  Data and other attributes defined here:\n",
      " |  \n",
      " |  __base__ = <class 'object'>\n",
      " |      The most base type\n",
      " |  \n",
      " |  __bases__ = (<class 'object'>,)\n",
      " |  \n",
      " |  __basicsize__ = 864\n",
      " |  \n",
      " |  __dictoffset__ = 264\n",
      " |  \n",
      " |  __flags__ = 2148291584\n",
      " |  \n",
      " |  __itemsize__ = 40\n",
      " |  \n",
      " |  __mro__ = (<class 'type'>, <class 'object'>)\n",
      " |  \n",
      " |  __weakrefoffset__ = 368\n",
      "\n"
     ]
    }
   ],
   "source": [
    "help(type)"
   ]
  },
  {
   "cell_type": "markdown",
   "metadata": {
    "slideshow": {
     "slide_type": "subslide"
    }
   },
   "source": [
    "### Let's work with the variables and create new ones"
   ]
  },
  {
   "cell_type": "code",
   "execution_count": null,
   "metadata": {
    "slideshow": {
     "slide_type": "-"
    }
   },
   "outputs": [],
   "source": [
    "a_int = 5\n",
    "b_int = 8\n",
    "c_flt = 1.6\n",
    "d_flt = 5.2\n",
    "\n",
    "# print the sum of two numbers\n",
    "print(a_int+b_int)\n",
    "# print the product of two numbers\n",
    "print(a_int*c_flt)\n",
    "# what is the type of this new variable?\n",
    "print(type(a_int*c_flt))\n",
    "# create a new varible!\n",
    "e_flt = a_int*c_flt\n",
    "print(e_flt)"
   ]
  },
  {
   "cell_type": "code",
   "execution_count": null,
   "metadata": {
    "slideshow": {
     "slide_type": "subslide"
    }
   },
   "outputs": [],
   "source": [
    "# create a new variable and equate it to the difference of two numbers\n",
    "print(type(d_flt - b_int))\n",
    "f_flt = d_flt - b_int\n",
    "print(f_flt)\n",
    "# multiply two numbers and store the value in a new variable\n",
    "print(type(b_int*a_int))\n",
    "g_int = b_int*a_int\n",
    "print(g_int) "
   ]
  },
  {
   "cell_type": "markdown",
   "metadata": {
    "slideshow": {
     "slide_type": "subslide"
    }
   },
   "source": [
    "### Change the value of a variable"
   ]
  },
  {
   "cell_type": "code",
   "execution_count": null,
   "metadata": {
    "slideshow": {
     "slide_type": "-"
    }
   },
   "outputs": [],
   "source": [
    "# let's add 2 to a_int\n",
    "print(a_int)\n",
    "a_int = a_int + 2\n",
    "print(a_int)\n",
    "# be careful! if you rerun this cell, a_int will keep increasing by 2."
   ]
  },
  {
   "cell_type": "code",
   "execution_count": null,
   "metadata": {
    "slideshow": {
     "slide_type": "subslide"
    }
   },
   "outputs": [],
   "source": [
    "# let's multiply b_int with 1.5\n",
    "# what's the type of the new variable? \n",
    "# Should we store this value in b_int?\n",
    "b_int = 8\n",
    "print(b_int*1.5)\n",
    "print(type(b_int*1.5))\n",
    "print(type(b_int))\n",
    "b_flt = b_int*1.5 # NOT CORRECT!\n",
    "print(type(b_flt))\n"
   ]
  },
  {
   "cell_type": "markdown",
   "metadata": {
    "slideshow": {
     "slide_type": "slide"
    }
   },
   "source": [
    "## Exercise 1\n",
    "- What's the type of a_int / b_int?  Create a new variable for it and start the name of the variable with ans1_ and complete it with the type of a_int / b_int!"
   ]
  },
  {
   "cell_type": "code",
   "execution_count": null,
   "metadata": {},
   "outputs": [],
   "source": [
    "# add your code below this line\n",
    "\n",
    "\n",
    "# the last line of the exercises show the solution.\n",
    "# <class 'float'>"
   ]
  },
  {
   "cell_type": "markdown",
   "metadata": {},
   "source": [
    "# <center><font color='LIGHTGRAY'> Variables </font> </center>\n",
    "## <font color='LIGHTGRAY'>By the end of the day you'll be able to </font>\n",
    "- <font color='LIGHTGRAY'>Perform basic operations with numerical variables (integers and floats)</font>\n",
    "- **Perform basic operations with boolean variables**\n",
    "- <font color='LIGHTGRAY'>Perform basic operations with characters and strings</font>\n",
    "- <font color='LIGHTGRAY'>Convert between variable types</font>"
   ]
  },
  {
   "cell_type": "markdown",
   "metadata": {
    "slideshow": {
     "slide_type": "slide"
    }
   },
   "source": [
    "# <center> Boolean variables</center>"
   ]
  },
  {
   "cell_type": "code",
   "execution_count": null,
   "metadata": {},
   "outputs": [],
   "source": [
    "# create a boolean variable\n",
    "var1_bool = True\n",
    "var2_bool = False\n",
    "print(var1_bool, var2_bool)\n",
    "print(type(var1_bool))"
   ]
  },
  {
   "cell_type": "markdown",
   "metadata": {
    "slideshow": {
     "slide_type": "subslide"
    }
   },
   "source": [
    "### Compare variables"
   ]
  },
  {
   "cell_type": "code",
   "execution_count": null,
   "metadata": {},
   "outputs": [],
   "source": [
    "a_int = 5\n",
    "b_int = 8\n",
    "c_flt = 1.6\n",
    "d_flt = 5.0\n",
    "c1_bool = c_flt < b_int\n",
    "c2_bool = a_int > b_int\n",
    "c3_bool = a_int == d_flt\n",
    "print(c1_bool)\n",
    "print(c2_bool)\n",
    "print(c3_bool)"
   ]
  },
  {
   "cell_type": "code",
   "execution_count": null,
   "metadata": {
    "slideshow": {
     "slide_type": "subslide"
    }
   },
   "outputs": [],
   "source": [
    "a_int = 5\n",
    "b_int = 8\n",
    "c_flt = 1.6\n",
    "d_flt = 5.0\n",
    "# is b_int+c_flt larger than a_int+d_flt?\n",
    "compvars1_bool = b_int+c_flt > a_int+d_flt\n",
    "# is c_flt-a_int smaller than b_int-d_flt?\n",
    "compvars2_bool = c_flt-a_int < b_int-d_flt\n",
    "print(compvars1_bool)\n",
    "print(compvars2_bool)"
   ]
  },
  {
   "cell_type": "markdown",
   "metadata": {
    "slideshow": {
     "slide_type": "subslide"
    }
   },
   "source": [
    "### check variable type"
   ]
  },
  {
   "cell_type": "code",
   "execution_count": null,
   "metadata": {
    "slideshow": {
     "slide_type": "-"
    }
   },
   "outputs": [],
   "source": [
    "# is the type of a_int and c_flt the same?\n",
    "comptypes1_bool = type(a_int) == type(c_flt)\n",
    "print(comptypes1_bool)\n",
    "\n",
    "# is a_int of type int?\n",
    "type_a_bool = type(a_int) == int\n",
    "print(type_a_bool)\n",
    "\n",
    "# is d_flt really a float?\n",
    "type_d_bool = type(d_flt) == float\n",
    "print(type_d_bool)"
   ]
  },
  {
   "cell_type": "markdown",
   "metadata": {
    "slideshow": {
     "slide_type": "slide"
    }
   },
   "source": [
    "## <center>Exercise 2</center>"
   ]
  },
  {
   "cell_type": "code",
   "execution_count": null,
   "metadata": {},
   "outputs": [],
   "source": [
    "a_int = 3\n",
    "b_int = 9.1\n",
    "# Check if a_int and b_int are really of type int! Create a boolean variable with the name \n",
    "# compvars_ab_bool and check if the two types are the same!\n",
    "# Do you notice anything strange here? \n",
    "# add your code below this line\n",
    "\n",
    "\n",
    "\n",
    "\n",
    "# False"
   ]
  },
  {
   "cell_type": "markdown",
   "metadata": {
    "slideshow": {
     "slide_type": "slide"
    }
   },
   "source": [
    "# <center><font color='LIGHTGRAY'> Variables </font> </center>\n",
    "## <font color='LIGHTGRAY'>By the end of the day you'll be able to </font>\n",
    "- <font color='LIGHTGRAY'>Perform basic operations with numerical variables (integers and floats)</font>\n",
    "- <font color='LIGHTGRAY'>Perform basic operations with boolean variables</font>\n",
    "- **Perform basic operations with characters and strings**\n",
    "- <font color='LIGHTGRAY'>Convert between variable types</font>"
   ]
  },
  {
   "cell_type": "markdown",
   "metadata": {
    "slideshow": {
     "slide_type": "subslide"
    }
   },
   "source": [
    "# <center> Characters </center>"
   ]
  },
  {
   "cell_type": "code",
   "execution_count": null,
   "metadata": {
    "slideshow": {
     "slide_type": "fragment"
    }
   },
   "outputs": [],
   "source": [
    "a_lowercase_str = 'a'\n",
    "print(a_lowercase_str)"
   ]
  },
  {
   "cell_type": "code",
   "execution_count": null,
   "metadata": {
    "slideshow": {
     "slide_type": "fragment"
    }
   },
   "outputs": [],
   "source": [
    "another_lowercase_str = \"b\"\n",
    "print(another_lowercase_str) "
   ]
  },
  {
   "cell_type": "code",
   "execution_count": null,
   "metadata": {
    "slideshow": {
     "slide_type": "fragment"
    }
   },
   "outputs": [],
   "source": [
    "an_uppercase_str = 'Z'\n",
    "print(an_uppercase_str)"
   ]
  },
  {
   "cell_type": "code",
   "execution_count": null,
   "metadata": {
    "slideshow": {
     "slide_type": "subslide"
    }
   },
   "outputs": [],
   "source": [
    "a_number_str = '9'\n",
    "print(a_number_str)\n",
    "\n",
    "# a_number_char + 6"
   ]
  },
  {
   "cell_type": "code",
   "execution_count": null,
   "metadata": {
    "slideshow": {
     "slide_type": "fragment"
    }
   },
   "outputs": [],
   "source": [
    "a_symbol_str = '-' \n",
    "print(a_symbol_str)"
   ]
  },
  {
   "cell_type": "markdown",
   "metadata": {
    "slideshow": {
     "slide_type": "slide"
    }
   },
   "source": [
    "# <center> Strings </center>"
   ]
  },
  {
   "cell_type": "code",
   "execution_count": null,
   "metadata": {
    "slideshow": {
     "slide_type": "subslide"
    }
   },
   "outputs": [],
   "source": [
    "short_str = \"string\"\n",
    "longer_str = 'This is my first string!'\n",
    "\n",
    "print(short_str)\n",
    "print(longer_str) "
   ]
  },
  {
   "cell_type": "code",
   "execution_count": null,
   "metadata": {
    "slideshow": {
     "slide_type": "subslide"
    }
   },
   "outputs": [],
   "source": [
    "# beware of apostrophe in strings!\n",
    "\n",
    "# NOT VALID\n",
    "print('There's my first string!')\n",
    "\n",
    "# VALID\n",
    "print(\"There's my first string!\")"
   ]
  },
  {
   "cell_type": "markdown",
   "metadata": {
    "slideshow": {
     "slide_type": "subslide"
    }
   },
   "source": [
    "# <center> String indexing </center>\n",
    "\n",
    "### <center> string[*starting index* : *stopping index* : *step size*] </center>\n",
    "\n",
    "#### Default Values:\n",
    "* start = beginning of string\n",
    "* stop = end of string\n",
    "* step = 1\n"
   ]
  },
  {
   "cell_type": "code",
   "execution_count": null,
   "metadata": {
    "slideshow": {
     "slide_type": "subslide"
    }
   },
   "outputs": [],
   "source": [
    "my_name_str = 'Andras Zsom'\n",
    "\n",
    "# indexing one character\n",
    "print(my_name_str[0])\n",
    "print(my_name_str[1])\n",
    "print(my_name_str[-3])"
   ]
  },
  {
   "cell_type": "code",
   "execution_count": null,
   "metadata": {
    "slideshow": {
     "slide_type": "subslide"
    }
   },
   "outputs": [],
   "source": [
    "# indexing a range of characters\n",
    "print(my_name_str[0:3]) # stop index is not included!"
   ]
  },
  {
   "cell_type": "code",
   "execution_count": null,
   "metadata": {
    "slideshow": {
     "slide_type": "fragment"
    }
   },
   "outputs": [],
   "source": [
    "print(my_name_str[3:])"
   ]
  },
  {
   "cell_type": "code",
   "execution_count": null,
   "metadata": {
    "slideshow": {
     "slide_type": "fragment"
    }
   },
   "outputs": [],
   "source": [
    "print(my_name_str[:6]) "
   ]
  },
  {
   "cell_type": "code",
   "execution_count": null,
   "metadata": {
    "slideshow": {
     "slide_type": "subslide"
    }
   },
   "outputs": [],
   "source": [
    "# indexing a range of characters with a step\n",
    "print(my_name_str[::2])"
   ]
  },
  {
   "cell_type": "code",
   "execution_count": null,
   "metadata": {
    "slideshow": {
     "slide_type": "fragment"
    }
   },
   "outputs": [],
   "source": [
    "print(my_name_str[1::3]) "
   ]
  },
  {
   "cell_type": "code",
   "execution_count": null,
   "metadata": {
    "slideshow": {
     "slide_type": "fragment"
    }
   },
   "outputs": [],
   "source": [
    "print(my_name_str[::]) # default step size = 1"
   ]
  },
  {
   "cell_type": "code",
   "execution_count": null,
   "metadata": {
    "slideshow": {
     "slide_type": "subslide"
    }
   },
   "outputs": [],
   "source": [
    "# backwards indexing\n",
    "print(my_name_str[::-1])"
   ]
  },
  {
   "cell_type": "markdown",
   "metadata": {
    "slideshow": {
     "slide_type": "subslide"
    }
   },
   "source": [
    "## Exercise: Indexing a string\n",
    "`my_name_str = 'Andras Zsom'`\n",
    "* Assign the initial of the last name to `a_str`\n",
    "* Assign the last four characters to `b_str`\n",
    "* Assign every second character to `c_str`\n",
    "* Assign every third character in reverse order to `d_str`\n",
    "* Assign the characters between the second and the sixth location to `e_str`\n",
    "* Print all variables"
   ]
  },
  {
   "cell_type": "code",
   "execution_count": null,
   "metadata": {
    "slideshow": {
     "slide_type": "subslide"
    }
   },
   "outputs": [],
   "source": [
    "my_name_str = 'Andras Zsom'\n",
    "\n",
    "a_str = my_name_str[-4]\n",
    "b_str = my_name_str[-4:]\n",
    "c_str = my_name_str[::2]\n",
    "d_str = my_name_str[::-3]\n",
    "e_str = my_name_str[2:6]\n",
    "\n",
    "print(a_str)\n",
    "print(b_str)\n",
    "print(c_str)\n",
    "print(d_str)\n",
    "print(e_str)\n"
   ]
  },
  {
   "cell_type": "markdown",
   "metadata": {
    "slideshow": {
     "slide_type": "subslide"
    }
   },
   "source": [
    "# <center> Useful string operations </center>"
   ]
  },
  {
   "cell_type": "code",
   "execution_count": null,
   "metadata": {
    "slideshow": {
     "slide_type": "subslide"
    }
   },
   "outputs": [],
   "source": [
    "# combine strings\n",
    "first_name_str = 'Andras'\n",
    "second_name_str = 'Zsom'\n",
    "full_name_str = first_name_str + second_name_str\n",
    "print(full_name_str)"
   ]
  },
  {
   "cell_type": "code",
   "execution_count": null,
   "metadata": {
    "slideshow": {
     "slide_type": "subslide"
    }
   },
   "outputs": [],
   "source": [
    "space_name_str = first_name_str + \" \" + second_name_str\n",
    "print(space_name_str)"
   ]
  },
  {
   "cell_type": "code",
   "execution_count": null,
   "metadata": {
    "slideshow": {
     "slide_type": "subslide"
    }
   },
   "outputs": [],
   "source": [
    "# repeat strings\n",
    "laugh_str = 'ha'\n",
    "print(laugh_str*3)"
   ]
  },
  {
   "cell_type": "code",
   "execution_count": null,
   "metadata": {
    "slideshow": {
     "slide_type": "subslide"
    }
   },
   "outputs": [],
   "source": [
    "# split strings\n",
    "print(space_name_str)"
   ]
  },
  {
   "cell_type": "code",
   "execution_count": null,
   "metadata": {
    "slideshow": {
     "slide_type": "fragment"
    }
   },
   "outputs": [],
   "source": [
    "# split on space\n",
    "print(space_name_str.split())\n",
    "print(space_name_str.split(' '))"
   ]
  },
  {
   "cell_type": "code",
   "execution_count": null,
   "metadata": {
    "slideshow": {
     "slide_type": "fragment"
    }
   },
   "outputs": [],
   "source": [
    "# split on another character\n",
    "print(space_name_str.split('l'))"
   ]
  },
  {
   "cell_type": "code",
   "execution_count": 1,
   "metadata": {
    "slideshow": {
     "slide_type": "subslide"
    }
   },
   "outputs": [
    {
     "name": "stdout",
     "output_type": "stream",
     "text": [
      "False\n"
     ]
    }
   ],
   "source": [
    "# check if characters are in string\n",
    "full_name_str = 'Andras Zsom'\n",
    "chars = 'and'\n",
    "check_bool = chars in full_name_str\n",
    "print(check_bool)"
   ]
  },
  {
   "cell_type": "code",
   "execution_count": 2,
   "metadata": {
    "slideshow": {
     "slide_type": "subslide"
    }
   },
   "outputs": [
    {
     "name": "stdout",
     "output_type": "stream",
     "text": [
      "True\n"
     ]
    }
   ],
   "source": [
    "chars = 'And'\n",
    "check_bool = chars in full_name_str\n",
    "print(check_bool)"
   ]
  },
  {
   "cell_type": "code",
   "execution_count": null,
   "metadata": {
    "slideshow": {
     "slide_type": "subslide"
    }
   },
   "outputs": [],
   "source": [
    "# find - returns the first occurrence of a character\n",
    "print(full_name_str)\n",
    "print(full_name_str.find('a'))"
   ]
  },
  {
   "cell_type": "markdown",
   "metadata": {
    "slideshow": {
     "slide_type": "subslide"
    }
   },
   "source": [
    "## Exercise: How would you check if `first_str = 'racecar'` is a palindrome? Assign the check to a variable called `check_pal_bool` and print it."
   ]
  },
  {
   "cell_type": "code",
   "execution_count": null,
   "metadata": {
    "slideshow": {
     "slide_type": "-"
    }
   },
   "outputs": [],
   "source": [
    "first_str = 'racecar'\n",
    "# add your code below\n",
    "\n",
    "\n",
    "# True"
   ]
  },
  {
   "cell_type": "markdown",
   "metadata": {},
   "source": [
    "# <center><font color='LIGHTGRAY'> Variables </font> </center>\n",
    "## <font color='LIGHTGRAY'>By the end of the day you'll be able to </font>\n",
    "- <font color='LIGHTGRAY'>Perform basic operations with numerical variables (integers and floats)</font>\n",
    "- <font color='LIGHTGRAY'>Perform basic operations with boolean variables</font>\n",
    "- <font color='LIGHTGRAY'>Perform basic operations with characters and strings</font>\n",
    "- **Convert between variable types**"
   ]
  },
  {
   "cell_type": "markdown",
   "metadata": {
    "slideshow": {
     "slide_type": "subslide"
    }
   },
   "source": [
    "## Casting between types"
   ]
  },
  {
   "cell_type": "code",
   "execution_count": null,
   "metadata": {
    "slideshow": {
     "slide_type": "-"
    }
   },
   "outputs": [],
   "source": [
    "print(9 + 5)"
   ]
  },
  {
   "cell_type": "code",
   "execution_count": null,
   "metadata": {
    "slideshow": {
     "slide_type": "-"
    }
   },
   "outputs": [],
   "source": [
    "print('9' + '5')"
   ]
  },
  {
   "cell_type": "code",
   "execution_count": null,
   "metadata": {
    "slideshow": {
     "slide_type": "-"
    }
   },
   "outputs": [],
   "source": [
    "print('9' + 5)"
   ]
  },
  {
   "cell_type": "code",
   "execution_count": null,
   "metadata": {
    "slideshow": {
     "slide_type": "subslide"
    }
   },
   "outputs": [],
   "source": [
    "print(str(9))\n",
    "print(type(str(9)))\n",
    "\n",
    "print(int('9'))\n",
    "print(type(int('9')))"
   ]
  },
  {
   "cell_type": "code",
   "execution_count": null,
   "metadata": {
    "slideshow": {
     "slide_type": "-"
    }
   },
   "outputs": [],
   "source": [
    "print(int('9') + 5)"
   ]
  },
  {
   "cell_type": "code",
   "execution_count": null,
   "metadata": {
    "slideshow": {
     "slide_type": "subslide"
    }
   },
   "outputs": [],
   "source": [
    "print(float('9.5'))\n",
    "print(type(float('9.5')))"
   ]
  },
  {
   "cell_type": "code",
   "execution_count": null,
   "metadata": {
    "slideshow": {
     "slide_type": "-"
    }
   },
   "outputs": [],
   "source": [
    "int('a')"
   ]
  },
  {
   "cell_type": "code",
   "execution_count": null,
   "metadata": {},
   "outputs": [],
   "source": [
    "# boolean casting\n",
    "print(int(True),int(False)) # True is 1, False is 0\n",
    "print(float(True),float(False)) # True is 1.0, False is 0.0\n",
    "print(str(True),str(False)) # True is 'True', False is 'False'\n",
    "print(bool('True'),bool('False')) # both strings were cast to True!!!\n",
    "print(bool(0.1),bool(-100)) # both number are cast to True\n",
    "print(bool(0),bool(0.0)) # everything but the number 0 is cast to True\n"
   ]
  },
  {
   "cell_type": "markdown",
   "metadata": {
    "slideshow": {
     "slide_type": "slide"
    }
   },
   "source": [
    "# <center> Variables Review </center>\n",
    "* You assign a value to a variable using the `=` sign.\n",
    "* You can change the value assigned to a variable.\n",
    "* Data is represented as numbers, strings, or boolean variables.\n",
    "* Numbers can be integers (whole numbers) or floats (numbers with decimal points).\n",
    "* Boolean variables can have only two values: True or False.\n",
    "* Strings can be indexed ([start, stop, step])\n",
    "* Variables can be cast into different types but be very careful when you do that! Test your code!"
   ]
  },
  {
   "cell_type": "code",
   "execution_count": null,
   "metadata": {},
   "outputs": [],
   "source": []
  }
 ],
 "metadata": {
  "celltoolbar": "Slideshow",
  "kernelspec": {
   "display_name": "Python 3",
   "language": "python",
   "name": "python3"
  },
  "language_info": {
   "codemirror_mode": {
    "name": "ipython",
    "version": 3
   },
   "file_extension": ".py",
   "mimetype": "text/x-python",
   "name": "python",
   "nbconvert_exporter": "python",
   "pygments_lexer": "ipython3",
   "version": "3.8.8"
  }
 },
 "nbformat": 4,
 "nbformat_minor": 4
}
