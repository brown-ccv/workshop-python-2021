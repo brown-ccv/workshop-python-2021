{
 "cells": [
  {
   "cell_type": "markdown",
   "metadata": {},
   "source": [
    "# <center> What we learnt yesterday: variables </center>\n",
    "* You assign a value to a variable using the `=` sign.\n",
    "* You can change the value assigned to a variable.\n",
    "* Data is represented as numbers, strings, or boolean variables.\n",
    "* Numbers can be integers (whole numbers) or floats (numbers with decimal points).\n",
    "* Boolean variables can have only two values: True or False.\n",
    "* Strings can be indexed ([start, stop, step])\n",
    "* Variables can be cast into different types but be very careful when you do that! Test your code!"
   ]
  },
  {
   "cell_type": "markdown",
   "metadata": {
    "slideshow": {
     "slide_type": "slide"
    }
   },
   "source": [
    "# Container Types\n",
    "Today we cover lists, tomorrow you'll learn about dictionaries\n",
    "\n",
    "### By the end of the day you'll be able to\n",
    "- create lists and add elements in it\n",
    "- slice lists\n",
    "- modify lists\n",
    "- concatenate, sort, and replicate lists\n",
    "- better understand what str.split returns"
   ]
  },
  {
   "cell_type": "markdown",
   "metadata": {
    "slideshow": {
     "slide_type": "subslide"
    }
   },
   "source": [
    "- You never work with just variables.\n",
    "- Variables are collected into containers\n",
    "- Containers help to perform the same operation on an arbitrary number of variables easily\n",
    "- Your code uses a mix of variables and containers"
   ]
  },
  {
   "cell_type": "markdown",
   "metadata": {
    "slideshow": {
     "slide_type": "slide"
    }
   },
   "source": [
    "### <font color='LIGHTGRAY'>By the end of the day you'll be able to </font>\n",
    "- **create lists and add elements in it**\n",
    "- <font color='LIGHTGRAY'>slice lists</font>\n",
    "- <font color='LIGHTGRAY'>modify lists</font>\n",
    "- <font color='LIGHTGRAY'>concatenate, sort, and replicate lists</font>\n",
    "- <font color='LIGHTGRAY'>better understand what str.split returns</font>"
   ]
  },
  {
   "cell_type": "markdown",
   "metadata": {
    "slideshow": {
     "slide_type": "slide"
    }
   },
   "source": [
    "## The list Type\n",
    "- Can store arbitrary elements of any type\n",
    "- One of the most-often used objects in Python"
   ]
  },
  {
   "cell_type": "code",
   "execution_count": 3,
   "metadata": {
    "slideshow": {
     "slide_type": "-"
    }
   },
   "outputs": [
    {
     "name": "stdout",
     "output_type": "stream",
     "text": [
      "[]\n",
      "<class 'list'>\n",
      "True\n",
      "0\n"
     ]
    }
   ],
   "source": [
    "# create an empty list, follow the hungarian notation and end the container name with _lst\n",
    "foo_lst = []\n",
    "print(foo_lst)\n",
    "print(type(foo_lst))\n",
    "check_type_bool = type(foo_lst) == list\n",
    "print(check_type_bool)\n",
    "print(len(foo_lst)) # the length of the list, how many elements are in the list."
   ]
  },
  {
   "cell_type": "code",
   "execution_count": 4,
   "metadata": {
    "slideshow": {
     "slide_type": "subslide"
    }
   },
   "outputs": [
    {
     "name": "stdout",
     "output_type": "stream",
     "text": [
      "['milk', 'bread', 'apples', 'eggs']\n",
      "4\n"
     ]
    }
   ],
   "source": [
    "groceries_lst = ['milk', \"bread\", \"apples\", \"eggs\"]\n",
    "print(groceries_lst)\n",
    "print(len(groceries_lst))"
   ]
  },
  {
   "cell_type": "code",
   "execution_count": 5,
   "metadata": {
    "slideshow": {
     "slide_type": "subslide"
    }
   },
   "outputs": [
    {
     "name": "stdout",
     "output_type": "stream",
     "text": [
      "[2, 3, 5, 7, 11, 13, 17, 19, 23, 29]\n",
      "10\n"
     ]
    }
   ],
   "source": [
    "prime_nums_lst = [2, 3, 5, 7, 11, 13, 17, 19, 23, 29]\n",
    "print(prime_nums_lst)\n",
    "print(len(prime_nums_lst))"
   ]
  },
  {
   "cell_type": "code",
   "execution_count": 6,
   "metadata": {
    "slideshow": {
     "slide_type": "subslide"
    }
   },
   "outputs": [
    {
     "name": "stdout",
     "output_type": "stream",
     "text": [
      "['andras', 9.9, ['providence', 'boston', 'new york'], True]\n",
      "4\n"
     ]
    }
   ],
   "source": [
    "stats_lst = ['andras', 9.9, ['providence','boston','new york'], True]\n",
    "print(stats_lst)\n",
    "print(len(stats_lst))"
   ]
  },
  {
   "cell_type": "markdown",
   "metadata": {
    "slideshow": {
     "slide_type": "slide"
    }
   },
   "source": [
    "### <font color='LIGHTGRAY'>By the end of the day you'll be able to </font>\n",
    "- <font color='LIGHTGRAY'>create lists and add elements in it</font>\n",
    "- **slice lists**\n",
    "- <font color='LIGHTGRAY'>modify lists</font>\n",
    "- <font color='LIGHTGRAY'>concatenate, sort, and replicate lists</font>\n",
    "- <font color='LIGHTGRAY'>better understand what str.split returns</font>"
   ]
  },
  {
   "cell_type": "markdown",
   "metadata": {
    "slideshow": {
     "slide_type": "subslide"
    }
   },
   "source": [
    "## Indexing a list\n",
    "Behaves much like indexing a string"
   ]
  },
  {
   "cell_type": "code",
   "execution_count": 7,
   "metadata": {
    "slideshow": {
     "slide_type": "-"
    }
   },
   "outputs": [
    {
     "name": "stdout",
     "output_type": "stream",
     "text": [
      "[2, 3, 5, 7, 11, 13, 17, 19, 23, 29]\n",
      "10\n",
      "2\n",
      "3\n"
     ]
    }
   ],
   "source": [
    "print(prime_nums_lst)\n",
    "print(len(prime_nums_lst))     # get length of list\n",
    "print(prime_nums_lst[0])       # get first element\n",
    "print(prime_nums_lst[1])      # get second element"
   ]
  },
  {
   "cell_type": "markdown",
   "metadata": {
    "slideshow": {
     "slide_type": "subslide"
    }
   },
   "source": [
    "### Slicing\n",
    "\n",
    "Just as we can use square brackets to access individual list elements, we can also use them to access sublists with the slice notation, marked by the colon (:) character. \n",
    "\n",
    "`x[start:stop:step]`\n",
    "\n",
    "If any of these are unspecified, they default to the values: \n",
    "- `start=0`\n",
    "- `stop=size of dimension`\n",
    "- `step=1`"
   ]
  },
  {
   "cell_type": "code",
   "execution_count": 14,
   "metadata": {
    "slideshow": {
     "slide_type": "subslide"
    }
   },
   "outputs": [
    {
     "name": "stdout",
     "output_type": "stream",
     "text": [
      "[2, 5, 11, 17, 23]\n"
     ]
    }
   ],
   "source": [
    "#print(prime_nums_lst[:3])     # get first three elements - you can delete the 0\n",
    "#print(prime_nums_lst[2:])      # get third element to end of list - you can add the step of 1\n",
    "#print(prime_nums_lst[::-1])    # reverse a list\n",
    "print(prime_nums_lst[::2])     # every other element"
   ]
  },
  {
   "cell_type": "markdown",
   "metadata": {
    "slideshow": {
     "slide_type": "subslide"
    }
   },
   "source": [
    "Lists can contain other lists! "
   ]
  },
  {
   "cell_type": "code",
   "execution_count": 15,
   "metadata": {
    "slideshow": {
     "slide_type": "-"
    }
   },
   "outputs": [
    {
     "name": "stdout",
     "output_type": "stream",
     "text": [
      "2\n",
      "['cat', 'bat']\n",
      "bat\n"
     ]
    }
   ],
   "source": [
    "a_pile_lst = [['cat', 'bat'], [10, 20, 30, 40, 50]]\n",
    "print(len(a_pile_lst))\n",
    "print(a_pile_lst[0])\n",
    "print(a_pile_lst[0][1])"
   ]
  },
  {
   "cell_type": "markdown",
   "metadata": {
    "slideshow": {
     "slide_type": "subslide"
    }
   },
   "source": [
    "## Exercise 1\n",
    "\n",
    "Save the fourth element of the second list of `a_pile_lst` into a variable. The variable name should start with `var_` and complete it with the appropriate type according to the hungarian notation we practiced so far.\n"
   ]
  },
  {
   "cell_type": "code",
   "execution_count": 31,
   "metadata": {
    "slideshow": {
     "slide_type": "-"
    }
   },
   "outputs": [
    {
     "name": "stdout",
     "output_type": "stream",
     "text": [
      "40\n",
      "<class 'list'>\n",
      "cat\n"
     ]
    }
   ],
   "source": [
    "a_pile_lst = [['cat', 'bat'], [10, 20, 30, 40, 50]]\n",
    "# add your code below\n",
    "var_int = a_pile_lst[1][3]\n",
    "print(var_int)\n",
    "print(type(a_pile_lst))\n",
    "print(a_pile_lst[0][0])\n",
    "\n",
    "# 40"
   ]
  },
  {
   "cell_type": "markdown",
   "metadata": {
    "slideshow": {
     "slide_type": "slide"
    }
   },
   "source": [
    "### <font color='LIGHTGRAY'>By the end of the day you'll be able to </font>\n",
    "- <font color='LIGHTGRAY'>create lists and add elements in it</font>\n",
    "- <font color='LIGHTGRAY'>slice lists</font>\n",
    "- **modify lists**\n",
    "- <font color='LIGHTGRAY'>concatenate, sort, and replicate lists</font>\n",
    "- <font color='LIGHTGRAY'>better understand what str.split returns</font>"
   ]
  },
  {
   "cell_type": "markdown",
   "metadata": {
    "slideshow": {
     "slide_type": "subslide"
    }
   },
   "source": [
    "### Modifying list Objects\n",
    "- List objects are mutable\n",
    "- We can add, remove, or change elements"
   ]
  },
  {
   "cell_type": "code",
   "execution_count": 33,
   "metadata": {
    "slideshow": {
     "slide_type": "-"
    }
   },
   "outputs": [],
   "source": [
    "names_lst = [\"john\", \"paul\", \"george\", \"ringo\"]"
   ]
  },
  {
   "cell_type": "code",
   "execution_count": 34,
   "metadata": {
    "slideshow": {
     "slide_type": "subslide"
    }
   },
   "outputs": [
    {
     "name": "stdout",
     "output_type": "stream",
     "text": [
      "['john', 'paul', 'george', 'ringo', 'yoko']\n"
     ]
    }
   ],
   "source": [
    "names_lst.append(\"yoko\")\n",
    "print(names_lst)"
   ]
  },
  {
   "cell_type": "code",
   "execution_count": 35,
   "metadata": {
    "slideshow": {
     "slide_type": "subslide"
    }
   },
   "outputs": [
    {
     "name": "stdout",
     "output_type": "stream",
     "text": [
      "['john', 'freddie', 'paul', 'george', 'ringo', 'yoko']\n"
     ]
    }
   ],
   "source": [
    "names_lst.insert(1, \"freddie\")\n",
    "print(names_lst)"
   ]
  },
  {
   "cell_type": "code",
   "execution_count": 36,
   "metadata": {
    "slideshow": {
     "slide_type": "subslide"
    }
   },
   "outputs": [
    {
     "name": "stdout",
     "output_type": "stream",
     "text": [
      "['john', 'freddie', 'paul', 'pete', 'ringo', 'yoko']\n"
     ]
    }
   ],
   "source": [
    "names_lst[3] = \"pete\"    # we can modify with assignment\n",
    "print(names_lst)"
   ]
  },
  {
   "cell_type": "code",
   "execution_count": 38,
   "metadata": {
    "slideshow": {
     "slide_type": "subslide"
    }
   },
   "outputs": [
    {
     "ename": "ValueError",
     "evalue": "list.remove(x): x not in list",
     "output_type": "error",
     "traceback": [
      "\u001b[0;31m---------------------------------------------------------------------------\u001b[0m",
      "\u001b[0;31mValueError\u001b[0m                                Traceback (most recent call last)",
      "\u001b[0;32m<ipython-input-38-96f0db12e002>\u001b[0m in \u001b[0;36m<module>\u001b[0;34m\u001b[0m\n\u001b[1;32m      1\u001b[0m \u001b[0;31m# remove element by value\u001b[0m\u001b[0;34m\u001b[0m\u001b[0;34m\u001b[0m\u001b[0;34m\u001b[0m\u001b[0m\n\u001b[0;32m----> 2\u001b[0;31m \u001b[0mnames_lst\u001b[0m\u001b[0;34m.\u001b[0m\u001b[0mremove\u001b[0m\u001b[0;34m(\u001b[0m\u001b[0;34m\"andras\"\u001b[0m\u001b[0;34m)\u001b[0m\u001b[0;34m\u001b[0m\u001b[0;34m\u001b[0m\u001b[0m\n\u001b[0m\u001b[1;32m      3\u001b[0m \u001b[0mprint\u001b[0m\u001b[0;34m(\u001b[0m\u001b[0mnames_lst\u001b[0m\u001b[0;34m)\u001b[0m\u001b[0;34m\u001b[0m\u001b[0;34m\u001b[0m\u001b[0m\n",
      "\u001b[0;31mValueError\u001b[0m: list.remove(x): x not in list"
     ]
    }
   ],
   "source": [
    "# remove element by value\n",
    "names_lst.remove(\"paul\")\n",
    "print(names_lst)"
   ]
  },
  {
   "cell_type": "code",
   "execution_count": 39,
   "metadata": {},
   "outputs": [
    {
     "name": "stdout",
     "output_type": "stream",
     "text": [
      "['john', 'freddie', 'pete', 'ringo', 'yoko']\n",
      "['freddie', 'ringo']\n"
     ]
    }
   ],
   "source": [
    "# you can also delete elements by index or slice\n",
    "print(names_lst)\n",
    "del names_lst[::2]\n",
    "\n",
    "print(names_lst)\n"
   ]
  },
  {
   "cell_type": "markdown",
   "metadata": {
    "slideshow": {
     "slide_type": "slide"
    }
   },
   "source": [
    "### <font color='LIGHTGRAY'>By the end of the day you'll be able to </font>\n",
    "- <font color='LIGHTGRAY'>create lists and add elements in it</font>\n",
    "- <font color='LIGHTGRAY'>slice lists</font>\n",
    "- <font color='LIGHTGRAY'>modify lists</font>\n",
    "- **concatenate, sort, and replicate lists**\n",
    "- <font color='LIGHTGRAY'>better understand what str.split returns</font>"
   ]
  },
  {
   "cell_type": "markdown",
   "metadata": {
    "slideshow": {
     "slide_type": "subslide"
    }
   },
   "source": [
    "### List Concatenation and Replication\n",
    "\n",
    "The `+` operator can combine two lists to create a new list value in the same way it combines two strings into a new string value. The `*` operator can also be used with a list and an integer value to replicate the list."
   ]
  },
  {
   "cell_type": "code",
   "execution_count": 40,
   "metadata": {
    "slideshow": {
     "slide_type": "-"
    }
   },
   "outputs": [
    {
     "name": "stdout",
     "output_type": "stream",
     "text": [
      "[1, 2, 3, 'A', 'B', 'C']\n",
      "[1, 2, 3, 1, 2, 3, 1, 2, 3, 1, 2, 3, 1, 2, 3]\n"
     ]
    }
   ],
   "source": [
    "print([1, 2, 3] + ['A', 'B', 'C'])\n",
    "print([1, 2, 3] * 5)"
   ]
  },
  {
   "cell_type": "markdown",
   "metadata": {
    "slideshow": {
     "slide_type": "subslide"
    }
   },
   "source": [
    "### List Containment - back to boolean variables"
   ]
  },
  {
   "cell_type": "code",
   "execution_count": 41,
   "metadata": {
    "slideshow": {
     "slide_type": "-"
    }
   },
   "outputs": [
    {
     "name": "stdout",
     "output_type": "stream",
     "text": [
      "['freddie', 'ringo']\n",
      "False\n"
     ]
    }
   ],
   "source": [
    "print(names_lst)\n",
    "print(\"pete\" in names_lst)"
   ]
  },
  {
   "cell_type": "code",
   "execution_count": 43,
   "metadata": {
    "slideshow": {
     "slide_type": "subslide"
    }
   },
   "outputs": [
    {
     "name": "stdout",
     "output_type": "stream",
     "text": [
      "True\n"
     ]
    }
   ],
   "source": [
    "print(5 in [5, 4, 3])"
   ]
  },
  {
   "cell_type": "markdown",
   "metadata": {
    "slideshow": {
     "slide_type": "subslide"
    }
   },
   "source": [
    "## Exercise 2\n",
    "\n",
    "Using the methods we covered, update last week's grocery list for your current week of shopping.\n",
    "\n",
    "* last week: `['milk', 'bread', 'eggs', 'cheese', 'cereal', 'apples', 'tea']`\n",
    "* this week: `['milk', 'bread', 'yogurt', 'cereal', 'oranges', 'hummus']`"
   ]
  },
  {
   "cell_type": "code",
   "execution_count": 48,
   "metadata": {
    "slideshow": {
     "slide_type": "-"
    }
   },
   "outputs": [
    {
     "name": "stdout",
     "output_type": "stream",
     "text": [
      "['milk', 'bread']\n"
     ]
    }
   ],
   "source": [
    "groc_lst = ['milk', 'bread', 'eggs', 'cheese', 'cereal', 'apples', 'tea']\n",
    "# groc_lst.remove('eggs')\n",
    "# groc_lst.remove('cheese')\n",
    "# groc_lst.remove('apples')\n",
    "# groc_lst.remove('tea')\n",
    "# print(groc_lst)\n",
    "# groc_lst.insert(2,'yogurt')\n",
    "# print(groc_lst)\n",
    "# groc_lst.append('oranges')\n",
    "# groc_lst.append('hummus')\n",
    "# print(groc_lst)\n",
    "\n",
    "del groc_lst[2:]\n",
    "print(groc_lst)\n",
    "\n",
    "\n",
    "# ['milk', 'bread', 'yogurt', 'cereal', 'oranges', 'hummus']"
   ]
  },
  {
   "cell_type": "markdown",
   "metadata": {
    "slideshow": {
     "slide_type": "subslide"
    }
   },
   "source": [
    "### Sorting Lists\n",
    "\n",
    "Lists of number values or lists of strings can be sorted with the sort() method."
   ]
  },
  {
   "cell_type": "code",
   "execution_count": 53,
   "metadata": {
    "slideshow": {
     "slide_type": "-"
    }
   },
   "outputs": [
    {
     "name": "stdout",
     "output_type": "stream",
     "text": [
      "[5, 3.14, 2, 1, -7]\n",
      "Help on built-in function sort:\n",
      "\n",
      "sort(*, key=None, reverse=False) method of builtins.list instance\n",
      "    Sort the list in ascending order and return None.\n",
      "    \n",
      "    The sort is in-place (i.e. the list itself is modified) and stable (i.e. the\n",
      "    order of two equal elements is maintained).\n",
      "    \n",
      "    If a key function is given, apply it once to each list item and sort them,\n",
      "    ascending or descending, according to their function values.\n",
      "    \n",
      "    The reverse flag can be set to sort in descending order.\n",
      "\n"
     ]
    }
   ],
   "source": [
    "spam_lst = [2, 5, 3.14, 1, -7]\n",
    "spam_lst.sort(reverse=True) # .sort is applied on the list directly, the list is updated without value assignment\n",
    "print(spam_lst)\n",
    "\n",
    "help(spam_lst.sort)\n"
   ]
  },
  {
   "cell_type": "code",
   "execution_count": 52,
   "metadata": {
    "slideshow": {
     "slide_type": "subslide"
    }
   },
   "outputs": [
    {
     "name": "stdout",
     "output_type": "stream",
     "text": [
      "['ants', 'badgers', 'cats', 'dogs', 'elephants']\n",
      "['elephants', 'dogs', 'cats', 'badgers', 'ants']\n"
     ]
    }
   ],
   "source": [
    "spam_lst = ['ants', 'cats', 'dogs', 'badgers', 'elephants']\n",
    "spam_lst.sort()\n",
    "print(spam_lst)\n",
    "spam_lst.sort(reverse=True) # argument of a method\n",
    "print(spam_lst)"
   ]
  },
  {
   "cell_type": "markdown",
   "metadata": {
    "slideshow": {
     "slide_type": "subslide"
    }
   },
   "source": [
    "You cannot sort lists that have both number values and string values in them, since Python doesn’t know how to compare these values. Python will throw a TypeError error.\n"
   ]
  },
  {
   "cell_type": "code",
   "execution_count": 54,
   "metadata": {
    "slideshow": {
     "slide_type": "-"
    }
   },
   "outputs": [
    {
     "ename": "TypeError",
     "evalue": "'<' not supported between instances of 'str' and 'int'",
     "output_type": "error",
     "traceback": [
      "\u001b[0;31m---------------------------------------------------------------------------\u001b[0m",
      "\u001b[0;31mTypeError\u001b[0m                                 Traceback (most recent call last)",
      "\u001b[0;32m<ipython-input-54-8ff1ee3e0489>\u001b[0m in \u001b[0;36m<module>\u001b[0;34m\u001b[0m\n\u001b[1;32m      1\u001b[0m \u001b[0mspam_lst\u001b[0m \u001b[0;34m=\u001b[0m \u001b[0;34m[\u001b[0m\u001b[0;36m1\u001b[0m\u001b[0;34m,\u001b[0m \u001b[0;36m3\u001b[0m\u001b[0;34m,\u001b[0m \u001b[0;36m2\u001b[0m\u001b[0;34m,\u001b[0m \u001b[0;36m4\u001b[0m\u001b[0;34m,\u001b[0m \u001b[0;34m'Kallie'\u001b[0m\u001b[0;34m,\u001b[0m \u001b[0;34m'Alice'\u001b[0m\u001b[0;34m,\u001b[0m \u001b[0;34m'Bob'\u001b[0m\u001b[0;34m]\u001b[0m\u001b[0;34m\u001b[0m\u001b[0;34m\u001b[0m\u001b[0m\n\u001b[0;32m----> 2\u001b[0;31m \u001b[0mspam_lst\u001b[0m\u001b[0;34m.\u001b[0m\u001b[0msort\u001b[0m\u001b[0;34m(\u001b[0m\u001b[0;34m)\u001b[0m\u001b[0;34m\u001b[0m\u001b[0;34m\u001b[0m\u001b[0m\n\u001b[0m\u001b[1;32m      3\u001b[0m \u001b[0mprint\u001b[0m\u001b[0;34m(\u001b[0m\u001b[0mspam_lst\u001b[0m\u001b[0;34m)\u001b[0m\u001b[0;34m\u001b[0m\u001b[0;34m\u001b[0m\u001b[0m\n",
      "\u001b[0;31mTypeError\u001b[0m: '<' not supported between instances of 'str' and 'int'"
     ]
    }
   ],
   "source": [
    "spam_lst = [1, 3, 2, 4, 'Kallie', 'Alice', 'Bob']\n",
    "spam_lst.sort()\n",
    "print(spam_lst)"
   ]
  },
  {
   "cell_type": "markdown",
   "metadata": {
    "slideshow": {
     "slide_type": "subslide"
    }
   },
   "source": [
    "## Exercise 3\n",
    "\n",
    "Sort the list `spam_lst` such that sorted numbers appear before sorted letters? Hint: start by creating two lists, the first list contains all numbers, the second list contains all strings."
   ]
  },
  {
   "cell_type": "code",
   "execution_count": 60,
   "metadata": {
    "slideshow": {
     "slide_type": "-"
    }
   },
   "outputs": [
    {
     "name": "stdout",
     "output_type": "stream",
     "text": [
      "[4, 3, 2, 1]\n"
     ]
    }
   ],
   "source": [
    "spam_lst = [1, 3, 2, 4, 'Kallie', 'Alice', 'Bob']\n",
    "first_lst = spam_lst[:4]\n",
    "second_lst = spam_lst[4:]\n",
    "#print(first_lst)\n",
    "#print(second_lst)\n",
    "\n",
    "first_lst.sort()\n",
    "second_lst.sort()\n",
    "#print(first_lst)\n",
    "#print(second_lst)\n",
    "\n",
    "first_lst.reverse() # .sort(reverse=True)\n",
    "print(first_lst)\n",
    "\n",
    "spam_sorted_lst = first_lst + second_lst\n",
    "#print(spam_sorted_lst)\n",
    "\n",
    "# [1, 2, 3, 4, 'Alice', 'Bob', 'Kallie']"
   ]
  },
  {
   "cell_type": "markdown",
   "metadata": {
    "slideshow": {
     "slide_type": "subslide"
    }
   },
   "source": [
    "`sort()` uses “ASCIIbetical order” rather than actual alphabetical order for sorting strings. This means uppercase letters come before lowercase letters. Therefore, the lowercase a is sorted so that it comes after the uppercase Z. "
   ]
  },
  {
   "cell_type": "code",
   "execution_count": 23,
   "metadata": {
    "slideshow": {
     "slide_type": "-"
    }
   },
   "outputs": [
    {
     "name": "stdout",
     "output_type": "stream",
     "text": [
      "['A', 'Z', 'a', 'z']\n"
     ]
    }
   ],
   "source": [
    "spam_lst = ['z', 'a', 'A', 'Z']\n",
    "spam_lst.sort()\n",
    "print(spam_lst)"
   ]
  },
  {
   "cell_type": "markdown",
   "metadata": {
    "slideshow": {
     "slide_type": "subslide"
    }
   },
   "source": [
    "If you need to sort the values in regular alphabetical order, pass `str.lower` for the `key` keyword argument in the `sort()` method call. This causes the `sort()` method to treat all the items in the list as if they were lowercase without actually changing the values in the list."
   ]
  },
  {
   "cell_type": "code",
   "execution_count": 24,
   "metadata": {
    "slideshow": {
     "slide_type": "-"
    }
   },
   "outputs": [
    {
     "name": "stdout",
     "output_type": "stream",
     "text": [
      "['a', 'A', 'z', 'Z']\n"
     ]
    }
   ],
   "source": [
    "spam_lst = ['z', 'a', 'A', 'Z']\n",
    "spam_lst.sort(key=str.lower)\n",
    "print(spam_lst)"
   ]
  },
  {
   "cell_type": "markdown",
   "metadata": {
    "slideshow": {
     "slide_type": "slide"
    }
   },
   "source": [
    "### <font color='LIGHTGRAY'>By the end of the day you'll be able to </font>\n",
    "- <font color='LIGHTGRAY'>create lists and add elements in it</font>\n",
    "- <font color='LIGHTGRAY'>slice lists</font>\n",
    "- <font color='LIGHTGRAY'>modify lists</font>\n",
    "- <font color='LIGHTGRAY'>concatenate, sort, and replicate lists</font>\n",
    "- **better understand what str.split returns**"
   ]
  },
  {
   "cell_type": "markdown",
   "metadata": {
    "slideshow": {
     "slide_type": "subslide"
    }
   },
   "source": [
    "### Going back to strings and .split()"
   ]
  },
  {
   "cell_type": "code",
   "execution_count": 66,
   "metadata": {
    "slideshow": {
     "slide_type": "-"
    }
   },
   "outputs": [
    {
     "name": "stdout",
     "output_type": "stream",
     "text": [
      "True\n",
      "['There', 'was', 'no', 'possibility', 'of', 'taking', 'a', 'walk', 'that', 'day.']\n"
     ]
    }
   ],
   "source": [
    "sentence_str = \"There was no possibility of taking a walk that day.\"\n",
    "words_lst = sentence_str.split() # .split returns a list! We glossed over this yesterday.\n",
    "print(type(words_lst) == list)\n",
    "print(words_lst)"
   ]
  },
  {
   "cell_type": "code",
   "execution_count": 74,
   "metadata": {},
   "outputs": [
    {
     "name": "stdout",
     "output_type": "stream",
     "text": [
      "[5, 7, 11]\n"
     ]
    }
   ],
   "source": [
    "prime_nums_lst = [2, 3, 5, 7, 11, 13, 17, 19, 23, 29]\n",
    "start = 2\n",
    "stop = 5\n",
    "step = 2\n",
    "\n",
    "print(prime_nums_lst[start:stop:])\n"
   ]
  },
  {
   "cell_type": "code",
   "execution_count": null,
   "metadata": {},
   "outputs": [],
   "source": []
  }
 ],
 "metadata": {
  "celltoolbar": "Slideshow",
  "kernelspec": {
   "display_name": "Python 3",
   "language": "python",
   "name": "python3"
  },
  "language_info": {
   "codemirror_mode": {
    "name": "ipython",
    "version": 3
   },
   "file_extension": ".py",
   "mimetype": "text/x-python",
   "name": "python",
   "nbconvert_exporter": "python",
   "pygments_lexer": "ipython3",
   "version": "3.8.8"
  }
 },
 "nbformat": 4,
 "nbformat_minor": 4
}
