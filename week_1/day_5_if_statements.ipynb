{
 "cells": [
  {
   "cell_type": "markdown",
   "metadata": {
    "slideshow": {
     "slide_type": "slide"
    }
   },
   "source": [
    "# Control flow - the 'grammar' of programing languages\n",
    "Today we cover if statements, next you'll learn about for loops\n",
    "\n",
    "### By the end of the day you'll be able to\n",
    "- create simple if statements\n",
    "- create if statements with multiple conditions\n",
    "- create a sequence of if-else statements"
   ]
  },
  {
   "cell_type": "markdown",
   "metadata": {
    "slideshow": {
     "slide_type": "slide"
    }
   },
   "source": [
    "# <center> Control flow </center>\n",
    "### Every code can be broken down to pieces like this:\n",
    "- **Instructions**: \"Do this; then do that.\"\n",
    "- **If statements**: \"If the condition is true, perform this action; otherwise, do that action.\"\n",
    "- **For loops**: \"Do this action that number of times.\"\n",
    "- **While loops**: \"Keep doing that until this condition is false.\"\n",
    "\n",
    "**The instructions operate on variables and containers.**\n",
    "\n",
    "### Programming is like playing with lego. "
   ]
  },
  {
   "cell_type": "markdown",
   "metadata": {
    "slideshow": {
     "slide_type": "slide"
    }
   },
   "source": [
    "### <font color='LIGHTGRAY'>By the end of the day you'll be able to</font>\n",
    "- **create simple if statements**\n",
    "- <font color='LIGHTGRAY'>create if statements with multiple conditions</font>\n",
    "- <font color='LIGHTGRAY'>create a sequence of if-else statements</font>"
   ]
  },
  {
   "cell_type": "code",
   "execution_count": 1,
   "metadata": {},
   "outputs": [
    {
     "ename": "IndentationError",
     "evalue": "expected an indented block (<ipython-input-1-a4bc2329f5f1>, line 4)",
     "output_type": "error",
     "traceback": [
      "\u001b[0;36m  File \u001b[0;32m\"<ipython-input-1-a4bc2329f5f1>\"\u001b[0;36m, line \u001b[0;32m4\u001b[0m\n\u001b[0;31m    else:\u001b[0m\n\u001b[0m    ^\u001b[0m\n\u001b[0;31mIndentationError\u001b[0m\u001b[0;31m:\u001b[0m expected an indented block\n"
     ]
    }
   ],
   "source": [
    "if condition(s): # stuff after the if is a boolean variable (either true or false)\n",
    "    # do something\n",
    "    # you must indent \n",
    "else:\n",
    "    # do something else\n",
    "    # you must indent this as well\n",
    "# instructions    \n"
   ]
  },
  {
   "cell_type": "code",
   "execution_count": 11,
   "metadata": {
    "slideshow": {
     "slide_type": "subslide"
    }
   },
   "outputs": [
    {
     "name": "stdout",
     "output_type": "stream",
     "text": [
      "can vote\n"
     ]
    }
   ],
   "source": [
    "age_int = 100 # instruction: assign the integer value 18 to age_int\n",
    "\n",
    "if age_int > 17: # note that the condition is a boolean variable with a value true or false\n",
    "    print(\"can vote\") # what we print is a string variable\n",
    "else:\n",
    "    print(\"cannot vote\") # another string variable"
   ]
  },
  {
   "cell_type": "code",
   "execution_count": 12,
   "metadata": {
    "slideshow": {
     "slide_type": "subslide"
    }
   },
   "outputs": [
    {
     "name": "stdout",
     "output_type": "stream",
     "text": [
      "cannot vote\n"
     ]
    }
   ],
   "source": [
    "# four instructions: assign values to variables\n",
    "age_int = 17\n",
    "check_age_bool = age_int > 17\n",
    "var1_str = 'can vote'\n",
    "var2_str = 'cannot vote'\n",
    "\n",
    "# if-else statement\n",
    "if check_age_bool: \n",
    "    print(var1_str)\n",
    "else:\n",
    "    print(var2_str)\n",
    "    "
   ]
  },
  {
   "cell_type": "code",
   "execution_count": 15,
   "metadata": {
    "slideshow": {
     "slide_type": "subslide"
    }
   },
   "outputs": [
    {
     "name": "stdout",
     "output_type": "stream",
     "text": [
      "False\n",
      "this is outside of the if statement\n"
     ]
    }
   ],
   "source": [
    "# you can also change a variable's value in an if statement\n",
    "\n",
    "age_int = 17\n",
    "\n",
    "if age_int > 17: \n",
    "    can_vote_bool = True\n",
    "else:\n",
    "    can_vote_bool = False\n",
    "\n",
    "print(can_vote_bool)\n",
    "print('this is outside of the if statement')"
   ]
  },
  {
   "cell_type": "code",
   "execution_count": 17,
   "metadata": {
    "slideshow": {
     "slide_type": "subslide"
    }
   },
   "outputs": [
    {
     "name": "stdout",
     "output_type": "stream",
     "text": [
      "no\n"
     ]
    }
   ],
   "source": [
    "# condition/boolean variable can check type, list length, anything really\n",
    "# and you can do anything inside the if and else parts too\n",
    "age_int = 99.0\n",
    "\n",
    "if type(age_int) == int:\n",
    "    variable_named_correctly_str = 'yes'\n",
    "else:\n",
    "    variable_named_correctly_str = 'no'\n",
    "    \n",
    "print(variable_named_correctly_str)"
   ]
  },
  {
   "cell_type": "markdown",
   "metadata": {
    "slideshow": {
     "slide_type": "slide"
    }
   },
   "source": [
    "## Exercise 1\n",
    "Check if the list below has at least 10 elements. If it does, append the string 'yes' to the list. If it does not, append the string 'no' to the list. Test your code by adding elements to my_lst so you explore both conditions (less than or at least 10 elements)."
   ]
  },
  {
   "cell_type": "code",
   "execution_count": 23,
   "metadata": {},
   "outputs": [
    {
     "name": "stdout",
     "output_type": "stream",
     "text": [
      "[1, 67, 'whatever', 'etc', 234, True, 'a', 'b', 'c', 'd', 'no']\n"
     ]
    }
   ],
   "source": [
    "my_lst = [1, 67, 'whatever', 'etc', 234 , True, 'a','b','c','d']\n",
    "\n",
    "# add your code here\n",
    "if len(my_lst) >= 10:\n",
    "    my_lst.append('yes')\n",
    "else:\n",
    "    my_lst.append('no')\n",
    "    \n",
    "print(my_lst)\n",
    "\n",
    "\n"
   ]
  },
  {
   "cell_type": "markdown",
   "metadata": {
    "slideshow": {
     "slide_type": "slide"
    }
   },
   "source": [
    "### <font color='LIGHTGRAY'>By the end of the day you'll be able to</font>\n",
    "- <font color='LIGHTGRAY'>create simple if statements</font>\n",
    "- **create if statements with multiple conditions**\n",
    "- <font color='LIGHTGRAY'>create a sequence of if-else statements</font>"
   ]
  },
  {
   "cell_type": "code",
   "execution_count": 29,
   "metadata": {
    "slideshow": {
     "slide_type": "-"
    }
   },
   "outputs": [
    {
     "name": "stdout",
     "output_type": "stream",
     "text": [
      "cannot walk\n",
      "True\n",
      "False\n",
      "False\n",
      "False\n"
     ]
    }
   ],
   "source": [
    "# multiple conditions with *and*\n",
    "# all conditions need to be True\n",
    "\n",
    "age_int = 101\n",
    "\n",
    "#print((age_int >= 2))\n",
    "#print((age_int <= 100))\n",
    "#print((age_int >= 2) and (age_int <= 100))\n",
    "\n",
    "if (age_int >= 2) and (age_int <= 100): # multiple conditions need to be in parentheses, these are boolean variables  \n",
    "    print(\"can walk\") # print a string\n",
    "else:\n",
    "    print(\"cannot walk\") # print another string\n",
    "    \n",
    "print(True and True)\n",
    "print(True and False)\n",
    "print(False and True)\n",
    "print(False and False)\n",
    "    \n",
    "    "
   ]
  },
  {
   "cell_type": "code",
   "execution_count": 38,
   "metadata": {
    "slideshow": {
     "slide_type": "subslide"
    }
   },
   "outputs": [
    {
     "name": "stdout",
     "output_type": "stream",
     "text": [
      "cannot walk\n",
      "False\n"
     ]
    }
   ],
   "source": [
    "# multiple conditions with *or*\n",
    "# it is enough if one condition is True\n",
    "\n",
    "age_int = 1\n",
    "\n",
    "if (age_int < 2) or (age_int > 100): # multiple conditions need to be in parentheses, these are boolean variables  \n",
    "    print(\"cannot walk\") # print a string\n",
    "else:\n",
    "    print(\"can walk\") # print another string\n",
    "    \n",
    "    \n",
    "#print(True or True)\n",
    "#print(True or False)\n",
    "#print(False or True)\n",
    "#print(False or False)\n",
    "\n",
    "print(not age_int > 2)\n"
   ]
  },
  {
   "cell_type": "markdown",
   "metadata": {
    "slideshow": {
     "slide_type": "slide"
    }
   },
   "source": [
    "## Exercise 2\n",
    "Check if a string contains the vowels 'a' or 'e'. Create a variable called has_a_e_bool and set its value appropriately. Please change the value of the string such that you try words with 'a' and 'e', only an 'a', only 'e', and no 'a' or 'e'. This way you explore all options and test your code."
   ]
  },
  {
   "cell_type": "code",
   "execution_count": 42,
   "metadata": {},
   "outputs": [
    {
     "name": "stdout",
     "output_type": "stream",
     "text": [
      "True\n"
     ]
    }
   ],
   "source": [
    "my_str = 'apple'\n",
    "\n",
    "if ('a' in my_str) or ('e' in my_str):\n",
    "    has_a_e_bool = True\n",
    "else:\n",
    "    has_a_e_bool = False\n",
    "\n",
    "print(has_a_e_bool)"
   ]
  },
  {
   "cell_type": "markdown",
   "metadata": {
    "slideshow": {
     "slide_type": "slide"
    }
   },
   "source": [
    "### <font color='LIGHTGRAY'>By the end of the day you'll be able to</font>\n",
    "- <font color='LIGHTGRAY'>create simple if statements</font>\n",
    "- <font color='LIGHTGRAY'>create if statements with multiple conditions</font>\n",
    "- **create a sequence of if-else statements**"
   ]
  },
  {
   "cell_type": "code",
   "execution_count": 50,
   "metadata": {},
   "outputs": [
    {
     "name": "stdout",
     "output_type": "stream",
     "text": [
      "not US coin\n"
     ]
    }
   ],
   "source": [
    "cents_int = 100\n",
    "\n",
    "if cents_int == 25:\n",
    "    print(\"washington\")\n",
    "elif cents_int == 10:\n",
    "    print(\"roosevelt\")\n",
    "elif cents_int == 5:\n",
    "    print(\"jefferson\")\n",
    "elif cents_int == 1:\n",
    "    print(\"lincoln\")\n",
    "else:\n",
    "    print(\"not US coin\")"
   ]
  },
  {
   "cell_type": "markdown",
   "metadata": {
    "slideshow": {
     "slide_type": "slide"
    }
   },
   "source": [
    "## Exercise 3\n",
    "Let's compare two numbers x_int and y_int. Check if x_int is larger than y_int, else if x_int is equal to y_int, or else if x_int is smaller than y_int. Create a string called compare_str and set its value to either 'larger', 'equal', or 'smaller' as appropriate. Test your code by changing the values of x_int and y_int so you explore all three conditions!"
   ]
  },
  {
   "cell_type": "code",
   "execution_count": 56,
   "metadata": {},
   "outputs": [
    {
     "name": "stdout",
     "output_type": "stream",
     "text": [
      "larger\n"
     ]
    }
   ],
   "source": [
    "x_int = 10\n",
    "y_int = 8\n",
    "\n",
    "if x_int > y_int:\n",
    "    print('larger')\n",
    "elif x_int == y_int:\n",
    "    print('equal')\n",
    "else:\n",
    "    print('smaller')\n",
    "\n"
   ]
  },
  {
   "cell_type": "code",
   "execution_count": null,
   "metadata": {},
   "outputs": [],
   "source": []
  },
  {
   "cell_type": "code",
   "execution_count": null,
   "metadata": {},
   "outputs": [],
   "source": []
  }
 ],
 "metadata": {
  "celltoolbar": "Slideshow",
  "kernelspec": {
   "display_name": "Python 3",
   "language": "python",
   "name": "python3"
  },
  "language_info": {
   "codemirror_mode": {
    "name": "ipython",
    "version": 3
   },
   "file_extension": ".py",
   "mimetype": "text/x-python",
   "name": "python",
   "nbconvert_exporter": "python",
   "pygments_lexer": "ipython3",
   "version": "3.8.8"
  }
 },
 "nbformat": 4,
 "nbformat_minor": 4
}
