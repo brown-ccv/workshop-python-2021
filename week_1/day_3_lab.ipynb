{
 "cells": [
  {
   "cell_type": "markdown",
   "metadata": {},
   "source": [
    "## P1: Create a list of your favorite things!\n",
    "\n",
    "The container name should be `my_favorite_things_lst` and the elements should be strings. Please add at least 3 elements."
   ]
  },
  {
   "cell_type": "code",
   "execution_count": 21,
   "metadata": {},
   "outputs": [
    {
     "name": "stdout",
     "output_type": "stream",
     "text": [
      "['chocolate', 'wine', 'oranges']\n"
     ]
    }
   ],
   "source": [
    "my_favorite_things_lst = ['chocolate', 'wine', 'oranges']\n",
    "\n",
    "print(my_favorite_things_lst)"
   ]
  },
  {
   "cell_type": "markdown",
   "metadata": {},
   "source": [
    "## P2: Update the list, insert and remove elements.\n",
    "Go through the following steps and update your list."
   ]
  },
  {
   "cell_type": "markdown",
   "metadata": {},
   "source": [
    "P2a: my favorite thing is my dog, Waiola. Please add her name as the last element of the list."
   ]
  },
  {
   "cell_type": "code",
   "execution_count": 22,
   "metadata": {},
   "outputs": [
    {
     "name": "stdout",
     "output_type": "stream",
     "text": [
      "['chocolate', 'wine', 'oranges', 'waiola']\n"
     ]
    }
   ],
   "source": [
    "my_favorite_things_lst.append('waiola')\n",
    "\n",
    "print(my_favorite_things_lst)"
   ]
  },
  {
   "cell_type": "markdown",
   "metadata": {},
   "source": [
    "P2b: Matt's favorite thing is his dog, Kelly. Please insert his name to be the second element of the list. "
   ]
  },
  {
   "cell_type": "code",
   "execution_count": 23,
   "metadata": {},
   "outputs": [
    {
     "name": "stdout",
     "output_type": "stream",
     "text": [
      "['chocolate', 'wine', 'oranges', 'waiola', 'Callie']\n"
     ]
    }
   ],
   "source": [
    "my_favorite_things_lst.append('Callie')\n",
    "\n",
    "print(my_favorite_things_lst)"
   ]
  },
  {
   "cell_type": "markdown",
   "metadata": {},
   "source": [
    "P2c: Please update the third element of the list to be chocolate. :)"
   ]
  },
  {
   "cell_type": "code",
   "execution_count": 24,
   "metadata": {},
   "outputs": [
    {
     "name": "stdout",
     "output_type": "stream",
     "text": [
      "['chocolate', 'wine', 'chocolate', 'waiola', 'Callie']\n"
     ]
    }
   ],
   "source": [
    "my_favorite_things_lst[2] = 'chocolate'\n",
    "\n",
    "print(my_favorite_things_lst)"
   ]
  },
  {
   "cell_type": "markdown",
   "metadata": {},
   "source": [
    "P2d: Please delete the first element of the list. "
   ]
  },
  {
   "cell_type": "code",
   "execution_count": 25,
   "metadata": {},
   "outputs": [
    {
     "name": "stdout",
     "output_type": "stream",
     "text": [
      "['wine', 'chocolate', 'waiola', 'Callie']\n"
     ]
    }
   ],
   "source": [
    "del my_favorite_things_lst[0]\n",
    "\n",
    "print(my_favorite_things_lst)"
   ]
  },
  {
   "cell_type": "markdown",
   "metadata": {},
   "source": [
    "## P3: List slicing"
   ]
  },
  {
   "cell_type": "code",
   "execution_count": 10,
   "metadata": {},
   "outputs": [],
   "source": [
    "some_nums_lst = [1,2,3,4,5,6,7,8,9,10,11,12,13,14,15,16]"
   ]
  },
  {
   "cell_type": "markdown",
   "metadata": {},
   "source": [
    "P3a: create a new list called sub_lst that contains every third element of `some_nums_lst`."
   ]
  },
  {
   "cell_type": "code",
   "execution_count": 26,
   "metadata": {},
   "outputs": [
    {
     "name": "stdout",
     "output_type": "stream",
     "text": [
      "[1, 4, 7, 10, 13, 16]\n"
     ]
    }
   ],
   "source": [
    "sub_lst = some_nums_lst[::3]\n",
    "print(sub_lst)\n",
    "# [1, 4, 7, 10, 13, 16]"
   ]
  },
  {
   "cell_type": "markdown",
   "metadata": {},
   "source": [
    "P3b: Now sub_lst should be every second element in reversed order."
   ]
  },
  {
   "cell_type": "code",
   "execution_count": 27,
   "metadata": {},
   "outputs": [
    {
     "name": "stdout",
     "output_type": "stream",
     "text": [
      "[16, 14, 12, 10, 8, 6, 4, 2]\n"
     ]
    }
   ],
   "source": [
    "sub_lst = some_nums_lst[::-2]\n",
    "print(sub_lst)\n",
    "# [16, 14, 12, 10, 8, 6, 4, 2]"
   ]
  },
  {
   "cell_type": "markdown",
   "metadata": {},
   "source": [
    "P3c: Now sub_lst should be every 4th element starting from the third element of `some_nums_lst`."
   ]
  },
  {
   "cell_type": "code",
   "execution_count": 28,
   "metadata": {},
   "outputs": [
    {
     "name": "stdout",
     "output_type": "stream",
     "text": [
      "[3, 7, 11, 15]\n"
     ]
    }
   ],
   "source": [
    "sub_lst = some_nums_lst[2::4]\n",
    "print(sub_lst)\n",
    "\n",
    "# [3, 7, 11, 15]"
   ]
  },
  {
   "cell_type": "markdown",
   "metadata": {},
   "source": [
    "## P4: Lists of lists"
   ]
  },
  {
   "cell_type": "markdown",
   "metadata": {},
   "source": [
    "P4a: create an empty list named `nested_lst`. The first element of this list should be `my_favorite_things_lst`, the second element should be `some_nums_lst`, the third element should be a list that contains two strings: your first and last names."
   ]
  },
  {
   "cell_type": "code",
   "execution_count": 30,
   "metadata": {},
   "outputs": [
    {
     "name": "stdout",
     "output_type": "stream",
     "text": [
      "3\n",
      "[['wine', 'chocolate', 'waiola', 'Callie'], [1, 2, 3, 4, 5, 6, 7, 8, 9, 10, 11, 12, 13, 14, 15, 16], ['Andras', 'Zsom']]\n"
     ]
    }
   ],
   "source": [
    "nested_lst = []\n",
    "\n",
    "nested_lst.append(my_favorite_things_lst)\n",
    "nested_lst.append(some_nums_lst)\n",
    "nested_lst.append(['Andras', 'Zsom'])\n",
    "\n",
    "#nested_lst = [my_favorite_things_lst, some_nums_lst, ['Andras', 'Zsom']]\n",
    "\n",
    "print(len(nested_lst))\n",
    "\n",
    "print(nested_lst)"
   ]
  },
  {
   "cell_type": "markdown",
   "metadata": {},
   "source": [
    "P4b: Save the fifth element of the second list to the variable called `var1_` with the ending that properly describes the variable type."
   ]
  },
  {
   "cell_type": "code",
   "execution_count": 31,
   "metadata": {},
   "outputs": [
    {
     "name": "stdout",
     "output_type": "stream",
     "text": [
      "5\n"
     ]
    }
   ],
   "source": [
    "var1_int = nested_lst[1][4]\n",
    "\n",
    "print(var1_int)\n",
    "\n",
    "# 5"
   ]
  },
  {
   "cell_type": "markdown",
   "metadata": {},
   "source": [
    "P4c: Create a `first_name_str` variable and assign your first name from `nested_lst` to it."
   ]
  },
  {
   "cell_type": "code",
   "execution_count": 32,
   "metadata": {},
   "outputs": [
    {
     "name": "stdout",
     "output_type": "stream",
     "text": [
      "Andras\n"
     ]
    }
   ],
   "source": [
    "first_name_str = nested_lst[2][0]\n",
    "print(first_name_str)\n"
   ]
  },
  {
   "cell_type": "code",
   "execution_count": null,
   "metadata": {},
   "outputs": [],
   "source": []
  }
 ],
 "metadata": {
  "kernelspec": {
   "display_name": "Python 3",
   "language": "python",
   "name": "python3"
  },
  "language_info": {
   "codemirror_mode": {
    "name": "ipython",
    "version": 3
   },
   "file_extension": ".py",
   "mimetype": "text/x-python",
   "name": "python",
   "nbconvert_exporter": "python",
   "pygments_lexer": "ipython3",
   "version": "3.8.8"
  }
 },
 "nbformat": 4,
 "nbformat_minor": 4
}
