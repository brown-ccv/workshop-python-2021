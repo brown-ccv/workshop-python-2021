{
 "cells": [
  {
   "cell_type": "markdown",
   "metadata": {
    "slideshow": {
     "slide_type": "slide"
    }
   },
   "source": [
    "# <center>Introduction to Python Programming and Best Practices</center>\n",
    "## <center>Instructors: Matt Slivinski and Andras Zsom</center>\n",
    "### <center>[Center for Computation and Visualization](https://ccv.brown.edu/)</center>\n",
    "### <center>Sponsored by the [Data Science Initiative](https://www.brown.edu/initiatives/data-science/home)</center>"
   ]
  },
  {
   "cell_type": "markdown",
   "metadata": {
    "slideshow": {
     "slide_type": "slide"
    }
   },
   "source": [
    "## <center>Overview of the workshop</center>\n",
    "Learning objectives of the first two weeks:\n",
    "- describe and work with container types such as variables, lists, dictionaries, and arrays,\n",
    "- describe and write short code snippets using control flow techniques such as if statements, for loops, and list comprehensions,\n",
    "- write functions to manipulate data.\n"
   ]
  },
  {
   "cell_type": "markdown",
   "metadata": {
    "slideshow": {
     "slide_type": "subslide"
    }
   },
   "source": [
    "## <center>Overview of the workshop</center>\n",
    "Learning objectives of the third week:\n",
    "- work with python collections and itertools,\n",
    "- manipulate date-time objects,\n",
    "- interact with the operating system using os, sys, shutil,\n",
    "- parse JSON data with python,\n",
    "- parse CSV and SQL data with python.\n"
   ]
  },
  {
   "cell_type": "markdown",
   "metadata": {
    "slideshow": {
     "slide_type": "subslide"
    }
   },
   "source": [
    "## <center>Overview of the workshop</center>\n",
    "Learning objectives of the fourth week:\n",
    "- use pandas to read in tabular data (CSV, excel, and SQL databases)\n",
    "- filter and modify the data\n",
    "- visualize the data using pandas and matplotlib\n",
    "- calculate summary statistics \n"
   ]
  },
  {
   "cell_type": "markdown",
   "metadata": {},
   "source": [
    "## <center>What to expect</center>\n",
    "- learning to code is tough but we will do our best to guide you through it\n",
    "    - always feel free to ask questions! there are no stupid questions, only stupid answers!\n",
    "    - lots of time to practice and try things yourself\n",
    "- you will spend most of your time debugging your code or trying to understand other people's code\n",
    "    - this can be a very frusrating experince and you will make a lot of mistakes especially in the beginning\n",
    "    - we will equip you with tools to improve your debugging skills\n",
    "- you won't become proficient in python in a month if you start with zero or very little experience\n",
    "    - but you'll have strong basics to build upon!\n",
    "- I hope you'll feel more empowered by the end of the workshop!\n",
    "    - you'll be able to automate things that would take you way too much time to do manually\n",
    "    - you will be able to do things with tabular data that you can't do in excel\n",
    "    - you'll be able to prepare publication-ready figures"
   ]
  },
  {
   "cell_type": "markdown",
   "metadata": {},
   "source": [
    "## <center>Goal for today: set up and get familiar with your coding environment</center>\n",
    "- download the workshop materials from github\n",
    "- install conda\n",
    "- create the python environment using conda\n",
    "- walk through jupyter-lab"
   ]
  },
  {
   "cell_type": "markdown",
   "metadata": {},
   "source": [
    "### 1. Download the workshop materials\n",
    "- go to https://github.com/brown-ccv/workshop-python-2021\n",
    "- click on 'Code'\n",
    "- download zip\n",
    "- unzip the file whereever you'd like the workshop material to be (maybe the Documents folder?)\n",
    "\n",
    "If you are familiar with git, simply clone the repo. Type in the terminal:\n",
    "\n",
    "*git clone https://github.com/brown-ccv/workshop-python-2021.git*\n"
   ]
  },
  {
   "cell_type": "markdown",
   "metadata": {},
   "source": [
    "## 2. Install conda\n",
    "- https://www.anaconda.com/products/individual"
   ]
  },
  {
   "cell_type": "markdown",
   "metadata": {},
   "source": [
    "## 3. Create the python environment\n",
    "- python and the packages we will use change over time\n",
    "- we will show you how to create a reproducable python environment\n",
    "- you can recreate this environment on any machine years down the road and you'll be able to run the notebooks of the workshop\n",
    "\n",
    "- open a terminal/console/command line tool\n",
    "- make sure you are in the same folder where the material is\n",
    "    - if you type *ls* or *dir*, you should see the folder *workshop-python-2021*\n",
    "- type the following commands in the terminal\n",
    "\n",
    "*conda env create -n workshop_env -f workshop-python-2021/workshop.yml*\n",
    "\n",
    "*conda activate workshop_env*\n",
    "\n",
    "- then you can type *jupyter-lab* and the jupyter lab window should open up in your browser"
   ]
  },
  {
   "cell_type": "markdown",
   "metadata": {},
   "source": [
    "## 4. Jupyter lab walk through"
   ]
  },
  {
   "cell_type": "markdown",
   "metadata": {},
   "source": [
    "## Plan B\n",
    "If the installation is unsuccessful, you can also use the jupyter hub:\n",
    "\n",
    "http://ccv.jupyter.brown.edu/\n",
    "\n",
    "This is not our default method during the workshop because the hub is a cloud-based service, it might be temporary, it's not easy to change the coding environment if you need to.  \n"
   ]
  },
  {
   "cell_type": "code",
   "execution_count": 1,
   "metadata": {},
   "outputs": [],
   "source": [
    "import pandas as pd\n",
    "\n"
   ]
  },
  {
   "cell_type": "code",
   "execution_count": 2,
   "metadata": {},
   "outputs": [
    {
     "name": "stdout",
     "output_type": "stream",
     "text": [
      "hello\n"
     ]
    }
   ],
   "source": [
    "print('hello')"
   ]
  },
  {
   "cell_type": "markdown",
   "metadata": {},
   "source": [
    "# Introductions\n",
    "Hello, my name is Andras.\n",
    "\n",
    "**this text is bold**"
   ]
  },
  {
   "cell_type": "code",
   "execution_count": null,
   "metadata": {},
   "outputs": [],
   "source": []
  }
 ],
 "metadata": {
  "celltoolbar": "Slideshow",
  "kernelspec": {
   "display_name": "Python 3",
   "language": "python",
   "name": "python3"
  },
  "language_info": {
   "codemirror_mode": {
    "name": "ipython",
    "version": 3
   },
   "file_extension": ".py",
   "mimetype": "text/x-python",
   "name": "python",
   "nbconvert_exporter": "python",
   "pygments_lexer": "ipython3",
   "version": "3.8.8"
  }
 },
 "nbformat": 4,
 "nbformat_minor": 4
}
