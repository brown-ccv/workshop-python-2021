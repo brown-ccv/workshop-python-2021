{
 "cells": [
  {
   "cell_type": "markdown",
   "metadata": {},
   "source": [
    "## Exercise 1\n",
    "If the weight of your luggage is larger than 50 lbs, you need to pay an extra charge. Create a boolean variable `pay_charge_bool` and make it true if a charge needs to be paid, false otherwise. Please test your code by trying weights less than, equal to, and larger than 50 lbs."
   ]
  },
  {
   "cell_type": "code",
   "execution_count": 1,
   "metadata": {},
   "outputs": [],
   "source": [
    "weight_flt = 55.3\n",
    "\n"
   ]
  },
  {
   "cell_type": "markdown",
   "metadata": {},
   "source": [
    "## Exercise 2\n",
    "A roller coaster is only open to kids between ages of 8 and 12. Create a can_enter_bool variable and set it to true if a person can enter, false otherwise. Don't forget to try all possibilities!"
   ]
  },
  {
   "cell_type": "code",
   "execution_count": 2,
   "metadata": {},
   "outputs": [],
   "source": [
    "age_int = 6\n",
    "\n"
   ]
  },
  {
   "cell_type": "markdown",
   "metadata": {},
   "source": [
    "## Exercise 3\n",
    "\n",
    "Work based on the cents if statement we discussed during the class and rewrite it such that it saves who is on the US dollar notes into face_str. Start by creating a variable called dollar_int. Washington is on the 1, Jefferson is on the 2, Lincoln is on the 5, Hamilton is on the 10, Jackson is on the 20, Grant is on the 50, and finally Franklin is on the 100. Also consider the case when dollar_int is not 1, 2, 5, 10, 20, 50, or 100. Then face_str should be `not on US banknote`."
   ]
  },
  {
   "cell_type": "code",
   "execution_count": 3,
   "metadata": {},
   "outputs": [],
   "source": [
    "notes_int = 1\n",
    "\n"
   ]
  },
  {
   "cell_type": "code",
   "execution_count": null,
   "metadata": {},
   "outputs": [],
   "source": []
  }
 ],
 "metadata": {
  "kernelspec": {
   "display_name": "Python 3",
   "language": "python",
   "name": "python3"
  },
  "language_info": {
   "codemirror_mode": {
    "name": "ipython",
    "version": 3
   },
   "file_extension": ".py",
   "mimetype": "text/x-python",
   "name": "python",
   "nbconvert_exporter": "python",
   "pygments_lexer": "ipython3",
   "version": "3.8.8"
  }
 },
 "nbformat": 4,
 "nbformat_minor": 4
}
