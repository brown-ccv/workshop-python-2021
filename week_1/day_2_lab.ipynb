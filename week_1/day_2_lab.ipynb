{
 "cells": [
  {
   "cell_type": "markdown",
   "metadata": {},
   "source": [
    "# P1: create variables using the hungarian notation\n",
    "The value of pi is 3.1416. Create a variable and store this value."
   ]
  },
  {
   "cell_type": "code",
   "execution_count": 1,
   "metadata": {},
   "outputs": [],
   "source": [
    "pi_flt = 3.1416\n"
   ]
  },
  {
   "cell_type": "markdown",
   "metadata": {},
   "source": [
    "There are 86400 seconds in a day. What variable type is suitable to store this value? The variable name should start with `seconds_in_day_`."
   ]
  },
  {
   "cell_type": "code",
   "execution_count": 2,
   "metadata": {},
   "outputs": [],
   "source": [
    "seconds_in_day_int = 86400"
   ]
  },
  {
   "cell_type": "markdown",
   "metadata": {},
   "source": [
    "# P2: Are the following variables named correctly? \n",
    "\n",
    "Create a new boolean variable that checks if their type is correctly indicated in the variable name. The name of the boolean variable should start with the same string as the original variable. For example, if the variable is `a_int`, the boolean variabe should be `a_bool`; or if the variable is `num_flt`, the boolean variable should be `num_bool`."
   ]
  },
  {
   "cell_type": "code",
   "execution_count": 3,
   "metadata": {},
   "outputs": [
    {
     "name": "stdout",
     "output_type": "stream",
     "text": [
      "True\n"
     ]
    }
   ],
   "source": [
    "somenum_int = 623\n",
    "\n",
    "somenum_bool = type(somenum_int) == int\n",
    "\n",
    "print(somenum_bool)\n",
    "\n",
    "# True"
   ]
  },
  {
   "cell_type": "code",
   "execution_count": 4,
   "metadata": {},
   "outputs": [
    {
     "name": "stdout",
     "output_type": "stream",
     "text": [
      "False\n"
     ]
    }
   ],
   "source": [
    "someothernum_flt = 92\n",
    "\n",
    "someothernum_bool = type(someothernum_flt) == float\n",
    "\n",
    "print(someothernum_bool)\n",
    "# False"
   ]
  },
  {
   "cell_type": "code",
   "execution_count": 3,
   "metadata": {},
   "outputs": [],
   "source": [
    "whatevs_flt = 456.256\n",
    "\n",
    "\n",
    "# True"
   ]
  },
  {
   "cell_type": "code",
   "execution_count": 4,
   "metadata": {},
   "outputs": [],
   "source": [
    "giraffe_int = 78.13\n",
    "\n",
    "\n",
    "# False"
   ]
  },
  {
   "cell_type": "markdown",
   "metadata": {},
   "source": [
    "# P3: Update an existing variable or create a new one using hungarian notation as appropriate."
   ]
  },
  {
   "cell_type": "code",
   "execution_count": 7,
   "metadata": {},
   "outputs": [
    {
     "name": "stdout",
     "output_type": "stream",
     "text": [
      "654.0\n"
     ]
    }
   ],
   "source": [
    "# Multiply the variable below by 2. Can you use the same variable to store the new value?\n",
    "# Or do you need to create a new one?\n",
    "somenum_int = 327\n",
    "\n",
    "print(somenum_int*2.0)\n",
    "somenum_flt = somenum_int * 2.0\n",
    "#somenum_int = somenum_int*2\n",
    "\n",
    "# no"
   ]
  },
  {
   "cell_type": "code",
   "execution_count": 9,
   "metadata": {},
   "outputs": [
    {
     "name": "stdout",
     "output_type": "stream",
     "text": [
      "<class 'float'>\n"
     ]
    }
   ],
   "source": [
    "# Multiply the variable below by 2.25. Can you use the same variable to store the new value?\n",
    "# Or do you need to create a new one?\n",
    "someothernum_int = 67\n",
    "print(type(someothernum_int*2.25))\n",
    "someothernum_flt = someothernum_int*2.25\n",
    "# yes"
   ]
  },
  {
   "cell_type": "markdown",
   "metadata": {},
   "source": [
    "# P4: string indexing"
   ]
  },
  {
   "cell_type": "markdown",
   "metadata": {},
   "source": [
    "For all exercises in Problem 4, print the result. \n",
    "\n",
    "Define a string variable called `sentence_str` where the value is a sentence: \n",
    "`All dogs are good and cool.`"
   ]
  },
  {
   "cell_type": "code",
   "execution_count": 11,
   "metadata": {},
   "outputs": [
    {
     "name": "stdout",
     "output_type": "stream",
     "text": [
      "All dogs are good and cool.\n"
     ]
    }
   ],
   "source": [
    "sentence_str = 'All dogs are good and cool.'\n",
    "print(sentence_str)"
   ]
  },
  {
   "cell_type": "markdown",
   "metadata": {},
   "source": [
    "Assign the last 4 letters of the string to a variable, `a_str`"
   ]
  },
  {
   "cell_type": "code",
   "execution_count": 12,
   "metadata": {},
   "outputs": [
    {
     "name": "stdout",
     "output_type": "stream",
     "text": [
      "ool.\n"
     ]
    }
   ],
   "source": [
    "a_str = sentence_str[-4:]\n",
    "print(a_str)\n"
   ]
  },
  {
   "cell_type": "markdown",
   "metadata": {},
   "source": [
    "Assign the string backwards to a variable, `b_str`"
   ]
  },
  {
   "cell_type": "code",
   "execution_count": 14,
   "metadata": {},
   "outputs": [],
   "source": [
    "\n",
    "b_str = sentence_str[::-1]"
   ]
  },
  {
   "cell_type": "markdown",
   "metadata": {},
   "source": [
    "Assign the first and last 2 letters of the string to a variable, `c_str`"
   ]
  },
  {
   "cell_type": "code",
   "execution_count": 16,
   "metadata": {},
   "outputs": [
    {
     "name": "stdout",
     "output_type": "stream",
     "text": [
      "All.\n"
     ]
    }
   ],
   "source": [
    "\n",
    "c_str = sentence_str[:2] + sentence_str[-2:]\n",
    "\n",
    "print(c_str)"
   ]
  },
  {
   "cell_type": "markdown",
   "metadata": {},
   "source": [
    "Repeat the string 3 times and assign to a variable, `d_str`"
   ]
  },
  {
   "cell_type": "code",
   "execution_count": 17,
   "metadata": {},
   "outputs": [
    {
     "name": "stdout",
     "output_type": "stream",
     "text": [
      "All dogs are good and cool.All dogs are good and cool.All dogs are good and cool.\n"
     ]
    }
   ],
   "source": [
    "d_str = sentence_str*3\n",
    "print(d_str)\n"
   ]
  },
  {
   "cell_type": "markdown",
   "metadata": {},
   "source": [
    "Assign the string concatenated with the word \"sometimes\" to a variable, `e_str`"
   ]
  },
  {
   "cell_type": "code",
   "execution_count": 18,
   "metadata": {},
   "outputs": [
    {
     "name": "stdout",
     "output_type": "stream",
     "text": [
      "All dogs are good and cool sometimes.\n"
     ]
    }
   ],
   "source": [
    "e_str = sentence_str[:-1] + ' ' + 'sometimes.'\n",
    "\n",
    "print(e_str)\n"
   ]
  },
  {
   "cell_type": "markdown",
   "metadata": {},
   "source": [
    "Split the string into words and assign to a variable, `f_str`"
   ]
  },
  {
   "cell_type": "code",
   "execution_count": 19,
   "metadata": {},
   "outputs": [
    {
     "name": "stdout",
     "output_type": "stream",
     "text": [
      "['All', 'dogs', 'are', 'good', 'and', 'cool.']\n"
     ]
    }
   ],
   "source": [
    "f_str = sentence_str.split()\n",
    "\n",
    "print(f_str)"
   ]
  },
  {
   "cell_type": "markdown",
   "metadata": {},
   "source": [
    "# P5 - string operations "
   ]
  },
  {
   "cell_type": "markdown",
   "metadata": {},
   "source": [
    "Using the following building blocks, create a string that says `The dog said, \"woof woof woof\" and the cat answered, \"hisshiss\".`  Assign to a variable, `catdog_str`. Print the variable.\n",
    "\n",
    "```dog_string = 'The dog said'\n",
    "woof_string = 'woof'\n",
    "cat_string = 'and the cat answered'\n",
    "hiss_string = 'hiss'```"
   ]
  },
  {
   "cell_type": "code",
   "execution_count": 21,
   "metadata": {},
   "outputs": [
    {
     "name": "stdout",
     "output_type": "stream",
     "text": [
      "The dog said \"woofwoofwoof\" and the cat answered \"hisshiss\".\n"
     ]
    }
   ],
   "source": [
    "dog_string = 'The dog said'\n",
    "woof_string = 'woof'\n",
    "cat_string = 'and the cat answered'\n",
    "hiss_string = 'hiss'\n",
    "\n",
    "catdog_str = dog_string + ' \"' + woof_string*3 + '\" ' + cat_string + ' \"' + hiss_string * 2 + '\".'\n",
    "\n",
    "print(catdog_str)\n"
   ]
  },
  {
   "cell_type": "markdown",
   "metadata": {},
   "source": [
    "# P6: Bonus"
   ]
  },
  {
   "cell_type": "markdown",
   "metadata": {},
   "source": [
    "Bonus: look up Python string functions and lowercase all the letters in `sentence_str` using a single function. Assign the result to a variable called `lower_str` and print."
   ]
  },
  {
   "cell_type": "code",
   "execution_count": 22,
   "metadata": {},
   "outputs": [
    {
     "name": "stdout",
     "output_type": "stream",
     "text": [
      "all dogs are good and cool.\n"
     ]
    }
   ],
   "source": [
    "lower_str = sentence_str.lower()\n",
    "\n",
    "print(lower_str)\n"
   ]
  },
  {
   "cell_type": "markdown",
   "metadata": {},
   "source": [
    "# P7: Bonus </center>"
   ]
  },
  {
   "cell_type": "markdown",
   "metadata": {},
   "source": [
    "Bonus: look up Python string functions and find out whether the word \"are\" appears in your sentence. If it does, assign the first index where the word appears to a variable, `index_int`, and print."
   ]
  },
  {
   "cell_type": "code",
   "execution_count": 25,
   "metadata": {},
   "outputs": [
    {
     "name": "stdout",
     "output_type": "stream",
     "text": [
      "True\n",
      "9\n",
      "are good and cool.\n"
     ]
    }
   ],
   "source": [
    "print('are' in sentence_str)\n",
    "index_int = sentence_str.find('are')\n",
    "print(index_int)\n",
    "print(sentence_str[9:])\n"
   ]
  },
  {
   "cell_type": "code",
   "execution_count": null,
   "metadata": {},
   "outputs": [],
   "source": []
  }
 ],
 "metadata": {
  "kernelspec": {
   "display_name": "Python 3",
   "language": "python",
   "name": "python3"
  },
  "language_info": {
   "codemirror_mode": {
    "name": "ipython",
    "version": 3
   },
   "file_extension": ".py",
   "mimetype": "text/x-python",
   "name": "python",
   "nbconvert_exporter": "python",
   "pygments_lexer": "ipython3",
   "version": "3.8.8"
  }
 },
 "nbformat": 4,
 "nbformat_minor": 4
}
