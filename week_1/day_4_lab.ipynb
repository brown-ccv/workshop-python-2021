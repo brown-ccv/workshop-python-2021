{
 "cells": [
  {
   "cell_type": "markdown",
   "metadata": {},
   "source": [
    "# <center> Problem 1 </center>"
   ]
  },
  {
   "cell_type": "markdown",
   "metadata": {},
   "source": [
    "You are working in a CVS store and you were asked to make an inventory. The following items are in the store: \n",
    "\n",
    "chocolate bars, shampoo, hand sanitizer, toilet paper, dog treats, aspirin\n",
    "\n",
    "Here are the counts of the various items:\n",
    "\n",
    "8, 3, 5, 0, 10, 2\n",
    "\n",
    "Create a dictionary which describes how many items there are of each product at the store."
   ]
  },
  {
   "cell_type": "code",
   "execution_count": null,
   "metadata": {},
   "outputs": [],
   "source": []
  },
  {
   "cell_type": "markdown",
   "metadata": {},
   "source": [
    "# <center> Problem 2 </center>"
   ]
  },
  {
   "cell_type": "markdown",
   "metadata": {},
   "source": [
    "A shopper came to the store and bought 2 chocolate bars, 1 hand sanitizer, and aspirin. Please update the dictionary.\n",
    "\n",
    "The store was restocked at the end of the day. You received 10 toilet papers, 3 listerines, 5 aspirings, and 8 hand sanitizers. \n",
    "\n",
    "What's the inventory at the end of the day?"
   ]
  },
  {
   "cell_type": "code",
   "execution_count": null,
   "metadata": {},
   "outputs": [],
   "source": []
  },
  {
   "cell_type": "markdown",
   "metadata": {},
   "source": [
    "# <center> Problem 3 </center>"
   ]
  },
  {
   "cell_type": "markdown",
   "metadata": {},
   "source": [
    "There is a second store in town with the following inventory:\n",
    "\n",
    "4 shower gels, 2 toilet papers, 4 dog treats, 8 hand sanitizers, 5 chocolate bars, 3 cereals.\n",
    "\n",
    "Create a dictionary for this second store.\n",
    "\n",
    "Your task is to create a dictionary that shows the combined inventory of the two stores."
   ]
  },
  {
   "cell_type": "code",
   "execution_count": null,
   "metadata": {},
   "outputs": [],
   "source": []
  }
 ],
 "metadata": {
  "kernelspec": {
   "display_name": "Python 3",
   "language": "python",
   "name": "python3"
  },
  "language_info": {
   "codemirror_mode": {
    "name": "ipython",
    "version": 3
   },
   "file_extension": ".py",
   "mimetype": "text/x-python",
   "name": "python",
   "nbconvert_exporter": "python",
   "pygments_lexer": "ipython3",
   "version": "3.8.8"
  }
 },
 "nbformat": 4,
 "nbformat_minor": 4
}
