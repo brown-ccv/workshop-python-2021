{
 "cells": [
  {
   "cell_type": "markdown",
   "id": "16dbd229-3c85-4a9b-9231-a102870dda4f",
   "metadata": {},
   "source": [
    "# <center>LAB </center>\n",
    "\n",
    "---\n",
    "\n",
    "## **<font color='GREEN'> Exercise</font>**\n",
    "\n",
    "Welcome the BBQ scavenger hunt! For the initial setup, uncompress `day_3_assets/lab.zip` at `day_3_assets/lab`. Your search will start at `day_3_assets/lab` and you will explore its sub-directories to find coins! To start your hunt, simply change directories to either `walk_north`, `walk_south`, `walk_east`, or `walk_west`.\n",
    "\n",
    "To navigate to another directory, you must read and do what the `README.txt` file states before moving further (note, not all directories have a `README.txt` file). Some files will require you to solve an exercise before advancing. To do so, simply insert your solutions below. If you navigate back to a directory where you've already solved an exercise, you don't have to solve it again. If a file tells you to roll a `n`-sided dice, use the `roll_dice(n)` function below.\n",
    "\n",
    "Each coin has a point value and there are a total of 30 points in this scavenger hunt. Can you find them all?\n",
    "\n",
    "Some additional rules:\n",
    "- you MAY use any tools you've learned so far EXCEPT:\n",
    "    - any tools to list directory trees beyond the current working directory\n",
    "    - any tools to find files outside the current working directory\n",
    "- you MAY NOT use any type of directory navigation GUIs (e.g., Finder on Mac OS or File Explorer on Windows)\n",
    "- ignore any hidden directories or files (i.e., starts with `.`)\n",
    "\n",
    "Helpful hints:\n",
    "- feel free to create helper functions that will assist you on your journey!\n",
    "    - e.g., you will frequently change directories, print the current directory, list files, and read text files so it might be useful to create a function that combines them as one action\n",
    "- it may be helpful to create a starting path using the `pathlib` module then create and update a seperate path variable for each direction you branch off in\n",
    "    - e.g., if `start_path = Path.cwd() / 'day_3_assets' / 'lab'` is our starting path and I want to go to `walk_north`, you could create a variable `north_path = start_path / 'walk_north'` where each time you change directories going north, you update `north_path`\n",
    "\n",
    "Good luck!"
   ]
  },
  {
   "cell_type": "code",
   "execution_count": 1,
   "id": "b3ba3584-d6b3-4a97-bc1f-1b7a2672d42b",
   "metadata": {},
   "outputs": [
    {
     "name": "stdout",
     "output_type": "stream",
     "text": [
      "3\n"
     ]
    }
   ],
   "source": [
    "from random import randint\n",
    "\n",
    "def roll_dice(num_sides):\n",
    "    return randint(1, num_sides)\n",
    "\n",
    "# e.g., roll a 3-sided dice\n",
    "print(roll_dice(3))"
   ]
  },
  {
   "cell_type": "code",
   "execution_count": null,
   "id": "67143e81-f61f-4672-bede-6dbcc08195d7",
   "metadata": {},
   "outputs": [],
   "source": [
    "# TODO: insert solutions here"
   ]
  }
 ],
 "metadata": {
  "kernelspec": {
   "display_name": "Python 3",
   "language": "python",
   "name": "python3"
  },
  "language_info": {
   "codemirror_mode": {
    "name": "ipython",
    "version": 3
   },
   "file_extension": ".py",
   "mimetype": "text/x-python",
   "name": "python",
   "nbconvert_exporter": "python",
   "pygments_lexer": "ipython3",
   "version": "3.8.8"
  }
 },
 "nbformat": 4,
 "nbformat_minor": 5
}
