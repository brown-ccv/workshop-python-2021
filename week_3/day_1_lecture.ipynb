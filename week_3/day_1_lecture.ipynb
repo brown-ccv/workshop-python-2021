{
 "cells": [
  {
   "cell_type": "markdown",
   "metadata": {},
   "source": [
    "# <center>LECTURE OVERVIEW </center>\n",
    "\n",
    "---\n",
    "\n",
    "## By the end of the lecture, you'll be able to:\n",
    "- import modules/packages\n",
    "- use common data structures from the `collections` module\n",
    "- use infinite iterators from the `itertools` module\n",
    "- use terminating iterators from the `itertools` module\n",
    "- use combinatoric iterators from the `itertools` module\n",
    "\n",
    "# <center>MODULES</center>\n",
    "\n",
    "## <font color='LIGHTGRAY'>By the end of the lecture, you'll be able to:</font>\n",
    "- **import modules/packages**\n",
    "- <font color='LIGHTGRAY'>use common data structures from the collections module<font color='LIGHTGRAY'>\n",
    "- <font color='LIGHTGRAY'>use infinite iterators from the itertools module</font>\n",
    "- <font color='LIGHTGRAY'>use terminating iterators from the itertools module</font>\n",
    "- <font color='LIGHTGRAY'>use combinatoric iterators from the itertools module</font>\n",
    "\n",
    "What are modules/packages?\n",
    "- libraries of code\n",
    "- specific to tasks/functions\n",
    "- a lot of common functions are already written by computer scientists and are much faster than you can write\n",
    "- we will be using packages in addition to base Python in the next two weeks"
   ]
  },
  {
   "cell_type": "code",
   "execution_count": 1,
   "metadata": {},
   "outputs": [],
   "source": [
    "# how to get mean of `nums_lst`?\n",
    "nums_list = [1, 2, 3, 4, 5, 10, 20, 50, 200]"
   ]
  },
  {
   "cell_type": "markdown",
   "metadata": {},
   "source": [
    "## <center> Let's google it!"
   ]
  },
  {
   "cell_type": "code",
   "execution_count": 2,
   "metadata": {},
   "outputs": [
    {
     "name": "stdout",
     "output_type": "stream",
     "text": [
      "32.77777777777778\n"
     ]
    }
   ],
   "source": [
    "import numpy\n",
    "\n",
    "print(numpy.mean(nums_list))"
   ]
  },
  {
   "cell_type": "code",
   "execution_count": 3,
   "metadata": {},
   "outputs": [
    {
     "name": "stdout",
     "output_type": "stream",
     "text": [
      "32.77777777777778\n"
     ]
    }
   ],
   "source": [
    "import numpy as np\n",
    "\n",
    "print(np.mean(nums_list))"
   ]
  },
  {
   "cell_type": "code",
   "execution_count": 4,
   "metadata": {},
   "outputs": [
    {
     "name": "stdout",
     "output_type": "stream",
     "text": [
      "32.77777777777778\n"
     ]
    }
   ],
   "source": [
    "from numpy import mean\n",
    "\n",
    "print(mean(nums_list))"
   ]
  },
  {
   "cell_type": "code",
   "execution_count": 5,
   "metadata": {},
   "outputs": [
    {
     "name": "stdout",
     "output_type": "stream",
     "text": [
      "Help on function mean in module numpy:\n",
      "\n",
      "mean(a, axis=None, dtype=None, out=None, keepdims=<no value>, *, where=<no value>)\n",
      "    Compute the arithmetic mean along the specified axis.\n",
      "    \n",
      "    Returns the average of the array elements.  The average is taken over\n",
      "    the flattened array by default, otherwise over the specified axis.\n",
      "    `float64` intermediate and return values are used for integer inputs.\n",
      "    \n",
      "    Parameters\n",
      "    ----------\n",
      "    a : array_like\n",
      "        Array containing numbers whose mean is desired. If `a` is not an\n",
      "        array, a conversion is attempted.\n",
      "    axis : None or int or tuple of ints, optional\n",
      "        Axis or axes along which the means are computed. The default is to\n",
      "        compute the mean of the flattened array.\n",
      "    \n",
      "        .. versionadded:: 1.7.0\n",
      "    \n",
      "        If this is a tuple of ints, a mean is performed over multiple axes,\n",
      "        instead of a single axis or all the axes as before.\n",
      "    dtype : data-type, optional\n",
      "        Type to use in computing the mean.  For integer inputs, the default\n",
      "        is `float64`; for floating point inputs, it is the same as the\n",
      "        input dtype.\n",
      "    out : ndarray, optional\n",
      "        Alternate output array in which to place the result.  The default\n",
      "        is ``None``; if provided, it must have the same shape as the\n",
      "        expected output, but the type will be cast if necessary.\n",
      "        See :ref:`ufuncs-output-type` for more details.\n",
      "    \n",
      "    keepdims : bool, optional\n",
      "        If this is set to True, the axes which are reduced are left\n",
      "        in the result as dimensions with size one. With this option,\n",
      "        the result will broadcast correctly against the input array.\n",
      "    \n",
      "        If the default value is passed, then `keepdims` will not be\n",
      "        passed through to the `mean` method of sub-classes of\n",
      "        `ndarray`, however any non-default value will be.  If the\n",
      "        sub-class' method does not implement `keepdims` any\n",
      "        exceptions will be raised.\n",
      "    \n",
      "    where : array_like of bool, optional\n",
      "        Elements to include in the mean. See `~numpy.ufunc.reduce` for details.\n",
      "    \n",
      "        .. versionadded:: 1.20.0\n",
      "    \n",
      "    Returns\n",
      "    -------\n",
      "    m : ndarray, see dtype parameter above\n",
      "        If `out=None`, returns a new array containing the mean values,\n",
      "        otherwise a reference to the output array is returned.\n",
      "    \n",
      "    See Also\n",
      "    --------\n",
      "    average : Weighted average\n",
      "    std, var, nanmean, nanstd, nanvar\n",
      "    \n",
      "    Notes\n",
      "    -----\n",
      "    The arithmetic mean is the sum of the elements along the axis divided\n",
      "    by the number of elements.\n",
      "    \n",
      "    Note that for floating-point input, the mean is computed using the\n",
      "    same precision the input has.  Depending on the input data, this can\n",
      "    cause the results to be inaccurate, especially for `float32` (see\n",
      "    example below).  Specifying a higher-precision accumulator using the\n",
      "    `dtype` keyword can alleviate this issue.\n",
      "    \n",
      "    By default, `float16` results are computed using `float32` intermediates\n",
      "    for extra precision.\n",
      "    \n",
      "    Examples\n",
      "    --------\n",
      "    >>> a = np.array([[1, 2], [3, 4]])\n",
      "    >>> np.mean(a)\n",
      "    2.5\n",
      "    >>> np.mean(a, axis=0)\n",
      "    array([2., 3.])\n",
      "    >>> np.mean(a, axis=1)\n",
      "    array([1.5, 3.5])\n",
      "    \n",
      "    In single precision, `mean` can be inaccurate:\n",
      "    \n",
      "    >>> a = np.zeros((2, 512*512), dtype=np.float32)\n",
      "    >>> a[0, :] = 1.0\n",
      "    >>> a[1, :] = 0.1\n",
      "    >>> np.mean(a)\n",
      "    0.54999924\n",
      "    \n",
      "    Computing the mean in float64 is more accurate:\n",
      "    \n",
      "    >>> np.mean(a, dtype=np.float64)\n",
      "    0.55000000074505806 # may vary\n",
      "    \n",
      "    Specifying a where argument:\n",
      "    >>> a = np.array([[5, 9, 13], [14, 10, 12], [11, 15, 19]])\n",
      "    >>> np.mean(a)\n",
      "    12.0\n",
      "    >>> np.mean(a, where=[[True], [False], [False]])\n",
      "    9.0\n",
      "\n"
     ]
    }
   ],
   "source": [
    "help(np.mean)"
   ]
  },
  {
   "cell_type": "markdown",
   "metadata": {},
   "source": [
    "### **<font color='GREEN'> Exercise</font>**\n",
    "\n",
    "Google the standard deviation function from the `numpy` python package. Import the package and then use the function on `nums_list`."
   ]
  },
  {
   "cell_type": "code",
   "execution_count": null,
   "metadata": {},
   "outputs": [],
   "source": [
    "# TODO: insert solution here"
   ]
  },
  {
   "cell_type": "markdown",
   "metadata": {},
   "source": [
    "# <center>COLLECTIONS & ITERTOOLS</center>\n",
    "\n",
    "---\n",
    "\n",
    "The tools you will learn during this lecture can be solved with the tools you all ready know but the new tools will be much more efficient and produce cleaner code. For instance, you've learned how to count instances of unique elements in a `list` using `if` statements and `for` loops but there's actually a much quicker way to do this using a `Counter` object from the `collections` module.\n",
    "\n",
    "Making sure your code is efficient is very important for large scale projects.\n",
    "\n",
    "It is best practice to try to solve a problem yourself then research if someone else has solved it in a better way."
   ]
  },
  {
   "cell_type": "markdown",
   "metadata": {},
   "source": []
  },
  {
   "cell_type": "markdown",
   "metadata": {},
   "source": [
    "# The `collections` Module\n",
    "\n",
    "## <font color='LIGHTGRAY'>By the end of the lecture, you'll be able to:</font>\n",
    "- <font color='LIGHTGRAY'>import modules/packages</font>\n",
    "- **use common data structures from the `collections` module**\n",
    "- <font color='LIGHTGRAY'>use infinite iterators from the itertools module</font>\n",
    "- <font color='LIGHTGRAY'>use terminating iterators from the itertools module</font>\n",
    "- <font color='LIGHTGRAY'>use combinatoric iterators from the itertools module</font>\n",
    "\n",
    "**Collections** in Python are containers that are used to store collections of data. For example, `list`, `dict`, `set`, `tuple` are built-in collections. The `collections` module provides additional data structures to store collections of data.\n",
    "\n",
    "We will discuss a few commonly used data structures from the Python collections module:\n",
    "\n",
    "- `Counter`\n",
    "- `defaultdict`\n",
    "- `OrderedDict`\n",
    "- `deque` (pronounced *deck*)"
   ]
  },
  {
   "cell_type": "markdown",
   "metadata": {},
   "source": [
    "## The `Counter`\n",
    "\n",
    "- ```python\n",
    "Counter(mapping_or_iterable)\n",
    "```\n",
    ": returns a dictionary where a key is an element in the `mapping_or_iterable` and value is the number of times that element exists"
   ]
  },
  {
   "cell_type": "code",
   "execution_count": null,
   "metadata": {},
   "outputs": [],
   "source": [
    "from collections import Counter"
   ]
  },
  {
   "cell_type": "markdown",
   "metadata": {},
   "source": [
    "### Creating a `Counter` object\n",
    "\n",
    "The simplest way is to use `Counter()` function without any arguments."
   ]
  },
  {
   "cell_type": "code",
   "execution_count": null,
   "metadata": {},
   "outputs": [],
   "source": [
    "cnt = Counter()"
   ]
  },
  {
   "cell_type": "markdown",
   "metadata": {},
   "source": [
    "You can pass an iterable (e.g., list) to `Counter()` function to create a `Counter` object."
   ]
  },
  {
   "cell_type": "code",
   "execution_count": null,
   "metadata": {},
   "outputs": [],
   "source": [
    "lst = [1, 2, 3, 4, 1, 2, 6, 7, 3, 8, 1]\n",
    "Counter(lst)"
   ]
  },
  {
   "cell_type": "markdown",
   "metadata": {},
   "source": [
    "The `Counter()` function can take a dictionary as an argument. In this dictionary, the value of a key should be the *count* of that key."
   ]
  },
  {
   "cell_type": "code",
   "execution_count": null,
   "metadata": {},
   "outputs": [],
   "source": [
    "Counter({1: 3, 2: 4})"
   ]
  },
  {
   "cell_type": "markdown",
   "metadata": {},
   "source": [
    "A `Counter` object can also be initialized with key word arguments:"
   ]
  },
  {
   "cell_type": "code",
   "execution_count": null,
   "metadata": {},
   "outputs": [],
   "source": [
    "Counter(apples=4, oranges=8)  "
   ]
  },
  {
   "cell_type": "markdown",
   "metadata": {},
   "source": [
    "You can access any counter item with its key as shown below:"
   ]
  },
  {
   "cell_type": "code",
   "execution_count": null,
   "metadata": {},
   "outputs": [],
   "source": [
    "lst = [1, 2, 3, 4, 1, 2, 6, 7, 3, 8, 1]\n",
    "cnt = Counter(lst)\n",
    "cnt[1]"
   ]
  },
  {
   "cell_type": "markdown",
   "metadata": {},
   "source": [
    "Lets take a look at a performance example:"
   ]
  },
  {
   "cell_type": "code",
   "execution_count": null,
   "metadata": {},
   "outputs": [],
   "source": [
    "import time\n",
    "import random\n",
    "import datetime\n",
    "\n",
    "def man_count_elements(elem_lst):\n",
    "    elem_dict = {}\n",
    "    for elem in elem_lst:\n",
    "        if elem not in elem_dict:\n",
    "            elem_dict[elem] = 1\n",
    "        else:\n",
    "            elem_dict[elem] += 1\n",
    "    return elem_dict\n",
    "\n",
    "def coll_count_elements(elem_lst):\n",
    "    from collections import Counter\n",
    "    return dict(Counter(elem_lst))\n",
    "\n",
    "\n",
    "element_lst = [random.randrange(1, 1000, 1) for _ in range(10_000_000)]\n",
    "\n",
    "start = time.time()\n",
    "res_dict = man_count_elements(element_lst)\n",
    "end = time.time()\n",
    "runtime = end - start\n",
    "print(f\"man_count_elements() took {str(datetime.timedelta(seconds=runtime))}\")\n",
    "\n",
    "start = time.time()\n",
    "res_dict = coll_count_elements(element_lst)\n",
    "end = time.time()\n",
    "runtime = end - start\n",
    "print(f\"coll_count_elements() took {str(datetime.timedelta(seconds=runtime))}\")"
   ]
  },
  {
   "cell_type": "markdown",
   "metadata": {},
   "source": [
    "### `Counter` methods\n",
    "\n",
    "Since a `Counter` object is a subclass of `dict`, it has all the methods from the `dict` class. `Counter` also has a few additional methods:\n",
    "\n",
    "1. ```python\n",
    "elements()\n",
    "```\n",
    ": returns an iterator containing counted elements"
   ]
  },
  {
   "cell_type": "code",
   "execution_count": null,
   "metadata": {},
   "outputs": [],
   "source": [
    "cnt = Counter(apples=3, bananas=4, cheese=0)\n",
    "list(cnt.elements())"
   ]
  },
  {
   "cell_type": "markdown",
   "metadata": {},
   "source": [
    "Notice how the count for *cheese* does not appear? If an element’s count is less than one, `elements()` will ignore it."
   ]
  },
  {
   "cell_type": "markdown",
   "metadata": {},
   "source": [
    "2. ```python\n",
    "most_common(n=None)\n",
    "```\n",
    ": returns a list of the *n* more common elements and their counts"
   ]
  },
  {
   "cell_type": "code",
   "execution_count": null,
   "metadata": {},
   "outputs": [],
   "source": [
    "Counter('strawberries').most_common(3)"
   ]
  },
  {
   "cell_type": "markdown",
   "metadata": {},
   "source": [
    "If *n* is omitted or `None`, it will return **all** elemenets in the counter."
   ]
  },
  {
   "cell_type": "code",
   "execution_count": null,
   "metadata": {},
   "outputs": [],
   "source": [
    "Counter('strawberries').most_common()"
   ]
  },
  {
   "cell_type": "markdown",
   "metadata": {},
   "source": [
    "3. ```python\n",
    "subtract(mapping_or_iterable)\n",
    "```\n",
    ": elements are removed from `mapping_or_iterable`"
   ]
  },
  {
   "cell_type": "code",
   "execution_count": null,
   "metadata": {},
   "outputs": [],
   "source": [
    "cnt = Counter(apples=4, bananas=2, cheese=0, doughnuts=-2)\n",
    "deduct = Counter(apples=1, bananas=2, cheese=3, doughnuts=4)\n",
    "cnt.subtract(deduct)\n",
    "cnt"
   ]
  },
  {
   "cell_type": "markdown",
   "metadata": {},
   "source": [
    "To read more about `Counter` objects, check out the help output:"
   ]
  },
  {
   "cell_type": "code",
   "execution_count": null,
   "metadata": {},
   "outputs": [],
   "source": [
    "help(Counter)"
   ]
  },
  {
   "cell_type": "markdown",
   "metadata": {},
   "source": [
    "### **<font color='GREEN'> Exercise</font>**\n",
    "\n",
    "I have a grocery list (i.e., `groceries`) that contains a list of food I need to buy, but before I could go to the store, my partner bought some food on the way home from work (i.e., `purchased`). I want to make sure that I don't over purchase a unit of food that has already been bought since we are on a budget. Speaking of a budget, we can only afford the **top 2 food items** on our list.\n",
    "\n",
    "Create a function that:\n",
    "- takes required arguments of `grocery_lst` and `purchased_lst`\n",
    "- takes optional arguments of `n_int=None`\n",
    "- utilizes `Counter()`, `subtract()`, and `most_common()`\n",
    "- returns a `list` of `(food, count)` pairs\n",
    "\n",
    "Once created, pass in the correct parameters to your function to get the correct output."
   ]
  },
  {
   "cell_type": "code",
   "execution_count": null,
   "metadata": {},
   "outputs": [],
   "source": [
    "groceries = ['apple', 'apple', 'apple', 'cake', 'cake', 'banana', 'chicken', 'chicken']\n",
    "purchased = ['banana', 'chicken', 'apple']\n",
    "\n",
    "# TODO: insert solution here\n",
    "# >>> [('apple', 2), ('cake', 2)]"
   ]
  },
  {
   "cell_type": "markdown",
   "metadata": {},
   "source": [
    "## The `defaultdict`\n",
    "\n",
    "```python\n",
    "defaultdict(default_type)\n",
    "```\n",
    "- works exactly like a `dict` but it doesn't throw a `KeyError` when accessing a non-existing key\n",
    "- initializes the key with the element of the default value of the passed in data type called `default_type`"
   ]
  },
  {
   "cell_type": "code",
   "execution_count": null,
   "metadata": {},
   "outputs": [],
   "source": [
    "from collections import defaultdict"
   ]
  },
  {
   "cell_type": "markdown",
   "metadata": {},
   "source": [
    "### Creating a `defaultdict`"
   ]
  },
  {
   "cell_type": "markdown",
   "metadata": {},
   "source": [
    "You can create a `defaultdict` by passing a data type as an argument:"
   ]
  },
  {
   "cell_type": "code",
   "execution_count": null,
   "metadata": {},
   "outputs": [],
   "source": [
    "num_fruits = defaultdict(int)\n",
    "num_fruits['kiwis'] = 1\n",
    "num_fruits['apples'] = 2\n",
    "num_fruits['oranges']"
   ]
  },
  {
   "cell_type": "markdown",
   "metadata": {},
   "source": [
    "In a normal dictionary, trying to access `oranges` would force a `KeyError` but since `defaultdict` initialize new keys with the default value of 0 for `int`, we get a return value of 0.\n",
    "\n",
    "To read more about `defaultdict` objects, check out help output:"
   ]
  },
  {
   "cell_type": "code",
   "execution_count": null,
   "metadata": {},
   "outputs": [],
   "source": [
    "help(defaultdict)"
   ]
  },
  {
   "cell_type": "markdown",
   "metadata": {},
   "source": [
    "## The `OrderedDict`\n",
    "\n",
    "```python\n",
    "OrderedDict(items=None)\n",
    "```\n",
    "\n",
    "- Keys maintain the order in which they were inserted"
   ]
  },
  {
   "cell_type": "code",
   "execution_count": null,
   "metadata": {},
   "outputs": [],
   "source": [
    "from collections import OrderedDict"
   ]
  },
  {
   "cell_type": "markdown",
   "metadata": {},
   "source": [
    "### Creating a `OrderedDict`\n",
    "\n",
    "You can create an `OrderedDict` without passing arguments, where afterwards you can insert items into it."
   ]
  },
  {
   "cell_type": "code",
   "execution_count": null,
   "metadata": {},
   "outputs": [],
   "source": [
    "od = OrderedDict()\n",
    "od['rice'] = 1\n",
    "od['bread'] = 2\n",
    "od['burger'] = 3\n",
    "od"
   ]
  },
  {
   "cell_type": "markdown",
   "metadata": {},
   "source": [
    "Here, we create a `Counter` from a list and insert element to an `OrderedDict` based on their count. Most frequently occurring letter will be inserted as the first key and the least frequently occurring letter will be inserted as the last key."
   ]
  },
  {
   "cell_type": "code",
   "execution_count": null,
   "metadata": {},
   "outputs": [],
   "source": [
    "groceries = [\"avacado\", \"corn\", \"corn\", \"avacado\", \"avacado\", \"beer\", \"avacado\", \"beer\", \"corn\"]\n",
    "cnt = Counter(groceries)\n",
    "od = OrderedDict(cnt.most_common())\n",
    "for key, val in od.items():\n",
    "    print(key, val)"
   ]
  },
  {
   "cell_type": "markdown",
   "metadata": {},
   "source": [
    "To read more about `OrderedDict` objects, check out the help output:"
   ]
  },
  {
   "cell_type": "code",
   "execution_count": null,
   "metadata": {},
   "outputs": [],
   "source": [
    "help(OrderedDict)"
   ]
  },
  {
   "cell_type": "markdown",
   "metadata": {},
   "source": [
    "## The `deque`\n",
    "\n",
    "```python\n",
    "deque(iterable)\n",
    "```\n",
    "\n",
    "- A `deque` is a list optimized for inserting and removing items."
   ]
  },
  {
   "cell_type": "code",
   "execution_count": null,
   "metadata": {},
   "outputs": [],
   "source": [
    "from collections import deque"
   ]
  },
  {
   "cell_type": "markdown",
   "metadata": {},
   "source": [
    "### Creating a `deque`\n",
    "\n",
    "To create a `deque`, pass a list into it."
   ]
  },
  {
   "cell_type": "code",
   "execution_count": null,
   "metadata": {},
   "outputs": [],
   "source": [
    "groceries = [\"avacado\", \"corn\", \"beer\"]\n",
    "grocery_deq = deque(groceries)\n",
    "print(grocery_deq)"
   ]
  },
  {
   "cell_type": "markdown",
   "metadata": {},
   "source": [
    "### Inserting elements\n",
    "\n",
    "You can insert elements to the `deque` at either ends. To add an element to the *right*, you use the `append()` method. To add an elment to the *left*, you use the `appendleft()` method."
   ]
  },
  {
   "cell_type": "code",
   "execution_count": null,
   "metadata": {},
   "outputs": [],
   "source": [
    "grocery_deq.append(\"dumplings\")\n",
    "grocery_deq.appendleft(\"eggs\")\n",
    "print(grocery_deq)"
   ]
  },
  {
   "cell_type": "markdown",
   "metadata": {},
   "source": [
    "### Removing elements\n",
    "\n",
    "Similarly to inserting, you can remove an element from the *right* end using `pop()` and `popleft()` to remove an element from the *left*."
   ]
  },
  {
   "cell_type": "code",
   "execution_count": null,
   "metadata": {},
   "outputs": [],
   "source": [
    "grocery_deq.pop()\n",
    "grocery_deq.popleft()\n",
    "print(grocery_deq)"
   ]
  },
  {
   "cell_type": "markdown",
   "metadata": {},
   "source": [
    "### Clearing a `deque`\n",
    "\n",
    "To remove all the elements, you can use the `clear()` method."
   ]
  },
  {
   "cell_type": "code",
   "execution_count": null,
   "metadata": {},
   "outputs": [],
   "source": [
    "groceries = [\"avacado\", \"corn\", \"beer\"]\n",
    "grocery_deq = deque(groceries)\n",
    "\n",
    "print(grocery_deq)\n",
    "print(grocery_deq.clear())"
   ]
  },
  {
   "cell_type": "markdown",
   "metadata": {},
   "source": [
    "### Counting elements\n",
    "\n",
    "If you want to find the count of a specific element, use the `count(x)` method where `x` is the element you want to find."
   ]
  },
  {
   "cell_type": "code",
   "execution_count": null,
   "metadata": {},
   "outputs": [],
   "source": [
    "groceries = [\"fish\", \"ginger\", \"fish\", \"honey\", \"fish\"]\n",
    "deq = deque(groceries)\n",
    "print(deq.count(\"fish\"))"
   ]
  },
  {
   "cell_type": "markdown",
   "metadata": {},
   "source": [
    "To read more about `deque` objects, check out the help output:"
   ]
  },
  {
   "cell_type": "code",
   "execution_count": null,
   "metadata": {},
   "outputs": [],
   "source": [
    "help(deque)"
   ]
  },
  {
   "cell_type": "markdown",
   "metadata": {},
   "source": [
    "### **<font color='GREEN'> Exercise</font>**\n",
    "\n",
    "It is a new day and that means a new grocery list but this time it is represented as a `deque` (i.e., `groc_deq`). There are also children running around, hyped up on Caprisun, that love to wreak havac on deques."
   ]
  },
  {
   "cell_type": "code",
   "execution_count": null,
   "metadata": {},
   "outputs": [],
   "source": [
    "groceries = [\"apple\", \"bacon\", \"cake\", \"banana\", \"chicken\"]\n",
    "groc_deq = deque(groceries)"
   ]
  },
  {
   "cell_type": "markdown",
   "metadata": {},
   "source": [
    "Implement the following actions using `deque` methods:\n",
    "\n",
    "- **child1** adds \"cake\" to the top of the list because...it's cake\n",
    "- **parent1** adds \"beer\" to the bottom of the list to relax\n",
    "- **child2** is currently angry with **child1** so **child2** removes **child1's** item\n",
    "- **child1** notices and adds 3 more \"cake\" to the top of the list in spite of **child2**\n",
    "- **parent2** thinks **parent1** should stop drinking so **parent2** removes **parent1's** item\n",
    "- **child2** takes away 1 of **child1's** item from the list\n",
    "- **parent1** removes the last 2 items in spite of **parent2**\n",
    "\n",
    "Answer the following questions about `groc_deq` after the above actions have been implemented:\n",
    "- What is the most common item in the deque?\n",
    "- What is the last item in the deque?"
   ]
  },
  {
   "cell_type": "code",
   "execution_count": null,
   "metadata": {},
   "outputs": [],
   "source": [
    "# TODO: insert solution here"
   ]
  },
  {
   "cell_type": "markdown",
   "metadata": {},
   "source": [
    "To read more about the `collections` module, check out the [documentation](https://docs.python.org/3.8/library/collections.html#module-collections)."
   ]
  },
  {
   "cell_type": "markdown",
   "metadata": {},
   "source": [
    "# The `itertools` Module\n",
    "\n",
    "**Itertools** is a Python module designed to iterate over data structures that utilize computational resources effeciently. \n",
    "\n",
    "## What are Iterators?\n",
    "\n",
    "An **iterator** is an object that will return data, one element at a time. Most built-in containers in Python are iterables (e.g., `list`, `tuple`, `string`, etc.). A Python iterator object must implement two special methods:\n",
    "\n",
    "1. `iter()`: returns an iterator\n",
    "2. `next()`: returns the next element within the iterator.\n",
    "\n",
    "## Internal Workings of `for` Loops\n",
    "\n",
    "A `for` loop can iterate over any iterable. The following loop\n",
    "\n",
    "```python\n",
    "for element in iterable:\n",
    "    # do something with element\n",
    "```\n",
    "\n",
    "is actually implemented in Python as\n",
    "\n",
    "```python\n",
    "# create an iterator object from that iterable\n",
    "iter_obj = iter(iterable)\n",
    "\n",
    "# infinite loop\n",
    "while True:\n",
    "    try:\n",
    "        # get the next item\n",
    "        element = next(iter_obj)\n",
    "        # do something with element\n",
    "    except StopIteration:\n",
    "        # if StopIteration is raised, break from loop\n",
    "        break\n",
    "```\n",
    "\n",
    "Internally, the `for` loop creates an iterator object (i.e., `iter_obj`) by calling `iter()` on the iterable where the `for` loop is actually an **infinite** `while` loop. Inside the loop, it calls `next()` to get the next element and executes the body of the `for` loop with this value. After all the items have been exhausted, `StopIteration` is raised and the loop ends.\n",
    "\n",
    "## Why use the `itertools` Module?\n",
    "\n",
    "The idea behind `itertools` is to deal with large amounts of data (typically sequence data sets) in a memory efficient way. While some iterators are **infinite**, some **terminate on the shortest input sequence**, and some are **combinatoric**."
   ]
  },
  {
   "cell_type": "markdown",
   "metadata": {},
   "source": [
    "## Infinite Iterators\n",
    "\n",
    "## <font color='LIGHTGRAY'>By the end of the lecture, you'll be able to:</font>\n",
    "- <font color='LIGHTGRAY'>import modules/packages</font>\n",
    "- <font color='LIGHTGRAY'>use common data structures from the collections module</font>\n",
    "- **use infinite iterators from the `itertools` module**\n",
    "- <font color='LIGHTGRAY'>use terminating iterators from the itertools module</font>\n",
    "- <font color='LIGHTGRAY'>use combinatoric iterators from the itertools module</font>\n",
    "\n",
    "Infinite iterators run indefinitely unless you include a stopping condition. We will cover the 3 inifinite iterators from `itertools`.\n",
    "\n",
    "**<center>NOTE: Since these are infinite iterators you MUST include a terminating condition!</center>**\n",
    "\n",
    "1. ```python\n",
    "count(start=0, step=1)\n",
    "```\n",
    ": returns a sequence of values from `start` with intervals the size of `step`"
   ]
  },
  {
   "cell_type": "code",
   "execution_count": null,
   "metadata": {},
   "outputs": [],
   "source": [
    "from itertools import count"
   ]
  },
  {
   "cell_type": "markdown",
   "metadata": {},
   "source": [
    "For example:"
   ]
  },
  {
   "cell_type": "code",
   "execution_count": null,
   "metadata": {},
   "outputs": [],
   "source": [
    "for i in count(10, 2):\n",
    "    print(i)\n",
    "    if i > 25: break"
   ]
  },
  {
   "cell_type": "markdown",
   "metadata": {},
   "source": [
    "Here’s `count()` with one argument:"
   ]
  },
  {
   "cell_type": "code",
   "execution_count": null,
   "metadata": {},
   "outputs": [],
   "source": [
    "for i in count(2):\n",
    "    print(i)\n",
    "    if i >= 10: break"
   ]
  },
  {
   "cell_type": "markdown",
   "metadata": {},
   "source": [
    "It takes a step of 1. If we call it without an argument, it starts with 0:"
   ]
  },
  {
   "cell_type": "code",
   "execution_count": null,
   "metadata": {},
   "outputs": [],
   "source": [
    "for i in count():\n",
    "    print(i)\n",
    "    if i >= 5: break"
   ]
  },
  {
   "cell_type": "markdown",
   "metadata": {},
   "source": [
    "## **<font color='ORANGE'>Caution</font>**\n",
    "\n",
    "If you don't have a stopping condition, you will need to stop your code by using the `Interupt the Kernel` button (or using `Ctrl-C` within your terminal).\n",
    "\n",
    "For example:"
   ]
  },
  {
   "cell_type": "code",
   "execution_count": null,
   "metadata": {},
   "outputs": [],
   "source": [
    "# for i in count():\n",
    "#     print(i)"
   ]
  },
  {
   "cell_type": "markdown",
   "metadata": {},
   "source": [
    "To read more about the `count()` method, check out the help output:"
   ]
  },
  {
   "cell_type": "code",
   "execution_count": null,
   "metadata": {},
   "outputs": [],
   "source": [
    "help(count)"
   ]
  },
  {
   "cell_type": "markdown",
   "metadata": {},
   "source": [
    "2. ```python\n",
    "cycle(iterable)\n",
    "```\n",
    ": makes an iterator from elements from an `iterable`, and saves a copy of each."
   ]
  },
  {
   "cell_type": "code",
   "execution_count": null,
   "metadata": {},
   "outputs": [],
   "source": [
    "from itertools import cycle"
   ]
  },
  {
   "cell_type": "markdown",
   "metadata": {},
   "source": [
    "For example"
   ]
  },
  {
   "cell_type": "code",
   "execution_count": null,
   "metadata": {},
   "outputs": [],
   "source": [
    "for count, i in enumerate(cycle(['carrots', 'granola', 'kabobs'])):\n",
    "    print(count, i)\n",
    "    if count == 10: break"
   ]
  },
  {
   "cell_type": "markdown",
   "metadata": {},
   "source": [
    "To read more about `cycle()` method, check out the help output:"
   ]
  },
  {
   "cell_type": "code",
   "execution_count": null,
   "metadata": {},
   "outputs": [],
   "source": [
    "help(cycle)"
   ]
  },
  {
   "cell_type": "markdown",
   "metadata": {},
   "source": [
    "3. ```python\n",
    "repeat(element, n_times=None)\n",
    "```\n",
    ": repeat `element` by `n_times`"
   ]
  },
  {
   "cell_type": "code",
   "execution_count": null,
   "metadata": {},
   "outputs": [],
   "source": [
    "from itertools import repeat"
   ]
  },
  {
   "cell_type": "markdown",
   "metadata": {},
   "source": [
    "For example:"
   ]
  },
  {
   "cell_type": "code",
   "execution_count": null,
   "metadata": {},
   "outputs": [],
   "source": [
    "for i in repeat(\"spinach\", 3):\n",
    "    print(i)"
   ]
  },
  {
   "cell_type": "markdown",
   "metadata": {},
   "source": [
    "Note, that since `n_times` is optional, we can endlessly repeat"
   ]
  },
  {
   "cell_type": "code",
   "execution_count": null,
   "metadata": {},
   "outputs": [],
   "source": [
    "for count, i in enumerate(repeat(\"yogurt\")):\n",
    "    print(i)\n",
    "    if count >= 5: break"
   ]
  },
  {
   "cell_type": "markdown",
   "metadata": {},
   "source": [
    "To read more about the `repeat()` method, check out the help output:"
   ]
  },
  {
   "cell_type": "code",
   "execution_count": null,
   "metadata": {},
   "outputs": [],
   "source": [
    "help(repeat)"
   ]
  },
  {
   "cell_type": "markdown",
   "metadata": {},
   "source": [
    "### **<font color='GREEN'> Exercise</font>**\n",
    "\n",
    "We are going on a picnic with a community of neighbors! But no one has a blanket to lay on. You know someone who is a master blanket maker but they need to see a concept design first. You will design a 10x10 blanket with only 2 colors. The first color will repeat horizontally and the second color will follow the first color, also repeating horizontally. These two colors will repeat vertically until the correct measurements has been met.\n",
    "\n",
    "Create a blanket making function via `print()` statements with the following requirements:\n",
    "- takes required arguments of:\n",
    "    - `color_lst`: list of single character colors (e.g., use 'r' for red)\n",
    "    - `horiz_repeat`: number of times the color repeats horizontally\n",
    "    - `vert_repeat`: number of times the colors repeat vertically\n",
    "- verify that only 2 colors are used\n",
    "- utilizes `cycle()` and `repeat()`\n"
   ]
  },
  {
   "cell_type": "code",
   "execution_count": null,
   "metadata": {},
   "outputs": [],
   "source": [
    "# TODO: insert solution here"
   ]
  },
  {
   "cell_type": "markdown",
   "metadata": {},
   "source": [
    "## Terminating iterators\n",
    "\n",
    "## <font color='LIGHTGRAY'>By the end of the lecture, you'll be able to:</font>\n",
    "- <font color='LIGHTGRAY'>import modules/packages</font>\n",
    "- <font color='LIGHTGRAY'>use common data structures from the collections module</font>\n",
    "- <font color='LIGHTGRAY'>use infinite iterators from the itertools module</font>\n",
    "- **use terminating iterators from the `itertools` module**\n",
    "- <font color='LIGHTGRAY'>use combinatoric iterators from the itertools module</font>\n",
    "\n",
    "Terminating iterators are used to work on short input sequences and produce the output based on the method used.\n",
    "\n",
    "We will cover the most common iterators from the module."
   ]
  },
  {
   "cell_type": "markdown",
   "metadata": {},
   "source": [
    "1. ```python\n",
    "accumulate(iterable, func=None, ...)\n",
    "```\n",
    ": makes an iterator that returns accumulated sums (or accumulated results of a binary function specified)"
   ]
  },
  {
   "cell_type": "code",
   "execution_count": null,
   "metadata": {},
   "outputs": [],
   "source": [
    "from itertools import accumulate"
   ]
  },
  {
   "cell_type": "markdown",
   "metadata": {},
   "source": [
    "For example:"
   ]
  },
  {
   "cell_type": "code",
   "execution_count": null,
   "metadata": {},
   "outputs": [],
   "source": [
    "lst = [0, 1, 0, 1, 1, 2, 3, 5]\n",
    "for i in accumulate(lst):\n",
    "    print(i)"
   ]
  },
  {
   "cell_type": "markdown",
   "metadata": {},
   "source": [
    "This also works with strings:"
   ]
  },
  {
   "cell_type": "code",
   "execution_count": null,
   "metadata": {},
   "outputs": [],
   "source": [
    "for i in accumulate('spinach'):\n",
    "    print(i)"
   ]
  },
  {
   "cell_type": "markdown",
   "metadata": {},
   "source": [
    "We can also pass in a binary function to `accumulate()`. Here we will use the multiplication operator from the `operator` module and pass the multiplication function (i.e., `operator.mul`) to `accumulate()`."
   ]
  },
  {
   "cell_type": "code",
   "execution_count": null,
   "metadata": {},
   "outputs": [],
   "source": [
    "import operator\n",
    "\n",
    "lst = [1, 2, 3, 4, 5]\n",
    "last_acc = lst[0]\n",
    "\n",
    "for i, acc in enumerate(accumulate(lst, operator.mul)):\n",
    "    print(f\"{lst[i]} * {last_acc} = {acc}\")\n",
    "    last_acc = acc"
   ]
  },
  {
   "cell_type": "markdown",
   "metadata": {},
   "source": [
    "Here we accumulate the `max` along the iterable:"
   ]
  },
  {
   "cell_type": "code",
   "execution_count": null,
   "metadata": {},
   "outputs": [],
   "source": [
    "lst = [2, 1, 4, 3, 5]\n",
    "last_max_acc = lst[0]\n",
    "\n",
    "for i, acc in enumerate(accumulate(lst, max)):\n",
    "    print(f\"max({lst[i]}, {last_max_acc}) = {acc}\")\n",
    "    if acc > last_max_acc:\n",
    "        last_max_acc = acc"
   ]
  },
  {
   "cell_type": "markdown",
   "metadata": {},
   "source": [
    "To read more about the `accumulate()` method, check out the help output:"
   ]
  },
  {
   "cell_type": "code",
   "execution_count": null,
   "metadata": {},
   "outputs": [],
   "source": [
    "help(accumulate)"
   ]
  },
  {
   "cell_type": "markdown",
   "metadata": {},
   "source": [
    "2. ```python\n",
    "chain(*iterables)\n",
    "```\n",
    ": makes an iterator that returns elements from the first iterable, then proceeds to the next iterable, until all iterables are exhausted\n",
    "\n",
    "The `*` operator is used to unpack an iterable into the arguments in the function call.\n",
    "\n",
    "```python\n",
    ">>> fruits = ['lemon', 'pear', 'watermelon', 'tomato']\n",
    ">>> print(fruits[0], fruits[1], fruits[2], fruits[3])\n",
    "lemon pear watermelon tomato\n",
    ">>> print(*fruits)\n",
    "lemon pear watermelon tomato\n",
    "```"
   ]
  },
  {
   "cell_type": "code",
   "execution_count": null,
   "metadata": {},
   "outputs": [],
   "source": [
    "from itertools import chain"
   ]
  },
  {
   "cell_type": "markdown",
   "metadata": {},
   "source": [
    "For example:"
   ]
  },
  {
   "cell_type": "code",
   "execution_count": null,
   "metadata": {},
   "outputs": [],
   "source": [
    "for i in chain('acorn squash', 'bagels'):\n",
    "    print(i)"
   ]
  },
  {
   "cell_type": "markdown",
   "metadata": {},
   "source": [
    "The `chain()` method is especially useful when you need to flatten a list of lists into a single list."
   ]
  },
  {
   "cell_type": "code",
   "execution_count": null,
   "metadata": {},
   "outputs": [],
   "source": [
    "menu_items = [['asparagus', 'bison'], ['bluefish', 'beer'], ['milkshake']]\n",
    "\n",
    "print(list(chain(*menu_items)))"
   ]
  },
  {
   "cell_type": "markdown",
   "metadata": {},
   "source": [
    "To read more about the `chain()` method, check out the help output:"
   ]
  },
  {
   "cell_type": "code",
   "execution_count": null,
   "metadata": {},
   "outputs": [],
   "source": [
    "help(chain)"
   ]
  },
  {
   "cell_type": "markdown",
   "metadata": {},
   "source": [
    "3. ```python\n",
    "groupby(iterable, key_func=None)\n",
    "```\n",
    ": makes an iterator that takes the `iterable`, and returns consecutive keys and groups where these sub-iterators are grouped by the key generated by `key_func`."
   ]
  },
  {
   "cell_type": "code",
   "execution_count": null,
   "metadata": {},
   "outputs": [],
   "source": [
    "from itertools import groupby"
   ]
  },
  {
   "cell_type": "markdown",
   "metadata": {},
   "source": [
    "If 'key_func' is not specified or is `None`, it defaults to an identity function and returns the element unchanged. Generally, the `iterable` needs to already be sorted on the same key function."
   ]
  },
  {
   "cell_type": "code",
   "execution_count": null,
   "metadata": {},
   "outputs": [],
   "source": [
    "for key, group in groupby('AAAAABBCCCCCDDDCCCBBA'):\n",
    "    print({key: list(group)})"
   ]
  },
  {
   "cell_type": "markdown",
   "metadata": {},
   "source": [
    "Let's take an example where we pass in a custom function to `groupby()`:"
   ]
  },
  {
   "cell_type": "code",
   "execution_count": null,
   "metadata": {},
   "outputs": [],
   "source": [
    "def meal_key(meal):\n",
    "    \"\"\"Assume the first element is the meal type\"\"\"\n",
    "    return meal[0]\n",
    "\n",
    "meal_lst = [\n",
    "    (\"Breakfast\", \"eggs\"),\n",
    "    (\"Breakfast\", \"orange juice\"),\n",
    "    (\"Lunch\", \"sandwich\"),\n",
    "    (\"Lunch\", \"tea\"),\n",
    "    (\"Dinner\", \"pasta\"),\n",
    "    (\"Dinner\", \"wine\")\n",
    "]\n",
    "\n",
    "for key, group in groupby(meal_lst, key=meal_key):\n",
    "    print({key: list(group)})"
   ]
  },
  {
   "cell_type": "markdown",
   "metadata": {},
   "source": [
    "To read more about the `groupby()` method, check out the help output:"
   ]
  },
  {
   "cell_type": "code",
   "execution_count": null,
   "metadata": {},
   "outputs": [],
   "source": [
    "help(groupby)"
   ]
  },
  {
   "cell_type": "markdown",
   "metadata": {},
   "source": [
    "4. ```python\n",
    "starmap(function, iterable)\n",
    "```\n",
    ": makes an iterator that takes arguments from the iterable, and computes a function"
   ]
  },
  {
   "cell_type": "code",
   "execution_count": null,
   "metadata": {},
   "outputs": [],
   "source": [
    "from itertools import starmap"
   ]
  },
  {
   "cell_type": "markdown",
   "metadata": {},
   "source": [
    "For example, we use the subtraction operator from the `operator` module (i.e., `operator.sub`) to subtract the first element from the second element for each iterable, until exhausted: "
   ]
  },
  {
   "cell_type": "code",
   "execution_count": null,
   "metadata": {},
   "outputs": [],
   "source": [
    "lst = [(2,1), (7,3), (15,10)]\n",
    "\n",
    "for i in starmap(operator.sub, lst):\n",
    "    print(i)"
   ]
  },
  {
   "cell_type": "markdown",
   "metadata": {},
   "source": [
    "To read more about the `starmap()` method, check out the help output:"
   ]
  },
  {
   "cell_type": "code",
   "execution_count": null,
   "metadata": {},
   "outputs": [],
   "source": [
    "help(starmap)"
   ]
  },
  {
   "cell_type": "markdown",
   "metadata": {},
   "source": [
    "### **<font color='GREEN'> Exercise</font>**\n",
    "\n",
    "A few local food shelters heard about your community picnic and has some extra food that they want to donate. For days Monday, Tuesday, and Wednesday, the shelters can donate the same select amount of food for each day. We want to quickly count the accumulated food that the shelters can donate from day to day, for each food item. The days mentioned are stored as a list in `days` and the donated food is stored as a list of lists in `donated_food` such that each list in the `donated_food` list represents the food donated from a shelter."
   ]
  },
  {
   "cell_type": "code",
   "execution_count": null,
   "metadata": {},
   "outputs": [],
   "source": [
    "days = ['Monday', 'Tuesday', 'Wednesday']\n",
    "donated_food = [['sandwich', 'chips', 'sandwich'], ['sandwich', 'chicken', 'chips']]"
   ]
  },
  {
   "cell_type": "markdown",
   "metadata": {},
   "source": [
    "I've created a function, `count_donated_food()`, that:\n",
    "- takes a required argument `food_lst_lst` that is a list of lists\n",
    "- flattens `food_lst_lst`\n",
    "- returns a `Counter` that contains counts for each food items"
   ]
  },
  {
   "cell_type": "code",
   "execution_count": null,
   "metadata": {},
   "outputs": [],
   "source": [
    "def count_donated_food(food_lst_lst):\n",
    "    food_lst = list(chain(*food_lst_lst))\n",
    "    return Counter(food_lst)"
   ]
  },
  {
   "cell_type": "markdown",
   "metadata": {},
   "source": [
    "You will create a function that:\n",
    "- takes required aruguments:\n",
    "    - `donated_food_cnt`: `Counter` that contains counts for each food items\n",
    "    - `days_lst`: list of days\n",
    "- for each food item, use `print()` to show a list of accumulated day, counts pairs\n",
    "    - e.g., sandwich [('Monday', 3), ('Tuesday', 6), ('Wednesday', 9)]\n",
    "- utilizes `accumulate()`"
   ]
  },
  {
   "cell_type": "code",
   "execution_count": null,
   "metadata": {},
   "outputs": [],
   "source": [
    "# TODO: insert solution here\n",
    "# >>> sandwich [('Monday', 3), ('Tuesday', 6), ('Wednesday', 9)]\n",
    "# ... chips [('Monday', 2), ('Tuesday', 4), ('Wednesday', 6)]\n",
    "# ... chicken [('Monday', 1), ('Tuesday', 2), ('Wednesday', 3)]"
   ]
  },
  {
   "cell_type": "markdown",
   "metadata": {},
   "source": [
    "HINT: if you are having trouble, here is some pseudo code to guide you (please try to figure it out yourself first)\n",
    "- for each food `item` and `count` in `donated_food_cnt`:\n",
    "    - let `day_counts_lst` be a list where the food item count repeats for the number of days\n",
    "    - assign an empty list, `acc_lst`, for saving your results\n",
    "    - for each `index` and `accumulator` value from enumerating accumulating `day_counts_lst`:\n",
    "        - append the tupled result of `days_lst[index]` and `accumulator` to `acc_lst`\n",
    "    - print `item` and `acc_lst`"
   ]
  },
  {
   "cell_type": "markdown",
   "metadata": {},
   "source": [
    "## Combinatoric iterators\n",
    "\n",
    "## <font color='LIGHTGRAY'>By the end of the lecture, you'll be able to:</font>\n",
    "- <font color='LIGHTGRAY'>import modules/packages</font>\n",
    "- <font color='LIGHTGRAY'>use common data structures from the collections module</font>\n",
    "- <font color='LIGHTGRAY'>use infinite iterators from the itertools module</font>\n",
    "- <font color='LIGHTGRAY'>use terminating iterators from the itertools module</font>\n",
    "- **use combinatoric iterators from the `itertools` module**\n",
    "\n",
    "Combinatoric iterators deal with arranging, operating on, and selecting of combinatorial discrete mathematical elements.\n",
    "\n",
    "The [**cartesian product**](https://en.wikipedia.org/wiki/Cartesian_product) between two variables, `A` and `B`, is the set of all ordered pairs, denoted as `AxB`.\n",
    "\n",
    "![](day_1_assets/Cartesian_Product_qtl1.svg)\n",
    "\n",
    "1. ```python\n",
    "product(*iterables, repeat=1)\n",
    "```\n",
    ": returns the cartesion product of the input iterables"
   ]
  },
  {
   "cell_type": "code",
   "execution_count": null,
   "metadata": {},
   "outputs": [],
   "source": [
    "from itertools import product"
   ]
  },
  {
   "cell_type": "markdown",
   "metadata": {},
   "source": [
    "For example:"
   ]
  },
  {
   "cell_type": "code",
   "execution_count": null,
   "metadata": {},
   "outputs": [],
   "source": [
    "alph_lst = ['A', 'B', 'C']\n",
    "\n",
    "for i in product(alph_lst, alph_lst):\n",
    "    print(i)"
   ]
  },
  {
   "cell_type": "markdown",
   "metadata": {},
   "source": [
    "If we pass `repeat=2`, the rightmost element advances with every iteration:"
   ]
  },
  {
   "cell_type": "code",
   "execution_count": null,
   "metadata": {},
   "outputs": [],
   "source": [
    "alph_lst = ['A', 'B', 'C']\n",
    "\n",
    "for i in product(alph_lst, alph_lst, repeat=2):\n",
    "    print(i)"
   ]
  },
  {
   "cell_type": "markdown",
   "metadata": {},
   "source": [
    "To read more about the `product()` method, check out the help output:"
   ]
  },
  {
   "cell_type": "code",
   "execution_count": null,
   "metadata": {},
   "outputs": [],
   "source": [
    "help(product)"
   ]
  },
  {
   "cell_type": "markdown",
   "metadata": {},
   "source": [
    "A [**permutation**](https://en.wikipedia.org/wiki/Permutation) of a set contains all possible arrangements of it's members **where order matters**.\n",
    "\n",
    "![](day_1_assets/Permutations_RGB.svg)\n",
    "\n",
    "2. ```python\n",
    "permutations(iterable, r=None)\n",
    "```\n",
    ": returns `r`-length permutations of elements in the `iterable` in lexicographic order (i.e., dictionary order), and there is no repetition of elements"
   ]
  },
  {
   "cell_type": "code",
   "execution_count": null,
   "metadata": {},
   "outputs": [],
   "source": [
    "from itertools import permutations"
   ]
  },
  {
   "cell_type": "markdown",
   "metadata": {},
   "source": [
    "For example:"
   ]
  },
  {
   "cell_type": "code",
   "execution_count": null,
   "metadata": {},
   "outputs": [],
   "source": [
    "alph_lst = ['A', 'B', 'C']\n",
    "\n",
    "for i in permutations(alph_lst):\n",
    "    print(i)"
   ]
  },
  {
   "cell_type": "markdown",
   "metadata": {},
   "source": [
    "If we pass `r=2` to it, it will print tuples of length 2."
   ]
  },
  {
   "cell_type": "code",
   "execution_count": null,
   "metadata": {},
   "outputs": [],
   "source": [
    "for i in permutations(alph_lst, r=2):\n",
    "    print(i)"
   ]
  },
  {
   "cell_type": "markdown",
   "metadata": {},
   "source": [
    "To read more about the `permutations()` method, check out the help output:"
   ]
  },
  {
   "cell_type": "code",
   "execution_count": null,
   "metadata": {},
   "outputs": [],
   "source": [
    "help(permutations)"
   ]
  },
  {
   "cell_type": "markdown",
   "metadata": {},
   "source": [
    "A [**combination**](https://en.wikipedia.org/wiki/Combination) of a set contains all possible arrangements of it's members where **order does not matter**.\n",
    "\n",
    "3. ```python\n",
    "combinations(iterable, r)\n",
    "```\n",
    ": returns subsequences of length `r` from the elements of the `iterable`"
   ]
  },
  {
   "cell_type": "code",
   "execution_count": null,
   "metadata": {},
   "outputs": [],
   "source": [
    "from itertools import combinations"
   ]
  },
  {
   "cell_type": "markdown",
   "metadata": {},
   "source": [
    "The combination tuples are emitted in lexicographic ordering according to the order of the input `iterable`. So, if the input `iterable` is sorted, the combination tuples will be produced in sorted order.\n",
    "\n",
    "Elements are treated as unique based on their position, not on their value. So if the input elements are unique, there will be no repeat values in each combination."
   ]
  },
  {
   "cell_type": "code",
   "execution_count": null,
   "metadata": {},
   "outputs": [],
   "source": [
    "for i in combinations('ABC', 2):\n",
    "    print(i)"
   ]
  },
  {
   "cell_type": "markdown",
   "metadata": {},
   "source": [
    "If you noticed, this only returns the tuples that are lexicographically ascending."
   ]
  },
  {
   "cell_type": "markdown",
   "metadata": {},
   "source": [
    "Here's another example:"
   ]
  },
  {
   "cell_type": "code",
   "execution_count": null,
   "metadata": {},
   "outputs": [],
   "source": [
    "for i in combinations('ABCD', 3):\n",
    "    print(i)"
   ]
  },
  {
   "cell_type": "markdown",
   "metadata": {},
   "source": [
    "To read more about the `combinations()` method, check out the help output:"
   ]
  },
  {
   "cell_type": "code",
   "execution_count": null,
   "metadata": {},
   "outputs": [],
   "source": [
    "help(combinations)"
   ]
  },
  {
   "cell_type": "markdown",
   "metadata": {},
   "source": [
    "4. ```python\n",
    "combinations_with_replacement(iterable, r)\n",
    "```\n",
    ": returns `r`-length subsequences of elements of the `iterable` where individual elements may repeat"
   ]
  },
  {
   "cell_type": "code",
   "execution_count": null,
   "metadata": {},
   "outputs": [],
   "source": [
    "from itertools import combinations_with_replacement as cwr"
   ]
  },
  {
   "cell_type": "markdown",
   "metadata": {},
   "source": [
    "For example:"
   ]
  },
  {
   "cell_type": "code",
   "execution_count": null,
   "metadata": {},
   "outputs": [],
   "source": [
    "alph_lst = ['A', 'B', 'C']\n",
    "\n",
    "for i in cwr(alph_lst, 2):\n",
    "    print(i)"
   ]
  },
  {
   "cell_type": "markdown",
   "metadata": {},
   "source": [
    "To read more about the `combinations_with_replacement()` method, check out the help output:"
   ]
  },
  {
   "cell_type": "code",
   "execution_count": null,
   "metadata": {},
   "outputs": [],
   "source": [
    "help(cwr)"
   ]
  },
  {
   "cell_type": "markdown",
   "metadata": {},
   "source": [
    "To learn more about the `itertools` module, check out the [documentation](https://docs.python.org/3.8/library/itertools.html?highlight=itertools#module-itertools)."
   ]
  },
  {
   "cell_type": "markdown",
   "metadata": {},
   "source": [
    "# Conclusion\n",
    "\n",
    "## You are now able to:\n",
    "- import modules/packages\n",
    "- use common data structures from the `collections` module\n",
    "- use infinite iterators from the `itertools` module\n",
    "- use terminating iterators from the `itertools` module\n",
    "- use combinatoric iterators from the `itertools` module\n",
    "\n",
    "# References\n",
    "- https://stackabuse.com/introduction-to-pythons-collections-module/\n",
    "- https://www.programiz.com/python-programming/iterator\n",
    "- https://www.educative.io/edpresso/what-are-itertools-in-python\n",
    "- https://data-flair.training/blogs/python-itertools-tutorial/"
   ]
  },
  {
   "cell_type": "code",
   "execution_count": null,
   "metadata": {},
   "outputs": [],
   "source": []
  }
 ],
 "metadata": {
  "kernelspec": {
   "display_name": "2021-python-workshop",
   "language": "python",
   "name": "2021-python-workshop"
  },
  "language_info": {
   "codemirror_mode": {
    "name": "ipython",
    "version": 3
   },
   "file_extension": ".py",
   "mimetype": "text/x-python",
   "name": "python",
   "nbconvert_exporter": "python",
   "pygments_lexer": "ipython3",
   "version": "3.7.10"
  }
 },
 "nbformat": 4,
 "nbformat_minor": 4
}
