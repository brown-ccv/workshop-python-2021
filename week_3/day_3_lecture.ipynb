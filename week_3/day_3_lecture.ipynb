{
 "cells": [
  {
   "cell_type": "markdown",
   "metadata": {},
   "source": [
    "# <center>LECTURE OVERVIEW </center>\n",
    "\n",
    "---\n",
    "\n",
    "## By the end of the lecture, you'll be able to:\n",
    "- interact with your system using the `os` module\n",
    "- interact with your system using the `shutil` module\n",
    "- interact with your system using the `pathlib` module\n",
    "\n",
    "NOTE: there won't be exercises during this lecture\n",
    "\n",
    "# <center>SYSTEM INTERACTION</center>\n",
    "\n",
    "---\n",
    "\n",
    "**<center>Q: How many people know how to use command line interface?<center>**\n",
    "\n",
    "Often times, you'll be doing tasks that are operating system (OS) dependent. For instance, you may need to navigate your file system or create, delete, and modify files and/or folders. Before we dive into how Python can automatically perform this OS tasks, a quick primer.\n",
    "\n",
    "# OS Primer\n",
    "\n",
    "A **shell** is a computer program that interacts with your OS, also called a **command line interface**, that allows you to control your computer using commands entered into the interface via keyboard rather than a graphical user interface (GUI) with a mouse/keyboard combination. Each shell is a bit difference depending on your operating system. For instance, the commands used in Unix based shells (i.e., Mac OSX and Linux) are different than the commands used in Windows based shells, with some slight similarities.\n",
    "\n",
    "At a high-level here are some useful commands:\n",
    "\n",
    "| Unix | Windows | Description |\n",
    "|:------:|:-------:|-------------|\n",
    "| `pwd` | `Get-Location` | return the current working directory |\n",
    "| `cd` | `Set-Location` | change directory |\n",
    "| `ls` | `Get-ChildItem` | list directory contents |\n",
    "| `mkdir` | `New-Item -ItemType Directory` | make directory |\n",
    "| `rm` | `Remove-Item` | remove directory entries |\n",
    "| `cp` | `Copy-Item` | copy files |\n",
    "| `man` | `Get-Help` | manual pages |\n",
    "\n",
    "Conveniently, Powershell has aliases that map to most of the Unix commands.\n",
    "\n",
    "**<center>DEMO TERMINAL</center>**\n",
    "    \n",
    "[Here](https://devhints.io/bash) is a Unix Bash shell cheat sheet.\n",
    "\n",
    "To learn more about the Unix Bash shell, check [this](https://www.gnu.org/savannah-checkouts/gnu/bash/manual/bash.html) out.\n",
    "\n",
    "[Here](http://ramblingcookiemonster.github.io/images/Cheat-Sheets/powershell-basic-cheat-sheet2.pdf) is a Windows Powershell cheat sheet.\n",
    "\n",
    "To learn more about the Windows PowerShell, check [this](https://docs.microsoft.com/en-us/powershell) out.\n",
    "\n",
    "# The `os` Module\n",
    "\n",
    "## <font color='LIGHTGRAY'>By the end of the lecture, you'll be able to:</font>\n",
    "- **interact with your system using the `os` module**\n",
    "- <font color='LIGHTGRAY'>interact with your system using the shutil module</font>\n",
    "- <font color='LIGHTGRAY'>interact with your system using the pathlib module</font>\n",
    "\n",
    "Python allows developers to use several OS-dependent functionalities with the Python `os` module. This package abstracts the functionality previously discussed of your platform."
   ]
  },
  {
   "cell_type": "code",
   "execution_count": null,
   "metadata": {},
   "outputs": [],
   "source": [
    "import os"
   ]
  },
  {
   "cell_type": "markdown",
   "metadata": {},
   "source": [
    "## Some Basic Functions "
   ]
  },
  {
   "cell_type": "markdown",
   "metadata": {},
   "source": [
    "To demonstrate how vast this module let's take a look at the methods within the module:"
   ]
  },
  {
   "cell_type": "code",
   "execution_count": null,
   "metadata": {},
   "outputs": [],
   "source": [
    "print(dir(os))"
   ]
  },
  {
   "cell_type": "markdown",
   "metadata": {},
   "source": [
    "As you can see, there are tons of methods for interacting with the OS but we will only cover a fraction of them. \n",
    "\n",
    "For instance, we can use the \n",
    "```python\n",
    "os.getcwd()\n",
    "```\n",
    "method to retrieve the path of the current working directory:"
   ]
  },
  {
   "cell_type": "code",
   "execution_count": null,
   "metadata": {},
   "outputs": [],
   "source": [
    "os.getcwd()"
   ]
  },
  {
   "cell_type": "markdown",
   "metadata": {},
   "source": [
    "## List Folders and Files\n",
    "\n",
    "To list the folders and files in the current directory, you can use the \n",
    "```python \n",
    "os.listdir()\n",
    "```\n",
    "method:"
   ]
  },
  {
   "cell_type": "code",
   "execution_count": null,
   "metadata": {},
   "outputs": [],
   "source": [
    "os.listdir()"
   ]
  },
  {
   "cell_type": "markdown",
   "metadata": {},
   "source": [
    "The \n",
    "```python\n",
    "os.walk(start_path, ...)\n",
    "```\n",
    "method generates the file names in a directory tree by walking the tree either top-down or bottom-up, from or to the `start_path`. \n",
    "\n",
    "For each directory in the tree rooted at `start_path`, it yields a 3-tuple `(dirpath, dirnames, filenames)`. \n",
    "\n",
    "For example, if we pass in the current working directory to `os.walk()` we get:"
   ]
  },
  {
   "cell_type": "code",
   "execution_count": null,
   "metadata": {},
   "outputs": [],
   "source": [
    "for dirpath, dirname, filename in os.walk(os.getcwd()):\n",
    "    if ('.ipynb_checkpoints' not in dirpath):\n",
    "        print(dirpath)\n",
    "        print(dirname)\n",
    "        print(filename)\n",
    "        print()"
   ]
  },
  {
   "cell_type": "markdown",
   "metadata": {},
   "source": [
    "To get the entire tree structure of this folder, lets write a function, `list_files()`, and use the `os.walk()` method to iterate over all the files in each folder of the current directory:"
   ]
  },
  {
   "cell_type": "code",
   "execution_count": null,
   "metadata": {},
   "outputs": [],
   "source": [
    "def list_files(start_path):\n",
    "    for root, dirs, files in os.walk(start_path):\n",
    "        if '.ipynb_checkpoints' not in root:                         # exclude hidden files/directories\n",
    "            level = root.replace(start_path, '').count(os.sep)       # os.sep counts separate pathname components (e.g., '/') \n",
    "            indent = ' ' * 4 * (level)                               # create indentation based on path level\n",
    "            print('{}{}/'.format(indent, os.path.basename(root)))    # os.path.basename(path) returns last directory in path\n",
    "            subindent = ' ' * 4 * (level + 1)                        # create sub-indentation based on next level \n",
    "            for file in files:\n",
    "                print('{}{}'.format(subindent, file))"
   ]
  },
  {
   "cell_type": "markdown",
   "metadata": {},
   "source": [
    "We will then call this function using the current working directory path:"
   ]
  },
  {
   "cell_type": "code",
   "execution_count": null,
   "metadata": {},
   "outputs": [],
   "source": [
    "start_path = os.getcwd()\n",
    "list_files(start_path)"
   ]
  },
  {
   "cell_type": "markdown",
   "metadata": {},
   "source": [
    "## Change Working Directory\n",
    "\n",
    "Let's navigate into the `day_3_assets` directory and see what's in there using the \n",
    "```python\n",
    "os.chdir(path)\n",
    "```\n",
    "method:"
   ]
  },
  {
   "cell_type": "code",
   "execution_count": null,
   "metadata": {},
   "outputs": [],
   "source": [
    "os.chdir('day_3_assets')"
   ]
  },
  {
   "cell_type": "code",
   "execution_count": null,
   "metadata": {},
   "outputs": [],
   "source": [
    "list_files(os.getcwd())"
   ]
  },
  {
   "cell_type": "markdown",
   "metadata": {},
   "source": [
    "# Creating Directories\n",
    "\n",
    "Now, let's create a new directory called `vender_flyers` in this directory using the \n",
    "```python\n",
    "os.mkdir(path, ...)\n",
    "```\n",
    "method:"
   ]
  },
  {
   "cell_type": "code",
   "execution_count": null,
   "metadata": {},
   "outputs": [],
   "source": [
    "os.mkdir('vender_flyers')"
   ]
  },
  {
   "cell_type": "code",
   "execution_count": null,
   "metadata": {},
   "outputs": [],
   "source": [
    "list_files(os.getcwd())"
   ]
  },
  {
   "cell_type": "markdown",
   "metadata": {},
   "source": [
    "## **<font color='ORANGE'>Caution</font>**\n",
    "\n",
    "Let's try to create a nested directory with `os.mkdir()`:"
   ]
  },
  {
   "cell_type": "code",
   "execution_count": null,
   "metadata": {},
   "outputs": [],
   "source": [
    "os.mkdir('past_bbq_events/2020')"
   ]
  },
  {
   "cell_type": "markdown",
   "metadata": {},
   "source": [
    "Ah we get a `FileNotFoundError`! The reason we get this error is because the module is looking for a directory called `past_bbq_events` to create the directory `2020`. Since `past_bbq_events` does not exist, it throws a `FileNotFoundError`.\n",
    "\n",
    "For situations like this, you will want to use the \n",
    "```python\n",
    "os.mkdirs(path, ...)\n",
    "```\n",
    "method instead, which creates multiple directories recursively:"
   ]
  },
  {
   "cell_type": "code",
   "execution_count": null,
   "metadata": {},
   "outputs": [],
   "source": [
    "os.makedirs('past_bbq_events/2020')"
   ]
  },
  {
   "cell_type": "code",
   "execution_count": null,
   "metadata": {},
   "outputs": [],
   "source": [
    "list_files(os.getcwd())"
   ]
  },
  {
   "cell_type": "markdown",
   "metadata": {},
   "source": [
    "## Removing Directories"
   ]
  },
  {
   "cell_type": "markdown",
   "metadata": {},
   "source": [
    "To remove a directory we created, use the \n",
    "```python\n",
    "os.rmdir(path, ...)\n",
    "```\n",
    "function:"
   ]
  },
  {
   "cell_type": "code",
   "execution_count": null,
   "metadata": {},
   "outputs": [],
   "source": [
    "os.rmdir('vender_flyers')"
   ]
  },
  {
   "cell_type": "code",
   "execution_count": null,
   "metadata": {},
   "outputs": [],
   "source": [
    "list_files(os.getcwd())"
   ]
  },
  {
   "cell_type": "markdown",
   "metadata": {},
   "source": [
    "## **<font color='ORANGE'>Caution</font>**\n",
    "\n",
    "Let's try and delete the nested directory structure of `past_bbq_events` and `2020` using `os.rmdir()`:"
   ]
  },
  {
   "cell_type": "code",
   "execution_count": null,
   "metadata": {},
   "outputs": [],
   "source": [
    "os.rmdir('past_bbq_events')"
   ]
  },
  {
   "cell_type": "markdown",
   "metadata": {},
   "source": [
    "Another error! But this time it throws a `OSError` saying that `past_bbq_events` is not empty which is correct because it has `2020` underneath it. With the `os.rmdir()` method is is not possible to remove a non-empty directory (similar to the Unix command-line version).\n",
    "\n",
    "Just like the `os.makedirs()` method, let's try \n",
    "```python\n",
    "os.removedirs(path)\n",
    "```\n",
    ", which recursively removes directories in a tree structure:"
   ]
  },
  {
   "cell_type": "code",
   "execution_count": null,
   "metadata": {},
   "outputs": [],
   "source": [
    "os.removedirs('past_bbq_events/2020')"
   ]
  },
  {
   "cell_type": "code",
   "execution_count": null,
   "metadata": {},
   "outputs": [],
   "source": [
    "list_files(os.getcwd())"
   ]
  },
  {
   "cell_type": "markdown",
   "metadata": {},
   "source": [
    "## Example with Data Processing\n",
    "\n",
    "As of now, we have explored how to view, create, and remove a nested directory structure. Now let's see an example of how the `os` module helps with data processing.\n",
    "\n",
    "For that, let's dive into the `event_tables` directory:"
   ]
  },
  {
   "cell_type": "code",
   "execution_count": null,
   "metadata": {},
   "outputs": [],
   "source": [
    "os.chdir('event_tables')"
   ]
  },
  {
   "cell_type": "code",
   "execution_count": null,
   "metadata": {},
   "outputs": [],
   "source": [
    "list_files(os.getcwd())"
   ]
  },
  {
   "cell_type": "markdown",
   "metadata": {},
   "source": [
    "Let's merge the data from all of the events into a single CSV file:"
   ]
  },
  {
   "cell_type": "code",
   "execution_count": null,
   "metadata": {},
   "outputs": [],
   "source": [
    "import csv\n",
    "\n",
    "# create a list to hold the data for each entry\n",
    "entry_lst = []\n",
    "\n",
    "# loop through all files and add CSV data to the list\n",
    "for root, dirs, files in os.walk(os.getcwd()):\n",
    "    if '.ipynb_checkpoints' not in root:\n",
    "        for file in files:\n",
    "            with open(file) as f:\n",
    "                entry_lst += list(csv.DictReader(f))\n",
    "\n",
    "# create a new CSV file with merged data\n",
    "with open('bbq_event_merged.csv', 'w') as bbq_file:\n",
    "    fieldnames = list(entry_lst[0].keys())\n",
    "    bbq_writer = csv.DictWriter(bbq_file, fieldnames=fieldnames)\n",
    "    \n",
    "    bbq_writer.writeheader()\n",
    "    for entry in entry_lst:\n",
    "        bbq_writer.writerow(dict(entry))"
   ]
  },
  {
   "cell_type": "code",
   "execution_count": null,
   "metadata": {},
   "outputs": [],
   "source": [
    "list_files(os.getcwd())"
   ]
  },
  {
   "cell_type": "markdown",
   "metadata": {},
   "source": [
    "Now, we will reset the current directory to the root week directory along with some misc. cleanup:"
   ]
  },
  {
   "cell_type": "code",
   "execution_count": null,
   "metadata": {},
   "outputs": [],
   "source": [
    "os.remove(\"bbq_event_merged.csv\")\n",
    "os.chdir('../..')\n",
    "print(os.getcwd())"
   ]
  },
  {
   "cell_type": "markdown",
   "metadata": {},
   "source": [
    "The `os` module has a lot more to offer. To learn more, check out the [documentation](https://docs.python.org/3/library/os.html)."
   ]
  },
  {
   "cell_type": "markdown",
   "metadata": {},
   "source": [
    "# The `shutil` Module\n",
    "\n",
    "## <font color='LIGHTGRAY'>By the end of the lecture, you'll be able to:</font>\n",
    "- <font color='LIGHTGRAY'>interact with your system using the os module</font>\n",
    "- **interact with your system using the `shutil` module**\n",
    "- <font color='LIGHTGRAY'>interact with your system using the pathlib module</font>\n",
    "\n",
    "The `shutil` module enables develpers to operate with file objects easily and without having to dive into file objects a lot. For daily file and directory management tasks, the `shutil` module provides a higher level interface that is easier to use than `os` module for certain tasks."
   ]
  },
  {
   "cell_type": "code",
   "execution_count": null,
   "metadata": {},
   "outputs": [],
   "source": [
    "import shutil"
   ]
  },
  {
   "cell_type": "markdown",
   "metadata": {},
   "source": [
    "## Copying a File\n",
    "\n",
    "Using the \n",
    "```python\n",
    "shutil.copyfile(source, destination, ...)\n",
    "```\n",
    "function, you can easily copy a file an existing file, `source`, to a new file, `destination`, in the current directory:"
   ]
  },
  {
   "cell_type": "code",
   "execution_count": null,
   "metadata": {},
   "outputs": [],
   "source": [
    "os.chdir('day_3_assets')\n",
    "\n",
    "print('BEFORE:')\n",
    "list_files(os.getcwd())\n",
    "\n",
    "shutil.copyfile('bbq_notification.txt', 'bbq_notification_copy.txt')\n",
    "\n",
    "print()\n",
    "print('AFTER:')\n",
    "list_files(os.getcwd())"
   ]
  },
  {
   "cell_type": "markdown",
   "metadata": {},
   "source": [
    "## Copying Files to Another Directory\n",
    "\n",
    "Using the \n",
    "```python\n",
    "shutil.copy(source, destination, ...)\n",
    "```\n",
    "function, we can easily copy a file to another directory:"
   ]
  },
  {
   "cell_type": "code",
   "execution_count": null,
   "metadata": {},
   "outputs": [],
   "source": [
    "os.mkdir('backups')\n",
    "\n",
    "print('BEFORE:')\n",
    "list_files(os.getcwd())\n",
    "\n",
    "shutil.copy('bbq_notification_copy.txt', 'backups')\n",
    "\n",
    "print()\n",
    "print('AFTER:')\n",
    "list_files(os.getcwd())"
   ]
  },
  {
   "cell_type": "markdown",
   "metadata": {},
   "source": [
    "## Copying Files with Metadata\n",
    "\n",
    "If you need to make an exact clone of the file, along with the permissions and the metadata of a file as well, can can use the\n",
    "```python\n",
    "shutil.copy2(source, destination, ...)\n",
    "```\n",
    "function.\n",
    "\n",
    "**<center>NOTE: this might not completely work on all file systems.</center>**\n",
    "\n",
    "Here, we create a function `file_metadata()` to display the file metadata then copy a file using `shutil.copy2()` where **only the Mode of the file and Modified date is preserved**:"
   ]
  },
  {
   "cell_type": "code",
   "execution_count": null,
   "metadata": {},
   "outputs": [],
   "source": [
    "import time\n",
    "\n",
    "def file_metadata(file_name):\n",
    "    stat_info = os.stat(file_name)\n",
    "    print('  Mode    :', oct(stat_info.st_mode))\n",
    "    print('  Created :', time.ctime(stat_info.st_ctime))\n",
    "    print('  Accessed:', time.ctime(stat_info.st_atime))\n",
    "    print('  Modified:', time.ctime(stat_info.st_mtime))\n",
    "    \n",
    "print(\"shutil.copy2()\")\n",
    "print(\"--------------\")\n",
    "print('SOURCE FILE:')\n",
    "file_metadata('bbq_notification_copy.txt')\n",
    "\n",
    "shutil.copy2('bbq_notification_copy.txt', 'backups')\n",
    "\n",
    "print('\\nDESTINTATION FILE:')\n",
    "file_metadata('backups/bbq_notification_copy.txt')\n",
    "\n",
    "print(\"\\nshutil.copy()\")\n",
    "print(\"--------------\")\n",
    "print('SOURCE FILE:')\n",
    "file_metadata('bbq_notification_copy.txt')\n",
    "\n",
    "shutil.copy('bbq_notification_copy.txt', 'backups')\n",
    "\n",
    "print()\n",
    "print('DESTINTATION FILE:')\n",
    "file_metadata('backups/bbq_notification_copy.txt')"
   ]
  },
  {
   "cell_type": "markdown",
   "metadata": {},
   "source": [
    "On certain systems, the Created and Accessed time would match exactly."
   ]
  },
  {
   "cell_type": "markdown",
   "metadata": {},
   "source": [
    "## Replicating a Complete Directory\n",
    "\n",
    "With the \n",
    "```python\n",
    "shutil.copytree(source, destination, ...)\n",
    "```\n",
    "function, you can completely copy a directory tree recursively. In other words, if there are more directories inside a directory, that directory will be cloned as well:"
   ]
  },
  {
   "cell_type": "code",
   "execution_count": null,
   "metadata": {},
   "outputs": [],
   "source": [
    "print(\"BEFORE:\")\n",
    "list_files(os.getcwd())\n",
    "\n",
    "shutil.copytree('backups', 'backups_backups')\n",
    "\n",
    "print(\"AFTER:\")\n",
    "list_files(os.getcwd())"
   ]
  },
  {
   "cell_type": "markdown",
   "metadata": {},
   "source": [
    "## **<font color='ORANGE'>Caution</font>**\n",
    "\n",
    "The new directory **must not exist** before running this command. Otherwise, you will get a `FileExistsError`:"
   ]
  },
  {
   "cell_type": "code",
   "execution_count": null,
   "metadata": {},
   "outputs": [],
   "source": [
    "shutil.copytree('backups', 'backups_backups')"
   ]
  },
  {
   "cell_type": "markdown",
   "metadata": {},
   "source": [
    "## Removing a Directory\n",
    "\n",
    "You can remove a directory using the\n",
    "```python\n",
    "shutil.rmtree(path, ...)\n",
    "```\n",
    "function. There's no need to recursively remove files or close file handling connections:"
   ]
  },
  {
   "cell_type": "code",
   "execution_count": null,
   "metadata": {},
   "outputs": [],
   "source": [
    "print(\"BEFORE:\")\n",
    "list_files(os.getcwd())\n",
    "\n",
    "shutil.rmtree('backups_backups')\n",
    "\n",
    "print()\n",
    "print(\"AFTER:\")\n",
    "list_files(os.getcwd())"
   ]
  },
  {
   "cell_type": "markdown",
   "metadata": {},
   "source": [
    "## Monitoring Filesystem Space\n",
    "\n",
    "Lastly, we can get some useful information about the storage of our file system by using the\n",
    "```python\n",
    "shutil.disk_usage(path)\n",
    "```\n",
    "function:"
   ]
  },
  {
   "cell_type": "code",
   "execution_count": null,
   "metadata": {},
   "outputs": [],
   "source": [
    "total_b, used_b, free_b = shutil.disk_usage('.')\n",
    "\n",
    "gb = 10 ** 9\n",
    "\n",
    "print('Total: {:6.2f} GB'.format(total_b / gb))\n",
    "print('Used : {:6.2f} GB'.format(used_b / gb))\n",
    "print('Free : {:6.2f} GB'.format(free_b / gb))"
   ]
  },
  {
   "cell_type": "markdown",
   "metadata": {},
   "source": [
    "Some misc. cleanup:"
   ]
  },
  {
   "cell_type": "code",
   "execution_count": null,
   "metadata": {},
   "outputs": [],
   "source": [
    "shutil.rmtree('backups')\n",
    "os.remove(\"bbq_notification_copy.txt\")"
   ]
  },
  {
   "cell_type": "markdown",
   "metadata": {},
   "source": [
    "For more on the `shutil` module, check out the [documentation](https://docs.python.org/3/library/shutil.html)."
   ]
  },
  {
   "cell_type": "markdown",
   "metadata": {},
   "source": [
    "# The `pathlib` Module\n",
    "\n",
    "## <font color='LIGHTGRAY'>By the end of the lecture, you'll be able to:</font>\n",
    "- <font color='LIGHTGRAY'>interact with your system using the os module</font>\n",
    "- <font color='LIGHTGRAY'>interact with your system using the shutil module</font>\n",
    "- **interact with your system using the `pathlib` module**\n",
    "\n",
    "The `pathlib` module in Python simplifies the way in working with files and folders through a range of classes, representing filesystem path semantics appropriate for different operating systems. Specifically, the `Path` class within the module lets developers **manipulate paths without worrying about the semantics of their OS**.\n",
    "\n",
    "For instance, say you were trying to parse a file path in Windows and retrieve the last directory in `path`, you would do something like this:"
   ]
  },
  {
   "cell_type": "code",
   "execution_count": null,
   "metadata": {},
   "outputs": [],
   "source": [
    "def last_dir_parser(path):\n",
    "    return path.split(\"\\\\\")[-2]\n",
    "\n",
    "last_dir_parser(\"C:\\\\Users\\\\Matt\\\\Documents\\\\file.txt\")"
   ]
  },
  {
   "cell_type": "markdown",
   "metadata": {},
   "source": [
    "Someone reading your parser might not string what you are trying to do and the parser is only realive to a Windows path. This difference can lead to hard-to-spot errors.\n",
    "\n",
    "But you still might be asking youself, \"why should I use `pathlib` over other Python modules that we've learned such as `os`?\"\n",
    "\n",
    "Here's why.\n",
    "\n",
    "## Why use the `pathlib` Module?\n",
    "\n",
    "Let's say we want to make a file called `notifications/parking_notification.txt` within the current directory that is not OS path dependent. First, we would have to create the correct path and to do this with the `os` module, we would use the\n",
    "```python\n",
    "os.path.join(dirpath, name)\n",
    "```\n",
    "function and `os.getcwd()` function:"
   ]
  },
  {
   "cell_type": "code",
   "execution_count": null,
   "metadata": {},
   "outputs": [],
   "source": [
    "outpath = os.path.join(os.getcwd(), 'notifications')\n",
    "outpath_file = os.path.join(outpath, 'parking_notification.txt')\n",
    "print(outpath_file)"
   ]
  },
  {
   "cell_type": "markdown",
   "metadata": {},
   "source": [
    "Although this code works, it's hard to read and maintain. Imagine how this code would look if we wanted to create an new file inside multiple nested directories?\n",
    "\n",
    "The same code can be re-written using the `Path` class from the `pathlib` module along with the \n",
    "```python\n",
    "Path.cwd()\n",
    "```\n",
    "method that gets the current working directory:"
   ]
  },
  {
   "cell_type": "code",
   "execution_count": null,
   "metadata": {},
   "outputs": [],
   "source": [
    "from pathlib import Path"
   ]
  },
  {
   "cell_type": "code",
   "execution_count": null,
   "metadata": {},
   "outputs": [],
   "source": [
    "outpath = Path.cwd() / 'notifications' / 'parking_notification.txt'\n",
    "print(outpath)"
   ]
  },
  {
   "cell_type": "markdown",
   "metadata": {},
   "source": [
    "Clearly, this format is much easier to parse. The code above uses the `/` operator instead of `os.path.join()` to combine parts of the path into a compound path object.\n",
    "\n",
    "Another benefit of using the `pathlib` method is that a `Path` object is created rather than creating a string representation of the path (which can be troublesome depending on your filesystem).\n",
    "\n",
    "## Reading and Writing Files\n",
    "\n",
    "Traditionally, we use the built-in `open()` function to read or write files in Python. This is still true as the `open()` function can use `Path` objects directly.\n",
    "\n",
    "For example:"
   ]
  },
  {
   "cell_type": "code",
   "execution_count": null,
   "metadata": {},
   "outputs": [],
   "source": [
    "path = Path.cwd() / 'bbq_notification.txt'\n",
    "with open(path, 'r') as f:\n",
    "    print(f.readlines())"
   ]
  },
  {
   "cell_type": "markdown",
   "metadata": {},
   "source": [
    "An equivalent alternate is to call\n",
    "```python\n",
    "Path.open(mode='r', ...)\n",
    "```\n",
    "on the `Path` object:"
   ]
  },
  {
   "cell_type": "code",
   "execution_count": null,
   "metadata": {},
   "outputs": [],
   "source": [
    "path = Path.cwd() / 'bbq_notification.txt'\n",
    "with path.open() as f:\n",
    "    print(f.readlines())"
   ]
  },
  {
   "cell_type": "markdown",
   "metadata": {},
   "source": [
    "For simple reading and writing of files, there are a couple of convenience methods in the `pathlib` library:\n",
    "\n",
    "- `.read_text()`: open the path in text mode and return the contents as a string.\n",
    "- `.read_bytes()`: open the path in binary/bytes mode and return the contents as a bytestring.\n",
    "- `.write_text()`: open the path and write string data to it.\n",
    "- `.write_bytes()`: open the path in binary/bytes mode and write data to it.\n",
    "\n",
    "For example:"
   ]
  },
  {
   "cell_type": "code",
   "execution_count": null,
   "metadata": {},
   "outputs": [],
   "source": [
    "path = Path.cwd() / 'bbq_notification.txt'\n",
    "path.read_text()"
   ]
  },
  {
   "cell_type": "markdown",
   "metadata": {},
   "source": [
    "## Picking Out Components of a Path\n",
    "\n",
    "The different parts of a path are conveniently available as properties. Basic examples include:\n",
    "\n",
    "- `.name`: the file name without any directory\n",
    "- `.parent`: the directory containing the file, or the parent directory if path is a directory\n",
    "- `.stem`: the file name without the suffix\n",
    "- `.suffix`: the file extension\n",
    "- `.anchor`: the part of the path before the directories\n",
    "\n",
    "For example:"
   ]
  },
  {
   "cell_type": "code",
   "execution_count": null,
   "metadata": {},
   "outputs": [],
   "source": [
    "path = Path.cwd() / 'bbq_notification.txt'\n",
    "path"
   ]
  },
  {
   "cell_type": "code",
   "execution_count": null,
   "metadata": {},
   "outputs": [],
   "source": [
    "path.name"
   ]
  },
  {
   "cell_type": "code",
   "execution_count": null,
   "metadata": {},
   "outputs": [],
   "source": [
    "path.stem"
   ]
  },
  {
   "cell_type": "code",
   "execution_count": null,
   "metadata": {},
   "outputs": [],
   "source": [
    "path.suffix"
   ]
  },
  {
   "cell_type": "code",
   "execution_count": null,
   "metadata": {},
   "outputs": [],
   "source": [
    "path.parent"
   ]
  },
  {
   "cell_type": "code",
   "execution_count": null,
   "metadata": {},
   "outputs": [],
   "source": [
    "path.parent.parent"
   ]
  },
  {
   "cell_type": "code",
   "execution_count": null,
   "metadata": {},
   "outputs": [],
   "source": [
    "path.anchor"
   ]
  },
  {
   "cell_type": "markdown",
   "metadata": {},
   "source": [
    "Note that `.parent` returns a new `Path` object, whereas the other properties return strings. \n",
    "\n",
    "This means for instance that `.parent` can be chained as in the last example or even combined with `/` to create completely new paths:"
   ]
  },
  {
   "cell_type": "code",
   "execution_count": null,
   "metadata": {},
   "outputs": [],
   "source": [
    "path.parent.parent / ('new' + path.suffix)"
   ]
  },
  {
   "cell_type": "markdown",
   "metadata": {},
   "source": [
    "For an excellent `pathlib` cheatsheet that visuallizes these representations and methods, check [this](https://github.com/chris1610/pbpython/blob/master/extras/Pathlib-Cheatsheet.pdf) out."
   ]
  },
  {
   "cell_type": "markdown",
   "metadata": {},
   "source": [
    "## Examples using `pathlib`\n",
    "\n",
    "Here we will show some examples on how to use `pathlib` with some simple challenges.\n",
    "\n",
    "### Counting Files\n",
    "\n",
    "There are a few different ways to list many files. The simplest is the \n",
    "```python\n",
    "Path.iterdir()\n",
    "```\n",
    "method, which iterates over all files in the given directory. The following example combines `Path.iterdir()` with the `collections.Counter` class to count how many files there are of each filetype in the current directory:"
   ]
  },
  {
   "cell_type": "code",
   "execution_count": null,
   "metadata": {},
   "outputs": [],
   "source": [
    "import collections\n",
    "\n",
    "collections.Counter(p.suffix for p in Path.cwd().iterdir())"
   ]
  },
  {
   "cell_type": "markdown",
   "metadata": {},
   "source": [
    "### Display a Directory Tree\n",
    "\n",
    "In this next example, we will define a function, `tree()`, (like our other function `list_files()`) that will print a visual tree representing the file hierarchy, rooted at a given `directory`."
   ]
  },
  {
   "cell_type": "code",
   "execution_count": null,
   "metadata": {},
   "outputs": [],
   "source": [
    "def tree(directory):\n",
    "    print(f'+ {directory}')\n",
    "    for path in sorted(directory.rglob('*')):             # list subdirectories\n",
    "        depth = len(path.relative_to(directory).parts)    # use .relative_to() to get how far we are from the root\n",
    "        spacer = '    ' * depth\n",
    "        print(f'{spacer}+ {path.name}')"
   ]
  },
  {
   "cell_type": "code",
   "execution_count": null,
   "metadata": {},
   "outputs": [],
   "source": [
    "tree(Path.cwd())"
   ]
  },
  {
   "cell_type": "markdown",
   "metadata": {},
   "source": [
    "To read more about the `pathlib` module, check out the [documentation](https://docs.python.org/3/library/pathlib.html)."
   ]
  },
  {
   "cell_type": "markdown",
   "metadata": {},
   "source": [
    "# Conclusion\n",
    "\n",
    "## You are now able to:\n",
    "- interact with your system using the `os` module\n",
    "- interact with your system using the `shutil` module\n",
    "- interact with your system using the `pathlib` module\n",
    "\n",
    "# References\n",
    "- https://mathieubuisson.github.io/powershell-linux-bash/\n",
    "- https://devhints.io/bash\n",
    "- https://stackabuse.com/introduction-to-python-os-module/\n",
    "- https://docs.python.org/3/library/os.html\n",
    "- https://www.journaldev.com/20536/python-shutil-module#download-the-source-code\n",
    "- https://docs.python.org/3/library/shutil.html\n",
    "- https://stackabuse.com/introduction-to-the-python-pathlib-module/\n",
    "- https://realpython.com/python-pathlib/\n"
   ]
  }
 ],
 "metadata": {
  "kernelspec": {
   "display_name": "workshop",
   "language": "python",
   "name": "workshop"
  },
  "language_info": {
   "codemirror_mode": {
    "name": "ipython",
    "version": 3
   },
   "file_extension": ".py",
   "mimetype": "text/x-python",
   "name": "python",
   "nbconvert_exporter": "python",
   "pygments_lexer": "ipython3",
   "version": "3.8.8"
  }
 },
 "nbformat": 4,
 "nbformat_minor": 4
}
