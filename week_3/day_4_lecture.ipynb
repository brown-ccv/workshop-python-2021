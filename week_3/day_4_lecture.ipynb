{
 "cells": [
  {
   "cell_type": "markdown",
   "metadata": {},
   "source": [
    "# <center>LECTURE OVERVIEW </center>\n",
    "\n",
    "---\n",
    "\n",
    "## By the end of the lecture, you'll be able to:\n",
    "- pattern match with string methods\n",
    "- pattern match regular expressions using the `re` module\n",
    "- pattern match filenames using the `glob` and `pathlib` modules\n",
    "- handle the complexities of dates and times using the `datetime` and `dateutil` modules\n",
    "- archive and unarchive files using the `zipfile` and `shutil` modules\n",
    "- serialize and deserialize Python objects using the `pickle` module\n",
    "\n",
    "# <center>PATTERN MATCHING</center>\n",
    "\n",
    "---\n",
    "\n",
    "How often do you Google for something you are looking for in the web of the internet? How often do you search for text in a document or webpage by pressing `Ctlr-F` and typing in the words you're looking for? These technologies all use some sort of pattern matching to solve a problem and there are many ways to go about pattern matching in Python.\n",
    "\n",
    "For instance, you've learned to use the `in` operator to see if a given string is a substring of another string:"
   ]
  },
  {
   "cell_type": "code",
   "execution_count": null,
   "metadata": {},
   "outputs": [],
   "source": [
    "'apples' in \"I love apples!\""
   ]
  },
  {
   "cell_type": "markdown",
   "metadata": {},
   "source": [
    "You have also learned how to index and split strings that can used with comparison operators:"
   ]
  },
  {
   "cell_type": "code",
   "execution_count": null,
   "metadata": {},
   "outputs": [],
   "source": [
    "\"apples\"[0] == 'z'"
   ]
  },
  {
   "cell_type": "code",
   "execution_count": null,
   "metadata": {},
   "outputs": [],
   "source": [
    "\"apples\"[-2] != 's'"
   ]
  },
  {
   "cell_type": "markdown",
   "metadata": {},
   "source": [
    "# String Methods for Pattern Matching\n",
    "\n",
    "## <font color='LIGHTGRAY'>By the end of the lecture, you'll be able to:</font>\n",
    "- **pattern match with string methods**\n",
    "- <font color='LIGHTGRAY'>pattern match regular expressions using the re module</font>\n",
    "- <font color='LIGHTGRAY'>pattern match filenames using the glob and pathlib modules</font>\n",
    "- <font color='LIGHTGRAY'>handle the complexities of dates and times using the datetime and dateutil modules</font>\n",
    "- <font color='LIGHTGRAY'>archive and unarchive files using the zipfile and shutil modules</font>\n",
    "- <font color='LIGHTGRAY'>serialize and deserialize Python objects using the pickle module</font>\n",
    "\n",
    "Python has several built-in functions associated with the string datatype. We'll go over several different functions that we can use for pattern matching.\n",
    "\n",
    "Specifically, the string methods that will evaluate to a `Boolean` value. These methods are useful when, for example, we are creating forms for users to fill in. There are a number of string methods that will return `Boolean` values:\n",
    "\n",
    "- `str.isalnum()`: String consists of only alphanumeric characters (no symbols)\n",
    "- `str.isalpha()`: String consists of only alphabetic characters (no symbols)\n",
    "- `str.islower()`: String’s alphabetic characters are all lower case\n",
    "- `str.isnumeric()`: String consists of only numeric characters\n",
    "- `str.isspace()`: String consists of only whitespace characters\n",
    "- `str.istitle()`: String is in title case\n",
    "- `str.isupper()`: String’s alphabetic characters are all upper case\n",
    "- `str.startswith(val)`: String starts with the specified value\n",
    "- `str.endswith(val)`: String ends with the specified value\n",
    "- `str.find(substring, start=None, end=None)`: Searches the target string for a given substring\n",
    "\n",
    "Let's see a few of these in action:"
   ]
  },
  {
   "cell_type": "code",
   "execution_count": null,
   "metadata": {},
   "outputs": [],
   "source": [
    "\"5\".isnumeric()"
   ]
  },
  {
   "cell_type": "code",
   "execution_count": null,
   "metadata": {},
   "outputs": [],
   "source": [
    "\"abcdef\".isnumeric()"
   ]
  },
  {
   "cell_type": "markdown",
   "metadata": {},
   "source": [
    "Checking whether characters are lower case, upper case, or title case, can help us to sort our data appropriately. It can also provide us with the opportunity to standardize data we collect by checking and then modifying strings as needed:"
   ]
  },
  {
   "cell_type": "code",
   "execution_count": null,
   "metadata": {},
   "outputs": [],
   "source": [
    "movie = \"2012: THE KINGS OF BBQ BARBECUE KUWAIT\"\n",
    "book = \"The Barbecue! Bible\"\n",
    "poem = \"fred could bbq before he could read\"\n",
    "\n",
    "print(f\"movie.islower(): {movie.islower()}\")\n",
    "print(f\"movie.isupper(): {movie.isupper()}\")\n",
    " \n",
    "print(f\"book.istitle(): {book.istitle()}\")\n",
    "print(f\"book.isupper(): {book.isupper()}\")\n",
    " \n",
    "print(f\"poem.istitle(): {poem.istitle()}\")\n",
    "print(f\"poem.islower(): {poem.islower()}\")"
   ]
  },
  {
   "cell_type": "markdown",
   "metadata": {},
   "source": [
    "We can also chain these with logical operators:"
   ]
  },
  {
   "cell_type": "code",
   "execution_count": null,
   "metadata": {},
   "outputs": [],
   "source": [
    "print(\n",
    "    f\"Does the movie title start with '2012' and is upper case?: {movie.startswith('2012') & movie.isupper()}\"\n",
    ")\n",
    "\n",
    "print(\n",
    "    f\"Is 'fred' in the poem and ends with 'city'?: {('fred' in poem) & (poem.endswith('city'))}\"\n",
    ")"
   ]
  },
  {
   "cell_type": "markdown",
   "metadata": {},
   "source": [
    "To find if a string contains a particular substring you can use the `str.find()` method that will return the lowest index in the string that the substring is found:"
   ]
  },
  {
   "cell_type": "code",
   "execution_count": null,
   "metadata": {},
   "outputs": [],
   "source": [
    "# show readable indexes\n",
    "for i in range(len(book)):\n",
    "    print(f'{i:2d} {book[i]}')\n",
    "\n",
    "print(f\"book.find('Bible'): {book.find('Bible')}\")"
   ]
  },
  {
   "cell_type": "markdown",
   "metadata": {},
   "source": [
    "To learn more about string methods, check out the [documentation](https://docs.python.org/3.8/library/stdtypes.html#string-methods)."
   ]
  },
  {
   "cell_type": "markdown",
   "metadata": {},
   "source": [
    "# Regular Expressions\n",
    "\n",
    "**Regular expressions**, also known as **regexes** (pronounced reg-EX-is), is a sequence of characters that can be used to define a search pattern for finding text. To use regex, you sepcify the rules for the set of possible strings that you want to match and then ask youself:\n",
    "*<center>\"Does this string match the pattern?\"</center>* \n",
    "*<center>\"Is there a match for the pattern anywhere in this string?\"</center>*\n",
    "\n",
    "## Syntax\n",
    "\n",
    "Since a regex is a pattern that aims to match an input string, here are some special characters and patterns you can use to match strings:\n",
    "\n",
    "| Metacharacter | Description |\n",
    "|:---------------:|-------------|\n",
    "| `[] ` | Specifies a character class. For example, `[abc]` matches \"a\", \"b\", or \"c\". |\n",
    "| `()` | Creates a group. For example, `(ab)*` matches \"\", \"ab\", \"abab\", \"ababab\", and so on. |\n",
    "| `*` | Matches zero or more repetitions. For example, `ab*c` matches \"ac\", \"abc\", \"abbbc\", etc. |\n",
    "| `+` | Matches one or more repetitions. For example, `ab+c` matches \"abc\", \"abbc\", \"abbbc\", and so on, but not \"ac\". |\n",
    "| `?` | Matches the preceding element zero or one time. For example, `ab?c` matches only \"ac\" or \"abc\". Additionally, it matches the ending position of the string or the position just before a string-ending newline, like the `endsWith()` function. In line-based tools, it matches the ending position of any line.|\n",
    "| `\\|` | Designates alternation. For example, `abc\\|def` can match either \"abc\" or \"def\". |\n",
    "| `.` | Matches any single character except newline. For example, `a.c` matches \"abc\", etc., but `[a.c]` matches only \"a\", \".\", or \"c\". |\n",
    "| `^` | Matches the starting position in the string, like the `startsWith()` function. In line-based tools, it matches the starting position of any line. |\n",
    "| `{}` | Matches an explicity specified number of repetitions. |\n",
    "| `<>` | Creates a named group. |\n",
    "| `$` | Anchors a match at the end of a string. |\n",
    "| `\\`| Escapes a metacharacter of its special meaning, introduces a special character class, or introduces a grouping backreference. |\n",
    "\n",
    "If you want to use regex metacharacters in a Python string, you must insert a `r` before the string:\n",
    "```python\n",
    "regex_pattern = r'[abc]'\n",
    "```\n",
    "\n",
    "There are also a list of special sequences that consist of `\\` and a character from the list below:\n",
    "\n",
    "| Metacharacter | Description |\n",
    "|:-------------:|-------------|\n",
    "| `\\number` | Matches groups of the same `number` |\n",
    "| `\\A` | Matches only at the start of the string |\n",
    "| `\\b` | Matches a empty string, but only at the beginning or end of a word |\n",
    "| `\\B` | Matches the empty string, but only when it is not at the beginning or end of a word |\n",
    "| `\\d` | Matches digits |\n",
    "| `\\D` | Matches character that is not a digit |\n",
    "| `\\s` | Matches whitespace characters |\n",
    "| `\\S` | Matches non-whitespace characters |\n",
    "| `\\w` | Matches words |\n",
    "| `\\W` | Matches non-words |\n",
    "| `\\Z` | Matches only at the end of the string |\n",
    "\n",
    "You can read more about regex [here](https://en.wikipedia.org/wiki/Regular_expression).\n",
    "\n",
    "## The `re` Module\n",
    "\n",
    "## <font color='LIGHTGRAY'>By the end of the lecture, you'll be able to:</font>\n",
    "- <font color='LIGHTGRAY'>pattern match with string methods</font>\n",
    "- **pattern match regular expressions using the `re` module**\n",
    "- <font color='LIGHTGRAY'>pattern match filenames using the glob and pathlib modules</font>\n",
    "- <font color='LIGHTGRAY'>handle the complexities of dates and times using the datetime and dateutil modules</font>\n",
    "- <font color='LIGHTGRAY'>archive and unarchive files using the zipfile and shutil modules</font>\n",
    "- <font color='LIGHTGRAY'>serialize and deserialize Python objects using the pickle module</font>\n",
    "\n",
    "\n",
    "There are several methods that are available with the built-in `re` module and we are going to discuss the most commonly used methods. "
   ]
  },
  {
   "cell_type": "code",
   "execution_count": null,
   "metadata": {},
   "outputs": [],
   "source": [
    "import re"
   ]
  },
  {
   "cell_type": "markdown",
   "metadata": {},
   "source": [
    "Note, most of these methods return a [Match object](https://docs.python.org/3/library/re.html#match-objects) which always has a boolean value of `True`. This makes it convenient to test if there is a match with a simple `if` statement.\n",
    "\n",
    "1. ```python\n",
    "re.match(pattern, string, ...)\n",
    "```\n",
    ": return `Match` object if `pattern` is a match at the *beginning* of a `string`"
   ]
  },
  {
   "cell_type": "code",
   "execution_count": null,
   "metadata": {},
   "outputs": [],
   "source": [
    "string = 'I LOVE BBQ!'\n",
    "\n",
    "result1 = re.match('BBQ', string)\n",
    "print(result1)\n",
    "\n",
    "result2 = re.match('I', string)\n",
    "print(result2)"
   ]
  },
  {
   "cell_type": "markdown",
   "metadata": {},
   "source": [
    "You can pass in a start position and end position parameters to `re.match()` but you might as well use the `re.search()` method that allows you to locate a match string anywhere.\n",
    "\n",
    "To read more about `re.match()`, check out help output:"
   ]
  },
  {
   "cell_type": "code",
   "execution_count": null,
   "metadata": {},
   "outputs": [],
   "source": [
    "help(re.match)"
   ]
  },
  {
   "cell_type": "markdown",
   "metadata": {},
   "source": [
    "2. ```python\n",
    "re.search(pattern, string, ...)\n",
    "```\n",
    ": returns `Match` object if `pattern` matches *anywhere* in a given `string`"
   ]
  },
  {
   "cell_type": "code",
   "execution_count": null,
   "metadata": {},
   "outputs": [],
   "source": [
    "string = 'Mark is bringing his 3 kids to the BBQ.'\n",
    "\n",
    "if re.search('kids', string):\n",
    "    print('Kids at the BBQ!')\n",
    "else:\n",
    "    print('No kids at the BBQ.')"
   ]
  },
  {
   "cell_type": "markdown",
   "metadata": {},
   "source": [
    "To read more about `re.find()`, check out help output:"
   ]
  },
  {
   "cell_type": "code",
   "execution_count": null,
   "metadata": {},
   "outputs": [],
   "source": [
    "help(re.search)"
   ]
  },
  {
   "cell_type": "markdown",
   "metadata": {},
   "source": [
    "3. ```python\n",
    "re.findall(pattern, string, ...)\n",
    "```\n",
    ": finds and retrieves a list of all occurances of `pattern` in a given `string`"
   ]
  },
  {
   "cell_type": "code",
   "execution_count": null,
   "metadata": {},
   "outputs": [],
   "source": [
    "string = \"Mark is bringing 3 kids, Joanne is bringing 0 kids, and Georgie is bringing 1 kid.\"\n",
    "\n",
    "re.findall(r'(\\d+)[^\\d]+[kid]', string)"
   ]
  },
  {
   "cell_type": "markdown",
   "metadata": {},
   "source": [
    "To read more about `re.findall()`, check out help output:"
   ]
  },
  {
   "cell_type": "code",
   "execution_count": null,
   "metadata": {},
   "outputs": [],
   "source": [
    "help(re.findall)"
   ]
  },
  {
   "cell_type": "markdown",
   "metadata": {},
   "source": [
    "4. ```python\n",
    "re.sub(pattern, replace, string, ...)\n",
    "```\n",
    ": search `string` for a `pattern` and substitute with a new string `replace` if `pattern` occurs"
   ]
  },
  {
   "cell_type": "code",
   "execution_count": null,
   "metadata": {},
   "outputs": [],
   "source": [
    "string = 'I will have chicken, mashed potatoes, and a beer from the BBQ menu. Please and thank you!'\n",
    "pattern = 'chicken'\n",
    "repl = 'pulled pork'\n",
    "\n",
    "re.sub(pattern, repl, string)"
   ]
  },
  {
   "cell_type": "markdown",
   "metadata": {},
   "source": [
    "To read more about `re.sub()`, check out help output:"
   ]
  },
  {
   "cell_type": "code",
   "execution_count": null,
   "metadata": {},
   "outputs": [],
   "source": [
    "help(re.sub)"
   ]
  },
  {
   "cell_type": "markdown",
   "metadata": {},
   "source": [
    "5. ```python\n",
    "re.split(pattern, string, ...)\n",
    "```\n",
    ": identical to the `split()` function in Python, will split a `string` at the location in which a `pattern` occurs and return the text of all groups as list "
   ]
  },
  {
   "cell_type": "code",
   "execution_count": null,
   "metadata": {},
   "outputs": [],
   "source": [
    "string = \"Mark is bringing 3 kids, Joanne is bringing 0 kids, and Georgie is bringing 1 kid.\"\n",
    "\n",
    "re.split(', ', string)"
   ]
  },
  {
   "cell_type": "markdown",
   "metadata": {},
   "source": [
    "To read more about `re.split()`, check out help output:"
   ]
  },
  {
   "cell_type": "code",
   "execution_count": null,
   "metadata": {},
   "outputs": [],
   "source": [
    "help(re.split)"
   ]
  },
  {
   "cell_type": "markdown",
   "metadata": {},
   "source": [
    "6. ```python\n",
    "re.compile(pattern, ...)\n",
    "```\n",
    ": compiles a regex `pattern` into a regular expression object\n",
    "\n",
    "We can directly call the functions we have learned above on this compiled object that can save time time since parsing/handling regex strings can be computationally expensive."
   ]
  },
  {
   "cell_type": "code",
   "execution_count": null,
   "metadata": {},
   "outputs": [],
   "source": [
    "string = \"Mark is bringing 3 kids, Joanne is bringing 0 kids, and Georgie is bringing 1 kid.\"\n",
    "pattern = re.compile(r'(\\d+)[^\\d]+[kid]')\n",
    "pattern.findall(string)"
   ]
  },
  {
   "cell_type": "markdown",
   "metadata": {},
   "source": [
    "To read more about `re.compile()`, check out help output:"
   ]
  },
  {
   "cell_type": "code",
   "execution_count": null,
   "metadata": {},
   "outputs": [],
   "source": [
    "help(re.compile)"
   ]
  },
  {
   "cell_type": "markdown",
   "metadata": {},
   "source": [
    "As you've seen, regular expressions can be rather complex so use them sparingly. It can be tempting to write one massive, super regular expression, but it will most likely not be the best practice to do. So, as a rule of thumb, use the `in` operator or string methods.\n",
    "\n",
    "For a more in-depth tutorial on regular expressions, check [this](https://realpython.com/regex-python/) out.\n",
    "\n",
    "To learn more about the `re` module, see the [documentation](https://docs.python.org/3/library/re.html#re.Pattern.match).\n",
    "\n",
    "## **<font color='GREEN'> Exercise</font>**\n",
    "\n",
    "Write a program that finds all the sub-strings where there is a single character between `a` and `c`.\n",
    "\n",
    "For example:\n",
    "```python\n",
    "string = \"abcadsfearc\"\n",
    "```\n",
    "\n",
    "Expected output:\n",
    "    \n",
    "`['abc', 'adc', 'arc']`"
   ]
  },
  {
   "cell_type": "code",
   "execution_count": null,
   "metadata": {},
   "outputs": [],
   "source": [
    "# TODO: insert solution here"
   ]
  },
  {
   "cell_type": "markdown",
   "metadata": {},
   "source": [
    "# Filename Pattern Matching\n",
    "\n",
    "When you are working within your filesystem in your OS, you'll often times want to quickly retrieve the filenames with the system. Additionally, you might only want a subset of the filenames based on a given pattern. To accomplish this, there are a few built-in Python modules to help out. \n",
    "\n",
    "## The `glob` module\n",
    "\n",
    "## <font color='LIGHTGRAY'>By the end of the lecture, you'll be able to:</font>\n",
    "- <font color='LIGHTGRAY'>pattern match with string methods</font>\n",
    "- <font color='LIGHTGRAY'>pattern match regular expressions using the re module</font>\n",
    "- **pattern match filenames using the `glob` and `pathlib` modules**\n",
    "- <font color='LIGHTGRAY'>handle the complexities of dates and times using the datetime and dateutil modules</font>\n",
    "- <font color='LIGHTGRAY'>archive and unarchive files using the zipfile and shutil modules</font>\n",
    "- <font color='LIGHTGRAY'>serialize and deserialize Python objects using the pickle module</font>\n",
    "\n",
    "The `glob` module (short fot global) is useful for finding all the pathnames matching a specific pattern.\n",
    "\n",
    "We can use `glob` to search for a specific file pattern, or even search for files where the filenames matches a certain pattern using wildcards such as:\n",
    "\n",
    "- `*`: matches zero or more characters\n",
    "- `?`: matches exactly one character"
   ]
  },
  {
   "cell_type": "code",
   "execution_count": null,
   "metadata": {},
   "outputs": [],
   "source": [
    "import glob"
   ]
  },
  {
   "cell_type": "markdown",
   "metadata": {},
   "source": [
    "For exmple, we can use the\n",
    "```python\n",
    "glob.glob(pathname, recursive=False)\n",
    "```\n",
    "method to search for all the IPython Jupyter Notebook (`.ipynb` extension) source files in the current directory and returns a list of the filenames:"
   ]
  },
  {
   "cell_type": "code",
   "execution_count": null,
   "metadata": {},
   "outputs": [],
   "source": [
    "glob.glob('*.ipynb')"
   ]
  },
  {
   "cell_type": "markdown",
   "metadata": {},
   "source": [
    "Here's another example where we find all the files with a `.ipynb` extension that contains `lecture` in the filename:"
   ]
  },
  {
   "cell_type": "code",
   "execution_count": null,
   "metadata": {},
   "outputs": [],
   "source": [
    "for filename in glob.glob('*lecture*.ipynb'):\n",
    "    print(filename)"
   ]
  },
  {
   "cell_type": "markdown",
   "metadata": {},
   "source": [
    "The `glob` module also makes it easy to search for files recursively in subdirectories too:"
   ]
  },
  {
   "cell_type": "code",
   "execution_count": null,
   "metadata": {},
   "outputs": [],
   "source": [
    "for file in glob.glob('**/*.txt', recursive=True):\n",
    "    print(file)"
   ]
  },
  {
   "cell_type": "markdown",
   "metadata": {},
   "source": [
    "To read more about `glob.glob()`, check out help output:"
   ]
  },
  {
   "cell_type": "code",
   "execution_count": null,
   "metadata": {},
   "outputs": [],
   "source": [
    "help(glob.glob)"
   ]
  },
  {
   "cell_type": "markdown",
   "metadata": {},
   "source": [
    "A similar method,\n",
    "```python\n",
    "glob.iglob(pathname, recursive=False)\n",
    "```\n",
    ", returns an iterator with the same values as `glob.glob()`.\n",
    "\n",
    "Searching a large number of directories could take a long time and use a lot of memory. A solution to this is to use `glob.iglob()`.\n",
    "\n",
    "For example:"
   ]
  },
  {
   "cell_type": "code",
   "execution_count": null,
   "metadata": {},
   "outputs": [],
   "source": [
    "glob.iglob('**/*.txt', recursive=True)"
   ]
  },
  {
   "cell_type": "code",
   "execution_count": null,
   "metadata": {},
   "outputs": [],
   "source": [
    "for file in glob.iglob('**/*.txt', recursive=True):\n",
    "    print(file)"
   ]
  },
  {
   "cell_type": "markdown",
   "metadata": {},
   "source": [
    "To read more about `glob.iglob()`, check out help output:"
   ]
  },
  {
   "cell_type": "code",
   "execution_count": null,
   "metadata": {},
   "outputs": [],
   "source": [
    "help(glob.iglob)"
   ]
  },
  {
   "cell_type": "markdown",
   "metadata": {},
   "source": [
    "To read more about the `glob` module, check out the [documentation](https://docs.python.org/3/library/glob.html)."
   ]
  },
  {
   "cell_type": "markdown",
   "metadata": {},
   "source": [
    "## The `pathlib` Module\n",
    "\n",
    "In previous lectures, we've learned how to use the `pathlib` module to navigate around our filesystem. It can also be used for pattern matching of filenames. The module contains similar `glob` functionality for making flexible file listings."
   ]
  },
  {
   "cell_type": "code",
   "execution_count": null,
   "metadata": {},
   "outputs": [],
   "source": [
    "from pathlib import Path"
   ]
  },
  {
   "cell_type": "markdown",
   "metadata": {},
   "source": [
    "For example, when we import `Path` from `pathlib`, we can use the\n",
    "```python\n",
    "Path.glob(pattern)\n",
    "```\n",
    "or\n",
    "```python\n",
    "Path.rglob(pattern)\n",
    "```\n",
    "(recursive glob) function to list file types that contain the number `2` that returns a generator object that points to all the files in the current directory that fits our match:"
   ]
  },
  {
   "cell_type": "code",
   "execution_count": null,
   "metadata": {},
   "outputs": [],
   "source": [
    "p = Path('.')\n",
    "for name in p.glob('*2*'):\n",
    "    print(name)"
   ]
  },
  {
   "cell_type": "markdown",
   "metadata": {},
   "source": [
    "To read more about `Path.glob()` and `Path.rglob()`, check out help output:"
   ]
  },
  {
   "cell_type": "code",
   "execution_count": null,
   "metadata": {},
   "outputs": [],
   "source": [
    "help(Path.glob)"
   ]
  },
  {
   "cell_type": "code",
   "execution_count": null,
   "metadata": {},
   "outputs": [],
   "source": [
    "help(Path.rglob)"
   ]
  },
  {
   "cell_type": "markdown",
   "metadata": {},
   "source": [
    "## **<font color='GREEN'> Exercise</font>**\n",
    "\n",
    "Recall, in day 3 lab we did a scavenger hunt for coins scatter across directories starting at `day_3_assets/lab` that have the format `{coin type}_COIN.txt` for the filename.\n",
    "\n",
    "Find all the coins and print out the pathnames."
   ]
  },
  {
   "cell_type": "code",
   "execution_count": null,
   "metadata": {},
   "outputs": [],
   "source": [
    "# TODO: insert solution here"
   ]
  },
  {
   "cell_type": "markdown",
   "metadata": {},
   "source": [
    "# <center>DATES AND TIMES</center>\n",
    "\n",
    "---\n",
    "\n",
    "Working with dates and times can be quite a tricky challenge since you have to deal with time zones, daylight savings time, and various written date formats. Fortunately, Python has built-in libraries that can help manage all these complexities. \n",
    "\n",
    "# How Computers Count Time\n",
    "\n",
    "Almost all computers count time form an instant called the [Unix epoch](https://en.wikipedia.org/wiki/Unix_time), which occured on January 1, 1970, at 00:00:00 UTC (or [Coordinated Universal Time](https://en.wikipedia.org/wiki/Coordinated_Universal_Time)).\n",
    "\n",
    "By definition, Unix time elapses at the same rate as UTC (i.e., a one-second step in UTC is equivalent to a one-second step in Unix time). Nearly all programming languages, including Python, incorporate the concept of Unix time.\n",
    "\n",
    "For instancem we can use the `time` module to show the number of seconds since the Unix epoch (excluding leap seconds):"
   ]
  },
  {
   "cell_type": "code",
   "execution_count": null,
   "metadata": {},
   "outputs": [],
   "source": [
    "import time\n",
    "time.time()"
   ]
  },
  {
   "cell_type": "markdown",
   "metadata": {},
   "source": [
    "As you can see from the example above, Unix time is nearly impossible for humans to parse so instead, it is typically converted to UTC, which can then be converted into a local time zone.\n",
    "\n",
    "# Date Formats\n",
    "\n",
    "Instead of trying to parse Unix time, we can work in terms of years, months, days, and so forth. But even with these conventions, another layer of complexity stems from the fact that different languages and cultures have different ways of writing the date.\n",
    "\n",
    "For instance, in the United States, dates are usually written starting with the month, then day, then year. For example, January 31, 2020, is written as **01-31-2020**. However, most of Europe and many other areas write the date starting with the day, then the month, then the year. This means that January 31, 2020 is written as **31-01-2020**. \n",
    "\n",
    "These differences can cause all sorts of confusion when communicating across cultures. To help avoid communication mistakes, the International Organization for Standardization (ISO) developed a standard (called [ISO 8601](https://en.wikipedia.org/wiki/ISO_8601)) that specifies that all dates should be written in order of most-to-least-significant data. For instance, the format is year (`YYYY`), month (`MM`), day (`DD`), hour (`hh`), minute (`mm`), and second (`ss`) is formatted as:\n",
    "\n",
    "```\n",
    "YYYY-MM-DD hh:mm:ss\n",
    "```\n",
    "\n",
    "This format has no ambiguity and you'll see how the ISO 8601 format is used in the `datetime` and `dateutil` modules.\n",
    "\n",
    "# The `datetime` and `dateutil` Modules\n",
    "\n",
    "## <font color='LIGHTGRAY'>By the end of the lecture, you'll be able to:</font>\n",
    "- <font color='LIGHTGRAY'>pattern match with string methods</font>\n",
    "- <font color='LIGHTGRAY'>pattern match regular expressions using the re module</font>\n",
    "- <font color='LIGHTGRAY'>pattern match filenames using the glob and pathlib modules</font>\n",
    "- **handle the complexities of dates and times using the `datetime` and `dateutil` modules**\n",
    "- <font color='LIGHTGRAY'>archive and unarchive files using the zipfile and shutil modules</font>\n",
    "- <font color='LIGHTGRAY'>serialize and deserialize Python objects using the pickle module</font>\n",
    "\n",
    "Fortunately, you don't need to implement these complicated features from scratch. We will show you how to to navigate working with dates and times using the `datetime` and `dateutil` modules. "
   ]
  },
  {
   "cell_type": "code",
   "execution_count": null,
   "metadata": {},
   "outputs": [],
   "source": [
    "import datetime"
   ]
  },
  {
   "cell_type": "markdown",
   "metadata": {},
   "source": [
    "## Creating `datetime` Instances\n",
    "\n",
    "The `datetime` module provides three classes that make up the high-level interface that most people will use:\n",
    "\n",
    "1. `datetime.date`: idealized date that assumes the Gregorian calendar. This object stores the `year`, `month`, and `day` as attributes\n",
    "2. `datetime.time`: idealized time that assumes there are 86,400 seconds per day with no leap seconds. This object stores `hour`, `minute`, `second`, and `microsecond`.\n",
    "3. `datetime.datetime`: combination of `datetime.date` and `datetime.time` classes. It has all the attributes of both classes."
   ]
  },
  {
   "cell_type": "code",
   "execution_count": null,
   "metadata": {},
   "outputs": [],
   "source": [
    "datetime.date(year=2020, month=1, day=31)"
   ]
  },
  {
   "cell_type": "code",
   "execution_count": null,
   "metadata": {},
   "outputs": [],
   "source": [
    "datetime.time(hour=13, minute=14, second=31)"
   ]
  },
  {
   "cell_type": "code",
   "execution_count": null,
   "metadata": {},
   "outputs": [],
   "source": [
    "datetime.datetime(year=2020, month=1, day=31, hour=13, minute=14, second=31)"
   ]
  },
  {
   "cell_type": "markdown",
   "metadata": {},
   "source": [
    "To read more about the `datetime()` classes, check out help output:"
   ]
  },
  {
   "cell_type": "code",
   "execution_count": null,
   "metadata": {},
   "outputs": [],
   "source": [
    "help(datetime.date)"
   ]
  },
  {
   "cell_type": "code",
   "execution_count": null,
   "metadata": {},
   "outputs": [],
   "source": [
    "help(datetime.time)"
   ]
  },
  {
   "cell_type": "code",
   "execution_count": null,
   "metadata": {},
   "outputs": [],
   "source": [
    "help(datetime.datetime)"
   ]
  },
  {
   "cell_type": "markdown",
   "metadata": {},
   "source": [
    "The `datetime` module also provides several other ways to create `datetime` instances that don't require you to specify each attribute:\n",
    "\n",
    "1. `.date.today()`: creates `datetime.time` instance with the current local date\n",
    "2. `.datetime.now()`: creates a `datetime.datetime` instance with the current local date and time\n",
    "3. `.datetime.combine()`: combines instances of `datetime.date` and `datetime.time` into a single `datetime.datetime` instance\n",
    "\n",
    "For example:"
   ]
  },
  {
   "cell_type": "code",
   "execution_count": null,
   "metadata": {},
   "outputs": [],
   "source": [
    "today = datetime.date.today()\n",
    "today"
   ]
  },
  {
   "cell_type": "code",
   "execution_count": null,
   "metadata": {},
   "outputs": [],
   "source": [
    "now_time = datetime.datetime.now()\n",
    "now_time"
   ]
  },
  {
   "cell_type": "code",
   "execution_count": null,
   "metadata": {},
   "outputs": [],
   "source": [
    "now = datetime.datetime.now()\n",
    "current_time = datetime.time(now_time.hour, now_time.minute, now_time.second)\n",
    "datetime.datetime.combine(today, current_time)"
   ]
  },
  {
   "cell_type": "markdown",
   "metadata": {},
   "source": [
    "## Using Strings to Create `datetime` instances\n",
    "\n",
    "If you have a `date_string` with the date in ISO 8601 format, you can create a `date` instance from the `date_string` by using the\n",
    "```python\n",
    ".fromisoformat(date_string)\n",
    "```\n",
    "function.\n",
    "\n",
    "For example:"
   ]
  },
  {
   "cell_type": "code",
   "execution_count": null,
   "metadata": {},
   "outputs": [],
   "source": [
    "datetime.date.fromisoformat(\"2020-01-21\")"
   ]
  },
  {
   "cell_type": "markdown",
   "metadata": {},
   "source": [
    "But what if you have a string that represents a date and time that isn't in the ISO 8601 format? Fortunately, `datetime` provides a method called\n",
    "```python\n",
    ".strptime(date_string, format_string)\n",
    "```\n",
    "to handle this.\n",
    "\n",
    "First, you need to tell Python what each part of the string represents using formatting codes:"
   ]
  },
  {
   "cell_type": "code",
   "execution_count": null,
   "metadata": {},
   "outputs": [],
   "source": [
    "date_string = \"01-31-2020 14:45:37\"\n",
    "format_string = \"%m-%d-%Y %H:%M:%S\""
   ]
  },
  {
   "cell_type": "markdown",
   "metadata": {},
   "source": [
    "Now that `date_string` and `format_string` are defined, we can use them to create a `datetime` instance using `.strptime()`:"
   ]
  },
  {
   "cell_type": "code",
   "execution_count": null,
   "metadata": {},
   "outputs": [],
   "source": [
    "datetime.datetime.strptime(date_string, format_string)"
   ]
  },
  {
   "cell_type": "markdown",
   "metadata": {},
   "source": [
    "To find a complete list of format codes, see the [documentation](https://docs.python.org/3/library/datetime.html#strftime-strptime-behavior).\n",
    "\n",
    "## Working With Time Zones\n",
    "\n",
    "To ensure that your code is correct, it is important to know the time zone in which a date occurs. The `datetime` module does not provide a direct way to interact with the time zone database. Thus, the `datetime` module recommends using a third-party package called `dateutil` for this."
   ]
  },
  {
   "cell_type": "code",
   "execution_count": null,
   "metadata": {},
   "outputs": [],
   "source": [
    "import dateutil"
   ]
  },
  {
   "cell_type": "markdown",
   "metadata": {},
   "source": [
    "We can use the \n",
    "```python\n",
    "dateutil.tz.tzlocal()\n",
    "```\n",
    "method to get the local time zone.\n",
    "\n",
    "For example:"
   ]
  },
  {
   "cell_type": "code",
   "execution_count": null,
   "metadata": {},
   "outputs": [],
   "source": [
    "now = datetime.datetime.now(tz=dateutil.tz.tzlocal())\n",
    "now.tzname()"
   ]
  },
  {
   "cell_type": "markdown",
   "metadata": {},
   "source": [
    "You can also create time zones that are not the same as the time zone reported by your computer. To do this, we will use the\n",
    "```python\n",
    "dateutil.tz.gettz(zone_string)\n",
    "```\n",
    "method where `zone_string` is an offical [IANA name](https://en.wikipedia.org/wiki/List_of_tz_database_time_zones) for the time zone you're interested in.\n",
    "\n",
    "For example:"
   ]
  },
  {
   "cell_type": "code",
   "execution_count": null,
   "metadata": {},
   "outputs": [],
   "source": [
    "london_tz = dateutil.tz.gettz(\"Europe/London\")\n",
    "now = datetime.datetime.now(tz=london_tz)\n",
    "now"
   ]
  },
  {
   "cell_type": "markdown",
   "metadata": {},
   "source": [
    "We can also use the `.tzname()` method to print the name of the time zone, which is `'BST'` or British Standard Time."
   ]
  },
  {
   "cell_type": "code",
   "execution_count": null,
   "metadata": {},
   "outputs": [],
   "source": [
    "now.tzname()"
   ]
  },
  {
   "cell_type": "markdown",
   "metadata": {},
   "source": [
    "To read more about `dateutil.tz`, check out help output:"
   ]
  },
  {
   "cell_type": "code",
   "execution_count": null,
   "metadata": {},
   "outputs": [],
   "source": [
    "help(dateutil.tz)"
   ]
  },
  {
   "cell_type": "markdown",
   "metadata": {},
   "source": [
    "## Arithmetic With `datetime`\n",
    "\n",
    "Using the a \n",
    "```python\n",
    "datetime.timedelta(...)\n",
    "```\n",
    "instance, we can do all sorts of arithmetic on our `datetime` instances.\n",
    "\n",
    "For example:"
   ]
  },
  {
   "cell_type": "code",
   "execution_count": null,
   "metadata": {},
   "outputs": [],
   "source": [
    "now = datetime.datetime.now()\n",
    "now"
   ]
  },
  {
   "cell_type": "code",
   "execution_count": null,
   "metadata": {},
   "outputs": [],
   "source": [
    "delta_pos_1_day = datetime.timedelta(days=+1)\n",
    "tomorrow = now + delta_pos_1_day\n",
    "tomorrow"
   ]
  },
  {
   "cell_type": "markdown",
   "metadata": {},
   "source": [
    "`datetime.timedelta` instances also support negative values.\n",
    "\n",
    "For example:"
   ]
  },
  {
   "cell_type": "code",
   "execution_count": null,
   "metadata": {},
   "outputs": [],
   "source": [
    "now = datetime.datetime.now()\n",
    "now"
   ]
  },
  {
   "cell_type": "code",
   "execution_count": null,
   "metadata": {},
   "outputs": [],
   "source": [
    "delta_neg_1_day = datetime.timedelta(days=-1)\n",
    "yesterday = now + delta_neg_1_day\n",
    "yesterday"
   ]
  },
  {
   "cell_type": "markdown",
   "metadata": {},
   "source": [
    "You can also provide a mix of positive and negative arguments.\n",
    "\n",
    "For example:"
   ]
  },
  {
   "cell_type": "code",
   "execution_count": null,
   "metadata": {},
   "outputs": [],
   "source": [
    "now = datetime.datetime.now()\n",
    "now"
   ]
  },
  {
   "cell_type": "code",
   "execution_count": null,
   "metadata": {},
   "outputs": [],
   "source": [
    "delta = datetime.timedelta(days=+3, hours=-4)\n",
    "now + delta"
   ]
  },
  {
   "cell_type": "markdown",
   "metadata": {},
   "source": [
    "To read more about `datetime.timedelta()`, check out help output:"
   ]
  },
  {
   "cell_type": "code",
   "execution_count": null,
   "metadata": {},
   "outputs": [],
   "source": [
    "help(datetime.timedelta)"
   ]
  },
  {
   "cell_type": "markdown",
   "metadata": {},
   "source": [
    "`datetime.timedelta` is very useful, but is limited because it cannot add or subtract intervals larger than a day. Fortunately, `dateutil` provides a more powerfull replacement called\n",
    "```python\n",
    "dateutil.relativedelta(...)\n",
    "```\n",
    "that is very similar to `datetime.timedelta`.\n",
    "\n",
    "For example:"
   ]
  },
  {
   "cell_type": "code",
   "execution_count": null,
   "metadata": {},
   "outputs": [],
   "source": [
    "now = datetime.datetime.now()\n",
    "now"
   ]
  },
  {
   "cell_type": "code",
   "execution_count": null,
   "metadata": {},
   "outputs": [],
   "source": [
    "from dateutil.relativedelta import relativedelta\n",
    "\n",
    "delta = relativedelta(years=+5, months=+1, days=+3, hours=-4, minutes=-30)\n",
    "now + delta"
   ]
  },
  {
   "cell_type": "markdown",
   "metadata": {},
   "source": [
    "You can also use `.relativedelta()` to calculate the difference between two `datetime` instances.\n",
    "\n",
    "For example:"
   ]
  },
  {
   "cell_type": "code",
   "execution_count": null,
   "metadata": {},
   "outputs": [],
   "source": [
    "now = datetime.datetime.now()\n",
    "now"
   ]
  },
  {
   "cell_type": "code",
   "execution_count": null,
   "metadata": {},
   "outputs": [],
   "source": [
    "tomorrow = now + datetime.timedelta(days=+1)\n",
    "relativedelta(now, tomorrow)"
   ]
  },
  {
   "cell_type": "markdown",
   "metadata": {},
   "source": [
    "To read more about `.relativedelta()`, check out help output:"
   ]
  },
  {
   "cell_type": "code",
   "execution_count": null,
   "metadata": {},
   "outputs": [],
   "source": [
    "help(relativedelta)"
   ]
  },
  {
   "cell_type": "markdown",
   "metadata": {},
   "source": [
    "To learn more about the `datetime` module, see the [documentation](https://docs.python.org/3/library/datetime.html#module-datetime).\n",
    "\n",
    "To learn more about the `dateutil` module, see the [documentation](https://dateutil.readthedocs.io/en/stable/).\n",
    "\n",
    "## **<font color='GREEN'> Exercise</font>**\n",
    "\n",
    "This years Community BBQ will start on July 17, 2021 in Providence, RI at 10am. Next years Community BBQ will start on August 16, 2021 in Providence, RI at 10:30am.\n",
    "\n",
    "Do and answer the following:\n",
    "- create a `datetime` instance of the 2021 Community BBQ named `bbq_date_2021`\n",
    "- create a `datetime` instance of the 2022 Community BBQ named `bbq_date_2022`\n",
    "- what is date and time difference between `bbq_date_2021` and `bbq_date_2022`?"
   ]
  },
  {
   "cell_type": "code",
   "execution_count": null,
   "metadata": {},
   "outputs": [],
   "source": [
    "# TODO: insert solution here"
   ]
  },
  {
   "cell_type": "markdown",
   "metadata": {},
   "source": [
    "# <center>ARCHIVING</center>\n",
    "\n",
    "---\n",
    "\n",
    "Archiving is a convenient way to package several files into one. The two most common archive types are ZIP and TAR but we will mostly cover working with ZIP archive types.\n",
    "\n",
    "## <font color='LIGHTGRAY'>By the end of the lecture, you'll be able to:</font>\n",
    "- <font color='LIGHTGRAY'>pattern match with string methods</font>\n",
    "- <font color='LIGHTGRAY'>pattern match regular expressions using the re module</font>\n",
    "- <font color='LIGHTGRAY'>pattern match filenames using the glob and pathlib modules</font>\n",
    "- <font color='LIGHTGRAY'>handle the complexities of dates and times using the datetime and dateutil modules</font>\n",
    "- **archive and unarchive files using the `zipfile` and `shutil` modules**\n",
    "- <font color='LIGHTGRAY'>serialize and deserialize Python objects using the pickle module</font>\n",
    "\n",
    "# Reading ZIP Files\n",
    "\n",
    "The `zipfile` module makes it easy to open and extract ZIP files. Similar to using `open()`, you can create a `ZipFile` object with the support of a `with` statement."
   ]
  },
  {
   "cell_type": "code",
   "execution_count": null,
   "metadata": {},
   "outputs": [],
   "source": [
    "from zipfile import ZipFile"
   ]
  },
  {
   "cell_type": "markdown",
   "metadata": {},
   "source": [
    "For example, using the \n",
    "```python\n",
    "ZipFile.namelist()\n",
    "```\n",
    "method we can retrieve a list of files in the archive:"
   ]
  },
  {
   "cell_type": "code",
   "execution_count": null,
   "metadata": {},
   "outputs": [],
   "source": [
    "from pprint import pprint\n",
    "from pathlib import Path\n",
    "\n",
    "with ZipFile(Path.cwd() / 'day_4_assets' / 'event_tables.zip', 'r') as zip_obj:\n",
    "    pprint(zip_obj.namelist())"
   ]
  },
  {
   "cell_type": "markdown",
   "metadata": {},
   "source": [
    "You can also retrieve information about the files in the archive using the\n",
    "```python\n",
    "ZipFile.getinfo(filename)\n",
    "```\n",
    "method that returns a `ZipInfo` object.\n",
    "\n",
    "For example:"
   ]
  },
  {
   "cell_type": "code",
   "execution_count": null,
   "metadata": {},
   "outputs": [],
   "source": [
    "with ZipFile(Path.cwd() / 'day_4_assets' / 'event_tables.zip', 'r') as zip_obj:\n",
    "    bbq_event_2_csv = [name for name in zip_obj.namelist() if 'bbq_event_2.csv' in name][0]\n",
    "    print(zip_obj.getinfo(bbq_event_2_csv))"
   ]
  },
  {
   "cell_type": "markdown",
   "metadata": {},
   "source": [
    "# Extracting ZIP Files\n",
    "\n",
    "We can extract one or more files from ZIP archives through the\n",
    "```python\n",
    "ZipFile.extract(member, path=None, pwd=None)\n",
    "```\n",
    "and\n",
    "```python\n",
    "ZipFile.extractall(path=None, members=None, pwd=None)\n",
    "```\n",
    "methods. They both extract files to the current directory by default but you can pass in a `path` that allows you to specify a different directory to extract files to. If the directory does not exist, it is automatically created.\n",
    "\n",
    "For example:"
   ]
  },
  {
   "cell_type": "code",
   "execution_count": null,
   "metadata": {},
   "outputs": [],
   "source": [
    "with ZipFile(Path.cwd() / 'day_4_assets' / 'event_tables.zip', 'r') as zip_obj:\n",
    "    extract_path = [name for name in zip_obj.namelist() if 'bbq_event_2.csv' in name][0]\n",
    "    unzip_path = Path.cwd() / 'day_4_assets' / 'unzipped_with_extract'\n",
    "    zip_obj.extract(extract_path, path=unzip_path)"
   ]
  },
  {
   "cell_type": "markdown",
   "metadata": {},
   "source": [
    "We will take our `tree()` function from when a previous lecture using the `pathlib` module to view the directory tree of our archive results:"
   ]
  },
  {
   "cell_type": "code",
   "execution_count": null,
   "metadata": {},
   "outputs": [],
   "source": [
    "def tree(directory):\n",
    "    print(f'+ {directory}')\n",
    "    for path in sorted(directory.rglob('*')):             # list subdirectories\n",
    "        depth = len(path.relative_to(directory).parts)    # use .relative_to() to get how far we are from the root\n",
    "        spacer = '    ' * depth\n",
    "        print(f'{spacer}+ {path.name}')"
   ]
  },
  {
   "cell_type": "code",
   "execution_count": null,
   "metadata": {},
   "outputs": [],
   "source": [
    "tree(Path.cwd() / 'day_4_assets' / 'unzipped_with_extract')"
   ]
  },
  {
   "cell_type": "code",
   "execution_count": null,
   "metadata": {},
   "outputs": [],
   "source": [
    "with ZipFile(Path.cwd() / 'day_4_assets' / 'event_tables.zip', 'r') as zip_obj:\n",
    "    unzip_path = Path.cwd() / 'day_4_assets' / 'unzipped_with_extractall'\n",
    "    zip_obj.extractall(path=unzip_path)"
   ]
  },
  {
   "cell_type": "code",
   "execution_count": null,
   "metadata": {},
   "outputs": [],
   "source": [
    "tree(Path.cwd() / 'day_4_assets' / 'unzipped_with_extractall')"
   ]
  },
  {
   "cell_type": "markdown",
   "metadata": {},
   "source": [
    "Some misc. cleanup:"
   ]
  },
  {
   "cell_type": "code",
   "execution_count": null,
   "metadata": {},
   "outputs": [],
   "source": [
    "import shutil\n",
    "shutil.rmtree(Path.cwd() / 'day_4_assets' / 'unzipped_with_extract')\n",
    "shutil.rmtree(Path.cwd() / 'day_4_assets' / 'unzipped_with_extractall')"
   ]
  },
  {
   "cell_type": "markdown",
   "metadata": {},
   "source": [
    "# Creating New ZIP Archives\n",
    "\n",
    "To create a new ZIP archive, you simply open a `ZipFile` object in write mode and add the files you want to archive using the \n",
    "```python\n",
    "ZipFile.write(filename, arcname=None, ...)\n",
    "```\n",
    "method:"
   ]
  },
  {
   "cell_type": "code",
   "execution_count": null,
   "metadata": {},
   "outputs": [],
   "source": [
    "recipe_files = ['pulled_pork_recipe.txt', 'smoked_mac_and_cheese_recipe.txt']\n",
    "with ZipFile(Path.cwd() / 'day_4_assets' / 'recipes.zip', 'w') as recipe_zip:\n",
    "    for name in recipe_files:\n",
    "        filename = Path.cwd() / 'day_4_assets' / 'recipes' / name\n",
    "        recipe_zip.write(filename, arcname=name)"
   ]
  },
  {
   "cell_type": "markdown",
   "metadata": {},
   "source": [
    "Note, we must pass in the `arcname` otherwise, the file will be saved with the full path within our archive file."
   ]
  },
  {
   "cell_type": "code",
   "execution_count": null,
   "metadata": {},
   "outputs": [],
   "source": [
    "with ZipFile(Path.cwd() / 'day_4_assets' / 'recipes.zip', 'r') as zip_obj:\n",
    "    pprint(zip_obj.namelist())"
   ]
  },
  {
   "cell_type": "markdown",
   "metadata": {},
   "source": [
    "You can also add files to an existing archive using the append mode:"
   ]
  },
  {
   "cell_type": "code",
   "execution_count": null,
   "metadata": {},
   "outputs": [],
   "source": [
    "new_recipe_files = ['cornbread_recipe.txt']\n",
    "with ZipFile(Path.cwd() / 'day_4_assets' / 'recipes.zip', 'a') as recipe_zip:\n",
    "    for name in new_recipe_files:\n",
    "        filename = Path.cwd() / 'day_4_assets' / 'recipes' / name\n",
    "        recipe_zip.write(filename, arcname=name)"
   ]
  },
  {
   "cell_type": "code",
   "execution_count": null,
   "metadata": {},
   "outputs": [],
   "source": [
    "with ZipFile(Path.cwd() / 'day_4_assets' / 'recipes.zip', 'r') as zip_obj:\n",
    "    pprint(zip_obj.namelist())"
   ]
  },
  {
   "cell_type": "markdown",
   "metadata": {},
   "source": [
    "Some misc. cleanup:"
   ]
  },
  {
   "cell_type": "code",
   "execution_count": null,
   "metadata": {},
   "outputs": [],
   "source": [
    "import os\n",
    "os.remove(Path.cwd() / 'day_4_assets' / 'recipes.zip')"
   ]
  },
  {
   "cell_type": "markdown",
   "metadata": {},
   "source": [
    "To read more about `ZipFile()`, check out help output:"
   ]
  },
  {
   "cell_type": "code",
   "execution_count": null,
   "metadata": {},
   "outputs": [],
   "source": [
    "help(ZipFile)"
   ]
  },
  {
   "cell_type": "markdown",
   "metadata": {},
   "source": [
    "To learn more about `zipfile`, check out the [documentation](https://docs.python.org/3/library/zipfile.html#module-zipfile)."
   ]
  },
  {
   "cell_type": "markdown",
   "metadata": {},
   "source": [
    "# An Easier Way of Creating Archives\n",
    "\n",
    "The `shutil` module also supports creating, reading, and extracting TAR and ZIP archives using high-level methods. We will also use the `pathlib` module for best practices when creating file paths."
   ]
  },
  {
   "cell_type": "code",
   "execution_count": null,
   "metadata": {},
   "outputs": [],
   "source": [
    "import shutil\n",
    "from pathlib import Path"
   ]
  },
  {
   "cell_type": "markdown",
   "metadata": {},
   "source": [
    "To create an archive using `shutil`, you will use the\n",
    "```python\n",
    "shutil.make_archive(base_name, archive_format, root_dir=current_directory, ...)\n",
    "```\n",
    "method where it supports `archive_format`s of `zip`, `tar`, `bztar`, and `gztar`.\n",
    "\n",
    "For example:"
   ]
  },
  {
   "cell_type": "code",
   "execution_count": null,
   "metadata": {},
   "outputs": [],
   "source": [
    "base_name = Path.cwd() / 'day_4_assets' / 'archived_recipes'\n",
    "root_dir = Path.cwd() / 'day_4_assets' / 'recipes/'\n",
    "shutil.make_archive(base_name, 'zip', root_dir)"
   ]
  },
  {
   "cell_type": "code",
   "execution_count": null,
   "metadata": {},
   "outputs": [],
   "source": [
    "with ZipFile(Path.cwd() / 'day_4_assets' / 'archived_recipes.zip', 'r') as zip_obj:\n",
    "    pprint(zip_obj.namelist())"
   ]
  },
  {
   "cell_type": "markdown",
   "metadata": {},
   "source": [
    "To read more about `shutil.make_archive()`, check out help output:"
   ]
  },
  {
   "cell_type": "code",
   "execution_count": null,
   "metadata": {},
   "outputs": [],
   "source": [
    "help(shutil.make_archive)"
   ]
  },
  {
   "cell_type": "markdown",
   "metadata": {},
   "source": [
    "To extract the archive, call the\n",
    "```python\n",
    "shutil.unpack_archive(filename, extract_dir=current_directory)\n",
    "```\n",
    "method.\n",
    "\n",
    "For example:"
   ]
  },
  {
   "cell_type": "code",
   "execution_count": null,
   "metadata": {},
   "outputs": [],
   "source": [
    "filename = Path.cwd() / 'day_4_assets' / 'archived_recipes.zip'\n",
    "extract_dir = Path.cwd() / 'day_4_assets' / 'unpacked_recipes/'\n",
    "shutil.unpack_archive(filename, extract_dir)"
   ]
  },
  {
   "cell_type": "code",
   "execution_count": null,
   "metadata": {},
   "outputs": [],
   "source": [
    "tree(Path.cwd() / 'day_4_assets' / 'unpacked_recipes')"
   ]
  },
  {
   "cell_type": "markdown",
   "metadata": {},
   "source": [
    "To read more about `shutil.unpack_archive()`, check out help output:"
   ]
  },
  {
   "cell_type": "code",
   "execution_count": null,
   "metadata": {},
   "outputs": [],
   "source": [
    "help(shutil.unpack_archive)"
   ]
  },
  {
   "cell_type": "markdown",
   "metadata": {},
   "source": [
    "Some misc. cleanup:"
   ]
  },
  {
   "cell_type": "code",
   "execution_count": null,
   "metadata": {},
   "outputs": [],
   "source": [
    "import os\n",
    "shutil.rmtree(Path.cwd() / 'day_4_assets' / 'unpacked_recipes')\n",
    "os.remove(Path.cwd() / 'day_4_assets' / 'archived_recipes.zip')"
   ]
  },
  {
   "cell_type": "markdown",
   "metadata": {},
   "source": [
    "To learn more about archiving operations from the `shutil` module, check out the [documentation](https://docs.python.org/3/library/shutil.html#archiving-operations).\n",
    "\n",
    "# <center>OBJECT PERSISTENCE</center>\n",
    "\n",
    "---\n",
    "\n",
    "The term **pickling** is a popular method of preserving food for later consumption. By placing a product in a specific solution, it is possible to increase its shelf life.\n",
    "\n",
    "As a Python developer, you might one day find yourself in need of a way to store your Python objects for later use. What if I told you that you can pickle Python objects too?\n",
    "\n",
    "# Serialization\n",
    "\n",
    "**Serialization** is the process of transforming objects (or data structures) into **byte streams**. A byte is composed of 8 bits of zeros and ones, which can be then stored and transferred easily. This allows for develpers to save configuration data or a program's progress, and then store it on a disk or send it to another location.\n",
    "\n",
    "Unlike pickling vegetables, where the pickled food's flavor and texture change, pickled (or serialized) Python objects can be easily unpickled back to their original form. This process is know as **deserialization**.\n",
    "\n",
    "Python objects can be serialized and deserialized using the native `pickle` module."
   ]
  },
  {
   "cell_type": "code",
   "execution_count": null,
   "metadata": {},
   "outputs": [],
   "source": [
    "import pickle"
   ]
  },
  {
   "cell_type": "markdown",
   "metadata": {},
   "source": [
    "Pickling should not be confused with archiving (i.e., compression). Pickling translates data into a format that can be transferred from RAM to disk. Compression, on the other hand, is the process of encoding data using fewer bits to save disk space.\n",
    "\n",
    "For example, think of serialization as the process of saving and loading your progress in a video game from your storage disk.\n",
    "\n",
    "# Pickle vs JSON\n",
    "\n",
    "Recall from previous lectures, JavaScript Object Notation (JSON) lets us save and transmit objects encoded as strings in a human-readable, language-independent schema. Although converting Python objects to JSON might be faster than pickling, the JSON format does have limitations. Most importantly, only a limited subset of Python built-in data structures can be respresented by JSON. With pickling in Python, we can easily serialize a very large range of Python types, and custom classes.\n",
    "\n",
    "# What can be Pickled and Unpickled\n",
    "\n",
    "The following types can be serialized and deserialized using the `pickle` module:\n",
    "\n",
    "- All native datatypes in Python (e.g., `booleans`, `None`, `integers`, `floats`, `strings`, etc)\n",
    "- Python containers (e.g., `dictionary`, `set`, `list`, `tuples`) - as long as the container has pickleable objects\n",
    "- Functions and classes that are defined at the top level of a module\n",
    "\n",
    "<center>\n",
    "    <b>IMPORTANT NOTES:</b>\n",
    "    <ul><b>Your pickled data can only be unpickled using Python</b></ul>\n",
    "    <ul><b>Using a different Python version when pickling and unpickling can cause many problems</b></ul>\n",
    "    <ul><b>Make sure that the environment where the function is unpickled is able to import the function, otherwise, an exception will be raised</b></ul>\n",
    "    <ul><b>Unpickling data from an untrusted source can result in the execution of malicious code</b></ul>\n",
    "</center>\n",
    "\n",
    "## <font color='LIGHTGRAY'>By the end of the lecture, you'll be able to:</font>\n",
    "- <font color='LIGHTGRAY'>pattern match with string methods</font>\n",
    "- <font color='LIGHTGRAY'>pattern match regular expressions using the re module</font>\n",
    "- <font color='LIGHTGRAY'>pattern match filenames using the glob and pathlib modules</font>\n",
    "- <font color='LIGHTGRAY'>handle the complexities of dates and times using the datetime and dateutil modules</font>\n",
    "- <font color='LIGHTGRAY'>archive and unarchive files using the zipfile and shutil modules</font>\n",
    "- **serialize and deserialize Python objects using the `pickle` module**\n",
    "\n",
    "# Pickling\n",
    "\n",
    "To pickle a Python object, use the\n",
    "```python\n",
    "pickle.dump(obj, file_obj, ...)\n",
    "```\n",
    "method paired with an `open()` method in write binary mode and a `with` statement. \n",
    "\n",
    "For example:"
   ]
  },
  {
   "cell_type": "code",
   "execution_count": null,
   "metadata": {},
   "outputs": [],
   "source": [
    "from pathlib import Path\n",
    "\n",
    "food_lst = ['cucumber', 'pumpkin', 'carrot']\n",
    "\n",
    "with open(Path.cwd() / 'day_4_assets' / 'food_lst.pkl', 'wb') as f:\n",
    "    pickle.dump(food_lst, f)\n",
    "    \n",
    "tree(Path.cwd() / 'day_4_assets')"
   ]
  },
  {
   "cell_type": "markdown",
   "metadata": {},
   "source": [
    "Note, that the `.pkl` extension is not necessary but it's good practice to include the extension for readability purposes.\n",
    "\n",
    "To read more about `pickle.dump()`, check out help output:"
   ]
  },
  {
   "cell_type": "code",
   "execution_count": null,
   "metadata": {},
   "outputs": [],
   "source": [
    "help(pickle.dump)"
   ]
  },
  {
   "cell_type": "markdown",
   "metadata": {},
   "source": [
    "# Unpickling\n",
    "\n",
    "To unpickle the contents we just pickled, use the\n",
    "```python\n",
    "pickle.load(pickle_filename, ...)\n",
    "```\n",
    "method in read binary mode.\n",
    "\n",
    "For example:"
   ]
  },
  {
   "cell_type": "code",
   "execution_count": null,
   "metadata": {},
   "outputs": [],
   "source": [
    "with open(Path.cwd() / 'day_4_assets' / 'food_lst.pkl', 'rb') as f:\n",
    "    unpickled_lst = pickle.load(f)\n",
    "    \n",
    "print(unpickled_lst)"
   ]
  },
  {
   "cell_type": "markdown",
   "metadata": {},
   "source": [
    "To read more about `pickle.load()`, check out help output:"
   ]
  },
  {
   "cell_type": "code",
   "execution_count": null,
   "metadata": {},
   "outputs": [],
   "source": [
    "help(pickle.load)"
   ]
  },
  {
   "cell_type": "markdown",
   "metadata": {},
   "source": [
    "# Pickling and Unpickling Custom Objects\n",
    "\n",
    "As mentioned, you can serialize your custom objects.\n",
    "\n",
    "For example:"
   ]
  },
  {
   "cell_type": "code",
   "execution_count": null,
   "metadata": {},
   "outputs": [],
   "source": [
    "class Veggy():\n",
    "    def __init__(self):\n",
    "        self.color = ''\n",
    "    def set_color(self, color):\n",
    "        self.color = color\n",
    "\n",
    "cucumber = Veggy()\n",
    "cucumber.set_color('green')\n",
    "\n",
    "with open(Path.cwd() / 'day_4_assets' / 'cucumber.pkl', 'wb') as f:\n",
    "    pickle.dump(cucumber, f)\n",
    "\n",
    "with open(Path.cwd() / 'day_4_assets' / 'cucumber.pkl', 'rb') as f:\n",
    "    unpickled_cucumber = pickle.load(f)\n",
    "\n",
    "print(unpickled_cucumber.color)"
   ]
  },
  {
   "cell_type": "markdown",
   "metadata": {},
   "source": [
    "## **<font color='ORANGE'>Caution</font>**\n",
    "\n",
    "We can only unpickle the object in an environment where the class `Veggy` is either defined or imported. Otherwise, we'll get an `AttributeError`. "
   ]
  },
  {
   "cell_type": "code",
   "execution_count": null,
   "metadata": {},
   "outputs": [],
   "source": [
    "del Veggy"
   ]
  },
  {
   "cell_type": "code",
   "execution_count": null,
   "metadata": {},
   "outputs": [],
   "source": [
    "with open(Path.cwd() / 'day_4_assets' / 'cucumber.pkl', 'rb') as f:\n",
    "    unpickled_cucumber = pickle.load(f)\n",
    "\n",
    "print(unpickled_cucumber.color)"
   ]
  },
  {
   "cell_type": "markdown",
   "metadata": {},
   "source": [
    "Some misc. cleanup:"
   ]
  },
  {
   "cell_type": "code",
   "execution_count": null,
   "metadata": {},
   "outputs": [],
   "source": [
    "import os\n",
    "os.remove(Path.cwd() / 'day_4_assets' / 'food_lst.pkl')\n",
    "os.remove(Path.cwd() / 'day_4_assets' / 'cucumber.pkl')"
   ]
  },
  {
   "cell_type": "markdown",
   "metadata": {},
   "source": [
    "To learn more about the `pickle` module, check out the [documentation](https://docs.python.org/3/library/pickle.html#module-pickle).\n",
    "\n",
    "# Conclusion\n",
    "\n",
    "## You are now able to:\n",
    "- pattern match with string methods\n",
    "- pattern match regular expressions using the `re` module\n",
    "- pattern match filenames using the `glob` and `pathlib` modules\n",
    "- handle the complexities of dates and times using the `datetime` and `dateutil` modules\n",
    "- archive and unarchive files using the `zipfile` and `shutil` modules\n",
    "- serialize and deserialize Python objects using the `pickle` module\n",
    "\n",
    "# References\n",
    "\n",
    "- https://www.digitalocean.com/community/tutorials/an-introduction-to-string-functions-in-python-3\n",
    "- https://stackabuse.com/introduction-to-regular-expressions-in-python/\n",
    "- https://realpython.com/working-with-files-in-python/#filename-pattern-matching-using-glob\n",
    "- https://realpython.com/python-datetime/\n",
    "- https://realpython.com/working-with-files-in-python/#archiving\n",
    "- https://stackabuse.com/introduction-to-the-python-pickle-module/"
   ]
  }
 ],
 "metadata": {
  "kernelspec": {
   "display_name": "workshop",
   "language": "python",
   "name": "workshop"
  },
  "language_info": {
   "codemirror_mode": {
    "name": "ipython",
    "version": 3
   },
   "file_extension": ".py",
   "mimetype": "text/x-python",
   "name": "python",
   "nbconvert_exporter": "python",
   "pygments_lexer": "ipython3",
   "version": "3.8.8"
  }
 },
 "nbformat": 4,
 "nbformat_minor": 4
}
