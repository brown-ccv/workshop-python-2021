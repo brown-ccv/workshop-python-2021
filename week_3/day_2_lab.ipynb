{
 "cells": [
  {
   "cell_type": "markdown",
   "metadata": {},
   "source": [
    "# <center>LAB </center>\n",
    "\n",
    "---\n",
    "\n",
    "## **<font color='GREEN'> Exercise</font>**\n",
    "\n",
    "Let's do some planning for the Community BBQ! You are in charge of managing the recipes used for the event. We have a pulled pork recipe located at `day_2_assets/lab/pulled_pork_recipe.txt` relative to where this notebook is located.\n",
    "\n",
    "Creates a function `read_recipe()` that:\n",
    "- takes a required argument `recipe_filepath` that is a string of where the recipe is located\n",
    "- returns the recipe contents as one large string\n",
    "\n",
    "Afterwards, pass in the pulled pork recipe path to `read_recipe()`, save the output to a variable name `read_recipe_str` and print the output."
   ]
  },
  {
   "cell_type": "code",
   "execution_count": null,
   "metadata": {},
   "outputs": [],
   "source": [
    "# TODO: insert solution here"
   ]
  },
  {
   "cell_type": "markdown",
   "metadata": {},
   "source": [
    "## **<font color='GREEN'> Exercise</font>**\n",
    "\n",
    "Great! Now that you have the pulled pork recipe, we want to scale it to feed all the people attending the BBQ. So far, 20 people have signed up to attend. We want to scale the recipe such that the minimum number it yields just barely exceeds the number of people that are attending. To help you out, I've created a dictionary, `recipe_num_dict`, that has a nickname for scalable entries as keys and a string that represents the values that need to be scaled as values to the dictionary. Although not all recipes' preperation and total times scale proportionally when increasing the ingredients, let's assume ours does."
   ]
  },
  {
   "cell_type": "code",
   "execution_count": null,
   "metadata": {},
   "outputs": [],
   "source": [
    "recipe_num_dict = {\n",
    "    'num_yields': '6-8',\n",
    "    'num_prep': '10 mins',\n",
    "    'num_total': '210 mins',\n",
    "    'pork_boneless': '4 lb.',\n",
    "    'pork_sugar': '3 tbsp.',\n",
    "    'pork_salt': '1 tbsp.',\n",
    "    'pork_paprika': '1 tbsp.',\n",
    "    'pork_garlic_pow': '1 tsp.',\n",
    "    'pork_onion_pow': '1 tsp.',\n",
    "    'pork_cumin': '1 tsp.',\n",
    "    'pork_veg_oil': '2 tbsp.',\n",
    "    'pork_lager': '12 oz.',\n",
    "    'sauce_ketchup': '1.5 c.',\n",
    "    'sauce_vinegar': '0.33 c.',\n",
    "    'sauce_mustard': '0.5 c.',\n",
    "    'sauce_sugar': '0.25 c.',\n",
    "    'sauce_worcestershire': '2 tbsp.'\n",
    "}"
   ]
  },
  {
   "cell_type": "markdown",
   "metadata": {},
   "source": [
    "Create a function, `scale_recipe()` that:\n",
    "- takes required arguments:\n",
    "    - `nickname_entry_dict`: dictionary that contains the nickname and entry key-value pairs\n",
    "    - `scale`: scalable multiplier for your recipe\n",
    "- assume `scale` is a float if 0 < `scale` < 1; otherwise, it is an integer\n",
    "- returns an updated nickname and entry key-value pair dictionary where the entry value is scaled\n",
    "\n",
    "Feel free to create additional functions to help with the parsing.\n",
    "\n",
    "Then, save the scaled recipe to `scaled_recipe_num_dict` and display the scaled dictionary."
   ]
  },
  {
   "cell_type": "code",
   "execution_count": null,
   "metadata": {},
   "outputs": [],
   "source": [
    "# TODO: insert solution here"
   ]
  },
  {
   "cell_type": "markdown",
   "metadata": {},
   "source": [
    "## **<font color='GREEN'> Exercise</font>**\n",
    "\n",
    "Now that we have scaled the recipe, we want save the scaled values back to a text file.\n",
    "\n",
    "First we will need to replace the scaled values within the recipe text. I have saved the pulled the pork recipe to `recipe` for convenience. Copy the text in `recipe` to a variable called `recipe_scaled` (leave `recipe` untouched just in case you mess up) and replace the values that were scaled using the `format()` method. Display the scaled recipe and check for any errors."
   ]
  },
  {
   "cell_type": "code",
   "execution_count": null,
   "metadata": {},
   "outputs": [],
   "source": [
    "recipe = \"\"\"YIELDS: 6-8\n",
    "PREP TIME: 10 mins\n",
    "TOTAL TIME: 210 mins\n",
    "\n",
    "INGREDIENTS (FOR PORK)\n",
    "4 lb. boneless pork shoulder\n",
    "3 tbsp. packed brown sugar\n",
    "1 tbsp. kosher salt\n",
    "1 tbsp. smoked paprika\n",
    "1 tsp. garlic powder\n",
    "1 tsp. onion powder\n",
    "1 tsp. ground cumin\n",
    "Freshly ground black pepper to taste\n",
    "2 tbsp. vegetable oil\n",
    "12 oz. lager\n",
    "\n",
    "INGREDIENTS (FOR THE BARBECUE SAUCE + SANDWICHES)\n",
    "1.5 c. ketchup\n",
    "0.33 c. apple cider vinegar\n",
    "0.5 c. Dijon mustard\n",
    "0.25 c. brown sugar\n",
    "2 tbsp. Worcestershire sauce\n",
    "Buns, for serving\n",
    "\n",
    "DIRECTIONS\n",
    "1. Make pork: Preheat oven to 300°. Trim excess fat from pork and cut into large pieces to fit in a large Dutch oven.\n",
    "\n",
    "2. In a small bowl, combine brown sugar, salt, paprika, garlic powder, onion powder, and cumin, then season with black pepper. Rub all over pork. (This can be done the night before.)\n",
    "\n",
    "3. In a large Dutch oven over medium high heat, heat oil. Working in batches, add pork and sear on all sides. (Spices can burn quickly so don’t let it go for too long!)\n",
    "\n",
    "4. Pour beer around pork and cover with lid. Transfer to oven and cook until pork is beginning to turn tender, about 3 hours. Remove lid and cook until pork is very tender and pulls apart easily with a fork, 1 to 2 hours more.\n",
    "\n",
    "5. Remove pork from Dutch oven and let rest while you prepare barbecue sauce.\n",
    "\n",
    "6. Make barbecue sauce: To the pan drippings in the Dutch oven, whisk in ketchup, apple cider vinegar, mustard, brown sugar and Worcestershire. Over medium-high heat, bring mixture to a boil. Reduce heat, and simmer until thickened slightly, about 5 minutes.\n",
    "\n",
    "7. Shred pork using two forks. Toss shredded meat with about half the barbecue sauce.\n",
    "\n",
    "8. Serve warm with buns and more barbecue sauce.\n",
    "\n",
    "REFERENCES\n",
    "- https://www.delish.com/cooking/recipe-ideas/recipes/a58254/best-pulled-pork-recipe/\n",
    "\"\"\""
   ]
  },
  {
   "cell_type": "code",
   "execution_count": null,
   "metadata": {},
   "outputs": [],
   "source": [
    "# TODO: insert solution here"
   ]
  },
  {
   "cell_type": "markdown",
   "metadata": {},
   "source": [
    "Now that you have a recipe to feed enough people, let's export the recipe to `day_2_assets/lab/pulled_pork_recipe_scaled.txt`.\n",
    "\n",
    "Create a function, `write_recipe()`, that:\n",
    "- takes required arguments:\n",
    "    - `recipe_filepath`: string of where the recipe will be written to\n",
    "    - `recipe_str`: string of the recipe\n",
    "\n",
    "Afterwards, pass in the location of the scaled pulled pork recipe path and the newly scaled recipe string to `write_recipe()`."
   ]
  },
  {
   "cell_type": "code",
   "execution_count": null,
   "metadata": {},
   "outputs": [],
   "source": [
    "# TODO: insert solution here"
   ]
  },
  {
   "cell_type": "markdown",
   "metadata": {},
   "source": [
    "## **<font color='GREEN'> Exercise</font>**\n",
    "\n",
    "Ashley from the BBQ Planning Committee had a great idea to put the recipes from the BBQ available on the event webiste! To do this, she needs the recipes in a JSON format stored at `day_2_assets/lab/all_recipes.json`.\n",
    "\n",
    "Create a function `parse_for_json()` that:\n",
    "- takes required arguments:\n",
    "    - `nickname_entry_dict`: dictionary that contains the nickname and entry key-value pairs\n",
    "    - `recipe_name`: name of the recipe\n",
    "- parses the recipe into JSON format (see example below)\n",
    "- returns a dictionary with the `recipe_name` as the key and the JSON formatted recipe as value\n",
    "\n",
    "Here is an example on how your JSON file should look:\n",
    "\n",
    "```json\n",
    "{\n",
    "    \"Pulled Pork\": {\n",
    "        \"yields\": \"24.0-32.0\",\n",
    "        \"prep time\": \"40.0 mins\",\n",
    "        \"total time\": \"840.0 mins\",\n",
    "        \"pork ingredients\": {\n",
    "            \"pork_boneless\": \"16.0 lb.\",\n",
    "            \"pork_sugar\": \"12.0 tbsp.\",\n",
    "            \"pork_salt\": \"4.0 tbsp.\",\n",
    "            \"pork_paprika\": \"4.0 tbsp.\",\n",
    "            \"pork_garlic_pow\": \"4.0 tsp.\",\n",
    "            \"pork_onion_pow\": \"4.0 tsp.\",\n",
    "            \"pork_cumin\": \"4.0 tsp.\",\n",
    "            \"pork_veg_oil\": \"8.0 tbsp.\",\n",
    "            \"pork_lager\": \"48.0 oz.\"\n",
    "        },\n",
    "        \"sauce ingredients\": {\n",
    "            \"sauce_ketchup\": \"6.0 c.\",\n",
    "            \"sauce_vinegar\": \"1.32 c.\",\n",
    "            \"sauce_mustard\": \"2.0 c.\",\n",
    "            \"sauce_sugar\": \"1.0 c.\",\n",
    "            \"sauce_worcestershire\": \"8.0 tbsp.\"\n",
    "        },\n",
    "        \"directions\": {\n",
    "            \"1\": \"1. Make pork: Preheat oven to 300\\u00b0. Trim excess fat from pork and cut into large pieces to fit in a large Dutch oven.\",\n",
    "            \"2\": \"2. In a small bowl, combine brown sugar, salt, paprika, garlic powder, onion powder, and cumin, then season with black pepper. Rub all over pork. (This can be done the night before.)\",\n",
    "            \"3\": \"3. In a large Dutch oven over medium high heat, heat oil. Working in batches, add pork and sear on all sides. (Spices can burn quickly so don\\u2019t let it go for too long!)\",\n",
    "            \"4\": \"4. Pour beer around pork and cover with lid. Transfer to oven and cook until pork is beginning to turn tender, about 3 hours. Remove lid and cook until pork is very tender and pulls apart easily with a fork, 1 to 2 hours more.\",\n",
    "            \"5\": \"5. Remove pork from Dutch oven and let rest while you prepare barbecue sauce.\",\n",
    "            \"6\": \"6. Make barbecue sauce: To the pan drippings in the Dutch oven, whisk in ketchup, apple cider vinegar, mustard, brown sugar and Worcestershire. Over medium-high heat, bring mixture to a boil. Reduce heat, and simmer until thickened slightly, about 5 minutes.\",\n",
    "            \"7\": \"7. Shred pork using two forks. Toss shredded meat with about half the barbecue sauce.\",\n",
    "            \"8\": \"8. Serve warm with buns and more barbecue sauce.\"\n",
    "        }\n",
    "    }\n",
    "}\n",
    "```\n",
    "\n",
    "Lastly, create a function, `dict_to_json()`, that:\n",
    "- takes required arguments:\n",
    "    - `filepath`: path to save JSON file to\n",
    "    - `json_dict`: dictionary to export to JSON\n",
    "- exports `json_dict` to JSON at `filepath`"
   ]
  },
  {
   "cell_type": "code",
   "execution_count": null,
   "metadata": {},
   "outputs": [],
   "source": [
    "# TODO: insert solution here"
   ]
  }
 ],
 "metadata": {
  "kernelspec": {
   "display_name": "Python 3",
   "language": "python",
   "name": "python3"
  },
  "language_info": {
   "codemirror_mode": {
    "name": "ipython",
    "version": 3
   },
   "file_extension": ".py",
   "mimetype": "text/x-python",
   "name": "python",
   "nbconvert_exporter": "python",
   "pygments_lexer": "ipython3",
   "version": "3.8.8"
  }
 },
 "nbformat": 4,
 "nbformat_minor": 4
}
