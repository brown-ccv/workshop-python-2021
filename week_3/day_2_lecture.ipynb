{
 "cells": [
  {
   "cell_type": "markdown",
   "metadata": {},
   "source": [
    "# <center>LECTURE OVERVIEW </center>\n",
    "\n",
    "---\n",
    "\n",
    "## By the end of the lecture, you'll be able to:\n",
    "- produce fancier outputs using f-strings and string methods\n",
    "- read and write text files\n",
    "- read and write CSV files\n",
    "- encode and decode JSON data\n",
    "- connect to a SQL database along with creating tables and inserting, selecting, updating, and deleting records\n",
    "\n",
    "# <center>INPUT/OUTPUT</center>\n",
    "\n",
    "---\n",
    "\n",
    "There are several ways to present the output of a program; data can be printed in a human-readable form, or written to a file for future use. \n",
    "\n",
    "**<center>You will spend the majority of your time debugging and testing your code.</center>**\n",
    "\n",
    "Formatting your output while debugging and testing can drastically reduce the time banging your head against the wall since a well designed output will intuitively let a user know what is happening in your code.\n",
    "\n",
    "## <font color='LIGHTGRAY'>By the end of the lecture, you'll be able to:</font>\n",
    "- **produce fancier outputs using f-strings and string methods**\n",
    "- <font color='LIGHTGRAY'>read and write text files</font>\n",
    "- <font color='LIGHTGRAY'>read and write CSV files</font>\n",
    "- <font color='LIGHTGRAY'>encode and decode JSON data</font>\n",
    "- <font color='LIGHTGRAY'>connect to a SQL database along with creating tables and inserting, selecting, updating, and deleting records</font>\n",
    "\n",
    "# Fancier Output Formatting\n",
    "\n",
    "Often you’ll want more control over the formatting of your output than simply printing space-separated values. There are several ways to format output.\n",
    "\n",
    "To use **formatted string literals (`f-strings`)**, begin a string with `f` or `F` before the opening quotation mark or triple quotation mark. Inside this string, you can write a Python expression between `{` and `}` characters that can refer to variables or literal values.\n",
    "\n",
    "For example:"
   ]
  },
  {
   "cell_type": "code",
   "execution_count": null,
   "metadata": {},
   "outputs": [],
   "source": [
    "year = 2021\n",
    "event = \"BBQ\"\n",
    "f\"Menu for the {year} {event}\""
   ]
  },
  {
   "cell_type": "markdown",
   "metadata": {},
   "source": [
    "The `str.format()` method of strings requires more manual effort. You’ll still use `{` and `}` to mark where a variable will be substituted and can provide detailed formatting directives, but you’ll also need to provide the information to be formatted."
   ]
  },
  {
   "cell_type": "code",
   "execution_count": null,
   "metadata": {},
   "outputs": [],
   "source": [
    "yes_votes = 42_572_568\n",
    "no_votes = 430_566\n",
    "percentage = yes_votes / (yes_votes + no_votes)\n",
    "'{:-8} YES votes ({:.2%}) for people who love BBQ'.format(yes_votes, percentage)"
   ]
  },
  {
   "cell_type": "markdown",
   "metadata": {},
   "source": [
    "# Formated String Literals (f-strings)\n",
    "\n",
    "An optional format specifier can follow the expression. This allows greater control over how the value is formatted. The following example rounds pi to three places after the decimal:"
   ]
  },
  {
   "cell_type": "code",
   "execution_count": null,
   "metadata": {},
   "outputs": [],
   "source": [
    "import math\n",
    "f'The value of pi is approximately {math.pi:.3f}.'"
   ]
  },
  {
   "cell_type": "markdown",
   "metadata": {},
   "source": [
    "The code after the `:` tells Python \"*I want three decimal places using fixed-point notation*\" (i.e., `.3f`). Here are some commonly used format types:\n",
    "\n",
    "| Type | Meaning |\n",
    "|:----:|---------|\n",
    "| `s` | String format (default and may be ommited) |\n",
    "| `f` | Fixed-point notation (default precision is 6) |\n",
    "| `e` | Exponent notation (default precision is 6) |\n",
    "| `b` | Binary format |\n",
    "| `d` | Decimal integer (base 10) |\n",
    "| `o` | Octal format (base 8) |\n",
    "| `x` | Hex format (base 16) |\n",
    "| `%` | Percentage (multiplies the number by 100 and displays percent sign) |\n",
    "\n",
    "For more on format specification, check out the [documentation](https://docs.python.org/3.7/library/string.html#format-specification-mini-language).\n",
    "\n",
    "Passing an integer after the `:` will cause that field to be a minimum number of characters wide. This is useful for making columns line up."
   ]
  },
  {
   "cell_type": "code",
   "execution_count": null,
   "metadata": {},
   "outputs": [],
   "source": [
    "person_guests_dict = {'Lauren': 41, 'Jack': 4, 'Ryan': 767}\n",
    "for person, num_guests in person_guests_dict.items():\n",
    "    print(f\"{person:10} ==> {num_guests:10}\")"
   ]
  },
  {
   "cell_type": "markdown",
   "metadata": {},
   "source": [
    "For more about `f-strings`, see the [documentation](https://docs.python.org/3.8/reference/lexical_analysis.html#f-strings)."
   ]
  },
  {
   "cell_type": "markdown",
   "metadata": {},
   "source": [
    "## The String format() Method\n",
    "\n",
    "Basic usage of the `str.format()` method looks like this:"
   ]
  },
  {
   "cell_type": "code",
   "execution_count": null,
   "metadata": {},
   "outputs": [],
   "source": [
    "print('We are the {} who say \"{}!\"'.format('knights', 'WE LOVE BBQ'))"
   ]
  },
  {
   "cell_type": "markdown",
   "metadata": {},
   "source": [
    "The brackets and characters within them (called format fields) are replaced with the objects passed into the `str.format()` method. A number in the brackets can be used to refer to the position of the object passed into the `str.format()` method."
   ]
  },
  {
   "cell_type": "code",
   "execution_count": null,
   "metadata": {},
   "outputs": [],
   "source": [
    "print('{0} and {1}'.format('chicken', 'eggs'))"
   ]
  },
  {
   "cell_type": "code",
   "execution_count": null,
   "metadata": {},
   "outputs": [],
   "source": [
    "print('{1} and {0}'.format('chicken', 'eggs'))"
   ]
  },
  {
   "cell_type": "markdown",
   "metadata": {},
   "source": [
    "If keyword arguments are used in the `str.format()` method, their values are referred to by using the name of the argument."
   ]
  },
  {
   "cell_type": "code",
   "execution_count": null,
   "metadata": {},
   "outputs": [],
   "source": [
    "print(\n",
    "    'This {food} is {adjective}.'.format(\n",
    "        food='spam', adjective='absolutely horrible'\n",
    "    )\n",
    ")"
   ]
  },
  {
   "cell_type": "markdown",
   "metadata": {},
   "source": [
    "Positional and keyword arguments can be arbitrarily combined:"
   ]
  },
  {
   "cell_type": "code",
   "execution_count": null,
   "metadata": {},
   "outputs": [],
   "source": [
    "print(\n",
    "    'The chefs are {0}, {1}, and {other}.'.format(\n",
    "        'Bill', 'Manfred', other='George'\n",
    "    )\n",
    ")"
   ]
  },
  {
   "cell_type": "markdown",
   "metadata": {},
   "source": [
    "If you have a really long format string that you don’t want to split up, it would be nice if you could reference the variables to be formatted by name instead of by position. This can be done by simply passing the dict and using square brackets `[]` with 0 infront of the brackets to access the keys."
   ]
  },
  {
   "cell_type": "code",
   "execution_count": null,
   "metadata": {},
   "outputs": [],
   "source": [
    "person_guests_dict = {'Lauren': 4113, 'Jack': 442, 'Ryan': 76}\n",
    "print(\n",
    "    'Lauren: {0[Lauren]:d}; Jack: {0[Jack]:d}; Ryan: {0[Ryan]:d}'.format(person_guests_dict)\n",
    ")"
   ]
  },
  {
   "cell_type": "markdown",
   "metadata": {},
   "source": [
    "This could also be done by passing the table as keyword arguments with the `**` notation.\n",
    "\n",
    "The `**` operator allows us to take a dictionary of key-value pairs and unpack it into keyword arguments in a function call."
   ]
  },
  {
   "cell_type": "code",
   "execution_count": null,
   "metadata": {},
   "outputs": [],
   "source": [
    "person_guests_dict = {'Lauren': 1411, 'Jack': 124, 'Ryan': 7}\n",
    "print(\n",
    "    'Lauren: {Lauren:d}; Jack: {Jack:d}; Ryan: {Ryan:d}'.format(**person_guests_dict)\n",
    ")"
   ]
  },
  {
   "cell_type": "markdown",
   "metadata": {},
   "source": [
    "Here we can create lines that produce a tidily-aligned set of columns giving integers and their squares and cubes:"
   ]
  },
  {
   "cell_type": "code",
   "execution_count": null,
   "metadata": {},
   "outputs": [],
   "source": [
    "for x in range(1, 11):\n",
    "    if x == 1: print('{0:2} {1:3} {2:4}'.format('x', 'x^2', 'x^3'))\n",
    "    print('{0:2d} {1:3d} {2:4d}'.format(x, x*x, x*x*x))"
   ]
  },
  {
   "cell_type": "markdown",
   "metadata": {},
   "source": [
    "For a complete overview of string formatting with `str.format()`, see the [documentation](https://docs.python.org/3.7/library/string.html#formatstrings)."
   ]
  },
  {
   "cell_type": "markdown",
   "metadata": {},
   "source": [
    "## Miscellaneous Output Formatting\n",
    "\n",
    "The functions `str.upper()` and `str.lower()` will return a string with all the letters of an original string converted to upper- or lower-case letters. Because strings are immutable data types, the returned string will be a new string. Any characters in the string that are not letters will not be changed."
   ]
  },
  {
   "cell_type": "code",
   "execution_count": null,
   "metadata": {},
   "outputs": [],
   "source": [
    "print(\"bbq pitmasters\".upper())"
   ]
  },
  {
   "cell_type": "markdown",
   "metadata": {},
   "source": [
    "Now, let’s convert the string to be all lower case:"
   ]
  },
  {
   "cell_type": "code",
   "execution_count": null,
   "metadata": {},
   "outputs": [],
   "source": [
    "print(\"BBQ PITMASTERS\".lower())"
   ]
  },
  {
   "cell_type": "markdown",
   "metadata": {},
   "source": [
    "The `str.upper()` and `str.lower()` functions make it easier to evaluate and compare strings by making case consistent throughout. That way if a user writes their name all lower case, we can still determine whether their name is in our database by checking it against an all upper-case version.\n",
    "\n",
    "For example:"
   ]
  },
  {
   "cell_type": "code",
   "execution_count": null,
   "metadata": {},
   "outputs": [],
   "source": [
    "db = ['Laura', 'Andras', 'Ashley']\n",
    "query = 'ASHLEY'\n",
    "\n",
    "print(f\"[without str.lower()] Is {query} in our database?: {query in db}\")\n",
    "print(f\"[with str.lower()] Is {query} in our database?: {query in [item.upper() for item in db]}\")"
   ]
  },
  {
   "cell_type": "markdown",
   "metadata": {},
   "source": [
    "The built in `repr()` function will return a string containting a printable representation of an object, for example:"
   ]
  },
  {
   "cell_type": "code",
   "execution_count": null,
   "metadata": {},
   "outputs": [],
   "source": [
    "word_lst = list('supercalifragilisticexpialidocious')\n",
    "repr(word_lst)"
   ]
  },
  {
   "cell_type": "markdown",
   "metadata": {},
   "source": [
    "The `reprlib` module provides a version of `repr()` customized for abbreviated displays of large or deeply nested containers:"
   ]
  },
  {
   "cell_type": "code",
   "execution_count": null,
   "metadata": {},
   "outputs": [],
   "source": [
    "import reprlib\n",
    "\n",
    "word_lst = list('supercalifragilisticexpialidocious')\n",
    "reprlib.repr(word_lst)"
   ]
  },
  {
   "cell_type": "markdown",
   "metadata": {},
   "source": [
    "For more about `reprlib`, see the [documentation](https://docs.python.org/3/library/reprlib.html)."
   ]
  },
  {
   "cell_type": "markdown",
   "metadata": {},
   "source": [
    "The `pprint` module offers more sophisticated control over printing both built-in and user defined objects in a way that is readable by the interpreter. When the result is longer than one line, the “pretty printer” adds line breaks and indentation to more clearly reveal data structure:"
   ]
  },
  {
   "cell_type": "code",
   "execution_count": null,
   "metadata": {},
   "outputs": [],
   "source": [
    "from pprint import pprint\n",
    "\n",
    "bbq_menu = [[['chicken', 'bison', 'ribs'], 'chips', ['potatoes', 'mac and cheese'], ['beer'], 'corn bread']]\n",
    "print(bbq_menu)\n",
    "print()\n",
    "pprint(bbq_menu)"
   ]
  },
  {
   "cell_type": "markdown",
   "metadata": {},
   "source": [
    "For more about `pprint`, see the [documentation](https://docs.python.org/3/library/pprint.htmlhttps://docs.python.org/3/library/pprint.html).\n",
    "\n",
    "Lastly, the `textwrap` module formats paragraphs of text to fit a given screen width. A useful method from this module called\n",
    "```python\n",
    "fill(text, width=70, ...)\n",
    "```\n",
    "which wraps a single paragraph in `text`, and returns a single string containing the wrapped paragraph."
   ]
  },
  {
   "cell_type": "code",
   "execution_count": null,
   "metadata": {},
   "outputs": [],
   "source": [
    "from textwrap import fill\n",
    "\n",
    "intro = \"BBQ Pitmasters is an American reality television series which follows barbecue cooks as they compete for cash and prizes in barbecue cooking competitions.\"\n",
    "print(fill(intro, width=40))"
   ]
  },
  {
   "cell_type": "markdown",
   "metadata": {},
   "source": [
    "For more about `textwrap`, see the [documentation](https://docs.python.org/3/library/textwrap.html)."
   ]
  },
  {
   "cell_type": "markdown",
   "metadata": {},
   "source": [
    "### **<font color='GREEN'> Exercise</font>**\n",
    "\n",
    "Given a list of tuple entries, `entries`, format a table with a minimum of 10 characters wide per entry to look like the following:\n",
    "```\n",
    "Name       Num. Guests Paid      \n",
    "---------------------------------\n",
    "Matt       0          yes       \n",
    "Andras     10         no        \n",
    "Ashley     5          yes       \n",
    "```\n"
   ]
  },
  {
   "cell_type": "code",
   "execution_count": null,
   "metadata": {},
   "outputs": [],
   "source": [
    "entries = [\n",
    "    ('Matt', '0', 'yes'),\n",
    "    ('Andras', '10', 'no'),\n",
    "    ('Ashley', '5', 'yes')\n",
    "]"
   ]
  },
  {
   "cell_type": "code",
   "execution_count": null,
   "metadata": {},
   "outputs": [],
   "source": [
    "# TODO: insert solution here"
   ]
  },
  {
   "cell_type": "markdown",
   "metadata": {},
   "source": [
    "# Reading and Writing Files\n",
    "\n",
    "## <font color='LIGHTGRAY'>By the end of the lecture, you'll be able to:</font>\n",
    "- <font color='LIGHTGRAY'>produce fancier outputs using f-strings and string methods</font>\n",
    "- **read and write text files**\n",
    "- <font color='LIGHTGRAY'>read and write CSV files</font>\n",
    "- <font color='LIGHTGRAY'>encode and decode JSON data</font>\n",
    "- <font color='LIGHTGRAY'>connect to a SQL database along with creating tables and inserting, selecting, updating, and deleting records</font>\n",
    "\n",
    "One of the most common tasks that you can do with Python is reading and writing files. Whether it’s writing to a simple text file, reading a complicated server log, or even analyzing raw byte data, all of these situations require reading or writing a file.\n",
    "\n",
    "To open a file object, use `open()` which returns a `file` object, and is most commonly used with two arguments\n",
    "```python\n",
    "open(filename, mode='r', ...)\n",
    "```\n",
    "\n",
    "The first argument is a string containing the `filename`. The second argument is another string containing a few characters describing the way in which the file will be used. Mode can be `'r'` when the file will only be **read**, `'w'` for only **writing** (an existing file with the same name will be erased), and `'a'` opens the file for **appending**; any data written to the file is automatically added to the end. `'r+'` opens the file for both **reading and writing**.\n",
    "\n",
    "It is good practice to use the with keyword when dealing with file objects. The advantage is that the file is properly closed after its suite finishes, even if an exception is raised at some point. Using with is also much shorter than writing equivalent try-finally blocks:"
   ]
  },
  {
   "cell_type": "code",
   "execution_count": null,
   "metadata": {},
   "outputs": [],
   "source": [
    "with open('day_2_assets/test.txt') as f:\n",
    "    read_data = f.read()\n",
    "    print(read_data)\n",
    "f.closed"
   ]
  },
  {
   "cell_type": "markdown",
   "metadata": {},
   "source": [
    "## **<font color='ORANGE'>Caution</font>**\n",
    "\n",
    "If you’re not using the `with` keyword, then you should call `f.close()` to close the file and immediately free up any system resources used by it. If you don’t explicitly close a file, Python’s garbage collector will eventually destroy the object and close the open file for you, but the file may stay open for a while. Another risk is that different Python implementations will do this clean-up at different times. "
   ]
  },
  {
   "cell_type": "code",
   "execution_count": null,
   "metadata": {},
   "outputs": [],
   "source": [
    "f = open('day_2_assets/test.txt')\n",
    "print(f.read())\n",
    "f.close()\n",
    "f.read()"
   ]
  },
  {
   "cell_type": "markdown",
   "metadata": {},
   "source": [
    "For more about `open()`, see the [documentation](https://docs.python.org/3.7/library/functions.html#open) or check out the help output."
   ]
  },
  {
   "cell_type": "code",
   "execution_count": null,
   "metadata": {},
   "outputs": [],
   "source": [
    "help(open)"
   ]
  },
  {
   "cell_type": "markdown",
   "metadata": {},
   "source": [
    "## Methods of File Objects\n",
    "\n",
    "To read a file’s contents, call \n",
    "```python\n",
    "f.read(size=-1)\n",
    "```\n",
    "which reads some quantity of data and returns it as a string (in text mode) or bytes object (in binary mode). `size` is an optional numeric argument that when it is omitted or negative, the entire contents of the file will be read and returned; it’s your problem if the file is twice as large as your machine’s memory. Otherwise, at most `size` characters (in text mode) or `size` bytes (in binary mode) are read and returned. If the end of the file has been reached, `f.read()` will return an empty string ('').\n",
    "\n",
    "`f.readline()` reads a single line from the file; a newline character (`'\\n'`) is left at the end of the string, and is only omitted on the last line of the file if the file doesn’t end in a newline. This makes the return value unambiguous; if `f.readline()` returns an empty string, the end of the file has been reached, while a blank line is represented by `'\\n'`, a string containing only a single newline."
   ]
  },
  {
   "cell_type": "code",
   "execution_count": null,
   "metadata": {},
   "outputs": [],
   "source": [
    "f = open('day_2_assets/test.txt')\n",
    "print(f.readline())\n",
    "print(f.readline())\n",
    "print(f.readline())\n",
    "f.close()"
   ]
  },
  {
   "cell_type": "markdown",
   "metadata": {},
   "source": [
    "For reading lines from a file, you can loop over the `file` object. This is memory efficient, fast, and leads to simple code:"
   ]
  },
  {
   "cell_type": "code",
   "execution_count": null,
   "metadata": {},
   "outputs": [],
   "source": [
    "with open('day_2_assets/test.txt') as f:\n",
    "    for line in f:\n",
    "        print(line, end='')"
   ]
  },
  {
   "cell_type": "markdown",
   "metadata": {},
   "source": [
    "If you want to read all the lines of a file in a list you can also use `list(f)` or `f.readlines()`."
   ]
  },
  {
   "cell_type": "code",
   "execution_count": null,
   "metadata": {},
   "outputs": [],
   "source": [
    "with open('day_2_assets/test.txt') as f:\n",
    "    print(list(f))\n",
    "\n",
    "with open('day_2_assets/test.txt') as f:\n",
    "    print(f.readlines())"
   ]
  },
  {
   "cell_type": "markdown",
   "metadata": {},
   "source": [
    "`f.write(string)` writes the contents of `string` to the file, returning the number of characters written."
   ]
  },
  {
   "cell_type": "code",
   "execution_count": null,
   "metadata": {},
   "outputs": [],
   "source": [
    "with open('day_2_assets/test.txt', 'w') as f:\n",
    "    print(f.write('This is the first line of the file.\\n'))\n",
    "    print(f.write('Second line of the file.'))"
   ]
  },
  {
   "cell_type": "markdown",
   "metadata": {},
   "source": [
    "Other types of objects need to be converted – either to a string (in text mode) or a bytes object (in binary mode) – before writing them:"
   ]
  },
  {
   "cell_type": "code",
   "execution_count": null,
   "metadata": {},
   "outputs": [],
   "source": [
    "people_count = ('number of people', 1239)\n",
    "with open('day_2_assets/tuple_test.txt', 'w') as f:\n",
    "    f.write(str(people_count))\n",
    "    \n",
    "with open('day_2_assets/tuple_test.txt') as f:\n",
    "    print(f.read())"
   ]
  },
  {
   "cell_type": "markdown",
   "metadata": {},
   "source": [
    "File objects have some additional methods, such as `tell()`, `seek()`, `isatty()` and `truncate()` which are less frequently used; consult the [documentation](https://docs.python.org/3.7/library/io.html#i-o-base-classes) for a complete guide to file objects."
   ]
  },
  {
   "cell_type": "markdown",
   "metadata": {},
   "source": [
    "# <center>WORKING WITH CSV, JSON, AND SQL DATA</center>\n",
    "\n",
    "---"
   ]
  },
  {
   "cell_type": "markdown",
   "metadata": {},
   "source": [
    "Strings can easily be writtend to and read from a file. Numbers take a bit more effort, since the read() method only returns strings, which will have to be passed to a function like `int()`, which takes a string like '123' and returns its numeric value 123. When you want to save more complex data types like nested lists and dictionaries, parsing and serializing by hand becomes complicated.\n",
    "\n",
    "Rather than having users constantly writing and debugging code to save complicated data types to files, Python allows you to use popular data interchange formats such as [CSV (comma-separated values)](https://en.wikipedia.org/wiki/Comma-separated_values), [JSON (JavaScript Object Notation)](https://www.json.org/json-en.html), and [SQL (Structured Query Language)](https://en.wikipedia.org/wiki/SQL) data formats.\n",
    "\n",
    "# The `csv` Module\n",
    "\n",
    "## <font color='LIGHTGRAY'>By the end of the lecture, you'll be able to:</font>\n",
    "- <font color='LIGHTGRAY'>produce fancier outputs using f-strings and string methods</font>\n",
    "- <font color='LIGHTGRAY'>read and write text files</font>\n",
    "- **read and write CSV files**\n",
    "- <font color='LIGHTGRAY'>encode and decode JSON data</font>\n",
    "- <font color='LIGHTGRAY'>connect to a SQL database along with creating tables and inserting, selecting, updating, and deleting records</font>\n",
    "\n",
    "A CSV file can be opened in Google Sheets or Excel and will be formatted as a spreadsheet. However, a CSV file is actually a plain-text file. It can also be opened with a text editor program.\n",
    "\n",
    "The structure of a CSV file is given away by its name. Normally, CSV files use a comma to separate each specific data value. Here’s what that structure looks like:\n",
    "\n",
    "```csv\n",
    "column 1 name,column 2 name,column 3 name\n",
    "first row data 1,first row data 2,first row data 3\n",
    "second row data 1,second row data 2,second row data 3\n",
    "...\n",
    "```\n",
    "\n",
    "CSVs give us a good, simple way to organize data without using a database program. It’s easy to read from and write to CSV files with Python using the `csv` module."
   ]
  },
  {
   "cell_type": "code",
   "execution_count": null,
   "metadata": {},
   "outputs": [],
   "source": [
    "import csv"
   ]
  },
  {
   "cell_type": "markdown",
   "metadata": {},
   "source": [
    "## Writing to a CSV File\n",
    "\n",
    "You can write to a CSV file using a\n",
    "```python\n",
    "writer(csvfile, ...)\n",
    "``` \n",
    "object and the `.write_row()` method:"
   ]
  },
  {
   "cell_type": "code",
   "execution_count": null,
   "metadata": {},
   "outputs": [],
   "source": [
    "with open('day_2_assets/bbq_event.csv', 'w') as bbq_file:\n",
    "    bbq_writer = csv.writer(bbq_file)\n",
    "    bbq_writer.writerow(['name', 'num_guests', 'paid'])\n",
    "    bbq_writer.writerow(['Matt', 0, 'yes'])\n",
    "    bbq_writer.writerow(['Andras', 10, 'no'])\n",
    "    bbq_writer.writerow(['Ashley', 5, 'yes'])\n",
    "    \n",
    "with open('day_2_assets/bbq_event.csv') as f:\n",
    "    print(f.readlines())"
   ]
  },
  {
   "cell_type": "markdown",
   "metadata": {},
   "source": [
    "You can also use a `for` loop to write each row into the CSV file"
   ]
  },
  {
   "cell_type": "code",
   "execution_count": null,
   "metadata": {},
   "outputs": [],
   "source": [
    "header = ['name', 'num_guests', 'paid']\n",
    "bbq_event_lst = [\n",
    "    ['Matt', 0, 'yes'],\n",
    "    ['Andras', 10, 'no'],\n",
    "    ['Ashley', 5, 'yes']\n",
    "]\n",
    "\n",
    "with open('day_2_assets/bbq_event.csv', 'w') as bbq_file:\n",
    "    bbq_writer = csv.writer(bbq_file)\n",
    "    bbq_writer.writerow(header)\n",
    "    for item in bbq_event_lst:\n",
    "        bbq_writer.writerow(item)\n",
    "        \n",
    "with open('day_2_assets/bbq_event.csv') as f:\n",
    "    print(f.readlines())"
   ]
  },
  {
   "cell_type": "markdown",
   "metadata": {},
   "source": [
    "## Reading from a CSV File\n",
    "\n",
    "You can read from a CSV file using the\n",
    "```python\n",
    "reader(csvfile, ...)\n",
    "```\n",
    "object. With this object, you can iterate the through the rows where each row in the CSV is saved as a list.\n",
    "\n",
    "Here we read in the previously created `bbq_event.csv` file:"
   ]
  },
  {
   "cell_type": "code",
   "execution_count": null,
   "metadata": {},
   "outputs": [],
   "source": [
    "with open('day_2_assets/bbq_event.csv') as bbq_file:\n",
    "    bbq_reader = csv.reader(bbq_file)\n",
    "    for row in bbq_reader:\n",
    "        print(row)"
   ]
  },
  {
   "cell_type": "markdown",
   "metadata": {},
   "source": [
    "Text files can also be used to `csv.reader()` but you the additional  needs to also be used.\n",
    "\n",
    "Here's the `bbq_event.txt` file:\n",
    "```csv\n",
    "name,num_guests,paid\n",
    "Matt,0,yes\n",
    "Andras,10,no\n",
    "Ashley,5,yes\n",
    "```\n",
    "\n",
    "Here's the code to read it:"
   ]
  },
  {
   "cell_type": "code",
   "execution_count": null,
   "metadata": {},
   "outputs": [],
   "source": [
    "with open('day_2_assets/bbq_event.txt') as bbq_file:\n",
    "    bbq_reader = csv.reader(bbq_file)\n",
    "    for row in bbq_reader:\n",
    "        print(row)"
   ]
  },
  {
   "cell_type": "markdown",
   "metadata": {},
   "source": [
    "## Reading CSV Files into an `OrderedDict`\n",
    "\n",
    "Rather than deal with a list of `String` elements, you can read CSV data directly into an Ordered Dictionary as well using the\n",
    "```python\n",
    "DictReader(filename, ...)\n",
    "```\n",
    "object.\n",
    "\n",
    "Again, we use the `bbq_event.txt` input file and read it in as a dictionary this time:"
   ]
  },
  {
   "cell_type": "code",
   "execution_count": null,
   "metadata": {},
   "outputs": [],
   "source": [
    "with open('day_2_assets/bbq_event.txt') as bbq_file:\n",
    "    bbq_reader = csv.DictReader(bbq_file)\n",
    "    for row in bbq_reader:\n",
    "        print(row)"
   ]
  },
  {
   "cell_type": "markdown",
   "metadata": {},
   "source": [
    "## Writing a CSV File from a Dictionary\n",
    "You can also write a CSV file from a dictionary using the \n",
    "```python\n",
    "DictWriter(filename, fieldnames, ...)\n",
    "```\n",
    "object. Unlike `DictReader`, the `fieldnames` parameter is required when writing a dictionary:"
   ]
  },
  {
   "cell_type": "code",
   "execution_count": null,
   "metadata": {},
   "outputs": [],
   "source": [
    "with open('day_2_assets/bbq_event-DictWriter.csv', 'w') as bbq_file:\n",
    "    fieldnames = ['name', 'num_guests', 'paid']\n",
    "    bbq_writer = csv.DictWriter(bbq_file, fieldnames=fieldnames)\n",
    "    \n",
    "    bbq_writer.writeheader()\n",
    "    bbq_writer.writerow({'name': 'Matt', 'num_guests': 0, 'paid': 'yes'})\n",
    "    bbq_writer.writerow({'name': 'Andras', 'num_guests': 10, 'paid': 'no'})\n",
    "    bbq_writer.writerow({'name': 'Ashley', 'num_guests': 5, 'paid': 'yes'})\n",
    "    \n",
    "with open('day_2_assets/bbq_event-DictWriter.csv') as bbq_file:\n",
    "    bbq_reader = csv.reader(bbq_file)\n",
    "    for row in bbq_reader:\n",
    "        print(row)"
   ]
  },
  {
   "cell_type": "markdown",
   "metadata": {},
   "source": [
    "## **<font color='ORANGE'>Caution</font>**\n",
    "\n",
    "These methods will still work even if incorrect formats are used."
   ]
  },
  {
   "cell_type": "code",
   "execution_count": null,
   "metadata": {},
   "outputs": [],
   "source": [
    "# writing to a CSV with incorrect columns\n",
    "with open('day_2_assets/incorrect_cols.csv', 'w') as f:\n",
    "    writer = csv.writer(f)\n",
    "    writer.writerow(['col1', 'col2'])\n",
    "    writer.writerow(['row1_1', 'row1_2', 'row1_3'])\n",
    "\n",
    "# writing to a CSV with incorrect row entries\n",
    "with open('day_2_assets/incorrect_row_entry.csv', 'w') as f:\n",
    "    writer = csv.writer(f)\n",
    "    writer.writerow(['col1', 'col2', 'col2'])\n",
    "    writer.writerow(['row1_1', 'row1_2'])"
   ]
  },
  {
   "cell_type": "code",
   "execution_count": null,
   "metadata": {},
   "outputs": [],
   "source": [
    "# reading from a CSV with incorrect columns\n",
    "with open('day_2_assets/incorrect_cols.csv') as f:\n",
    "    reader = csv.reader(f)\n",
    "    for row in reader:\n",
    "        print(row)\n",
    "\n",
    "print()\n",
    "\n",
    "# reading from a CSV with incorrect row entries\n",
    "with open('day_2_assets/incorrect_row_entry.csv') as f:\n",
    "    reader = csv.reader(f)\n",
    "    for row in reader:\n",
    "        print(row)"
   ]
  },
  {
   "cell_type": "code",
   "execution_count": null,
   "metadata": {},
   "outputs": [],
   "source": [
    "# reading using DictReader from a CSV with incorrect columns\n",
    "with open('day_2_assets/incorrect_cols.csv') as f:\n",
    "    reader = csv.DictReader(f)\n",
    "    for row in reader:\n",
    "        print(row)\n",
    "\n",
    "print()\n",
    "\n",
    "# reading using DictReader from a CSV with incorrect row entries\n",
    "with open('day_2_assets/incorrect_row_entry.csv') as f:\n",
    "    reader = csv.DictReader(f)\n",
    "    for row in reader:\n",
    "        print(row)"
   ]
  },
  {
   "cell_type": "markdown",
   "metadata": {},
   "source": [
    "For more about the `csv` module, see the [documentation](https://docs.python.org/3/library/csv.html)."
   ]
  },
  {
   "cell_type": "markdown",
   "metadata": {},
   "source": [
    "# JSON Primer\n",
    "\n",
    "Working with JSON files has become one of the standards for information exchange. If you are needing to gather information through an [Application Programming Interface (API)](https://en.wikipedia.org/wiki/API), chances are the information gathered will be in a JSON format.\n",
    "\n",
    "Simple Python objects are translated to JSON:\n",
    "\n",
    "| **Python**             | **JSON** |\n",
    "| -----------------------|----------|\n",
    "| `dict `                |`object`  |\n",
    "| `list, tuple`          | `array`  | \n",
    "| `str`                  | `string` |\n",
    "| `int`, `long`, `float` | `number` |\n",
    "| `True`                 | `true`   |\n",
    "| `False`                | `false`  |\n",
    "| `None`                 | `null`   |\n",
    "\n",
    "So what does a JSON file look like?\n",
    "\n",
    "```json\n",
    "{\n",
    "    \"string_example\": \"Matt\",\n",
    "    \"array_example\": [\"burgers\", \"fries\", \"milkshake\"],\n",
    "    \"number_example\": 27,\n",
    "    \"bool_example\": false,\n",
    "    \"none_example\": null,\n",
    "    \"list_of_objects_example\": [\n",
    "        {\n",
    "            \"name\": \"Ryan\",\n",
    "            \"age\": 24\n",
    "        },\n",
    "        {\n",
    "            \"name\": \"Liz\",\n",
    "            \"age\": 25\n",
    "        }\n",
    "        \n",
    "    ]\n",
    "    \n",
    "}\n",
    "\n",
    "```\n",
    "\n",
    "\n",
    "# JSON Module\n",
    "\n",
    "## <font color='LIGHTGRAY'>By the end of the lecture, you'll be able to:</font>\n",
    "- <font color='LIGHTGRAY'>produce fancier outputs using f-strings and string methods</font>\n",
    "- <font color='LIGHTGRAY'>read and write text files</font>\n",
    "- <font color='LIGHTGRAY'>read and write CSV files</font>\n",
    "- **encode and decode JSON data**\n",
    "- <font color='LIGHTGRAY'>connect to a SQL database along with creating tables and inserting, selecting, updating, and deleting records</font>\n",
    "\n",
    "Python comes with a built-in module called `json` for encoding and decoding JSON data."
   ]
  },
  {
   "cell_type": "code",
   "execution_count": null,
   "metadata": {},
   "outputs": [],
   "source": [
    "import json"
   ]
  },
  {
   "cell_type": "markdown",
   "metadata": {},
   "source": [
    "## Encoding JSON data\n",
    "\n",
    "To convert a Python object to JSON data, use the \n",
    "```python\n",
    "dump(obj, file_obj, ...)\n",
    "```\n",
    "method.\n",
    "\n",
    "For example:"
   ]
  },
  {
   "cell_type": "code",
   "execution_count": null,
   "metadata": {},
   "outputs": [],
   "source": [
    "bbq_event_dict = {\n",
    "    \"entry1\": {\n",
    "        \"name\": \"Matt\",\n",
    "        \"num_guests\": 0,\n",
    "        \"paid\": True\n",
    "    },\n",
    "    \"entry2\": {\n",
    "        \"name\": \"Andras\",\n",
    "        \"num_guests\": 10,\n",
    "        \"paid\": False\n",
    "    },\n",
    "    \"entry3\": {\n",
    "        \"name\": \"Ashley\",\n",
    "        \"num_guests\": 5,\n",
    "        \"paid\": True\n",
    "    }\n",
    "}\n",
    "\n",
    "with open(\"day_2_assets/bbq_event.json\", \"w\") as bbq_file:\n",
    "    json.dump(bbq_event_dict, bbq_file)"
   ]
  },
  {
   "cell_type": "markdown",
   "metadata": {},
   "source": [
    "## Decoding JSON data\n",
    "\n",
    "To convert JSON data to a Python object, use the \n",
    "```python\n",
    "load(file_obj, ...)\n",
    "```\n",
    "method.\n",
    "\n",
    "For example:"
   ]
  },
  {
   "cell_type": "code",
   "execution_count": null,
   "metadata": {},
   "outputs": [],
   "source": [
    "with open(\"day_2_assets/bbq_event.json\") as bbq_file:\n",
    "    data = json.load(bbq_file)\n",
    "\n",
    "pprint(data)"
   ]
  },
  {
   "cell_type": "markdown",
   "metadata": {},
   "source": [
    "For more about the `json` module, see the [documentation](https://docs.python.org/3/library/json.html)."
   ]
  },
  {
   "cell_type": "markdown",
   "metadata": {},
   "source": [
    "# SQL Primer\n",
    "\n",
    "Most software applications interact with data through a [database management system (DBMS)](https://en.wikipedia.org/wiki/Database#Database_management_system). To operate on a DBMS, one would use SQL for, for instance, creating a database, deletion, retrieving and editing rows, etc.\n",
    "\n",
    "The standard SQL commands are:\n",
    "\n",
    "- **CREATE**: Creates a new table or other objects.\n",
    "- **SELECT**: Retrieves certain records from one or more tables.\n",
    "- **INSERT**: Creates a record.\n",
    "- **UPDATE**: Modifies records.\n",
    "- **DELETE**: Deletes records.\n",
    "- **DROP**: Deletes a table or other objects.\n",
    "\n",
    "For a more indepth tutorial on SQL, check [this](https://www.tutorialrepublic.com/sql-tutorial/https://www.tutorialrepublic.com/sql-tutorial/) out.\n",
    "\n",
    "# SQLite Module\n",
    "\n",
    "## <font color='LIGHTGRAY'>By the end of the lecture, you'll be able to:</font>\n",
    "- <font color='LIGHTGRAY'>produce fancier outputs using f-strings and string methods</font>\n",
    "- <font color='LIGHTGRAY'>read and write text files</font>\n",
    "- <font color='LIGHTGRAY'>read and write CSV files</font>\n",
    "- <font color='LIGHTGRAY'>encode and decode JSON data</font>\n",
    "- **connect to a SQL database along with creating tables and inserting, selecting, updating, and deleting records**\n",
    "\n",
    "The `sqlite3` module is arguably the most straightforward database to connect to with a Python application since it is built-in. What's more, SQLite databases are **serverless** and **self-contained**, since they read and write data to a file without needing to install and run a SQLite server to perform database operations."
   ]
  },
  {
   "cell_type": "code",
   "execution_count": null,
   "metadata": {},
   "outputs": [],
   "source": [
    "import sqlite3"
   ]
  },
  {
   "cell_type": "markdown",
   "metadata": {},
   "source": [
    "## Connecting to a SQLite Database\n",
    "\n",
    "Creating a new SQLite database is as simple as creating a connection using the\n",
    "```python\n",
    "connect(database_path, ...)\n",
    "```\n",
    "method. Since you will be constantly creating connections to your database, it will be useful to include some error handling using `Error` from the `sqlite3` module.\n",
    "\n",
    "Here's how to connect to your database using a defined function `create_connection()`:"
   ]
  },
  {
   "cell_type": "code",
   "execution_count": null,
   "metadata": {},
   "outputs": [],
   "source": [
    "from sqlite3 import Error\n",
    "\n",
    "def create_connection(path):\n",
    "    connection = None\n",
    "    try:\n",
    "        connection = sqlite3.connect(path)\n",
    "        print(\"Connection to SQLite DB successful\")\n",
    "    except Error as e:\n",
    "        print(f\"The error '{e}' occurred\")\n",
    "\n",
    "    return connection"
   ]
  },
  {
   "cell_type": "code",
   "execution_count": null,
   "metadata": {},
   "outputs": [],
   "source": [
    "con = create_connection(\"day_2_assets/bbq_event.sqlite\")"
   ]
  },
  {
   "cell_type": "markdown",
   "metadata": {},
   "source": [
    "## Creating Tables\n",
    "\n",
    "To execute queries, we first need to instantiate a `Cursor` object using the `cursor()` method from your previously created `Connection` object. Then, use the\n",
    "```python\n",
    "execute(query)\n",
    "```\n",
    "method to submit your query to your database.\n",
    "\n",
    "Here, we define `execute_query()` to accept the `connection` object and a `query` string, which will be passed to `cursor.execute()`:"
   ]
  },
  {
   "cell_type": "code",
   "execution_count": null,
   "metadata": {},
   "outputs": [],
   "source": [
    "def execute_query(connection, query):\n",
    "    cursor = connection.cursor()\n",
    "    try:\n",
    "        cursor.execute(query)\n",
    "        connection.commit()\n",
    "        print(\"Query executed successfully\")\n",
    "    except Error as e:\n",
    "        print(f\"The error '{e}' occurred\")"
   ]
  },
  {
   "cell_type": "code",
   "execution_count": null,
   "metadata": {},
   "outputs": [],
   "source": [
    "create_attendees_table = \"\"\"\n",
    "CREATE TABLE IF NOT EXISTS attendees (\n",
    "    id INTEGER PRIMARY KEY AUTOINCREMENT,\n",
    "    name TEXT NOT NULL,\n",
    "    num_guests INTEGER,\n",
    "    paid INTEGER\n",
    ");\n",
    "\"\"\"\n",
    "execute_query(con, create_attendees_table)"
   ]
  },
  {
   "cell_type": "markdown",
   "metadata": {},
   "source": [
    "## Inserting Records\n",
    "\n",
    "To insert records into your database, you can use the same `execute_query()` function we used to create tables:"
   ]
  },
  {
   "cell_type": "code",
   "execution_count": null,
   "metadata": {},
   "outputs": [],
   "source": [
    "insert_query = \"\"\"\n",
    "INSERT INTO\n",
    "    attendees (name, num_guests, paid)\n",
    "VALUES\n",
    "    ('Matt', 0, 1),\n",
    "    ('Andras', 10, 0),\n",
    "    ('Ashley', 5, 1);\n",
    "\"\"\"\n",
    "execute_query(con, insert_query)"
   ]
  },
  {
   "cell_type": "markdown",
   "metadata": {},
   "source": [
    "Since we set the `id` column to auto-increment, you don't need to specify the value of the `id` column for these `attendees`."
   ]
  },
  {
   "cell_type": "markdown",
   "metadata": {},
   "source": [
    "## Selecting Records"
   ]
  },
  {
   "cell_type": "markdown",
   "metadata": {},
   "source": [
    "To select records, you can again use the `cursor.execute()` method. However, you will need to to call `.fetchall()` that returns a list of tuples where each tuple is mapped ot the corresponding row in the queried records.\n",
    "\n",
    "To simplify this, we will create a function `execute_read_query()`:"
   ]
  },
  {
   "cell_type": "code",
   "execution_count": null,
   "metadata": {},
   "outputs": [],
   "source": [
    "def execute_read_query(connection, query):\n",
    "    cursor = connection.cursor()\n",
    "    result = None\n",
    "    try:\n",
    "        cursor.execute(query)\n",
    "        result = cursor.fetchall()\n",
    "        return result\n",
    "    except Error as e:\n",
    "        print(f\"The error '{e}' occurred\")"
   ]
  },
  {
   "cell_type": "markdown",
   "metadata": {},
   "source": [
    "Now, let's select all the records from the `attendees` table:"
   ]
  },
  {
   "cell_type": "code",
   "execution_count": null,
   "metadata": {},
   "outputs": [],
   "source": [
    "select_query = \"SELECT * FROM attendees\"\n",
    "attendees = execute_read_query(con, select_query)\n",
    "\n",
    "print(attendees)"
   ]
  },
  {
   "cell_type": "markdown",
   "metadata": {},
   "source": [
    "## Updating Table Records\n",
    "\n",
    "To update a record in a table, you can again make use of the `execute_query()` function:"
   ]
  },
  {
   "cell_type": "code",
   "execution_count": null,
   "metadata": {},
   "outputs": [],
   "source": [
    "update_query = \"\"\"\n",
    "UPDATE attendees\n",
    "SET paid = 1\n",
    "WHERE name = 'Andras'\n",
    "\"\"\"\n",
    "execute_query(con, update_query)"
   ]
  },
  {
   "cell_type": "code",
   "execution_count": null,
   "metadata": {},
   "outputs": [],
   "source": [
    "select_query = \"SELECT * FROM attendees\"\n",
    "attendees = execute_read_query(con, select_query)\n",
    "\n",
    "print(attendees)"
   ]
  },
  {
   "cell_type": "markdown",
   "metadata": {},
   "source": [
    "## Deleting Table Records\n",
    "\n",
    "Again, we can use `execute_query()` to delete records from our database:"
   ]
  },
  {
   "cell_type": "code",
   "execution_count": null,
   "metadata": {},
   "outputs": [],
   "source": [
    "insert_query = \"\"\"\n",
    "INSERT INTO\n",
    "    attendees (name, num_guests, paid)\n",
    "VALUES\n",
    "    ('Sam', 0, 0);\n",
    "\"\"\"\n",
    "execute_query(con, insert_query)\n",
    "\n",
    "select_query = \"SELECT * FROM attendees\"\n",
    "attendees = execute_read_query(con, select_query)\n",
    "\n",
    "print(attendees)"
   ]
  },
  {
   "cell_type": "code",
   "execution_count": null,
   "metadata": {},
   "outputs": [],
   "source": [
    "delete_record_query = \"\"\"\n",
    "DELETE FROM attendees\n",
    "WHERE name = 'Sam'\n",
    "\"\"\"\n",
    "execute_query(con, delete_record_query)\n",
    "\n",
    "select_query = \"SELECT * FROM attendees\"\n",
    "attendees = execute_read_query(con, select_query)\n",
    "\n",
    "print(attendees)"
   ]
  },
  {
   "cell_type": "markdown",
   "metadata": {},
   "source": [
    "## Deleting Tables\n",
    "\n",
    "Lastly, we will delete the table from our database:"
   ]
  },
  {
   "cell_type": "code",
   "execution_count": null,
   "metadata": {},
   "outputs": [],
   "source": [
    "delete_table_query = \"\"\"DROP TABLE attendees\"\"\"\n",
    "execute_query(con, delete_table_query)\n",
    "\n",
    "select_query = \"SELECT * FROM attendees\"\n",
    "execute_read_query(con, select_query)"
   ]
  },
  {
   "cell_type": "markdown",
   "metadata": {},
   "source": [
    "## Closing a SQLite Database\n",
    "\n",
    "After you are done with the connection and any changes have been committed, it is best practice to close the connection to your database using the\n",
    "```python\n",
    ".close()\n",
    "```\n",
    "method on your connection instance."
   ]
  },
  {
   "cell_type": "code",
   "execution_count": null,
   "metadata": {},
   "outputs": [],
   "source": [
    "con.close()"
   ]
  },
  {
   "cell_type": "markdown",
   "metadata": {},
   "source": [
    "Some misc. cleanup:"
   ]
  },
  {
   "cell_type": "code",
   "execution_count": null,
   "metadata": {},
   "outputs": [],
   "source": [
    "import os\n",
    "from pathlib import Path\n",
    "\n",
    "os.remove(Path.cwd() / 'day_2_assets' / 'bbq_event.sqlite')"
   ]
  },
  {
   "cell_type": "markdown",
   "metadata": {},
   "source": [
    "For more about the `sqlite3` module, see the [documentation](https://docs.python.org/3/library/sqlite3.html)."
   ]
  },
  {
   "cell_type": "markdown",
   "metadata": {},
   "source": [
    "### **<font color='GREEN'> Exercise</font>**\n",
    "\n",
    "For the Community BBQ, we need to keep track of the food that the attendees bring. To do this, we will use SQLite.\n",
    "\n",
    "Do the following:\n",
    "- initialize a connection to `day_2_assets/bbq_attend_food.sqlite`\n",
    "- create a table called `attend_food` that has:\n",
    "    - `id`: integer, primary key, and autoincrements\n",
    "    - `name`: non-null text\n",
    "    - `food`: non-null text\n",
    "- insert the following values into `attend_food` and show all the attendees in the table:\n",
    "```\n",
    "('Matt', 'mashed potatoes')\n",
    "('Andras', 'beer and whine')\n",
    "('Ashley', 'chicken')\n",
    "```\n",
    "- delete `Matt` from the table and show all the attendees in the table\n",
    "- close you database connection"
   ]
  },
  {
   "cell_type": "code",
   "execution_count": null,
   "metadata": {},
   "outputs": [],
   "source": [
    "# TODO: insert solution here"
   ]
  },
  {
   "cell_type": "markdown",
   "metadata": {},
   "source": [
    "# Conclusion\n",
    "\n",
    "## You are now able to:\n",
    "- produce fancier outputs using f-strings and string methods\n",
    "- read and write text files\n",
    "- read and write CSV files\n",
    "- encode and decode JSON data\n",
    "- connect to a SQL database along with creating tables and inserting, selecting, updating, and deleting records\n",
    "\n",
    "# References\n",
    "\n",
    "- https://docs.python.org/3.7/tutorial/inputoutput.html\n",
    "- https://realpython.com/read-write-files-python/#opening-and-closing-a-file-in-python\n",
    "- https://realpython.com/python-csv/\n",
    "- https://realpython.com/python-sql-libraries"
   ]
  }
 ],
 "metadata": {
  "kernelspec": {
   "display_name": "workshop",
   "language": "python",
   "name": "workshop"
  },
  "language_info": {
   "codemirror_mode": {
    "name": "ipython",
    "version": 3
   },
   "file_extension": ".py",
   "mimetype": "text/x-python",
   "name": "python",
   "nbconvert_exporter": "python",
   "pygments_lexer": "ipython3",
   "version": "3.8.8"
  }
 },
 "nbformat": 4,
 "nbformat_minor": 4
}
