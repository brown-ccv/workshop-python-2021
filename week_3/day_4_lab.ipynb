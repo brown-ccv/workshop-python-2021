{
 "cells": [
  {
   "cell_type": "markdown",
   "metadata": {},
   "source": [
    "# <center>LAB </center>\n",
    "\n",
    "---\n",
    "\n",
    "## **<font color='GREEN'> Exercise</font>**\n",
    "\n",
    "With an influx of people registering for the Community BBQ, we want to make sure the email addresses they enter into the registration form is valid. We will use regexes to do this.\n",
    "\n",
    "Let's break down the regex string you will be creating in a bit that will contain a pattern for valid email address. We will use the email address, `example@gmail.com`, as an example. We want our pattern to:\n",
    "1. match every character from the beginning of the string up until the `@` character. For example, our pattern should match `example@` from our email address.\n",
    "2. match ever character *except* \".\". For example, our pattern should match `gmail` from our email address.\n",
    "3. match the domain characters (with a min length of 2 and a max length of 10 characters) until the end of the string. For example, our pattern should match `.com` from our email address.\n",
    "\n",
    "Your pattern will combine the attributes above sequentially as one regex pattern.\n",
    "\n",
    "HINTs: if you are having trouble, here are some helpful hints that map to the above attributes of your pattern:\n",
    "1. this pattern will use the `^`, `.`, `+`, and `@` characters\n",
    "2. this pattern will use the `[`, `^`, `.`, `]`, `.`, and `*` characters\n",
    "3. this pattern will use the `\\`, `.`, `[a-z]`, `{2,10}`, and `$` characters\n",
    "\n",
    "Then, create a function, `check_email_address()`, that:\n",
    "- takes required argument `email` that is a string of an email address\n",
    "- compiles your one regex pattern using `flags=re.IGNORECASE` as an argument to ignore case\n",
    "- if the pattern matches the email address, print a message saying that it's valid; otherwise, print a message saying it's not valid"
   ]
  },
  {
   "cell_type": "code",
   "execution_count": null,
   "metadata": {},
   "outputs": [],
   "source": [
    "# TODO: insert solution here"
   ]
  },
  {
   "cell_type": "markdown",
   "metadata": {},
   "source": [
    "## **<font color='GREEN'> Exercise</font>**\n",
    "\n",
    "Now you have enough information to start working on a countdown clock for this year's Community BBQ since the 2020 event was cancelled for COVID reasons.\n",
    "\n",
    "The next BBQ in 2021 will start on July 17, 2021 in Providence, RI at 10am.\n",
    "\n",
    "Do the following:\n",
    "- create a `datetime` instance from the `datetime` module with the above times and dates named `bbq_date`\n",
    "- create a `datetime` instance from the `datetime` module of the time and date of now named `now`\n",
    "- compute the difference between `now` and `bbq_date` named `countdown`\n",
    "- print `\"Countdown to Community BBQ 2021:\"` followed by `countdown`\n",
    "\n",
    "Taking the difference between two `datetime` instances returns a `datetime.timedelta` instance, which is your `countdown` variable!"
   ]
  },
  {
   "cell_type": "code",
   "execution_count": null,
   "metadata": {},
   "outputs": [],
   "source": [
    "# TODO: insert solution here"
   ]
  },
  {
   "cell_type": "markdown",
   "metadata": {},
   "source": [
    "Now that you know how to add time zone information to a Python `datetime` instance, you can improve your Community BBQ countdown code. \n",
    "\n",
    "Here in Providence, RI the time zone is `\"America/New_York\"`.\n",
    "\n",
    "Do the following:\n",
    "- create `bbq_date` as above but with passing the correct time zone to the `tzinfo` argument.\n",
    "- create `now` as above but with the correct time zone\n",
    "- compute the difference between `now` and `bbq_date` named `countdown`\n",
    "- print `\"Countdown to Community BBQ 2021:\"` followed by `countdown` and the name of the time zone"
   ]
  },
  {
   "cell_type": "code",
   "execution_count": null,
   "metadata": {},
   "outputs": [],
   "source": [
    "# TODO: insert solution here"
   ]
  },
  {
   "cell_type": "markdown",
   "metadata": {},
   "source": [
    "With the subtraction operator, your `timedelta` object couldn’t count intervals of time larger than a day. However, `relativedelta` allows you to show the years, months, and days remaining.\n",
    "\n",
    "Do the following:\n",
    "- replace the plain substraction operator with `relativedelta` and save the output to `countdown`\n",
    "- print `\"Countdown to Community BBQ 2021:\"` followed by `countdown` and the name of the time zone"
   ]
  },
  {
   "cell_type": "code",
   "execution_count": null,
   "metadata": {},
   "outputs": [],
   "source": [
    "# TODO: insert solution here"
   ]
  },
  {
   "cell_type": "markdown",
   "metadata": {},
   "source": [
    "This output tells us each individual time unit of when the Community BBQ will happen but it isn't very pretty. Let's fix that.\n",
    "\n",
    "Recall, the built-in function\n",
    "```python\n",
    "getattr(obj, name)\n",
    "```\n",
    "returns the value of the named attribute of `obj` where `name` is a string. For example, `getattr(x, 'foobar')` is equivalent to `x.foobar`. \n",
    "\n",
    "First, we will create a function, `time_amount()`, that:\n",
    "- takes required arguments:\n",
    "    - `time_unit`: time unit string\n",
    "    - `countdown`: `relativedelta` instance\n",
    "- gets the value from `countdown` from named attribute `time_unit`\n",
    "- returns the time attribute value with the `time_unit` as one string\n",
    "\n",
    "The time units we care about are years, months, days, hours, minutes, and seconds.\n",
    "\n",
    "Then, do the following:\n",
    "- for each time unit, use `time_amount()` to create a list of time value and time unit strings\n",
    "- print `\"Countdown to Community BBQ 2021:\"` followed by joining each time value and the name of the time zone"
   ]
  },
  {
   "cell_type": "code",
   "execution_count": null,
   "metadata": {},
   "outputs": [],
   "source": [
    "# TODO: insert solution here"
   ]
  },
  {
   "cell_type": "markdown",
   "metadata": {},
   "source": [
    "In lecture, you learned about creating `datetime` instances using `.strptime()`. This method uses a special mini-language within Python to specify how the date string is formatted.\n",
    "\n",
    "Python datetime has an additional method called \n",
    "```python\n",
    ".strftime(format_str)\n",
    "```\n",
    "that allows you to format a datetime instance to a string. In a sense, it’s the reverse operation of parsing using `.strptime()`. You can differentiate between the two methods by remembering that the `p` in `.strptime()` stands for **parse**, and the `f` in `.strftime()` stands for **format**.\n",
    "\n",
    "In your Community BBQ countdown, you can use `.strftime()` to print output to let the user know the date on which the Community BBQ will start. You can find the formatting codes that you want to use [here](https://strftime.org/).\n",
    "\n",
    "Here is the desired date format for the Community BBQ: `Saturday, July 17, 2021 at 10:00 AM EDT`\n",
    "\n",
    "Do the following:\n",
    "- use `.strftime` to retrieve the desired date format above\n",
    "- print `\"Community BBQ 2021 will start on:\"` then the retrieved date format retrieved\n",
    "- print `\"Countdown to Community BBQ 2021:\"` followed by joining each time value"
   ]
  },
  {
   "cell_type": "code",
   "execution_count": null,
   "metadata": {},
   "outputs": [],
   "source": [
    "# TODO: insert solution here"
   ]
  },
  {
   "cell_type": "markdown",
   "metadata": {},
   "source": [
    "## **<font color='GREEN'> Exercise</font>**\n",
    "\n",
    "Now that we have a countdown timer till the next Community BBQ, we can share it with everyone to get people extra excited for the gathering! To do this, we will pickle a few objects we've created and store our objects at `day_4_assets/lab`.\n",
    "\n",
    "First, create `bbq_pickle_dict` that is a dictionary of string variable names as keys with picklable objects as values. Insert the following into `bbq_pickle_dict`:\n",
    "- the Community BBQ start date variable you created\n",
    "- the output of each time value of the countdown\n",
    "\n",
    "Then, create a function, `serialize_objs()` that:\n",
    "- takes required arguments:\n",
    "    - `pickle_dict`: dictionary of string variable names as keys with picklable objects as values\n",
    "    - `path`: where to store the pickled objects\n",
    "- pickles each item in `pickle_dict`\n",
    "- prints a message to the user that the file was pickled along with the path to the pickled object\n",
    "\n",
    "Test `serialize_objs()` by passing in `bbq_pickle_dict` and the correct storage location. "
   ]
  },
  {
   "cell_type": "code",
   "execution_count": null,
   "metadata": {},
   "outputs": [],
   "source": [
    "# TODO: insert solution here"
   ]
  },
  {
   "cell_type": "markdown",
   "metadata": {},
   "source": [
    "To verify that we pickled our objects successfully, we will unpickle what you just pickled and output them to the console.\n",
    "\n",
    "Create a function, `deserialize_objs()`, that:\n",
    "- takes required arugment `unpickle_lst` that is a list of paths to unpickle\n",
    "- returns a dictionary of string variable names as keys with picklable objects as values\n",
    "\n",
    "Test `deserialize_objs()` by passing in a list of pickled paths, print out the results, and verify that your unpickled objects are the same as your previously pickled objects."
   ]
  },
  {
   "cell_type": "code",
   "execution_count": null,
   "metadata": {},
   "outputs": [],
   "source": [
    "# TODO: insert solution here"
   ]
  }
 ],
 "metadata": {
  "kernelspec": {
   "display_name": "Python 3",
   "language": "python",
   "name": "python3"
  },
  "language_info": {
   "codemirror_mode": {
    "name": "ipython",
    "version": 3
   },
   "file_extension": ".py",
   "mimetype": "text/x-python",
   "name": "python",
   "nbconvert_exporter": "python",
   "pygments_lexer": "ipython3",
   "version": "3.8.8"
  }
 },
 "nbformat": 4,
 "nbformat_minor": 4
}
