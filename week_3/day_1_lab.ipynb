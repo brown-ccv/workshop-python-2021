{
 "cells": [
  {
   "cell_type": "markdown",
   "metadata": {},
   "source": [
    "# <center>LAB </center>\n",
    "\n",
    "---\n",
    "\n",
    "## **<font color='GREEN'> Exercise</font>**\n",
    "\n",
    "You are in charge of managing the fruit for the community BBQ! The fruit donated is stored in `com_fruit` where each element in the list is `(fruit_name, num_fruit)` tuple. For instance, if someone donated 2 apples, it will represented as `('apples', 2)`. "
   ]
  },
  {
   "cell_type": "code",
   "execution_count": null,
   "metadata": {},
   "outputs": [],
   "source": [
    "com_fruit = [\n",
    "    ('grapes', 1), ('oranges', 2), ('grapes', 3), ('oranges', 4), ('kiwis', 1),\n",
    "    ('blueberries', 10), ('kiwis', 7), ('oranges', 9), ('cherries', 6), ('lemon', 3),\n",
    "    ('grapes', 13), ('oranges', 1), ('grapes', 5), ('oranges', 8), ('kiwis', 6),\n",
    "    ('blueberries', 1), ('kiwis', 5), ('oranges', 7), ('cherries', 1), ('lemon', 4),\n",
    "]"
   ]
  },
  {
   "cell_type": "markdown",
   "metadata": {},
   "source": [
    "We want to collectively count how much fruit we have. Create a function `collect_fruit()` that:\n",
    "- takes `fruit_lst` as a required argument\n",
    "- assumes the `fruit_lst` argument has the same format as `com_fruit`\n",
    "- returns a `defaultdict` with fruit names as keys and fruit counts as values\n",
    "\n",
    "Test your function by calling\n",
    "```python\n",
    "com_fruit_ddict = collect_fruit(com_fruit)\n",
    "```\n",
    "and printing `com_fruit_ddict`."
   ]
  },
  {
   "cell_type": "code",
   "execution_count": null,
   "metadata": {},
   "outputs": [],
   "source": [
    "# TODO: insert solution here"
   ]
  },
  {
   "cell_type": "markdown",
   "metadata": {},
   "source": [
    "## **<font color='GREEN'> Exercise</font>**\n",
    "\n",
    "Now that we have `com_fruit_ddict`, we want to be able to quickly find if a certain fruit is in our `defaultdict`.\n",
    "\n",
    "Create a function `find_fruit()` that:\n",
    "- takes a required argument `fruit_ddict` and the fruit you want to find `fruit` as a string\n",
    "- assumes the `fruit_ddict` argument has the same format as `com_fruit_ddict`\n",
    "- let the user know how much `fruit` we have and update that `fruit` with a val of 0 if it does not exist\n",
    "- return the potentially updated `fruit_ddict`\n",
    "\n",
    "Tetst your function by calling\n",
    "```python\n",
    "com_fruit_ddict = find_fruit(com_fruit_ddict, 'apples')\n",
    "```\n",
    "and printing `com_fruit_ddict`."
   ]
  },
  {
   "cell_type": "code",
   "execution_count": null,
   "metadata": {},
   "outputs": [],
   "source": [
    "# TODO: insert solution here"
   ]
  },
  {
   "cell_type": "markdown",
   "metadata": {},
   "source": [
    "## **<font color='GREEN'> Exercise</font>**\n",
    "\n",
    "Now that we are able to let the user know how much fruit we have, we want to sort `com_fruit_ddict` by value.\n",
    "\n",
    "Create a function `sort_fruit_ddict()` that:\n",
    "- takes a required argument `fruit_ddict` and assumes it is the same format as `com_fruit_ddict`\n",
    "- returns an `OrderedDict` sorted in decreasing order of fruit counts\n",
    "\n",
    "Test your function by calling\n",
    "```python\n",
    "com_fruit_odict = sort_fruit_ddict(com_fruit_ddict)\n",
    "```\n",
    "and printing `com_fruit_odict`."
   ]
  },
  {
   "cell_type": "code",
   "execution_count": null,
   "metadata": {},
   "outputs": [],
   "source": [
    "# TODO: insert solution here"
   ]
  },
  {
   "cell_type": "markdown",
   "metadata": {},
   "source": [
    "## **<font color='GREEN'> Exercise</font>**\n",
    "\n",
    "Ashley, Andras, and Matt will be attending the BBQ but can't figure out which seating order they would like to sit in! You must show them all the possiblities of ordered seating so they can make a choice.\n",
    "\n",
    "Oh no, the `itertools` module is crawling with bugs and is down for maintenance! Create a function `man_three_permutations()` that:\n",
    "\n",
    "- takes `lst` as a required argument that represents the list of names you will permutate\n",
    "- assumes `lst` only has 3 elements \n",
    "- manually computes the r=3 permutations of `lst`\n",
    "- returns a list of tuples where each tuple is a possible permutation\n",
    "\n",
    "Test your function by printing each permutation from the call `man_three_permutations(bbq_names)`."
   ]
  },
  {
   "cell_type": "code",
   "execution_count": null,
   "metadata": {},
   "outputs": [],
   "source": [
    "bbq_names = ['Matt', 'Andras', 'Ashley']"
   ]
  },
  {
   "cell_type": "code",
   "execution_count": null,
   "metadata": {},
   "outputs": [],
   "source": [
    "# TODO: insert solution here"
   ]
  },
  {
   "cell_type": "markdown",
   "metadata": {},
   "source": [
    "Oh great, `itertools` is back online! Create function `three_permutations()` that:\n",
    "- takes `lst` as a required argument that represents the list of names you will permutate\n",
    "- assumes `lst` only has 3 elements\n",
    "- returns a list of 3-tuple permutations where each tuple is a possible permutation\n",
    "- utilizes `permutations` from `itertools`"
   ]
  },
  {
   "cell_type": "code",
   "execution_count": null,
   "metadata": {},
   "outputs": [],
   "source": [
    "# TODO: insert solution here"
   ]
  }
 ],
 "metadata": {
  "kernelspec": {
   "display_name": "Python 3",
   "language": "python",
   "name": "python3"
  },
  "language_info": {
   "codemirror_mode": {
    "name": "ipython",
    "version": 3
   },
   "file_extension": ".py",
   "mimetype": "text/x-python",
   "name": "python",
   "nbconvert_exporter": "python",
   "pygments_lexer": "ipython3",
   "version": "3.8.8"
  }
 },
 "nbformat": 4,
 "nbformat_minor": 4
}
