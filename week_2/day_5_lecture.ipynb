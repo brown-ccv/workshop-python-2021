{
 "cells": [
  {
   "cell_type": "markdown",
   "metadata": {
    "slideshow": {
     "slide_type": "slide"
    }
   },
   "source": [
    "# <center>LECTURE OVERVIEW</center>\n",
    "\n",
    "---\n",
    "\n",
    "## By the end of the day you'll be able to:\n",
    "- write conditional statements using boolean logic\n",
    "- import modules/packages\n",
    "- describe why the `pandas` module is useful\n",
    "- create a dataframe and summarize it\n",
    "\n",
    "# <center>BOOLEAN LOGIC</center>\n",
    "\n",
    "---\n",
    "\n",
    "## <font color='LIGHTGRAY'>By the end of the day you'll be able to:</font>\n",
    "- **write conditional statements using boolean logic**\n",
    "- <font color='LIGHTGRAY'>import modules/packages</font>\n",
    "- <font color='LIGHTGRAY'>describe why the pandas module is useful</font>\n",
    "- <font color='LIGHTGRAY'>create a dataframe and summarize it</font>\n",
    "    \n",
    "|Operator\t  |What it means\t             |What it looks like|\n",
    "|-------------|----------------------------|------------------|\n",
    "|`and`        |True if both are true       |`x and y`           |\n",
    "|`or`         |True if at least one is true|`x or y`            |\n",
    "|`not`        |True only if false          |`not x`             |\n",
    "\n",
    "# AND"
   ]
  },
  {
   "cell_type": "code",
   "execution_count": 1,
   "metadata": {},
   "outputs": [
    {
     "name": "stdout",
     "output_type": "stream",
     "text": [
      "True\n",
      "False\n",
      "False\n",
      "False\n"
     ]
    }
   ],
   "source": [
    "print(True and True)\n",
    "print(True and False)\n",
    "print(False and True)\n",
    "print(False and False)"
   ]
  },
  {
   "cell_type": "markdown",
   "metadata": {},
   "source": [
    "# OR"
   ]
  },
  {
   "cell_type": "code",
   "execution_count": null,
   "metadata": {},
   "outputs": [],
   "source": [
    "print(True or True)\n",
    "print(True or False)\n",
    "print(False or True)\n",
    "print(False or False)"
   ]
  },
  {
   "cell_type": "markdown",
   "metadata": {},
   "source": [
    "# NOT"
   ]
  },
  {
   "cell_type": "code",
   "execution_count": null,
   "metadata": {},
   "outputs": [],
   "source": [
    "print(not True)\n",
    "print(not False)"
   ]
  },
  {
   "cell_type": "markdown",
   "metadata": {},
   "source": [
    "# Some more exciting examples..."
   ]
  },
  {
   "cell_type": "code",
   "execution_count": 2,
   "metadata": {},
   "outputs": [
    {
     "name": "stdout",
     "output_type": "stream",
     "text": [
      "True\n",
      "False\n",
      "False\n",
      "False\n"
     ]
    }
   ],
   "source": [
    "print((5 > 3) and (5 < 9))\n",
    "print((5 > 3) and (5 > 9))\n",
    "print((5 < 3) and (5 < 9))\n",
    "print((5 < 3) and (5 > 9))"
   ]
  },
  {
   "cell_type": "code",
   "execution_count": 3,
   "metadata": {},
   "outputs": [
    {
     "name": "stdout",
     "output_type": "stream",
     "text": [
      "True\n"
     ]
    }
   ],
   "source": [
    "print(\n",
    "    not ((-0.2 > 1.4) and ((0.8 < 3.1) or (0.1 == 0.1)))\n",
    ")"
   ]
  },
  {
   "cell_type": "code",
   "execution_count": 4,
   "metadata": {},
   "outputs": [
    {
     "name": "stdout",
     "output_type": "stream",
     "text": [
      "True\n",
      "False\n"
     ]
    }
   ],
   "source": [
    "age = 59\n",
    "print((type(age) != float) or (type(age) != int))\n",
    "print((type(age) != float) and (type(age) != int))"
   ]
  },
  {
   "cell_type": "markdown",
   "metadata": {
    "slideshow": {
     "slide_type": "slide"
    }
   },
   "source": [
    "# <center>MODULES</center>\n",
    "\n",
    "---\n",
    "\n",
    "## <font color='LIGHTGRAY'>By the end of the day you'll be able to:</font>\n",
    "- <font color='LIGHTGRAY'>write conditional statements using boolean logic</font>\n",
    "- **import modules/packages**\n",
    "- <font color='LIGHTGRAY'>describe why the pandas module is useful</font>\n",
    "- <font color='LIGHTGRAY'>create a dataframe and summarize it</font>\n",
    "\n",
    "What are modules/packages?\n",
    "- libraries of code\n",
    "- specific to tasks/functions\n",
    "- a lot of common functions are already written by computer scientists and are much faster than you can write\n",
    "- we will be using packages in addition to base Python in the next two weeks"
   ]
  },
  {
   "cell_type": "code",
   "execution_count": 6,
   "metadata": {
    "slideshow": {
     "slide_type": "subslide"
    }
   },
   "outputs": [],
   "source": [
    "# how to get mean of `nums_lst`?\n",
    "nums_list = [1, 2, 3, 4, 5, 10, 20, 50, 200]"
   ]
  },
  {
   "cell_type": "markdown",
   "metadata": {
    "slideshow": {
     "slide_type": "fragment"
    }
   },
   "source": [
    "## <center> Let's google it!"
   ]
  },
  {
   "cell_type": "code",
   "execution_count": 7,
   "metadata": {
    "slideshow": {
     "slide_type": "subslide"
    }
   },
   "outputs": [
    {
     "name": "stdout",
     "output_type": "stream",
     "text": [
      "32.77777777777778\n"
     ]
    }
   ],
   "source": [
    "import statistics\n",
    "\n",
    "print(statistics.mean(nums_list))"
   ]
  },
  {
   "cell_type": "code",
   "execution_count": 8,
   "metadata": {
    "slideshow": {
     "slide_type": "-"
    }
   },
   "outputs": [
    {
     "name": "stdout",
     "output_type": "stream",
     "text": [
      "Help on function mean in module statistics:\n",
      "\n",
      "mean(data)\n",
      "    Return the sample arithmetic mean of data.\n",
      "    \n",
      "    >>> mean([1, 2, 3, 4, 4])\n",
      "    2.8\n",
      "    \n",
      "    >>> from fractions import Fraction as F\n",
      "    >>> mean([F(3, 7), F(1, 21), F(5, 3), F(1, 3)])\n",
      "    Fraction(13, 21)\n",
      "    \n",
      "    >>> from decimal import Decimal as D\n",
      "    >>> mean([D(\"0.5\"), D(\"0.75\"), D(\"0.625\"), D(\"0.375\")])\n",
      "    Decimal('0.5625')\n",
      "    \n",
      "    If ``data`` is empty, StatisticsError will be raised.\n",
      "\n"
     ]
    }
   ],
   "source": [
    "help(statistics.mean)"
   ]
  },
  {
   "cell_type": "code",
   "execution_count": 10,
   "metadata": {
    "slideshow": {
     "slide_type": "subslide"
    }
   },
   "outputs": [
    {
     "name": "stdout",
     "output_type": "stream",
     "text": [
      "32.77777777777778\n"
     ]
    }
   ],
   "source": [
    "from statistics import mean\n",
    "\n",
    "print(mean(nums_list))"
   ]
  },
  {
   "cell_type": "code",
   "execution_count": 11,
   "metadata": {
    "slideshow": {
     "slide_type": "subslide"
    }
   },
   "outputs": [
    {
     "name": "stdout",
     "output_type": "stream",
     "text": [
      "32.77777777777778\n"
     ]
    }
   ],
   "source": [
    "import numpy as np\n",
    "\n",
    "print(np.mean(nums_list))"
   ]
  },
  {
   "cell_type": "code",
   "execution_count": 12,
   "metadata": {
    "scrolled": true,
    "slideshow": {
     "slide_type": "-"
    }
   },
   "outputs": [
    {
     "name": "stdout",
     "output_type": "stream",
     "text": [
      "Help on function mean in module numpy:\n",
      "\n",
      "mean(a, axis=None, dtype=None, out=None, keepdims=<no value>, *, where=<no value>)\n",
      "    Compute the arithmetic mean along the specified axis.\n",
      "    \n",
      "    Returns the average of the array elements.  The average is taken over\n",
      "    the flattened array by default, otherwise over the specified axis.\n",
      "    `float64` intermediate and return values are used for integer inputs.\n",
      "    \n",
      "    Parameters\n",
      "    ----------\n",
      "    a : array_like\n",
      "        Array containing numbers whose mean is desired. If `a` is not an\n",
      "        array, a conversion is attempted.\n",
      "    axis : None or int or tuple of ints, optional\n",
      "        Axis or axes along which the means are computed. The default is to\n",
      "        compute the mean of the flattened array.\n",
      "    \n",
      "        .. versionadded:: 1.7.0\n",
      "    \n",
      "        If this is a tuple of ints, a mean is performed over multiple axes,\n",
      "        instead of a single axis or all the axes as before.\n",
      "    dtype : data-type, optional\n",
      "        Type to use in computing the mean.  For integer inputs, the default\n",
      "        is `float64`; for floating point inputs, it is the same as the\n",
      "        input dtype.\n",
      "    out : ndarray, optional\n",
      "        Alternate output array in which to place the result.  The default\n",
      "        is ``None``; if provided, it must have the same shape as the\n",
      "        expected output, but the type will be cast if necessary.\n",
      "        See :ref:`ufuncs-output-type` for more details.\n",
      "    \n",
      "    keepdims : bool, optional\n",
      "        If this is set to True, the axes which are reduced are left\n",
      "        in the result as dimensions with size one. With this option,\n",
      "        the result will broadcast correctly against the input array.\n",
      "    \n",
      "        If the default value is passed, then `keepdims` will not be\n",
      "        passed through to the `mean` method of sub-classes of\n",
      "        `ndarray`, however any non-default value will be.  If the\n",
      "        sub-class' method does not implement `keepdims` any\n",
      "        exceptions will be raised.\n",
      "    \n",
      "    where : array_like of bool, optional\n",
      "        Elements to include in the mean. See `~numpy.ufunc.reduce` for details.\n",
      "    \n",
      "        .. versionadded:: 1.20.0\n",
      "    \n",
      "    Returns\n",
      "    -------\n",
      "    m : ndarray, see dtype parameter above\n",
      "        If `out=None`, returns a new array containing the mean values,\n",
      "        otherwise a reference to the output array is returned.\n",
      "    \n",
      "    See Also\n",
      "    --------\n",
      "    average : Weighted average\n",
      "    std, var, nanmean, nanstd, nanvar\n",
      "    \n",
      "    Notes\n",
      "    -----\n",
      "    The arithmetic mean is the sum of the elements along the axis divided\n",
      "    by the number of elements.\n",
      "    \n",
      "    Note that for floating-point input, the mean is computed using the\n",
      "    same precision the input has.  Depending on the input data, this can\n",
      "    cause the results to be inaccurate, especially for `float32` (see\n",
      "    example below).  Specifying a higher-precision accumulator using the\n",
      "    `dtype` keyword can alleviate this issue.\n",
      "    \n",
      "    By default, `float16` results are computed using `float32` intermediates\n",
      "    for extra precision.\n",
      "    \n",
      "    Examples\n",
      "    --------\n",
      "    >>> a = np.array([[1, 2], [3, 4]])\n",
      "    >>> np.mean(a)\n",
      "    2.5\n",
      "    >>> np.mean(a, axis=0)\n",
      "    array([2., 3.])\n",
      "    >>> np.mean(a, axis=1)\n",
      "    array([1.5, 3.5])\n",
      "    \n",
      "    In single precision, `mean` can be inaccurate:\n",
      "    \n",
      "    >>> a = np.zeros((2, 512*512), dtype=np.float32)\n",
      "    >>> a[0, :] = 1.0\n",
      "    >>> a[1, :] = 0.1\n",
      "    >>> np.mean(a)\n",
      "    0.54999924\n",
      "    \n",
      "    Computing the mean in float64 is more accurate:\n",
      "    \n",
      "    >>> np.mean(a, dtype=np.float64)\n",
      "    0.55000000074505806 # may vary\n",
      "    \n",
      "    Specifying a where argument:\n",
      "    >>> a = np.array([[5, 9, 13], [14, 10, 12], [11, 15, 19]])\n",
      "    >>> np.mean(a)\n",
      "    12.0\n",
      "    >>> np.mean(a, where=[[True], [False], [False]])\n",
      "    9.0\n",
      "\n"
     ]
    }
   ],
   "source": [
    "help(np.mean)"
   ]
  },
  {
   "cell_type": "markdown",
   "metadata": {
    "slideshow": {
     "slide_type": "subslide"
    }
   },
   "source": [
    "### **<font color='GREEN'> Exercise</font>**\n",
    "\n",
    "Google the standard deviation function in the `statistics` and `numpy` python packages. Import the packages and then use the functions on `nums_list`."
   ]
  },
  {
   "cell_type": "code",
   "execution_count": 13,
   "metadata": {},
   "outputs": [],
   "source": [
    "# TODO: insert solution here"
   ]
  },
  {
   "cell_type": "markdown",
   "metadata": {
    "slideshow": {
     "slide_type": "subslide"
    }
   },
   "source": [
    "# The `pandas` Module\n",
    "\n",
    "![](data/panda.jpg)"
   ]
  },
  {
   "cell_type": "code",
   "execution_count": 1,
   "metadata": {},
   "outputs": [],
   "source": [
    "import pandas as pd"
   ]
  },
  {
   "cell_type": "markdown",
   "metadata": {
    "slideshow": {
     "slide_type": "subslide"
    }
   },
   "source": [
    "## Why `pandas`?\n",
    "\n",
    "## <font color='LIGHTGRAY'>By the end of the day you'll be able to:</font>\n",
    "- <font color='LIGHTGRAY'>write conditional statements using boolean logic</font>\n",
    "- <font color='LIGHTGRAY'>import modules/packages</font>\n",
    "- **describe why the `pandas` module is useful**\n",
    "- <font color='LIGHTGRAY'>create a dataframe and summarize it</font>\n",
    "\n",
    "Work with tabular data with mixed types, like an excel sheet\n",
    "\n",
    "Week 4, we will work with `pandas` more indepth\n",
    "\n",
    "## The `DataFrame` Container Type\n",
    "\n",
    "- Part of Pandas package\n",
    "- Spreadsheet or table-like representation of data\n",
    "- Can store mixed types\n",
    "- Columns and rows are named\n",
    "- Like a nested list, where all the sublists have the same shape (basically a matrix)\n",
    "- Lots of functions for cleaning and massaging data, grouping, aggregations, plotting\n",
    "- Exceptionally popular\n",
    "\n",
    "## Creating a `DataFrame`\n",
    "\n",
    "## <font color='LIGHTGRAY'>By the end of the day you'll be able to:</font>\n",
    "- <font color='LIGHTGRAY'>write conditional statements using boolean logic</font>\n",
    "- <font color='LIGHTGRAY'>import modules/packages</font>\n",
    "- <font color='LIGHTGRAY'>describe why the pandas module is useful</font>\n",
    "- **create a `DataFrame` and summarize it**"
   ]
  },
  {
   "cell_type": "code",
   "execution_count": 2,
   "metadata": {
    "slideshow": {
     "slide_type": "subslide"
    }
   },
   "outputs": [],
   "source": [
    "names_list = ['Ashley', 'Andras', 'Rihanna', 'Emily']\n",
    "ages_list = [30, 36, 28, 33]\n",
    "birthplaces_list = ['USA', 'Hungary', 'Barbados', 'USA']\n",
    "singers_list = [False, False, True, False]\n",
    "people_dict = {\n",
    "    \"name\": names_list,\n",
    "    \"age\": ages_list,\n",
    "    \"birthplace\": birthplaces_list,\n",
    "    \"is_singer\": singers_list\n",
    "}"
   ]
  },
  {
   "cell_type": "code",
   "execution_count": 3,
   "metadata": {
    "slideshow": {
     "slide_type": "-"
    }
   },
   "outputs": [
    {
     "data": {
      "text/html": [
       "<div>\n",
       "<style scoped>\n",
       "    .dataframe tbody tr th:only-of-type {\n",
       "        vertical-align: middle;\n",
       "    }\n",
       "\n",
       "    .dataframe tbody tr th {\n",
       "        vertical-align: top;\n",
       "    }\n",
       "\n",
       "    .dataframe thead th {\n",
       "        text-align: right;\n",
       "    }\n",
       "</style>\n",
       "<table border=\"1\" class=\"dataframe\">\n",
       "  <thead>\n",
       "    <tr style=\"text-align: right;\">\n",
       "      <th></th>\n",
       "      <th>name</th>\n",
       "      <th>age</th>\n",
       "      <th>birthplace</th>\n",
       "      <th>is_singer</th>\n",
       "    </tr>\n",
       "  </thead>\n",
       "  <tbody>\n",
       "    <tr>\n",
       "      <th>0</th>\n",
       "      <td>Ashley</td>\n",
       "      <td>30</td>\n",
       "      <td>USA</td>\n",
       "      <td>False</td>\n",
       "    </tr>\n",
       "    <tr>\n",
       "      <th>1</th>\n",
       "      <td>Andras</td>\n",
       "      <td>36</td>\n",
       "      <td>Hungary</td>\n",
       "      <td>False</td>\n",
       "    </tr>\n",
       "    <tr>\n",
       "      <th>2</th>\n",
       "      <td>Rihanna</td>\n",
       "      <td>28</td>\n",
       "      <td>Barbados</td>\n",
       "      <td>True</td>\n",
       "    </tr>\n",
       "    <tr>\n",
       "      <th>3</th>\n",
       "      <td>Emily</td>\n",
       "      <td>33</td>\n",
       "      <td>USA</td>\n",
       "      <td>False</td>\n",
       "    </tr>\n",
       "  </tbody>\n",
       "</table>\n",
       "</div>"
      ],
      "text/plain": [
       "      name  age birthplace  is_singer\n",
       "0   Ashley   30        USA      False\n",
       "1   Andras   36    Hungary      False\n",
       "2  Rihanna   28   Barbados       True\n",
       "3    Emily   33        USA      False"
      ]
     },
     "execution_count": 3,
     "metadata": {},
     "output_type": "execute_result"
    }
   ],
   "source": [
    "people_df = pd.DataFrame(people_dict)\n",
    "people_df"
   ]
  },
  {
   "cell_type": "code",
   "execution_count": 4,
   "metadata": {
    "slideshow": {
     "slide_type": "subslide"
    }
   },
   "outputs": [
    {
     "data": {
      "text/plain": [
       "(4, 4)"
      ]
     },
     "execution_count": 4,
     "metadata": {},
     "output_type": "execute_result"
    }
   ],
   "source": [
    "people_df.shape"
   ]
  },
  {
   "cell_type": "code",
   "execution_count": 5,
   "metadata": {
    "slideshow": {
     "slide_type": "-"
    }
   },
   "outputs": [
    {
     "data": {
      "text/plain": [
       "Index(['name', 'age', 'birthplace', 'is_singer'], dtype='object')"
      ]
     },
     "execution_count": 5,
     "metadata": {},
     "output_type": "execute_result"
    }
   ],
   "source": [
    "people_df.columns"
   ]
  },
  {
   "cell_type": "code",
   "execution_count": 6,
   "metadata": {
    "slideshow": {
     "slide_type": "-"
    }
   },
   "outputs": [
    {
     "data": {
      "text/plain": [
       "name          object\n",
       "age            int64\n",
       "birthplace    object\n",
       "is_singer       bool\n",
       "dtype: object"
      ]
     },
     "execution_count": 6,
     "metadata": {},
     "output_type": "execute_result"
    }
   ],
   "source": [
    "people_df.dtypes"
   ]
  },
  {
   "cell_type": "markdown",
   "metadata": {},
   "source": [
    "# Conclusion\n",
    "\n",
    "## You are now able to:\n",
    "- write conditional statements using boolean logic\n",
    "- import modules/packages\n",
    "- describe why the `pandas` module is useful\n",
    "- create a dataframe and summarize it"
   ]
  }
 ],
 "metadata": {
  "celltoolbar": "Slideshow",
  "kernelspec": {
   "display_name": "workshop",
   "language": "python",
   "name": "workshop"
  },
  "language_info": {
   "codemirror_mode": {
    "name": "ipython",
    "version": 3
   },
   "file_extension": ".py",
   "mimetype": "text/x-python",
   "name": "python",
   "nbconvert_exporter": "python",
   "pygments_lexer": "ipython3",
   "version": "3.8.8"
  }
 },
 "nbformat": 4,
 "nbformat_minor": 4
}
