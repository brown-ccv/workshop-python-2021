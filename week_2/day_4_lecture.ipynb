{
 "cells": [
  {
   "cell_type": "markdown",
   "metadata": {
    "slideshow": {
     "slide_type": "slide"
    }
   },
   "source": [
    "# <center>LECTURE OVERVIEW</center>\n",
    "\n",
    "---\n",
    "\n",
    "We covered a lot so far!\n",
    "\n",
    "- variables\n",
    "- container types\n",
    "- control flow (`if` statements and `for` loops)\n",
    "- functions\n",
    "\n",
    "Very little new material today. We will practice everything we learnt so far.\n",
    "\n",
    "## By the end of the day you'll be able to:\n",
    "- test your function inputs\n",
    "\n",
    "# <center>TESTING</center>\n",
    "\n",
    "---\n",
    "\n",
    "# Testing your Code\n",
    "\n",
    "## <font color='LIGHTGRAY'>By the end of the day you'll be able to:</font>\n",
    "- **test your function inputs**\n",
    "\n",
    "## Type of errors\n",
    "1. obvious errors that give you an error message\n",
    "   - usually syntax errors, forgotten `:`, type error, forgotten tabs, etc.\n",
    "   - it can be quickly resolved with some googling\n",
    "2. sneaky errors that don't throw an error message\n",
    "   - your code runs but the results are incorrect\n",
    "   - it can only be caught by extensive testing   "
   ]
  },
  {
   "cell_type": "markdown",
   "metadata": {
    "slideshow": {
     "slide_type": "subslide"
    }
   },
   "source": [
    "Test-driven development is encouraged!\n",
    "   - figure out how you'll test your code even before you start writing it\n",
    "\n",
    "Test your data!\n",
    "   - what properties do you expect the data to have?\n",
    "   - test those!\n",
    "   - errors in data collection often occur"
   ]
  },
  {
   "cell_type": "markdown",
   "metadata": {
    "slideshow": {
     "slide_type": "slide"
    }
   },
   "source": [
    "## How to test your data?\n",
    "\n",
    "- consider what properties the input data to your functions should have:\n",
    "    - age should be larger than 0 but smaller than ~150\n",
    "        - sounds obvious but negative values or values over 200 can occur due to typos\n",
    "    - salary should be positive\n",
    "    - names should not contain non-alpha characters like numbers or special characters"
   ]
  },
  {
   "cell_type": "code",
   "execution_count": 33,
   "metadata": {},
   "outputs": [
    {
     "name": "stdout",
     "output_type": "stream",
     "text": [
      "{'employee1': {'salary': 50000, 'gender': 'male', 'age': 39}, 'employee2': {'salary': 70000, 'gender': 'female', 'age': 46}, 'employee3': {'salary': 60000, 'gender': 'female', 'age': 556}, 'employee4': {'salary': 130000, 'gender': 'male', 'age': 60}, 'employee5': {'salary': 80000, 'gender': 'female', 'age': 29}, 'employee6': {'salary': 40000, 'gender': 'female', 'age': 45}, 'employee7': {'salary': 70000, 'gender': 'male', 'age': 34}, 'employee8': {'salary': 50000, 'gender': 'male', 'age': 101}}\n"
     ]
    }
   ],
   "source": [
    "employees_dict = {}\n",
    "employees_dict['employee1'] = [50000, 'male', 39] # salary, gender, age\n",
    "employees_dict['employee2'] = [70000, 'female', 46]\n",
    "employees_dict['employee3'] = [60000, 'female', 556]\n",
    "employees_dict['employee4'] = [130000, 'male', 60]\n",
    "employees_dict['employee5'] = [80000, 'female', 29]\n",
    "employees_dict['employee6'] = [40000, 'female', 45]\n",
    "employees_dict['employee7'] = [70000, 'male', 34]\n",
    "employees_dict['employee8'] = [50000, 'male', 101]\n",
    "\n",
    "employees_dict = {\n",
    "    emp: {'salary': emp_info[0], 'gender': emp_info[1], 'age': emp_info[2]}\n",
    "    for emp, emp_info in employees_dict.items()\n",
    "}\n",
    "print(employees_dict)"
   ]
  },
  {
   "cell_type": "code",
   "execution_count": 34,
   "metadata": {
    "slideshow": {
     "slide_type": "subslide"
    }
   },
   "outputs": [
    {
     "name": "stdout",
     "output_type": "stream",
     "text": [
      "Error data: employee3 {'salary': 60000, 'gender': 'female', 'age': 556}\n"
     ]
    },
    {
     "ename": "ValueError",
     "evalue": "age is unrealistic",
     "output_type": "error",
     "traceback": [
      "\u001b[0;31m---------------------------------------------------------------------------\u001b[0m",
      "\u001b[0;31mValueError\u001b[0m                                Traceback (most recent call last)",
      "\u001b[0;32m<ipython-input-34-9291c445bba2>\u001b[0m in \u001b[0;36m<module>\u001b[0;34m\u001b[0m\n\u001b[1;32m     16\u001b[0m             \u001b[0;32mraise\u001b[0m \u001b[0mValueError\u001b[0m\u001b[0;34m(\u001b[0m\u001b[0;34m'age is unrealistic'\u001b[0m\u001b[0;34m)\u001b[0m\u001b[0;34m\u001b[0m\u001b[0;34m\u001b[0m\u001b[0m\n\u001b[1;32m     17\u001b[0m \u001b[0;34m\u001b[0m\u001b[0m\n\u001b[0;32m---> 18\u001b[0;31m \u001b[0mtest_employee_dictionary\u001b[0m\u001b[0;34m(\u001b[0m\u001b[0memployees_dict\u001b[0m\u001b[0;34m)\u001b[0m\u001b[0;34m\u001b[0m\u001b[0;34m\u001b[0m\u001b[0m\n\u001b[0m",
      "\u001b[0;32m<ipython-input-34-9291c445bba2>\u001b[0m in \u001b[0;36mtest_employee_dictionary\u001b[0;34m(input_dict)\u001b[0m\n\u001b[1;32m     14\u001b[0m         \u001b[0;32mif\u001b[0m \u001b[0;32mnot\u001b[0m \u001b[0;34m(\u001b[0m\u001b[0;36m0\u001b[0m \u001b[0;34m<=\u001b[0m \u001b[0memp_info_dict\u001b[0m\u001b[0;34m[\u001b[0m\u001b[0;34m'age'\u001b[0m\u001b[0;34m]\u001b[0m \u001b[0;34m<=\u001b[0m \u001b[0;36m150\u001b[0m\u001b[0;34m)\u001b[0m\u001b[0;34m:\u001b[0m\u001b[0;34m\u001b[0m\u001b[0;34m\u001b[0m\u001b[0m\n\u001b[1;32m     15\u001b[0m             \u001b[0mprint\u001b[0m\u001b[0;34m(\u001b[0m\u001b[0;34m\"Error data:\"\u001b[0m\u001b[0;34m,\u001b[0m \u001b[0memp\u001b[0m\u001b[0;34m,\u001b[0m \u001b[0memp_info_dict\u001b[0m\u001b[0;34m)\u001b[0m\u001b[0;34m\u001b[0m\u001b[0;34m\u001b[0m\u001b[0m\n\u001b[0;32m---> 16\u001b[0;31m             \u001b[0;32mraise\u001b[0m \u001b[0mValueError\u001b[0m\u001b[0;34m(\u001b[0m\u001b[0;34m'age is unrealistic'\u001b[0m\u001b[0;34m)\u001b[0m\u001b[0;34m\u001b[0m\u001b[0;34m\u001b[0m\u001b[0m\n\u001b[0m\u001b[1;32m     17\u001b[0m \u001b[0;34m\u001b[0m\u001b[0m\n\u001b[1;32m     18\u001b[0m \u001b[0mtest_employee_dictionary\u001b[0m\u001b[0;34m(\u001b[0m\u001b[0memployees_dict\u001b[0m\u001b[0;34m)\u001b[0m\u001b[0;34m\u001b[0m\u001b[0;34m\u001b[0m\u001b[0m\n",
      "\u001b[0;31mValueError\u001b[0m: age is unrealistic"
     ]
    }
   ],
   "source": [
    "# let's test data first\n",
    "def test_employee_dictionary(input_dict):\n",
    "    # let's iterate through each key-value pair and write tests\n",
    "    for emp, emp_info_dict in input_dict.items():\n",
    "        # salary should be positive\n",
    "        if emp_info_dict['salary'] < 0:\n",
    "            print(\"DataError:\", emp, emp_info_dict)\n",
    "            raise ValueError('salary is negative')\n",
    "        # gender should be 'male' or 'female'\n",
    "        if emp_info_dict['gender'] not in ['male', 'female']:\n",
    "            print(\"DataError:\", emp, emp_info_dict)\n",
    "            raise ValueError('unrecognized gender value')\n",
    "        # age should be between 0 and 150\n",
    "        if not (0 <= emp_info_dict['age'] <= 150):\n",
    "            print(\"DataError:\", emp, emp_info_dict)\n",
    "            raise ValueError('age is unrealistic')\n",
    "\n",
    "test_employee_dictionary(employees_dict)"
   ]
  },
  {
   "cell_type": "code",
   "execution_count": 36,
   "metadata": {},
   "outputs": [
    {
     "name": "stdout",
     "output_type": "stream",
     "text": [
      "{'employee1': {'salary': 50000, 'gender': 'male', 'age': 39}, 'employee2': {'salary': 70000, 'gender': 'female', 'age': 46}, 'employee4': {'salary': 130000, 'gender': 'male', 'age': 60}, 'employee5': {'salary': 80000, 'gender': 'female', 'age': 29}, 'employee6': {'salary': 40000, 'gender': 'female', 'age': 45}, 'employee7': {'salary': 70000, 'gender': 'male', 'age': 34}, 'employee8': {'salary': 50000, 'gender': 'male', 'age': 101}}\n"
     ]
    }
   ],
   "source": [
    "employees_dict = {}\n",
    "employees_dict['employee1'] = [50000, 'male', 39] # salary, gender, age\n",
    "employees_dict['employee2'] = [70000, 'female', 46]\n",
    "# employees_dict['employee3'] = [60000, 'female', 556]\n",
    "employees_dict['employee4'] = [130000, 'male', 60]\n",
    "employees_dict['employee5'] = [80000, 'female', 29]\n",
    "employees_dict['employee6'] = [40000, 'female', 45]\n",
    "employees_dict['employee7'] = [70000, 'male', 34]\n",
    "employees_dict['employee8'] = [50000, 'male', 101]\n",
    "employees_dict = {\n",
    "    emp: {'salary': emp_info[0], 'gender': emp_info[1], 'age': emp_info[2]}\n",
    "    for emp, emp_info in employees_dict.items()\n",
    "}\n",
    "print(employees_dict)"
   ]
  },
  {
   "cell_type": "code",
   "execution_count": 37,
   "metadata": {
    "slideshow": {
     "slide_type": "slide"
    }
   },
   "outputs": [
    {
     "name": "stdout",
     "output_type": "stream",
     "text": [
      "75000 63333.333333333336\n"
     ]
    }
   ],
   "source": [
    "# let's compare the mean salaries of males and females\n",
    "def mean_salaries_by_gender(input_dict):\n",
    "    # test the data\n",
    "    test_employee_dictionary(input_dict)\n",
    "    \n",
    "    male_salaries, female_salaries = [], []\n",
    "    for _, emp_info_dict in input_dict.items():\n",
    "        if emp_info_dict['gender'] == 'male':\n",
    "            male_salaries.append(emp_info_dict['salary'])\n",
    "        else:\n",
    "            female_salaries.append(emp_info_dict['salary'])\n",
    "    \n",
    "    mean_male_salary = sum(male_salaries) / len(male_salaries) if male_salaries != [] else 0\n",
    "    mean_female_salary = sum(female_salaries) / len(female_salaries) if female_salaries != [] else 0\n",
    "    \n",
    "    return mean_male_salary, mean_female_salary\n",
    "\n",
    "male_sal_flt, female_sal_flt = mean_salaries_by_gender(employees_dict)\n",
    "print(male_sal_flt, female_sal_flt)"
   ]
  },
  {
   "cell_type": "markdown",
   "metadata": {
    "slideshow": {
     "slide_type": "slide"
    }
   },
   "source": [
    "### **<font color='GREEN'> Exercise</font>**\n",
    "\n",
    "Compare the mean salaries of people under 45 vs 45 and above. Call the function `mean_salaries_by_age()` and use `employees_dict`."
   ]
  },
  {
   "cell_type": "code",
   "execution_count": 38,
   "metadata": {},
   "outputs": [],
   "source": [
    "# TODO: insert solution here"
   ]
  },
  {
   "cell_type": "markdown",
   "metadata": {
    "slideshow": {
     "slide_type": "slide"
    }
   },
   "source": [
    "### **<font color='GREEN'> Exercise</font>**\n",
    "\n",
    "Modify the function such that the critical age (which was 45 years in exercise 1) is an input to the function and can be changed. Please check that this function returns the same result as before for critical_age = 45! What happens if you set critical age to 0 or to 100?"
   ]
  },
  {
   "cell_type": "code",
   "execution_count": 40,
   "metadata": {},
   "outputs": [],
   "source": [
    "# TODO: insert solution here"
   ]
  },
  {
   "cell_type": "markdown",
   "metadata": {
    "slideshow": {
     "slide_type": "slide"
    }
   },
   "source": [
    "### **<font color='GREEN'> Exercise</font>**\n",
    "\n",
    "Take the bubble sort algorithm from two days ago, wrap it in a function, and add a test on top to check if all items in the list are float or int. If there are non-numeric elements in the list, the code should print a diagnostic message and raise a value error."
   ]
  },
  {
   "cell_type": "code",
   "execution_count": null,
   "metadata": {},
   "outputs": [],
   "source": [
    "# bubble sort algorithm\n",
    "for i in range(len(nums_lst)):\n",
    "    for j in range(i):\n",
    "        if nums_lst[j] > nums_lst[i]: # if an item is smaller than its neighbor, switch them\n",
    "            temp = nums_lst[i] # temporary variable\n",
    "            nums_lst[i] = nums_lst[j]\n",
    "            nums_lst[j] = temp\n",
    "            \n",
    "# list you need to use for testing. note that some elements are str, list, or boolean\n",
    "numbers_lst = [24, 76.4, 23, 86, 'f', [23, 6], True]"
   ]
  },
  {
   "cell_type": "code",
   "execution_count": null,
   "metadata": {},
   "outputs": [],
   "source": [
    "# TODO: insert solution here"
   ]
  },
  {
   "cell_type": "markdown",
   "metadata": {},
   "source": [
    "# Conclusion\n",
    "\n",
    "## You are now able to:\n",
    "- test your function inputs"
   ]
  }
 ],
 "metadata": {
  "celltoolbar": "Slideshow",
  "kernelspec": {
   "display_name": "Python 3",
   "language": "python",
   "name": "python3"
  },
  "language_info": {
   "codemirror_mode": {
    "name": "ipython",
    "version": 3
   },
   "file_extension": ".py",
   "mimetype": "text/x-python",
   "name": "python",
   "nbconvert_exporter": "python",
   "pygments_lexer": "ipython3",
   "version": "3.8.8"
  }
 },
 "nbformat": 4,
 "nbformat_minor": 4
}
