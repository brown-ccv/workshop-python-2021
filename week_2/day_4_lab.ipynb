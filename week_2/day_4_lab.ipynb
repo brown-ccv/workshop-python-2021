{
 "cells": [
  {
   "cell_type": "markdown",
   "metadata": {},
   "source": [
    "# <center>LAB</center>\n",
    "\n",
    "---\n",
    "\n",
    "### **<font color='GREEN'> Exercise</font>**\n",
    "\n",
    "Write a function that takes a string as input and it returns whether the string is a valid password (the return value is True) or not (the return value is False). A string is a valid password if :\n",
    "- it contains least 1 number between 0 and 9,\n",
    "- if it contains at least 1 character from the list `['$','#','@','.','!','?','<','>']`,\n",
    "- if it has a minimum length of at least 6 characters.\n",
    "\n",
    "Please check that the input to the function is indeed a string. If it is not, print a diagnostic message and raise a value error.\n",
    "\n",
    "Test your function with the strings below to make sure it works correctly. Note how the test strings try all possible ways the conditions can fail. You should aim to test your code with such thoroughness.\n",
    "\n",
    "```\n",
    "'ilikeplums!' => False (fails on first condition)\n",
    "\n",
    "'plum2020' => False (fails on second condition)\n",
    "\n",
    "'a2b3?' => False (fails on third condition)\n",
    "\n",
    "'applesaretasty' => False (fails on the first and second conditionss)\n",
    "\n",
    "'plum!' => False (fails on first and third conditions)\n",
    "\n",
    "'plum5' => False (fails on second and third conditions)\n",
    "\n",
    "'apple' => False (fails all three conditions)\n",
    "\n",
    "'<apple>1234' => True\n",
    "\n",
    "'!p1umsareblue' => True\n",
    "```"
   ]
  },
  {
   "cell_type": "code",
   "execution_count": 1,
   "metadata": {},
   "outputs": [],
   "source": [
    "# TODO: insert solution here"
   ]
  },
  {
   "cell_type": "markdown",
   "metadata": {},
   "source": [
    "### **<font color='GREEN'> Exercise</font>**\n",
    "\n",
    "Write a function which takes a list of strings as input and it returns a list of booleans that are true for valid password strings and false otherwise. Call the function you wrote in exercise 1. Please check that the input to the function is indeed a list. If it is not, print a diagnostic message and raise a value error.\n",
    "\n",
    "Call the function with the list below and verify that the output list is correct."
   ]
  },
  {
   "cell_type": "code",
   "execution_count": 5,
   "metadata": {},
   "outputs": [],
   "source": [
    "# TODO: insert solution here"
   ]
  },
  {
   "cell_type": "markdown",
   "metadata": {},
   "source": [
    "### **<font color='GREEN'> Exercise</font>**\n",
    "\n",
    "Write a function that takes a list as input and returns a new list with the unique elements of the input list. For example, if the input is `[1,2,5,5,2,3,4,1,3]`, it returns `[1,2,5,3,4]`. The function should work with a list of strings or any other item types.\n",
    "\n",
    "As before, please check that the input is indeed a list and do the usual things if it is not.\n",
    "\n",
    "Come up with input lists to test your algorithm! "
   ]
  },
  {
   "cell_type": "code",
   "execution_count": null,
   "metadata": {},
   "outputs": [],
   "source": [
    "# TODO: insert solution here"
   ]
  }
 ],
 "metadata": {
  "kernelspec": {
   "display_name": "Python 3",
   "language": "python",
   "name": "python3"
  },
  "language_info": {
   "codemirror_mode": {
    "name": "ipython",
    "version": 3
   },
   "file_extension": ".py",
   "mimetype": "text/x-python",
   "name": "python",
   "nbconvert_exporter": "python",
   "pygments_lexer": "ipython3",
   "version": "3.8.8"
  }
 },
 "nbformat": 4,
 "nbformat_minor": 4
}
