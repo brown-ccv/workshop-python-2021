{
 "cells": [
  {
   "cell_type": "markdown",
   "metadata": {},
   "source": [
    "# <center>LAB</center>\n",
    "\n",
    "---\n",
    "\n",
    "### **<font color='GREEN'> Exercise</font>**\n",
    "\n",
    "Given a dictionary of temperatures, please convert the Celsius values to Fahrenheit and update the dictionary. The equation to convert from Celsius to Fahrenheit is below. Please note that the temperature values are strings and not numbers!\n",
    "\n",
    "Fahrenheit = (Celsius * 9/5) + 32"
   ]
  },
  {
   "cell_type": "code",
   "execution_count": null,
   "metadata": {},
   "outputs": [],
   "source": [
    "weather_dict = {}\n",
    "weather_dict['May 1'] = '15C'\n",
    "weather_dict['May 2'] = '10C'\n",
    "weather_dict['May 3'] = '8C'\n",
    "weather_dict['May 4'] = '9C'\n",
    "weather_dict['May 5'] = '17C'\n",
    "weather_dict['May 6'] = '20C'\n",
    "weather_dict['May 7'] = '22C'\n",
    "weather_dict['May 8'] = '20C'"
   ]
  },
  {
   "cell_type": "code",
   "execution_count": null,
   "metadata": {},
   "outputs": [],
   "source": [
    "# TODO: insert solution here"
   ]
  },
  {
   "cell_type": "markdown",
   "metadata": {},
   "source": [
    "### **<font color='GREEN'> Exercise</font>**\n",
    "\n",
    "Given a string, create a dictionary which has two keys 'vowel' and 'consonant' and the values are the number of vowels and consonants in the string. Test your code with a couple of simple words to make sure it works correctly."
   ]
  },
  {
   "cell_type": "code",
   "execution_count": null,
   "metadata": {},
   "outputs": [],
   "source": [
    "# TODO: insert solution here"
   ]
  },
  {
   "cell_type": "markdown",
   "metadata": {},
   "source": [
    "### **<font color='GREEN'> Exercise</font>**\n",
    "\n",
    "What happens if your string contains capital letters or numbers or any other non-alpha characters? Fix your code to work correctly under thosee conditions! \n",
    "\n",
    "Hint: use the `.isalpha()` method. `char.isalpha()` returns `True` if `char` is in the alphabet, `False` otherwise.\n",
    "\n",
    "Some strings you should try:\n",
    "\n",
    "'Apple'\n",
    "\n",
    "'5 apples'\n",
    "\n",
    "'I like apples!'"
   ]
  },
  {
   "cell_type": "code",
   "execution_count": null,
   "metadata": {},
   "outputs": [],
   "source": [
    "# TODO: insert solution here"
   ]
  }
 ],
 "metadata": {
  "kernelspec": {
   "display_name": "Python 3",
   "language": "python",
   "name": "python3"
  },
  "language_info": {
   "codemirror_mode": {
    "name": "ipython",
    "version": 3
   },
   "file_extension": ".py",
   "mimetype": "text/x-python",
   "name": "python",
   "nbconvert_exporter": "python",
   "pygments_lexer": "ipython3",
   "version": "3.8.8"
  }
 },
 "nbformat": 4,
 "nbformat_minor": 4
}
