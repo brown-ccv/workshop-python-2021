{
 "cells": [
  {
   "cell_type": "markdown",
   "metadata": {
    "slideshow": {
     "slide_type": "slide"
    }
   },
   "source": [
    "# <center>LECTURE OVERVIEW</center>\n",
    "\n",
    "---\n",
    "\n",
    "## By the end of the day you'll be able to:\n",
    "- filter container elements using a combination of a `for` loop and an `if` statement\n",
    "- update values in a nested `list` using double `for` loops (aka nested loop)\n",
    "- use `if` statements with `list` and `dictionary` comprehensions\n",
    "- sort a `list` of numbers using a nested loop and an `if` statement\n",
    "\n",
    "# <center>CONTROL FLOW</center> \n",
    "\n",
    "---\n",
    "\n",
    "Control flow is the 'grammar' of programing languages. Today we combine for loops and if statements to do more complex operations\n",
    "\n",
    "# Recap - `if` statement\n",
    "\n",
    "```python\n",
    "if var1_bool: # by default python check for True condition \n",
    "    # do something\n",
    "elif var2_bool:\n",
    "    # do something else\n",
    "...\n",
    "else: # if none of the conditions above were true\n",
    "    # do something else\n",
    "```\n",
    "\n",
    "# Recap - `for` loop\n",
    "```python\n",
    "for item in container:\n",
    "    # do something with the item\n",
    "```\n",
    "\n",
    "# Filter Container Elements\n",
    "\n",
    "## <font color='LIGHTGRAY'>By the end of the day you'll be able to:</font>\n",
    "- **filter container elements using a combination of a `for` loop and an `if` statement**\n",
    "- <font color='LIGHTGRAY'>update values in a nested list using double for loops (aka nested loop)</font>\n",
    "- <font color='LIGHTGRAY'>use if statements with list and dictionary comprehensions</font>\n",
    "- <font color='LIGHTGRAY'>sort a list of numbers using a nested loop and an if statement</font>"
   ]
  },
  {
   "cell_type": "code",
   "execution_count": 3,
   "metadata": {
    "slideshow": {
     "slide_type": "slide"
    }
   },
   "outputs": [
    {
     "name": "stdout",
     "output_type": "stream",
     "text": [
      "ambivert\n",
      "24\n",
      "4567\n",
      "582\n",
      "78\n",
      "calcspar\n",
      "deaness\n",
      "12\n",
      "675\n",
      "entrete\n",
      "gades\n",
      "['ambivert', 'calcspar', 'deaness', 'entrete', 'gades']\n"
     ]
    }
   ],
   "source": [
    "my_lst = ['ambivert', 24, 4567, 582, 78, 'calcspar', 'deaness', 12, 675, 'entrete', 'gades']\n",
    "\n",
    "str_lst = []\n",
    "for item in my_lst:\n",
    "    if type(item) == str: # indented once\n",
    "        str_lst.append(item) # indented twice\n",
    "    print(item) # indented once so this line is outside the if statement\n",
    "print(str_lst) # no indent, this line is performed once the for loop is done"
   ]
  },
  {
   "cell_type": "code",
   "execution_count": 9,
   "metadata": {
    "slideshow": {
     "slide_type": "subslide"
    }
   },
   "outputs": [
    {
     "name": "stdout",
     "output_type": "stream",
     "text": [
      "Andras {'age': 36, 'singer': False}\n",
      "Rihanna {'age': 28, 'singer': True}\n",
      "Madonna {'age': 62, 'singer': True}\n",
      "Ashley {'age': 30, 'singer': False}\n",
      "Shawn {'age': 22, 'singer': True}\n",
      "['Rihanna', 'Madonna', 'Shawn']\n"
     ]
    }
   ],
   "source": [
    "people_dict = {}\n",
    "people_dict['Andras'] = {'age': 36, 'singer': False}\n",
    "people_dict['Rihanna'] = {'age': 28, 'singer': True}\n",
    "people_dict['Madonna'] = {'age': 62, 'singer': True}\n",
    "people_dict['Ashley'] = {'age': 30, 'singer': False}\n",
    "people_dict['Shawn'] = {'age': 22, 'singer': True}\n",
    "\n",
    "singers_lst = []\n",
    "for key, val in people_dict.items():\n",
    "    print(key, val)\n",
    "    if val['singer']:\n",
    "        singers_lst.append(key)\n",
    "print(singers_lst)"
   ]
  },
  {
   "cell_type": "markdown",
   "metadata": {},
   "source": [
    "### **<font color='GREEN'> Exercise</font>**\n",
    "\n",
    "Collect all numbers from `my_lst` into `nums_lst`."
   ]
  },
  {
   "cell_type": "code",
   "execution_count": 6,
   "metadata": {},
   "outputs": [],
   "source": [
    "my_lst = ['ambivert', 24, 4567, 582, 78, 'calcspar', 'deaness', 12, 675, 'entrete', 'gades']"
   ]
  },
  {
   "cell_type": "code",
   "execution_count": null,
   "metadata": {},
   "outputs": [],
   "source": [
    "# TODO: insert solution here"
   ]
  },
  {
   "cell_type": "markdown",
   "metadata": {
    "slideshow": {
     "slide_type": "slide"
    }
   },
   "source": [
    "### **<font color='GREEN'> Exercise</font>**\n",
    "\n",
    "Collect everyone's name who is older than 30 from `people_dict` into `oldies_lst`. :)"
   ]
  },
  {
   "cell_type": "code",
   "execution_count": null,
   "metadata": {},
   "outputs": [],
   "source": [
    "# TODO: insert solution here"
   ]
  },
  {
   "cell_type": "markdown",
   "metadata": {
    "slideshow": {
     "slide_type": "slide"
    }
   },
   "source": [
    "# Nested `for` Loops\n",
    "\n",
    "## <font color='LIGHTGRAY'>By the end of the day you'll be able to:</font>\n",
    "- <font color='LIGHTGRAY'>filter container elements using a combination of a for loop and an if statement</font>\n",
    "- **update values in a nested `list` using double `for` loops (aka nested loop)**\n",
    "- <font color='LIGHTGRAY'>use if statements with list and dictionary comprehensions</font>\n",
    "- <font color='LIGHTGRAY'>sort a list of numbers using a nested loop and an if statement</font>"
   ]
  },
  {
   "cell_type": "code",
   "execution_count": 13,
   "metadata": {
    "scrolled": true,
    "slideshow": {
     "slide_type": "slide"
    }
   },
   "outputs": [
    {
     "name": "stdout",
     "output_type": "stream",
     "text": [
      "current item: [1976, 1956, 2013]\n",
      "    num in item: 1976\n",
      "    num + 1: 1977\n",
      "    num in item: 1956\n",
      "    num + 1: 1957\n",
      "    num in item: 2013\n",
      "    num + 1: 2014\n",
      "item after update: [1976, 1956, 2013]\n",
      "current item: [1989, 2002]\n",
      "    num in item: 1989\n",
      "    num + 1: 1990\n",
      "    num in item: 2002\n",
      "    num + 1: 2003\n",
      "item after update: [1989, 2002]\n",
      "current item: [1954, 1978, 1928, 2009, 1938]\n",
      "    num in item: 1954\n",
      "    num + 1: 1955\n",
      "    num in item: 1978\n",
      "    num + 1: 1979\n",
      "    num in item: 1928\n",
      "    num + 1: 1929\n",
      "    num in item: 2009\n",
      "    num + 1: 2010\n",
      "    num in item: 1938\n",
      "    num + 1: 1939\n",
      "item after update: [1954, 1978, 1928, 2009, 1938]\n",
      "current item: [2001]\n",
      "    num in item: 2001\n",
      "    num + 1: 2002\n",
      "item after update: [2001]\n",
      "current item: [1978, 2000, 2015, 1981, 1995]\n",
      "    num in item: 1978\n",
      "    num + 1: 1979\n",
      "    num in item: 2000\n",
      "    num + 1: 2001\n",
      "    num in item: 2015\n",
      "    num + 1: 2016\n",
      "    num in item: 1981\n",
      "    num + 1: 1982\n",
      "    num in item: 1995\n",
      "    num + 1: 1996\n",
      "item after update: [1978, 2000, 2015, 1981, 1995]\n",
      "[[1976, 1956, 2013], [1989, 2002], [1954, 1978, 1928, 2009, 1938], [2001], [1978, 2000, 2015, 1981, 1995]]\n"
     ]
    }
   ],
   "source": [
    "# each item in the list contains the birth years of people living in the same household\n",
    "birthyears_lst = [\n",
    "    [1976, 1956, 2013],\n",
    "    [1989, 2002],\n",
    "    [1954, 1978, 1928, 2009, 1938],\n",
    "    [2001],\n",
    "    [1978, 2000, 2015, 1981, 1995]\n",
    "]\n",
    "\n",
    "# let's print out each number\n",
    "for item in birthyears_lst:\n",
    "    print('current item:', item)\n",
    "    for num in item:\n",
    "        print('    num in item:', num)\n",
    "        num += 1\n",
    "        print('    num + 1:', num)\n",
    "    print('item after update:', item)\n",
    "print(birthyears_lst)"
   ]
  },
  {
   "cell_type": "markdown",
   "metadata": {},
   "source": [
    "If you want to modify a list element, you need to reference them by index."
   ]
  },
  {
   "cell_type": "code",
   "execution_count": 14,
   "metadata": {
    "scrolled": true,
    "slideshow": {
     "slide_type": "subslide"
    }
   },
   "outputs": [
    {
     "name": "stdout",
     "output_type": "stream",
     "text": [
      "1938\n"
     ]
    }
   ],
   "source": [
    "i = 2\n",
    "j = 4\n",
    "print(birthyears_lst[i][j]) # just a reminder how to index nested lists"
   ]
  },
  {
   "cell_type": "code",
   "execution_count": 22,
   "metadata": {
    "scrolled": true,
    "slideshow": {
     "slide_type": "subslide"
    }
   },
   "outputs": [
    {
     "name": "stdout",
     "output_type": "stream",
     "text": [
      "current i: 0 [1983, 1963, 2020]\n",
      "   before i: 0 j: 0 element: 1983\n",
      "   after i: 0 j: 0 element: 1984\n",
      "   before i: 0 j: 1 element: 1963\n",
      "   after i: 0 j: 1 element: 1964\n",
      "   before i: 0 j: 2 element: 2020\n",
      "   after i: 0 j: 2 element: 2021\n",
      "after update i: 0 [1984, 1964, 2021]\n",
      "current i: 1 [1996, 2009]\n",
      "   before i: 1 j: 0 element: 1996\n",
      "   after i: 1 j: 0 element: 1997\n",
      "   before i: 1 j: 1 element: 2009\n",
      "   after i: 1 j: 1 element: 2010\n",
      "after update i: 1 [1997, 2010]\n",
      "current i: 2 [1961, 1985, 1935, 2016, 1945]\n",
      "   before i: 2 j: 0 element: 1961\n",
      "   after i: 2 j: 0 element: 1962\n",
      "   before i: 2 j: 1 element: 1985\n",
      "   after i: 2 j: 1 element: 1986\n",
      "   before i: 2 j: 2 element: 1935\n",
      "   after i: 2 j: 2 element: 1936\n",
      "   before i: 2 j: 3 element: 2016\n",
      "   after i: 2 j: 3 element: 2017\n",
      "   before i: 2 j: 4 element: 1945\n",
      "   after i: 2 j: 4 element: 1946\n",
      "after update i: 2 [1962, 1986, 1936, 2017, 1946]\n",
      "current i: 3 [2008]\n",
      "   before i: 3 j: 0 element: 2008\n",
      "   after i: 3 j: 0 element: 2009\n",
      "after update i: 3 [2009]\n",
      "current i: 4 [1985, 2007, 2022, 1988, 2002]\n",
      "   before i: 4 j: 0 element: 1985\n",
      "   after i: 4 j: 0 element: 1986\n",
      "   before i: 4 j: 1 element: 2007\n",
      "   after i: 4 j: 1 element: 2008\n",
      "   before i: 4 j: 2 element: 2022\n",
      "   after i: 4 j: 2 element: 2023\n",
      "   before i: 4 j: 3 element: 1988\n",
      "   after i: 4 j: 3 element: 1989\n",
      "   before i: 4 j: 4 element: 2002\n",
      "   after i: 4 j: 4 element: 2003\n",
      "after update i: 4 [1986, 2008, 2023, 1989, 2003]\n",
      "[[1984, 1964, 2021], [1997, 2010], [1962, 1986, 1936, 2017, 1946], [2009], [1986, 2008, 2023, 1989, 2003]]\n"
     ]
    }
   ],
   "source": [
    "for i in range(len(birthyears_lst)):\n",
    "    print('current i:', i, birthyears_lst[i])\n",
    "    for j in range(len(birthyears_lst[i])):\n",
    "        print('   before i:', i, 'j:', j, 'element:', birthyears_lst[i][j])\n",
    "        birthyears_lst[i][j] = birthyears_lst[i][j] + 1\n",
    "        print('   after i:', i, 'j:', j, 'element:', birthyears_lst[i][j])\n",
    "    print('after update i:', i, birthyears_lst[i])\n",
    "print(birthyears_lst)"
   ]
  },
  {
   "cell_type": "markdown",
   "metadata": {
    "slideshow": {
     "slide_type": "subslide"
    }
   },
   "source": [
    "Let's create a list that contains everyone's age and has the same shape as `birthyears_lst`."
   ]
  },
  {
   "cell_type": "code",
   "execution_count": 24,
   "metadata": {
    "scrolled": true,
    "slideshow": {
     "slide_type": "-"
    }
   },
   "outputs": [
    {
     "name": "stdout",
     "output_type": "stream",
     "text": [
      "sublist before: [1984, 1964, 2021]\n",
      "   before: 1984\n",
      "   after: 37\n",
      "   before: 1964\n",
      "   after: 57\n",
      "   before: 2021\n",
      "   after: 0\n",
      "sublist after: [37, 57, 0]\n",
      "sublist before: [1997, 2010]\n",
      "   before: 1997\n",
      "   after: 24\n",
      "   before: 2010\n",
      "   after: 11\n",
      "sublist after: [24, 11]\n",
      "sublist before: [1962, 1986, 1936, 2017, 1946]\n",
      "   before: 1962\n",
      "   after: 59\n",
      "   before: 1986\n",
      "   after: 35\n",
      "   before: 1936\n",
      "   after: 85\n",
      "   before: 2017\n",
      "   after: 4\n",
      "   before: 1946\n",
      "   after: 75\n",
      "sublist after: [59, 35, 85, 4, 75]\n",
      "sublist before: [2009]\n",
      "   before: 2009\n",
      "   after: 12\n",
      "sublist after: [12]\n",
      "sublist before: [1986, 2008, 2023, 1989, 2003]\n",
      "   before: 1986\n",
      "   after: 35\n",
      "   before: 2008\n",
      "   after: 13\n",
      "   before: 2023\n",
      "   after: -2\n",
      "   before: 1989\n",
      "   after: 32\n",
      "   before: 2003\n",
      "   after: 18\n",
      "sublist after: [35, 13, -2, 32, 18]\n",
      "[[37, 57, 0], [24, 11], [59, 35, 85, 4, 75], [12], [35, 13, -2, 32, 18]]\n"
     ]
    }
   ],
   "source": [
    "ages_lst = [] \n",
    "current_year = 2021\n",
    "for i in range(len(birthyears_lst)):\n",
    "    print('sublist before:', birthyears_lst[i])\n",
    "    ages_lst.append([])\n",
    "    for j in range(len(birthyears_lst[i])):\n",
    "        print('   before:', birthyears_lst[i][j])\n",
    "        ages_lst[i].append(current_year - birthyears_lst[i][j])\n",
    "        print('   after:', ages_lst[i][j])\n",
    "    print('sublist after:', ages_lst[i])\n",
    "print(ages_lst)"
   ]
  },
  {
   "cell_type": "markdown",
   "metadata": {
    "slideshow": {
     "slide_type": "slide"
    }
   },
   "source": [
    "### **<font color='GREEN'> Exercise</font>**\n",
    "\n",
    "Create a `boolean` nested list of the same shape as `ages_lst` and make the items `True` if someone is 18 or older and `False` otherwise. Call this list `can_vote_lst`."
   ]
  },
  {
   "cell_type": "code",
   "execution_count": null,
   "metadata": {},
   "outputs": [],
   "source": [
    "# TODO: insert solution here"
   ]
  },
  {
   "cell_type": "markdown",
   "metadata": {},
   "source": [
    "# Conditional Statements and Comprehensions\n",
    "\n",
    "## <font color='LIGHTGRAY'>By the end of the day you'll be able to:</font>\n",
    "- <font color='LIGHTGRAY'>filter container elements using a combination of a for loop and an if statement</font>\n",
    "- <font color='LIGHTGRAY'>update values in a nested list using double for loops (aka nested loop)</font>\n",
    "- **use `if` statements with `list` and `dictionary` comprehensions**\n",
    "- <font color='LIGHTGRAY'>sort a list of numbers using a nested loop and an if statement</font>\n",
    "\n",
    "Only `if` conditions:\n",
    "\n",
    "* `list` comprehension\n",
    "\n",
    "```python\n",
    "[f(item) for item in container if condition]\n",
    "```\n",
    "\n",
    "* `dictionary` comprehension\n",
    "\n",
    "```python\n",
    "{f(key): g(val) for key, val in dictionary.items() if condition}\n",
    "```"
   ]
  },
  {
   "cell_type": "code",
   "execution_count": 56,
   "metadata": {},
   "outputs": [
    {
     "name": "stdout",
     "output_type": "stream",
     "text": [
      "[90, 60]\n"
     ]
    }
   ],
   "source": [
    "nums_lst = [5, 4, 90, 60]\n",
    "print([num for num in nums_lst if num > 50])"
   ]
  },
  {
   "cell_type": "code",
   "execution_count": 57,
   "metadata": {},
   "outputs": [
    {
     "name": "stdout",
     "output_type": "stream",
     "text": [
      "{'ninety': 90, 'sixty': 60}\n"
     ]
    }
   ],
   "source": [
    "nums_dict = {'five': 5, 'four': 4, 'ninety': 90, 'sixty': 60}\n",
    "print({name: num for name, num in nums_dict.items() if num > 50})"
   ]
  },
  {
   "cell_type": "markdown",
   "metadata": {},
   "source": [
    "`if` and `else` conditions:\n",
    "\n",
    "* `list` comprehension\n",
    "\n",
    "```python\n",
    "[f(item) if condition else g(item) for item in container]\n",
    "```\n",
    "\n",
    "* `dictionary` comprehension\n",
    "\n",
    "```python\n",
    "{\n",
    "    (f(key) if condition else g(key)): (h(val) if condition else k(val)) \n",
    "    for key, val in dictionary.items()\n",
    "}\n",
    "```"
   ]
  },
  {
   "cell_type": "code",
   "execution_count": 58,
   "metadata": {},
   "outputs": [
    {
     "name": "stdout",
     "output_type": "stream",
     "text": [
      "[False, False, True, True]\n"
     ]
    }
   ],
   "source": [
    "nums_lst = [5, 4, 90, 60]\n",
    "print(\n",
    "    [\n",
    "        True\n",
    "        if num > 50\n",
    "        else False\n",
    "        for num in nums_lst\n",
    "    ]\n",
    ")"
   ]
  },
  {
   "cell_type": "code",
   "execution_count": 59,
   "metadata": {},
   "outputs": [
    {
     "name": "stdout",
     "output_type": "stream",
     "text": [
      "{'five': False, 'four': False, 'ninety': True, 'sixty': True}\n"
     ]
    }
   ],
   "source": [
    "nums_dict = {'five': 5, 'four': 4, 'ninety': 90, 'sixty': 60}\n",
    "print(\n",
    "    {\n",
    "        name: True if num > 50 else False\n",
    "        for name, num in nums_dict.items()\n",
    "    }\n",
    ")"
   ]
  },
  {
   "cell_type": "markdown",
   "metadata": {
    "slideshow": {
     "slide_type": "slide"
    }
   },
   "source": [
    "# Sorting\n",
    "\n",
    "## <font color='LIGHTGRAY'>By the end of the day you'll be able to:</font>\n",
    "- <font color='LIGHTGRAY'>filter container elements using a combination of a for loop and an if statement</font>\n",
    "- <font color='LIGHTGRAY'>update values in a nested list using double for loops (aka nested loop)</font>\n",
    "- <font color='LIGHTGRAY'>use if statements with list and dictionary comprehensions</font>\n",
    "- **sort a `list` of numbers using a nested loop and an `if` statement**\n",
    "\n",
    "Given a list of numbers, rearrange the elements such that they are in increasing order.\n",
    "\n",
    "[Bubble sort](https://en.wikipedia.org/wiki/Bubble_sort) is a simple sorting algorithm that steps through the list, compares adjacent elements and swaps them if they are in the wrong order. After each iteration, one less element is needed to be compared until there are no more elements left to be compared.\n",
    "\n",
    "![](data/Bubble-sort-example.gif)\n",
    "\n",
    "Although bubble sort is inefficient, it is a good algorithm to learn about nesting loops and conditional statements."
   ]
  },
  {
   "cell_type": "code",
   "execution_count": 60,
   "metadata": {
    "slideshow": {
     "slide_type": "subslide"
    }
   },
   "outputs": [
    {
     "name": "stdout",
     "output_type": "stream",
     "text": [
      "starting list: [34, 7, 1335, 8]\n",
      "is nums_lst[i=1] = 7 < nums_lst[j=0] = 34 ?\n",
      "    swap\n",
      "    current list: [7, 34, 1335, 8]\n",
      "is nums_lst[i=2] = 1335 < nums_lst[j=0] = 7 ?\n",
      "    no swap\n",
      "    current list: [7, 34, 1335, 8]\n",
      "is nums_lst[i=2] = 1335 < nums_lst[j=1] = 34 ?\n",
      "    no swap\n",
      "    current list: [7, 34, 1335, 8]\n",
      "is nums_lst[i=3] = 8 < nums_lst[j=0] = 7 ?\n",
      "    no swap\n",
      "    current list: [7, 34, 1335, 8]\n",
      "is nums_lst[i=3] = 8 < nums_lst[j=1] = 34 ?\n",
      "    swap\n",
      "    current list: [7, 8, 1335, 34]\n",
      "is nums_lst[i=3] = 34 < nums_lst[j=2] = 1335 ?\n",
      "    swap\n",
      "    current list: [7, 8, 34, 1335]\n",
      "sorted list: [7, 8, 34, 1335]\n"
     ]
    }
   ],
   "source": [
    "nums_lst = [34, 7, 1335, 8]\n",
    "\n",
    "print(\"starting list:\", str(nums_lst))\n",
    "for i in range(len(nums_lst)):\n",
    "    for j in range(i):\n",
    "        i_str = 'nums_lst[i=' + str(i) + '] = ' + str(nums_lst[i])\n",
    "        j_str = 'nums_lst[j=' + str(j) + '] = ' + str(nums_lst[j])\n",
    "        print(\n",
    "            'is', i_str, '<', j_str, '?'\n",
    "        )\n",
    "        if nums_lst[i] < nums_lst[j]:\n",
    "            print('    swap')\n",
    "            temp = nums_lst[i]\n",
    "            nums_lst[i] = nums_lst[j]\n",
    "            nums_lst[j] = temp\n",
    "        else:\n",
    "            print('    no swap')\n",
    "        print('    current list:', nums_lst)\n",
    "        \n",
    "print(\"sorted list:\", nums_lst)"
   ]
  },
  {
   "cell_type": "markdown",
   "metadata": {
    "slideshow": {
     "slide_type": "slide"
    }
   },
   "source": [
    "### **<font color='GREEN'> Exercise</font>**\n",
    "\n",
    "Rewrite the bubble sort algorithm above to order strings in a list ascii-betically. Test your algorithm on `str_lst`. "
   ]
  },
  {
   "cell_type": "code",
   "execution_count": 53,
   "metadata": {},
   "outputs": [],
   "source": [
    "str_lst = [\n",
    "    'thank',\n",
    "    'library',\n",
    "    'knot',\n",
    "    'bath'\n",
    "]"
   ]
  },
  {
   "cell_type": "markdown",
   "metadata": {
    "slideshow": {
     "slide_type": "slide"
    }
   },
   "source": [
    "Hint 1: You can compare strings with greater than (>) and smaller than (<). For example 'ba' < 'bb' is True, try it. \n",
    "\n",
    "Hint 2: The smaller than operation will tell you if two items in a list needs to be swapped."
   ]
  },
  {
   "cell_type": "code",
   "execution_count": null,
   "metadata": {
    "slideshow": {
     "slide_type": "slide"
    }
   },
   "outputs": [],
   "source": [
    "# TODO: insert solution here\n",
    "# >>> ['bath', 'knot', 'library', 'thank']"
   ]
  },
  {
   "cell_type": "markdown",
   "metadata": {},
   "source": [
    "# Conclusion\n",
    "\n",
    "## You are now able to:\n",
    "- filter container elements using a combination of a `for` loop and an `if` statement\n",
    "- update values in a nested `list` using double `for` loops (aka nested loop)\n",
    "- use `if` statements with `list` and `dictionary` comprehensions\n",
    "- sort a `list` of numbers using a nested loop and an `if` statement"
   ]
  }
 ],
 "metadata": {
  "celltoolbar": "Slideshow",
  "kernelspec": {
   "display_name": "Python 3",
   "language": "python",
   "name": "python3"
  },
  "language_info": {
   "codemirror_mode": {
    "name": "ipython",
    "version": 3
   },
   "file_extension": ".py",
   "mimetype": "text/x-python",
   "name": "python",
   "nbconvert_exporter": "python",
   "pygments_lexer": "ipython3",
   "version": "3.8.8"
  }
 },
 "nbformat": 4,
 "nbformat_minor": 4
}
