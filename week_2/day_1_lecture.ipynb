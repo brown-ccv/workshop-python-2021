{
 "cells": [
  {
   "cell_type": "markdown",
   "metadata": {
    "slideshow": {
     "slide_type": "slide"
    }
   },
   "source": [
    "# <center>LECTURE OVERVIEW </center>\n",
    "\n",
    "---\n",
    "\n",
    "# <center> What we've learned so far...</center>\n",
    "\n",
    "- What are `if` statements useful for\n",
    "- How to write simple and multiple condition `if` statements\n",
    "\n",
    "## By the end of the day you will be able to:\n",
    "- write `for` loops to iterate over containers\n",
    "- write `for` loops to iterate a given number of times\n",
    "- update containers in a `for` loop\n",
    "- write a `list` comprehension\n",
    "- write a `dictionary` comprehension\n",
    "\n",
    "# <center> `for` LOOPS </center>\n",
    "\n",
    "---\n",
    "\n",
    "## <font color='LIGHTGRAY'>By the end of the day you will be able to:<font color='LIGHTGRAY'>\n",
    "- **write `for` loops to iterate over containers**\n",
    "- <font color='LIGHTGRAY'>write for loops to iterate a given number of times</font>\n",
    "- <font color='LIGHTGRAY'>update containers in a for loop</font>\n",
    "- <font color='LIGHTGRAY'>write a list comprehension</font>\n",
    "- <font color='LIGHTGRAY'>write a dictionary comprehension</font>\n",
    "\n",
    "```python\n",
    "sequence_list = [item_1, item_2, item_3, item_4, item_5]\n",
    "for item in sequence_list:\n",
    "    # do something with item\n",
    "    # do another thing with item\n",
    "    # ...\n",
    "```"
   ]
  },
  {
   "cell_type": "code",
   "execution_count": null,
   "metadata": {
    "slideshow": {
     "slide_type": "-"
    }
   },
   "outputs": [],
   "source": [
    "num_list = [1, 2, 3, 4, 5]\n",
    "\n",
    "for item in num_list:\n",
    "    print(item)"
   ]
  },
  {
   "cell_type": "code",
   "execution_count": null,
   "metadata": {
    "slideshow": {
     "slide_type": "subslide"
    }
   },
   "outputs": [],
   "source": [
    "for item in num_list:\n",
    "    print(item)\n",
    "    print(item * 10)"
   ]
  },
  {
   "cell_type": "code",
   "execution_count": null,
   "metadata": {
    "slideshow": {
     "slide_type": "subslide"
    }
   },
   "outputs": [],
   "source": [
    "letters_list = ['a', 's', 'h', 'l', 'e', 'y']\n",
    "for item in letters_list:\n",
    "    print(item)\n",
    "    new_item = item + 'Z'\n",
    "    print(new_item)"
   ]
  },
  {
   "cell_type": "markdown",
   "metadata": {
    "slideshow": {
     "slide_type": "subslide"
    }
   },
   "source": [
    "# Iterating Over `strings`"
   ]
  },
  {
   "cell_type": "code",
   "execution_count": null,
   "metadata": {
    "slideshow": {
     "slide_type": "-"
    }
   },
   "outputs": [],
   "source": [
    "# iterate over characters in a string\n",
    "my_str = 'ashley s. lee'\n",
    "for char in my_str:\n",
    "    print(char)"
   ]
  },
  {
   "cell_type": "code",
   "execution_count": null,
   "metadata": {
    "slideshow": {
     "slide_type": "subslide"
    }
   },
   "outputs": [],
   "source": [
    "# iterate over words in a string (split by space)\n",
    "for word in my_str.split():\n",
    "    print(word)"
   ]
  },
  {
   "cell_type": "markdown",
   "metadata": {},
   "source": [
    "### **<font color='GREEN'> Exercise</font>**\n",
    "\n",
    "Iterate through the items in `my_numbers_list`, add 100 to each item, and print each item."
   ]
  },
  {
   "cell_type": "code",
   "execution_count": null,
   "metadata": {},
   "outputs": [],
   "source": [
    "my_numbers_list = [10, 20, 30, 40, 50]"
   ]
  },
  {
   "cell_type": "markdown",
   "metadata": {},
   "source": [
    "Use the format:\n",
    "```python\n",
    "for item in ...\n",
    "```"
   ]
  },
  {
   "cell_type": "code",
   "execution_count": null,
   "metadata": {},
   "outputs": [],
   "source": [
    "# TODO: insert solution here"
   ]
  },
  {
   "cell_type": "markdown",
   "metadata": {
    "slideshow": {
     "slide_type": "subslide"
    }
   },
   "source": [
    "### **<font color='GREEN'> Exercise</font>**\n",
    "\n",
    "Iterate over the characters in `this_str` and print the characters. "
   ]
  },
  {
   "cell_type": "code",
   "execution_count": null,
   "metadata": {},
   "outputs": [],
   "source": [
    "this_str = 'I am a dog.'"
   ]
  },
  {
   "cell_type": "markdown",
   "metadata": {
    "slideshow": {
     "slide_type": "subslide"
    }
   },
   "source": [
    "Use the format:\n",
    "```python\n",
    "for char in ...\n",
    "```\n",
    "\n",
    "Then, iterate over and print the words.\n",
    "\n",
    "Use the format:\n",
    "```python\n",
    "for word in ...\n",
    "```"
   ]
  },
  {
   "cell_type": "code",
   "execution_count": null,
   "metadata": {},
   "outputs": [],
   "source": [
    "# TODO: insert solution here"
   ]
  },
  {
   "cell_type": "markdown",
   "metadata": {
    "slideshow": {
     "slide_type": "subslide"
    }
   },
   "source": [
    "# `for` Loops That Iterate Over Dictionaries"
   ]
  },
  {
   "cell_type": "code",
   "execution_count": null,
   "metadata": {
    "slideshow": {
     "slide_type": "-"
    }
   },
   "outputs": [],
   "source": [
    "birth_year_dict = dict(Ashley=1990, Rihanna=1992, Emily=1986)\n",
    "print(birth_year_dict)"
   ]
  },
  {
   "cell_type": "code",
   "execution_count": null,
   "metadata": {
    "slideshow": {
     "slide_type": "-"
    }
   },
   "outputs": [],
   "source": [
    "for key in birth_year_dict.keys():\n",
    "    print(key)"
   ]
  },
  {
   "cell_type": "code",
   "execution_count": null,
   "metadata": {
    "slideshow": {
     "slide_type": "subslide"
    }
   },
   "outputs": [],
   "source": [
    "for value in birth_year_dict.values():\n",
    "    print(value)"
   ]
  },
  {
   "cell_type": "code",
   "execution_count": null,
   "metadata": {
    "slideshow": {
     "slide_type": "-"
    }
   },
   "outputs": [],
   "source": [
    "for key, value in birth_year_dict.items():\n",
    "    print(key, value)"
   ]
  },
  {
   "cell_type": "code",
   "execution_count": null,
   "metadata": {},
   "outputs": [],
   "source": [
    "for key, _ in birth_year_dict.items():\n",
    "    print(key)"
   ]
  },
  {
   "cell_type": "code",
   "execution_count": null,
   "metadata": {},
   "outputs": [],
   "source": [
    "for _, value in birth_year_dict.items():\n",
    "    print(value)"
   ]
  },
  {
   "cell_type": "markdown",
   "metadata": {
    "slideshow": {
     "slide_type": "subslide"
    }
   },
   "source": [
    "### **<font color='GREEN'> Exercise</font>**\n",
    "\n",
    "Iterate over `cities_dict` and print the keys and values."
   ]
  },
  {
   "cell_type": "code",
   "execution_count": null,
   "metadata": {},
   "outputs": [],
   "source": [
    "cities_dict = {\n",
    "    'BOS': 'Boston',\n",
    "    'NYC': 'New York City',\n",
    "    'LAX': 'Los Angeles'\n",
    "}"
   ]
  },
  {
   "cell_type": "markdown",
   "metadata": {
    "slideshow": {
     "slide_type": "subslide"
    }
   },
   "source": [
    "Use the format:\n",
    "```python\n",
    "for key, value in ...\n",
    "```"
   ]
  },
  {
   "cell_type": "code",
   "execution_count": null,
   "metadata": {
    "slideshow": {
     "slide_type": "subslide"
    }
   },
   "outputs": [],
   "source": [
    "# TODO: insert solution here"
   ]
  },
  {
   "cell_type": "markdown",
   "metadata": {
    "slideshow": {
     "slide_type": "subslide"
    }
   },
   "source": [
    "# Iterating Over Containers using `range()` and `enumerate()`\n",
    "\n",
    "## <font color='LIGHTGRAY'>By the end of the day you will be able to:<font color='LIGHTGRAY'>\n",
    "- <font color='LIGHTGRAY'>write for loops to iterate over containers</font>\n",
    "- **write `for` loops to iterate a given number of times**\n",
    "- <font color='LIGHTGRAY'>update containers in a for loop</font>\n",
    "- <font color='LIGHTGRAY'>write a list comprehension</font>\n",
    "- <font color='LIGHTGRAY'>write a dictionary comprehension</font>"
   ]
  },
  {
   "cell_type": "code",
   "execution_count": null,
   "metadata": {
    "slideshow": {
     "slide_type": "-"
    }
   },
   "outputs": [],
   "source": [
    "for i in range(12):\n",
    "    print(i)"
   ]
  },
  {
   "cell_type": "code",
   "execution_count": null,
   "metadata": {
    "slideshow": {
     "slide_type": "subslide"
    }
   },
   "outputs": [],
   "source": [
    "my_str = 'ashley s. lee'\n",
    "for i in range(len(my_str)):\n",
    "    print(i, my_str[i])"
   ]
  },
  {
   "cell_type": "code",
   "execution_count": null,
   "metadata": {},
   "outputs": [],
   "source": [
    "for i, elem in enumerate(my_str):\n",
    "    print(i, elem)"
   ]
  },
  {
   "cell_type": "code",
   "execution_count": null,
   "metadata": {},
   "outputs": [],
   "source": [
    "for i, _ in enumerate(my_str):\n",
    "    print(i)"
   ]
  },
  {
   "cell_type": "code",
   "execution_count": null,
   "metadata": {},
   "outputs": [],
   "source": [
    "for _, elem in enumerate(my_str):\n",
    "    print(elem)"
   ]
  },
  {
   "cell_type": "markdown",
   "metadata": {
    "slideshow": {
     "slide_type": "subslide"
    }
   },
   "source": [
    "# Updating Container Elements\n",
    "\n",
    "## <font color='LIGHTGRAY'>By the end of the day you will be able to:<font color='LIGHTGRAY'>\n",
    "- <font color='LIGHTGRAY'>write for loops to iterate over containers</font>\n",
    "- <font color='LIGHTGRAY'>write for loops to iterate a given number of times</font>\n",
    "- **update containers in a `for` loop**\n",
    "- <font color='LIGHTGRAY'>write a list comprehension</font>\n",
    "- <font color='LIGHTGRAY'>write a dictionary comprehension</font>"
   ]
  },
  {
   "cell_type": "code",
   "execution_count": null,
   "metadata": {
    "slideshow": {
     "slide_type": "-"
    }
   },
   "outputs": [],
   "source": [
    "prime_list = [1, 3, 5, 7, 11]\n",
    "for i in range(len(prime_list)):\n",
    "    prime_list[i] = prime_list[i] ** 2\n",
    "    \n",
    "print(prime_list)"
   ]
  },
  {
   "cell_type": "code",
   "execution_count": null,
   "metadata": {},
   "outputs": [],
   "source": [
    "prime_list = [1, 3, 5, 7, 11]\n",
    "for i, elem in enumerate(prime_list):\n",
    "    prime_list[i] = elem ** 2\n",
    "    \n",
    "print(prime_list)"
   ]
  },
  {
   "cell_type": "code",
   "execution_count": null,
   "metadata": {},
   "outputs": [],
   "source": [
    "prime_list = [1, 3, 5, 7, 11]\n",
    "for i, elem in enumerate(prime_list):\n",
    "    prime_list[i] = elem ** 2\n",
    "    \n",
    "print(prime_list)"
   ]
  },
  {
   "cell_type": "code",
   "execution_count": null,
   "metadata": {},
   "outputs": [],
   "source": [
    "birth_year_dict = dict(Ashley=1990, Rihanna=1992, Emily=1986)\n",
    "for k, v in birth_year_dict.items():\n",
    "    birth_year_dict[k] = v + 1\n",
    "    \n",
    "print(birth_year_dict)"
   ]
  },
  {
   "cell_type": "markdown",
   "metadata": {},
   "source": [
    "You can also use assignment operators  (e.g., `+=`) when updating containers too.\n",
    "\n",
    "Recall: `x = x + 5` is equivalent to `x += 5`"
   ]
  },
  {
   "cell_type": "code",
   "execution_count": null,
   "metadata": {},
   "outputs": [],
   "source": [
    "prime_list = [1, 3, 5, 7, 11]\n",
    "for i, elem in enumerate(prime_list):\n",
    "    prime_list[i] += 5\n",
    "    \n",
    "print(prime_list)"
   ]
  },
  {
   "cell_type": "markdown",
   "metadata": {
    "slideshow": {
     "slide_type": "subslide"
    }
   },
   "source": [
    "## Appending to a `list` in a `for` Loop"
   ]
  },
  {
   "cell_type": "code",
   "execution_count": null,
   "metadata": {
    "slideshow": {
     "slide_type": "-"
    }
   },
   "outputs": [],
   "source": [
    "coins_list = [0.01, 0.05, 0.1, 0.25]\n",
    "coins_list.append(1.0)\n",
    "print(coins_list)"
   ]
  },
  {
   "cell_type": "code",
   "execution_count": null,
   "metadata": {
    "slideshow": {
     "slide_type": "-"
    }
   },
   "outputs": [],
   "source": [
    "new_coins_list = []\n",
    "new_coins_list.append(1.0)\n",
    "print(new_coins_list)"
   ]
  },
  {
   "cell_type": "code",
   "execution_count": null,
   "metadata": {
    "slideshow": {
     "slide_type": "subslide"
    }
   },
   "outputs": [],
   "source": [
    "ints_list = [1, 2, 3, 4]\n",
    "sq_list = []\n",
    "for item in ints_list:\n",
    "    sq_list.append(item**2)\n",
    "    \n",
    "print(sq_list)"
   ]
  },
  {
   "cell_type": "markdown",
   "metadata": {},
   "source": [
    "### **<font color='GREEN'> Exercise</font>**\n",
    "\n",
    "Iterate over the length of `years_list`, update the values in `years_list` by adding 5 to each value, and print the index of each list item and the list item."
   ]
  },
  {
   "cell_type": "code",
   "execution_count": null,
   "metadata": {},
   "outputs": [],
   "source": [
    "years_list = [1990, 1956, 1959, 1988]"
   ]
  },
  {
   "cell_type": "markdown",
   "metadata": {},
   "source": [
    "Use the format:\n",
    "```python\n",
    "for i in ...\n",
    "```"
   ]
  },
  {
   "cell_type": "code",
   "execution_count": null,
   "metadata": {},
   "outputs": [],
   "source": [
    "# TODO: insert solution here"
   ]
  },
  {
   "cell_type": "markdown",
   "metadata": {
    "slideshow": {
     "slide_type": "subslide"
    }
   },
   "source": [
    "### **<font color='GREEN'> Exercise</font>**\n",
    "\n",
    "Iterate over `int_list`, multiply the values by 10, and append the values to an empty list called `tens_list` and print it."
   ]
  },
  {
   "cell_type": "code",
   "execution_count": null,
   "metadata": {},
   "outputs": [],
   "source": [
    "int_list = [1, 2, 3, 4, 5, 6, 7, 8, 9, 10]"
   ]
  },
  {
   "cell_type": "markdown",
   "metadata": {
    "slideshow": {
     "slide_type": "subslide"
    }
   },
   "source": [
    "Use the format:\n",
    "```python\n",
    "for item in ...\n",
    "```"
   ]
  },
  {
   "cell_type": "code",
   "execution_count": null,
   "metadata": {},
   "outputs": [],
   "source": [
    "# TODO: insert solution here"
   ]
  },
  {
   "cell_type": "markdown",
   "metadata": {
    "slideshow": {
     "slide_type": "subslide"
    }
   },
   "source": [
    "# `list` Comprehensions\n",
    "\n",
    "## <font color='LIGHTGRAY'>By the end of the day you will be able to:<font color='LIGHTGRAY'>\n",
    "- <font color='LIGHTGRAY'>write for loops to iterate over containers</font>\n",
    "- <font color='LIGHTGRAY'>write for loops to iterate a given number of times</font>\n",
    "- <font color='LIGHTGRAY'>update containers in a for loop</font>\n",
    "- **write a `list` comprehension**\n",
    "- <font color='LIGHTGRAY'>write a dictionary comprehension</font>\n",
    "\n",
    "```python\n",
    "[do something to item for item in iterable]\n",
    "```"
   ]
  },
  {
   "cell_type": "code",
   "execution_count": null,
   "metadata": {
    "slideshow": {
     "slide_type": "-"
    }
   },
   "outputs": [],
   "source": [
    "print(num_list)\n",
    "print([item for item in num_list])"
   ]
  },
  {
   "cell_type": "code",
   "execution_count": null,
   "metadata": {
    "slideshow": {
     "slide_type": "-"
    }
   },
   "outputs": [],
   "source": [
    "print([number for number in num_list])"
   ]
  },
  {
   "cell_type": "code",
   "execution_count": null,
   "metadata": {
    "slideshow": {
     "slide_type": "-"
    }
   },
   "outputs": [],
   "source": [
    "print([item * 100 for item in num_list])"
   ]
  },
  {
   "cell_type": "code",
   "execution_count": null,
   "metadata": {
    "slideshow": {
     "slide_type": "subslide"
    }
   },
   "outputs": [],
   "source": [
    "this_str = 'hello world'\n",
    "print(this_str)"
   ]
  },
  {
   "cell_type": "code",
   "execution_count": null,
   "metadata": {
    "slideshow": {
     "slide_type": "-"
    }
   },
   "outputs": [],
   "source": [
    "chars_list = [char for char in this_str]\n",
    "print(chars_list)"
   ]
  },
  {
   "cell_type": "code",
   "execution_count": null,
   "metadata": {
    "slideshow": {
     "slide_type": "-"
    }
   },
   "outputs": [],
   "source": [
    "words_list = [word for word in this_str.split()]\n",
    "print(words_list)"
   ]
  },
  {
   "cell_type": "code",
   "execution_count": null,
   "metadata": {
    "slideshow": {
     "slide_type": "subslide"
    }
   },
   "outputs": [],
   "source": [
    "index_list = [\n",
    "    [i, elem] \n",
    "    for i, elem in enumerate(this_str)\n",
    "]\n",
    "print(index_list)"
   ]
  },
  {
   "cell_type": "markdown",
   "metadata": {
    "slideshow": {
     "slide_type": "subslide"
    }
   },
   "source": [
    "### **<font color='GREEN'> Exercise</font>**\n",
    "\n",
    "Construct a `list` comprehension that multiplies each number in `exercise_list` by 2 and assign it to a container called `doubles_list`. Print it."
   ]
  },
  {
   "cell_type": "code",
   "execution_count": null,
   "metadata": {},
   "outputs": [],
   "source": [
    "exercise_list = [10, 20, 30, 40, 50, 100]"
   ]
  },
  {
   "cell_type": "code",
   "execution_count": null,
   "metadata": {},
   "outputs": [],
   "source": [
    "# TODO: insert solution here"
   ]
  },
  {
   "cell_type": "markdown",
   "metadata": {
    "slideshow": {
     "slide_type": "slide"
    }
   },
   "source": [
    "- <font color='LIGHTGRAY'> write for loops to iterate over containers </font>\n",
    "- <font color='LIGHTGRAY'> write for loops to iterate a given number of times </font>\n",
    "- <font color='LIGHTGRAY'> updating containers in a for loop </font>\n",
    "- <font color='LIGHTGRAY'> write a list comprehension </font>\n",
    "- write a dictionary comprehension"
   ]
  },
  {
   "cell_type": "markdown",
   "metadata": {
    "slideshow": {
     "slide_type": "subslide"
    }
   },
   "source": [
    "# `dictionary` Comprehensions\n",
    "\n",
    "## <font color='LIGHTGRAY'>By the end of the day you will be able to:<font color='LIGHTGRAY'>\n",
    "- <font color='LIGHTGRAY'>write for loops to iterate over containers</font>\n",
    "- <font color='LIGHTGRAY'>write for loops to iterate a given number of times</font>\n",
    "- <font color='LIGHTGRAY'>update containers in a for loop</font>\n",
    "- <font color='LIGHTGRAY'>write a list comprehension</font>\n",
    "- **write a `dictionary` comprehension**\n",
    "    \n",
    "```python\n",
    "{key: do something to value for key, items in iterable.items()}\n",
    "```"
   ]
  },
  {
   "cell_type": "code",
   "execution_count": null,
   "metadata": {},
   "outputs": [],
   "source": [
    "birth_year_dict = dict(Ashley=1990, Rihanna=1992, Emily=1986)"
   ]
  },
  {
   "cell_type": "code",
   "execution_count": null,
   "metadata": {
    "slideshow": {
     "slide_type": "-"
    }
   },
   "outputs": [],
   "source": [
    "print({key: value for key, value in birth_year_dict.items()})"
   ]
  },
  {
   "cell_type": "code",
   "execution_count": null,
   "metadata": {
    "slideshow": {
     "slide_type": "-"
    }
   },
   "outputs": [],
   "source": [
    "print([value for value in birth_year_dict.values()])"
   ]
  },
  {
   "cell_type": "code",
   "execution_count": null,
   "metadata": {
    "slideshow": {
     "slide_type": "-"
    }
   },
   "outputs": [],
   "source": [
    "print({key: value + 5 for key, value in birth_year_dict.items()})"
   ]
  },
  {
   "cell_type": "markdown",
   "metadata": {
    "slideshow": {
     "slide_type": "subslide"
    }
   },
   "source": [
    "### **<font color='GREEN'> Exercise</font>**\n",
    "\n",
    "Construct a `dictionary` comprehension that multiplies each value by 5. Print your result.    "
   ]
  },
  {
   "cell_type": "code",
   "execution_count": null,
   "metadata": {},
   "outputs": [],
   "source": [
    "cities_dict = {\n",
    "    'BOS': 5,\n",
    "    'NYC': 10,\n",
    "    'LAX': 15\n",
    "}"
   ]
  },
  {
   "cell_type": "code",
   "execution_count": null,
   "metadata": {},
   "outputs": [],
   "source": [
    "# TODO: insert solution here"
   ]
  },
  {
   "cell_type": "markdown",
   "metadata": {},
   "source": [
    "# Conclusion\n",
    "\n",
    "## You are now able to:\n",
    "- write `for` loops to iterate over containers\n",
    "- write `for` loops to iterate a given number of times\n",
    "- update containers in a `for` loop\n",
    "- write a `list` comprehension\n",
    "- write a `dictionary` comprehension"
   ]
  }
 ],
 "metadata": {
  "celltoolbar": "Slideshow",
  "kernelspec": {
   "display_name": "Python 3",
   "language": "python",
   "name": "python3"
  },
  "language_info": {
   "codemirror_mode": {
    "name": "ipython",
    "version": 3
   },
   "file_extension": ".py",
   "mimetype": "text/x-python",
   "name": "python",
   "nbconvert_exporter": "python",
   "pygments_lexer": "ipython3",
   "version": "3.8.8"
  }
 },
 "nbformat": 4,
 "nbformat_minor": 4
}
