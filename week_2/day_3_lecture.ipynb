{
 "cells": [
  {
   "cell_type": "markdown",
   "metadata": {
    "slideshow": {
     "slide_type": "slide"
    }
   },
   "source": [
    "# <center>LECTURE OVERVIEW</center>\n",
    "\n",
    "---\n",
    "\n",
    "## By the end of the day you'll be able to:\n",
    "- write simple functions\n",
    "- write functions with multiple arguments and outputs\n",
    "- write functions with named arguments and default argument values\n",
    "- describe the difference between global and local scope\n",
    "- handle errors within your code\n",
    "\n",
    "# <center>FUNCTIONS</center>\n",
    "\n",
    "---\n",
    "\n",
    "# Defining Functions\n",
    "\n",
    "## <font color='LIGHTGRAY'>By the end of the day you'll be able to:</font>\n",
    "- **write simple functions**\n",
    "- <font color='LIGHTGRAY'>write functions with multiple arguments and outputs</font>\n",
    "- <font color='LIGHTGRAY'>write functions with named arguments and default argument values</font>\n",
    "- <font color='LIGHTGRAY'>describe the difference between global and local scope</font>\n",
    "- <font color='LIGHTGRAY'>handle errors within your code</font>\n",
    "\n",
    "Functions are discrete units of code\n",
    "- Similar to functions in mathematics\n",
    "  - Take some input, return some output (_usually_)\n",
    "- Have a very specific syntax that uses indentation and special keywords that let Python know you are defining or creating a new function\n",
    "\n",
    "```python\n",
    "def function_name(argument):\n",
    "    # do something here\n",
    "    # etc\n",
    "    return # something\n",
    "```"
   ]
  },
  {
   "cell_type": "code",
   "execution_count": null,
   "metadata": {
    "slideshow": {
     "slide_type": "subslide"
    }
   },
   "outputs": [],
   "source": [
    "# Define simple function.\n",
    "# Note: Indentation used to denote function body\n",
    "# Note: The lines within def are only run when you call the function\n",
    "\n",
    "def add_one(number):\n",
    "    res = number + 1\n",
    "    return res\n",
    "\n",
    "res1_int = add_one(42)\n",
    "res2_int = add_one(9)\n",
    "print(res1_int)\n",
    "print(res2_int)"
   ]
  },
  {
   "cell_type": "markdown",
   "metadata": {},
   "source": [
    "When defining a function, you can call another function you already defined."
   ]
  },
  {
   "cell_type": "code",
   "execution_count": null,
   "metadata": {},
   "outputs": [],
   "source": [
    "def is_even(n):\n",
    "    res = n % 2 == 0\n",
    "    return res\n",
    "\n",
    "res1_int = is_even(17)\n",
    "res2_int = is_even(2)\n",
    "\n",
    "print(res1_int)\n",
    "print(res2_int)"
   ]
  },
  {
   "cell_type": "code",
   "execution_count": null,
   "metadata": {},
   "outputs": [],
   "source": [
    "def is_odd(n):\n",
    "    res = not is_even(n)\n",
    "    return res\n",
    "\n",
    "res1_int = is_odd(30)\n",
    "res2_int = is_odd(31)\n",
    "\n",
    "print(res1_int) \n",
    "print(res2_int)"
   ]
  },
  {
   "cell_type": "markdown",
   "metadata": {},
   "source": [
    "### **<font color='GREEN'> Exercise</font>**\n",
    "\n",
    "Define a function that takes a number as input, multiplies it by 2, and returns the result. Test your function on a few examples: 1, 9, 19. Assign the results to variables named `res1_int`, `res2_int`, and `res3_int`. Print the results."
   ]
  },
  {
   "cell_type": "code",
   "execution_count": null,
   "metadata": {},
   "outputs": [],
   "source": [
    "# TODO: insert solution here"
   ]
  },
  {
   "cell_type": "markdown",
   "metadata": {},
   "source": [
    "### **<font color='GREEN'> Exercise</font>**\n",
    "\n",
    "Define a function that takes a number as input, multiplies it by 2 using `times_two()`, subtracts 4, and returns the result. Test your function on a few examples: 1, 9, 19. Assign the results to variables named `res1_int`, `res2_int`, and `res3_int`. Print the results."
   ]
  },
  {
   "cell_type": "code",
   "execution_count": null,
   "metadata": {},
   "outputs": [],
   "source": [
    "# TODO: insert solution here"
   ]
  },
  {
   "cell_type": "markdown",
   "metadata": {
    "slideshow": {
     "slide_type": "subslide"
    }
   },
   "source": [
    "# Functions with Multiple Arguments\n",
    "\n",
    "## <font color='LIGHTGRAY'>By the end of the day you'll be able to:</font>\n",
    "- <font color='LIGHTGRAY'>write simple functions</font>\n",
    "- **write functions with multiple arguments and outputs**\n",
    "- <font color='LIGHTGRAY'>write functions with named arguments and default argument values</font>\n",
    "- <font color='LIGHTGRAY'>describe the difference between global and local scope</font>\n",
    "- <font color='LIGHTGRAY'>handle errors within your code</font>"
   ]
  },
  {
   "cell_type": "code",
   "execution_count": null,
   "metadata": {
    "slideshow": {
     "slide_type": "-"
    }
   },
   "outputs": [],
   "source": [
    "def combine_strings(string_1, string_2):\n",
    "    res = string_1 + ' ' + string_2\n",
    "    return res \n",
    "\n",
    "res1_str = combine_strings('hello', 'world')\n",
    "res2_str = combine_strings('goodbye', 'moon')\n",
    "\n",
    "print(res1_str)\n",
    "print(res2_str)"
   ]
  },
  {
   "cell_type": "markdown",
   "metadata": {
    "slideshow": {
     "slide_type": "subslide"
    }
   },
   "source": [
    "### **<font color='GREEN'> Exercise</font>**\n",
    "\n",
    "Define a function that adds two numbers and returns the result. Test your function on a few pairs - (5, 9) and (10, 20) - and assign the results to variables named `res1_int` and `res2_int`. Print the results."
   ]
  },
  {
   "cell_type": "code",
   "execution_count": null,
   "metadata": {},
   "outputs": [],
   "source": [
    "# TODO: insert solution here"
   ]
  },
  {
   "cell_type": "markdown",
   "metadata": {
    "slideshow": {
     "slide_type": "subslide"
    }
   },
   "source": [
    "### **<font color='GREEN'> Exercise</font>**\n",
    "\n",
    "Let's write a function that finds the mean of two numbers. The function should call the `add_vals()` function we defined above and divide the result by two. Test the function on some example pairs (e.g., (10, 20) and (16, 16)) and assign the results to variables named `res1_flt` and `res2_flt`. Print the results."
   ]
  },
  {
   "cell_type": "code",
   "execution_count": null,
   "metadata": {},
   "outputs": [],
   "source": [
    "# TODO: insert solution here"
   ]
  },
  {
   "cell_type": "markdown",
   "metadata": {
    "slideshow": {
     "slide_type": "subslide"
    }
   },
   "source": [
    "# Functions with Multiple Outputs\n",
    "\n",
    "## <font color='LIGHTGRAY'>By the end of the day you'll be able to:</font>\n",
    "- <font color='LIGHTGRAY'>write simple functions</font>\n",
    "- <font color='LIGHTGRAY'>write functions with multiple arguments and outputs</font>\n",
    "- **write functions with named arguments and default argument values**\n",
    "- <font color='LIGHTGRAY'>describe the difference between global and local scope</font>\n",
    "- <font color='LIGHTGRAY'>handle errors within your code</font>"
   ]
  },
  {
   "cell_type": "code",
   "execution_count": null,
   "metadata": {
    "slideshow": {
     "slide_type": "-"
    }
   },
   "outputs": [],
   "source": [
    "from statistics import mean, stdev\n",
    "\n",
    "def mean_sd(numbers_list):\n",
    "    m = mean(numbers_list)\n",
    "    sd = stdev(numbers_list)\n",
    "    return m, sd\n",
    "\n",
    "mean_flt, sd_flt = mean_sd([0, 2, 10, 10])\n",
    "print(mean_flt, sd_flt)"
   ]
  },
  {
   "cell_type": "markdown",
   "metadata": {
    "slideshow": {
     "slide_type": "subslide"
    }
   },
   "source": [
    "### **<font color='GREEN'> Exercise</font>**\n",
    "\n",
    "Write a function that takes as input two values, and return two outputs: the sum and the product of the two values. Test on a few example pairs (e.g., (10, 20) and (5, 9)) and assign the results to variables named `a1_int, a2_int` and `b1_int, b2_int`. Print the results"
   ]
  },
  {
   "cell_type": "code",
   "execution_count": null,
   "metadata": {},
   "outputs": [],
   "source": [
    "# TODO: insert solution here"
   ]
  },
  {
   "cell_type": "markdown",
   "metadata": {
    "slideshow": {
     "slide_type": "subslide"
    }
   },
   "source": [
    "# Using Keyword Arguments\n",
    "\n",
    "- So far, we been using \"positional\" matching of arguments\n",
    "- More complicated functions can take many arguments\n",
    "- Remembering the order of the arguments can get tricky\n",
    "- Python allows \"keyword\" arguments"
   ]
  },
  {
   "cell_type": "code",
   "execution_count": null,
   "metadata": {
    "slideshow": {
     "slide_type": "subslide"
    }
   },
   "outputs": [],
   "source": [
    "def make_sentence(subj, verb, obj):\n",
    "    res = subj + \" \" + verb + \" \" + obj\n",
    "    return res"
   ]
  },
  {
   "cell_type": "code",
   "execution_count": null,
   "metadata": {
    "slideshow": {
     "slide_type": "-"
    }
   },
   "outputs": [],
   "source": [
    "# Run our function with positional arguments\n",
    "make_sentence(\"paul\", \"ate\", \"the potato\")"
   ]
  },
  {
   "cell_type": "code",
   "execution_count": null,
   "metadata": {
    "slideshow": {
     "slide_type": "-"
    }
   },
   "outputs": [],
   "source": [
    "# Change order of positional arguments\n",
    "make_sentence(\"the potato\", \"ate\", \"paul\")"
   ]
  },
  {
   "cell_type": "code",
   "execution_count": null,
   "metadata": {
    "slideshow": {
     "slide_type": "-"
    }
   },
   "outputs": [],
   "source": [
    "# Change order of keyword arguments\n",
    "make_sentence(obj=\"the potato\", verb=\"ate\", subj=\"paul\")"
   ]
  },
  {
   "cell_type": "markdown",
   "metadata": {
    "slideshow": {
     "slide_type": "subslide"
    }
   },
   "source": [
    "# Default Argument Values\n",
    "- Can specify defaults for some (or all) arguments"
   ]
  },
  {
   "cell_type": "code",
   "execution_count": null,
   "metadata": {
    "slideshow": {
     "slide_type": "-"
    }
   },
   "outputs": [],
   "source": [
    "def make_sentence(subj, verb, obj='the potato'):\n",
    "    res = subj + \" \" + verb + \" \" + obj\n",
    "    return res\n",
    "\n",
    "print(make_sentence('Ashley', 'hates'))"
   ]
  },
  {
   "cell_type": "code",
   "execution_count": null,
   "metadata": {
    "slideshow": {
     "slide_type": "-"
    }
   },
   "outputs": [],
   "source": [
    "print(make_sentence('Ashley', 'hates', 'the croissant'))"
   ]
  },
  {
   "cell_type": "code",
   "execution_count": null,
   "metadata": {
    "slideshow": {
     "slide_type": "subslide"
    }
   },
   "outputs": [],
   "source": [
    "print(make_sentence(verb='hates', subj='Ashley', obj='the croissant'))"
   ]
  },
  {
   "cell_type": "code",
   "execution_count": null,
   "metadata": {
    "slideshow": {
     "slide_type": "-"
    }
   },
   "outputs": [],
   "source": [
    "print(make_sentence(verb='hates', subj='Ashley'))"
   ]
  },
  {
   "cell_type": "markdown",
   "metadata": {
    "slideshow": {
     "slide_type": "subslide"
    }
   },
   "source": [
    "### **<font color='GREEN'> Exercise</font>**\n",
    "\n",
    "Write a function that concatenates two words together with a space between the words. The second word should have a default value of 'ran'. Test your function on `dog` and `dog, ate` and assign the results to `res1_str` and `res2_str`."
   ]
  },
  {
   "cell_type": "code",
   "execution_count": null,
   "metadata": {},
   "outputs": [],
   "source": [
    "# TODO: insert solution here"
   ]
  },
  {
   "cell_type": "markdown",
   "metadata": {
    "slideshow": {
     "slide_type": "subslide"
    }
   },
   "source": [
    "# Scope and Functions\n",
    "\n",
    "## <font color='LIGHTGRAY'>By the end of the day you'll be able to:</font>\n",
    "- <font color='LIGHTGRAY'>write simple functions</font>\n",
    "- <font color='LIGHTGRAY'>write functions with multiple arguments and outputs</font>\n",
    "- <font color='LIGHTGRAY'>write functions with named arguments and default argument values</font>\n",
    "- **describe the difference between global and local scope**\n",
    "- <font color='LIGHTGRAY'>handle errors within your code</font>\n",
    "\n",
    "The scope of a variable refers to the places where you have access it.\n",
    "\n",
    "- Global scope can be considered the top level\n",
    "- Functions introduce \"local scope\""
   ]
  },
  {
   "cell_type": "code",
   "execution_count": null,
   "metadata": {
    "slideshow": {
     "slide_type": "subslide"
    }
   },
   "outputs": [],
   "source": [
    "# local variables cannot be used in the global scope, only the local scope\n",
    "def breakfast(is_ham):\n",
    "    is_eggs = True\n",
    "    if is_ham == True:\n",
    "        is_bacon = False\n",
    "    else:\n",
    "        is_bacon = True    \n",
    "    return is_eggs, is_bacon\n",
    "\n",
    "eggs_bool, bacon_bool = breakfast(True)\n",
    "print(eggs_bool)\n",
    "print(bacon_bool)"
   ]
  },
  {
   "cell_type": "markdown",
   "metadata": {},
   "source": [
    "### **<font color='ORANGE'>Caution</font>**"
   ]
  },
  {
   "cell_type": "code",
   "execution_count": null,
   "metadata": {},
   "outputs": [],
   "source": [
    "print(is_eggs)"
   ]
  },
  {
   "cell_type": "code",
   "execution_count": null,
   "metadata": {
    "slideshow": {
     "slide_type": "subslide"
    }
   },
   "outputs": [],
   "source": [
    "# global variables can be read from global to local scope\n",
    "def breakfast():\n",
    "    print(eggs_str)\n",
    "    \n",
    "eggs_str = 'over easy'\n",
    "breakfast()"
   ]
  },
  {
   "cell_type": "markdown",
   "metadata": {},
   "source": [
    "Don't use the same variable name from **global to local scope**.\n",
    "\n",
    "It's okay to use the same variable name from **local to global scope** since the local variable will be trashed once the function call is done executing."
   ]
  },
  {
   "cell_type": "code",
   "execution_count": null,
   "metadata": {
    "slideshow": {
     "slide_type": "subslide"
    }
   },
   "outputs": [],
   "source": [
    "def chop(input_string):\n",
    "    split_string = input_string.split()\n",
    "    return split_string\n",
    "\n",
    "my_string = 'hi hello hey'\n",
    "split_string = chop(my_string)\n",
    "print(split_string)"
   ]
  },
  {
   "cell_type": "markdown",
   "metadata": {
    "slideshow": {
     "slide_type": "subslide"
    }
   },
   "source": [
    "# Exception Handling\n",
    "\n",
    "## <font color='LIGHTGRAY'>By the end of the day you'll be able to:</font>\n",
    "- <font color='LIGHTGRAY'>write simple functions</font>\n",
    "- <font color='LIGHTGRAY'>write functions with multiple arguments and outputs</font>\n",
    "- <font color='LIGHTGRAY'>write functions with named arguments and default argument values</font>\n",
    "- <font color='LIGHTGRAY'>describe the difference between global and local scope</font>\n",
    "- **handle errors within your code**\n",
    "\n",
    "As we have written code up until now, getting an error (or exception) means your entire program will crash. Instead, we can detect errors, handle them, and continue to run."
   ]
  },
  {
   "cell_type": "code",
   "execution_count": null,
   "metadata": {
    "slideshow": {
     "slide_type": "-"
    }
   },
   "outputs": [],
   "source": [
    "def reverse(input_string):\n",
    "    rev_string = input_string[::-1]\n",
    "    return rev_string\n",
    "\n",
    "reverse(\"NOPE\")"
   ]
  },
  {
   "cell_type": "code",
   "execution_count": null,
   "metadata": {
    "slideshow": {
     "slide_type": "-"
    }
   },
   "outputs": [],
   "source": [
    "reverse(999)"
   ]
  },
  {
   "cell_type": "code",
   "execution_count": null,
   "metadata": {
    "slideshow": {
     "slide_type": "subslide"
    }
   },
   "outputs": [],
   "source": [
    "def reverse(input_string):\n",
    "    try:\n",
    "        rev_string = input_string[::-1]\n",
    "        return rev_string\n",
    "    except:\n",
    "        raise TypeError(\"`input_string` must be a string\")\n",
    "        return None\n",
    "        \n",
    "reverse(999)"
   ]
  },
  {
   "cell_type": "markdown",
   "metadata": {
    "slideshow": {
     "slide_type": "subslide"
    }
   },
   "source": [
    "For more exception types, see the [documentation](https://docs.python.org/3/library/exceptions.html#bltin-exceptions).\n",
    "\n",
    "### **<font color='GREEN'> Exercise</font>**\n",
    "\n",
    "Write a function that adds 2 to a number. Handle the error that would occur if you passed a string to the function. Test your function on `9` and `hello`"
   ]
  },
  {
   "cell_type": "code",
   "execution_count": null,
   "metadata": {},
   "outputs": [],
   "source": [
    "# TODO: insert solution here"
   ]
  },
  {
   "cell_type": "markdown",
   "metadata": {},
   "source": [
    "# Conclusion\n",
    "\n",
    "## You are now able to:\n",
    "- write simple functions\n",
    "- write functions with multiple arguments and outputs\n",
    "- write functions with named arguments and default argument values\n",
    "- describe the difference between global and local scope\n",
    "- handle errors within your code"
   ]
  }
 ],
 "metadata": {
  "celltoolbar": "Slideshow",
  "kernelspec": {
   "display_name": "Python 3",
   "language": "python",
   "name": "python3"
  },
  "language_info": {
   "codemirror_mode": {
    "name": "ipython",
    "version": 3
   },
   "file_extension": ".py",
   "mimetype": "text/x-python",
   "name": "python",
   "nbconvert_exporter": "python",
   "pygments_lexer": "ipython3",
   "version": "3.8.8"
  }
 },
 "nbformat": 4,
 "nbformat_minor": 4
}
