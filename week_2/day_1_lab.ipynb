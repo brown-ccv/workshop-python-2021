{
 "cells": [
  {
   "cell_type": "markdown",
   "metadata": {},
   "source": [
    "# <center>LAB</center>\n",
    "\n",
    "---\n",
    "\n",
    "### **<font color='GREEN'> Exercise</font>**\n",
    "\n",
    "Using `name_str`, loop through the letters in the string, printing each letter"
   ]
  },
  {
   "cell_type": "code",
   "execution_count": null,
   "metadata": {},
   "outputs": [],
   "source": [
    "name_str = 'Willie'"
   ]
  },
  {
   "cell_type": "code",
   "execution_count": null,
   "metadata": {},
   "outputs": [],
   "source": [
    "# TODO: insert solution here"
   ]
  },
  {
   "cell_type": "markdown",
   "metadata": {},
   "source": [
    "### **<font color='GREEN'> Exercise</font>**\n",
    "\n",
    "Loop through the letters in `name_str`, printing each element uppercased using the `.upper()` method"
   ]
  },
  {
   "cell_type": "code",
   "execution_count": null,
   "metadata": {},
   "outputs": [],
   "source": [
    "# TODO: insert solution here"
   ]
  },
  {
   "cell_type": "markdown",
   "metadata": {},
   "source": [
    "### **<font color='GREEN'> Exercise</font>**\n",
    "\n",
    "Loop through the letters in the string, add a space and a period to each element and print each element\n",
    "\n",
    "Use the format:\n",
    "```python\n",
    "for letter in name_str:\n",
    "    new_letter = ...\n",
    "```"
   ]
  },
  {
   "cell_type": "code",
   "execution_count": null,
   "metadata": {},
   "outputs": [],
   "source": [
    "# TODO: insert solution here"
   ]
  },
  {
   "cell_type": "markdown",
   "metadata": {},
   "source": [
    "### **<font color='GREEN'> Exercise</font>**\n",
    "\n",
    "Loop through the letters in the string, concatenating each element to a string, `sentence_str`, and print `sentence_str`."
   ]
  },
  {
   "cell_type": "code",
   "execution_count": null,
   "metadata": {},
   "outputs": [],
   "source": [
    "sentence_str = 'My name is: '"
   ]
  },
  {
   "cell_type": "code",
   "execution_count": null,
   "metadata": {},
   "outputs": [],
   "source": [
    "# TODO: insert solution here"
   ]
  },
  {
   "cell_type": "markdown",
   "metadata": {},
   "source": [
    "### **<font color='GREEN'> Exercise</font>**\n",
    "\n",
    "Create a list called `word_list` containing the words \"Willie\", \"likes\", \"sleeping\", \"and\", \"eating\"."
   ]
  },
  {
   "cell_type": "code",
   "execution_count": null,
   "metadata": {},
   "outputs": [],
   "source": [
    "# TODO: insert solution here"
   ]
  },
  {
   "cell_type": "markdown",
   "metadata": {},
   "source": [
    "### **<font color='GREEN'> Exercise</font>**\n",
    "\n",
    "Assign the length of `word_list` to `num_words_int` and print"
   ]
  },
  {
   "cell_type": "code",
   "execution_count": null,
   "metadata": {},
   "outputs": [],
   "source": [
    "# TODO: insert solution here"
   ]
  },
  {
   "cell_type": "markdown",
   "metadata": {},
   "source": [
    "### **<font color='GREEN'> Exercise</font>**\n",
    "\n",
    "Loop through each element in `word_list`, printing the index of the element and the element."
   ]
  },
  {
   "cell_type": "code",
   "execution_count": null,
   "metadata": {},
   "outputs": [],
   "source": [
    "# TODO: insert solution here"
   ]
  },
  {
   "cell_type": "markdown",
   "metadata": {},
   "source": [
    "### **<font color='GREEN'> Exercise</font>**\n",
    "\n",
    "Loop through each element in `word_list`, printing the current element and the next element, separated by a space, in each loop\n",
    "\n",
    "Use the format:\n",
    "```python\n",
    "for i in range ... :\n",
    "    phrase_str = ...\n",
    "    print(phrase_str)\n",
    "```"
   ]
  },
  {
   "cell_type": "code",
   "execution_count": null,
   "metadata": {},
   "outputs": [],
   "source": [
    "# TODO: insert solution here"
   ]
  },
  {
   "cell_type": "markdown",
   "metadata": {},
   "source": [
    "### **<font color='GREEN'> Exercise</font>**\n",
    "\n",
    "Loop through each element of the list, adding a space to them and then concatenating the result to an empty string called `dog_str` "
   ]
  },
  {
   "cell_type": "code",
   "execution_count": null,
   "metadata": {},
   "outputs": [],
   "source": [
    "# TODO: insert solution here"
   ]
  },
  {
   "cell_type": "markdown",
   "metadata": {},
   "source": [
    "### **<font color='GREEN'> Exercise</font>**\n",
    "\n",
    "Loop through `nums_list`, multiplying each element by 3 and adding to a `new_nums_list`. Print `new_nums_list`."
   ]
  },
  {
   "cell_type": "code",
   "execution_count": null,
   "metadata": {},
   "outputs": [],
   "source": [
    "nums_list = [1,2,3,5,7]"
   ]
  },
  {
   "cell_type": "code",
   "execution_count": null,
   "metadata": {},
   "outputs": [],
   "source": [
    "# TODO: insert solution here"
   ]
  },
  {
   "cell_type": "markdown",
   "metadata": {},
   "source": [
    "### **<font color='GREEN'> Exercise</font>**\n",
    "\n",
    "Do the same exercise as above, but using a list comprehension."
   ]
  },
  {
   "cell_type": "code",
   "execution_count": null,
   "metadata": {},
   "outputs": [],
   "source": [
    "# TODO: insert solution here"
   ]
  },
  {
   "cell_type": "markdown",
   "metadata": {},
   "source": [
    "### **<font color='GREEN'> Exercise</font>**\n",
    "\n",
    "Loop through `ages_dict`, printing the names and ages in the dictionary."
   ]
  },
  {
   "cell_type": "code",
   "execution_count": null,
   "metadata": {},
   "outputs": [],
   "source": [
    "ages_dict = {'Ashley': 30, 'Emily': 33, 'Kurt': 28}"
   ]
  },
  {
   "cell_type": "code",
   "execution_count": null,
   "metadata": {},
   "outputs": [],
   "source": [
    "# TODO: insert solution here"
   ]
  },
  {
   "cell_type": "markdown",
   "metadata": {},
   "source": [
    "### **<font color='GREEN'> Exercise</font>**\n",
    "\n",
    "Loop through `ages_dict`, lowercasing the names and adding 10 to the ages in the dictionary and printing."
   ]
  },
  {
   "cell_type": "code",
   "execution_count": null,
   "metadata": {},
   "outputs": [],
   "source": [
    "# TODO: insert solution here"
   ]
  },
  {
   "cell_type": "markdown",
   "metadata": {},
   "source": [
    "### **<font color='GREEN'> Exercise</font>**\n",
    "\n",
    "Do the same exercise as above, but using a dictionary comprehension where the lowercase names are the keys and the age plus 10 are the values. Assign the dictionary comprehension to a variable called `my_dict` and print."
   ]
  },
  {
   "cell_type": "code",
   "execution_count": null,
   "metadata": {},
   "outputs": [],
   "source": [
    "# TODO: insert solution here"
   ]
  }
 ],
 "metadata": {
  "kernelspec": {
   "display_name": "Python 3",
   "language": "python",
   "name": "python3"
  },
  "language_info": {
   "codemirror_mode": {
    "name": "ipython",
    "version": 3
   },
   "file_extension": ".py",
   "mimetype": "text/x-python",
   "name": "python",
   "nbconvert_exporter": "python",
   "pygments_lexer": "ipython3",
   "version": "3.8.8"
  }
 },
 "nbformat": 4,
 "nbformat_minor": 4
}
