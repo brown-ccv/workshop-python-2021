{
 "cells": [
  {
   "cell_type": "markdown",
   "metadata": {},
   "source": [
    "# <center>LAB</center>\n",
    "\n",
    "---\n",
    "\n",
    "### **<font color='GREEN'> Exercise</font>**\n",
    "\n",
    "Using the following dictionaries, create a list called `students` that contains lloyd, alice, and tyler."
   ]
  },
  {
   "cell_type": "code",
   "execution_count": null,
   "metadata": {},
   "outputs": [],
   "source": [
    "lloyd = {\n",
    "    \"name\": \"Lloyd\",\n",
    "    \"homework\": [90.0, 97.0, 75.0, 92.0],\n",
    "    \"quizzes\": [88.0, 40.0, 94.0],\n",
    "    \"tests\": [75.0, 90.0]\n",
    "}\n",
    "alice = {\n",
    "    \"name\": \"Alice\",\n",
    "    \"homework\": [100.0, 92.0, 98.0, 100.0],\n",
    "    \"quizzes\": [82.0, 83.0, 91.0],\n",
    "    \"tests\": [89.0, 97.0]\n",
    "}\n",
    "tyler = {\n",
    "    \"name\": \"Tyler\",\n",
    "    \"homework\": [0.0, 87.0, 75.0, 22.0],\n",
    "    \"quizzes\": [0.0, 75.0, 78.0],\n",
    "    \"tests\": [100.0, 100.0]\n",
    "}"
   ]
  },
  {
   "cell_type": "code",
   "execution_count": null,
   "metadata": {},
   "outputs": [],
   "source": [
    "# TODO: insert solution here"
   ]
  },
  {
   "cell_type": "markdown",
   "metadata": {},
   "source": [
    "### **<font color='GREEN'> Exercise</font>**\n",
    "\n",
    "Write a function `average()` that takes a list of numbers and returns the average.\n",
    "\n",
    "* Inside that function, call the built-in `sum()` function with the numbers list as a parameter. Store the result in a variable called `total`.\n",
    "* Divide `total` by the length of the numbers list. Use the built-in `len()` function to calculate that.\n",
    "* Return that result.\n",
    "\n",
    "Test your function. Call your `average()` function with `[1,2,3]`. Assign the resulting average to a variable called `avg_flt` and print."
   ]
  },
  {
   "cell_type": "code",
   "execution_count": null,
   "metadata": {},
   "outputs": [],
   "source": [
    "# TODO: insert solution here"
   ]
  },
  {
   "cell_type": "markdown",
   "metadata": {},
   "source": [
    "### **<font color='GREEN'> Exercise</font>**\n",
    "\n",
    "Write a function called `get_average()` that takes a student dictionary (like `lloyd`, `alice`, or `tyler`) as input and returns the student's weighted average.\n",
    "\n",
    "* Make a variable `homework` that stores the `average()` of `student[\"homework\"]`.\n",
    "* Repeat step 2 for `quizzes` and `tests`.\n",
    "* Multiply the 3 averages by their weights and return the sum of those three. Homework is 10%, quizzes are 30% and tests are 60%.\n",
    "\n",
    "Test your function. Call your `get_average()` function with `lloyd` and set the result to a variable called `lloyd_avg_flt`. Print the resulting average grade."
   ]
  },
  {
   "cell_type": "code",
   "execution_count": null,
   "metadata": {},
   "outputs": [],
   "source": [
    "# TODO: insert solution here"
   ]
  },
  {
   "cell_type": "markdown",
   "metadata": {},
   "source": [
    "### **<font color='GREEN'> Exercise</font>**\n",
    "\n",
    "Define a new function called `get_letter_grade()` that has one argument called `score`. Expect `score` to be a number.\n",
    "\n",
    "Inside your function, test `score` using a chain of `if:` / `elif:` / `else:` statements, like so:\n",
    "\n",
    "* If score is 90 or above: return \"A\"\n",
    "* Else if score is 80 or above: return \"B\"\n",
    "* Else if score is 70 or above: return \"C\"\n",
    "* Else if score is 60 or above: return \"D\"\n",
    "* Otherwise: return \"F\"\n",
    "\n",
    "Finally, test your function. Call your `get_letter_grade()` function with the result of `get_average(lloyd)` and assign the result to a variable called `lloyd_avg_str`. Print the resulting letter grade."
   ]
  },
  {
   "cell_type": "code",
   "execution_count": null,
   "metadata": {},
   "outputs": [],
   "source": [
    "# TODO: insert solution here"
   ]
  },
  {
   "cell_type": "markdown",
   "metadata": {},
   "source": [
    "### **<font color='GREEN'> Exercise</font>**\n",
    "\n",
    "Define a function called `get_class_average()` that has one argument, `students`. You can expect `students` to be a list containing your three students.\n",
    "\n",
    "* First, make an empty list called `results`.\n",
    "* For each student item in the class list, calculate `get_average(student)` and then call `results.append()` with that result.\n",
    "* Finally, return the result of calling `average()` with `results`.\n",
    "* Finally, assign the result of calling `get_class_average()` with your `students` list to a variable called `class_avg_flt` and print. Your students should be `[lloyd, alice, tyler]`."
   ]
  },
  {
   "cell_type": "code",
   "execution_count": null,
   "metadata": {},
   "outputs": [],
   "source": [
    "# TODO: insert solution here"
   ]
  },
  {
   "cell_type": "markdown",
   "metadata": {},
   "source": [
    "Then, assign the result of `get_letter_grade()` for the class's average to a variable called `class_avg_str` and print."
   ]
  },
  {
   "cell_type": "code",
   "execution_count": null,
   "metadata": {},
   "outputs": [],
   "source": [
    "# TODO: insert solution here"
   ]
  }
 ],
 "metadata": {
  "kernelspec": {
   "display_name": "Python 3",
   "language": "python",
   "name": "python3"
  },
  "language_info": {
   "codemirror_mode": {
    "name": "ipython",
    "version": 3
   },
   "file_extension": ".py",
   "mimetype": "text/x-python",
   "name": "python",
   "nbconvert_exporter": "python",
   "pygments_lexer": "ipython3",
   "version": "3.8.8"
  }
 },
 "nbformat": 4,
 "nbformat_minor": 4
}
