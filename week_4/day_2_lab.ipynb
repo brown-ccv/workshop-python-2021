{
 "cells": [
  {
   "cell_type": "markdown",
   "metadata": {},
   "source": [
    "## Problem 1\n",
    "You will work with weather.csv which you can find in the `data` folder. Open the file manually to check its content. The file was scraped from a weather forecast site and the foue columns describe the period for which the forecast is made, a short weather description, temperature, and a long description. Please read the content of the file into a pandas data frame. \n"
   ]
  },
  {
   "cell_type": "code",
   "execution_count": null,
   "metadata": {},
   "outputs": [],
   "source": []
  },
  {
   "cell_type": "markdown",
   "metadata": {},
   "source": [
    "# Problem 2\n",
    "\n",
    "Add a new column to weather.csv which contains the temperature in Celsius."
   ]
  },
  {
   "cell_type": "code",
   "execution_count": null,
   "metadata": {},
   "outputs": [],
   "source": []
  },
  {
   "cell_type": "markdown",
   "metadata": {},
   "source": [
    "# Problem 3\n",
    "\n",
    "We have the following datasets from three major social media platforms:\n",
    "\n",
    "```['Joseph','Jacob','Adella','Ziana','Mickey']```; ```[15, 23, 95, 135, 212]``` (Name, total time spent yesterday on Facebook)\n",
    "\n",
    "```['Shirly','Jacob','Ximena','Rachel','Mickey']```; ```[9, 31, 78, 115, 198]``` (Name, total time spent yesterday on Twitter)\n",
    "\n",
    "```['Angie','Mickey','Rachel','Jacob','Andras']```; ```[82, 13, 5, 2, 124]``` (Name, total time spent yesterday on Youtube)\n",
    "\n",
    "Please convert them into three pandas dataframes.\n",
    "\n",
    "Answer the following questions. "
   ]
  },
  {
   "cell_type": "code",
   "execution_count": null,
   "metadata": {},
   "outputs": [],
   "source": []
  },
  {
   "cell_type": "markdown",
   "metadata": {},
   "source": [
    "How many users are on all three platforms?"
   ]
  },
  {
   "cell_type": "code",
   "execution_count": null,
   "metadata": {},
   "outputs": [],
   "source": []
  },
  {
   "cell_type": "markdown",
   "metadata": {},
   "source": [
    "Create a dataframe that counts the total number of minutes spent across all platforms by each user. (1 point)"
   ]
  },
  {
   "cell_type": "code",
   "execution_count": null,
   "metadata": {},
   "outputs": [],
   "source": []
  },
  {
   "cell_type": "markdown",
   "metadata": {},
   "source": [
    "Twitter would like to know how many minutes its users spend on other social media platforms. (2 points)"
   ]
  },
  {
   "cell_type": "code",
   "execution_count": null,
   "metadata": {},
   "outputs": [],
   "source": []
  }
 ],
 "metadata": {
  "kernelspec": {
   "display_name": "Python 3",
   "language": "python",
   "name": "python3"
  },
  "language_info": {
   "codemirror_mode": {
    "name": "ipython",
    "version": 3
   },
   "file_extension": ".py",
   "mimetype": "text/x-python",
   "name": "python",
   "nbconvert_exporter": "python",
   "pygments_lexer": "ipython3",
   "version": "3.8.8"
  }
 },
 "nbformat": 4,
 "nbformat_minor": 4
}
